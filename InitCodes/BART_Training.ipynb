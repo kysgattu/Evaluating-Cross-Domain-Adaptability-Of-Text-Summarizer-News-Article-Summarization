{
 "cells": [
  {
   "cell_type": "code",
   "execution_count": 1,
   "outputs": [],
   "source": [
    "import re\n",
    "import pandas as pd\n",
    "import matplotlib.pyplot as plt\n",
    "import seaborn as sns\n",
    "\n",
    "from sklearn.model_selection import train_test_split"
   ],
   "metadata": {
    "collapsed": false,
    "ExecuteTime": {
     "end_time": "2023-12-05T02:10:30.914796Z",
     "start_time": "2023-12-05T02:10:30.767255Z"
    }
   },
   "id": "222bdcc5df1e584a"
  },
  {
   "cell_type": "code",
   "execution_count": 2,
   "outputs": [],
   "source": [
    "from contractions import contractions_dict\n",
    "def expand_contractions(text, contraction_map=None):\n",
    "    if contraction_map is None:\n",
    "        contraction_map = contractions_dict\n",
    "\n",
    "    # Using regex for getting all contracted words\n",
    "    contractions_keys = '|'.join(re.escape(key) for key in contraction_map.keys())\n",
    "    contractions_pattern = re.compile(f'({contractions_keys})', flags=re.DOTALL)\n",
    "\n",
    "    expanded_text = contractions_pattern.sub(lambda match: contraction_map.get(match.group(0), match.group(0)), text)\n",
    "    expanded_text = re.sub(\"'\", \"\", expanded_text)\n",
    "    return expanded_text"
   ],
   "metadata": {
    "collapsed": false,
    "ExecuteTime": {
     "end_time": "2023-12-05T02:10:30.923736Z",
     "start_time": "2023-12-05T02:10:30.916574Z"
    }
   },
   "id": "95c59fc2eb7d3"
  },
  {
   "cell_type": "code",
   "execution_count": 3,
   "outputs": [],
   "source": [
    "entertainment = pd.read_csv('data/BBCNewsSummaryCSV/entertainment_data.csv') \n",
    "sport = pd.read_csv('data/BBCNewsSummaryCSV/sport_data.csv')\n",
    "tech = pd.read_csv('data/BBCNewsSummaryCSV/tech_data.csv')\n",
    "business = pd.read_csv('data/BBCNewsSummaryCSV/business_data.csv')\n",
    "politics = pd.read_csv('data/BBCNewsSummaryCSV/politics_data.csv')"
   ],
   "metadata": {
    "collapsed": false,
    "ExecuteTime": {
     "end_time": "2023-12-05T02:10:30.990191Z",
     "start_time": "2023-12-05T02:10:30.924558Z"
    }
   },
   "id": "f6fa946e261b184c"
  },
  {
   "cell_type": "code",
   "execution_count": 4,
   "outputs": [],
   "source": [
    "training_dataset = pd.concat([entertainment,sport,tech], ignore_index=True)\n",
    "testing_dataset = pd.concat([business,politics], ignore_index=True)"
   ],
   "metadata": {
    "collapsed": false,
    "ExecuteTime": {
     "end_time": "2023-12-05T02:10:30.997623Z",
     "start_time": "2023-12-05T02:10:30.990669Z"
    }
   },
   "id": "182ee32f6b3415c5"
  },
  {
   "cell_type": "code",
   "execution_count": 5,
   "outputs": [
    {
     "name": "stdout",
     "output_type": "stream",
     "text": [
      "Training size: 3894\n",
      "Testing size: 2781\n"
     ]
    }
   ],
   "source": [
    "print(\"Training size:\",training_dataset.size)\n",
    "print(\"Testing size:\",testing_dataset.size)"
   ],
   "metadata": {
    "collapsed": false,
    "ExecuteTime": {
     "end_time": "2023-12-05T02:10:30.997924Z",
     "start_time": "2023-12-05T02:10:30.995356Z"
    }
   },
   "id": "a53c2ff47d15bae8"
  },
  {
   "cell_type": "code",
   "execution_count": 6,
   "outputs": [],
   "source": [
    "training_dataset = training_dataset.sample(frac=1).reset_index(drop=True)\n",
    "testing_dataset = testing_dataset.sample(frac=1).reset_index(drop=True)"
   ],
   "metadata": {
    "collapsed": false,
    "ExecuteTime": {
     "end_time": "2023-12-05T02:10:31.002041Z",
     "start_time": "2023-12-05T02:10:30.997076Z"
    }
   },
   "id": "ff564c9ff6806798"
  },
  {
   "cell_type": "code",
   "execution_count": 7,
   "outputs": [],
   "source": [
    "training_dataset['newsarticle'] = training_dataset['newsarticle'].apply(expand_contractions)\n",
    "testing_dataset['newsarticle'] = testing_dataset['newsarticle'].apply(expand_contractions)"
   ],
   "metadata": {
    "collapsed": false,
    "ExecuteTime": {
     "end_time": "2023-12-05T02:10:34.121628Z",
     "start_time": "2023-12-05T02:10:31.001829Z"
    }
   },
   "id": "dd183f9e0c5b7e76"
  },
  {
   "cell_type": "code",
   "execution_count": 8,
   "outputs": [],
   "source": [
    "def getSenLen(sentence):\n",
    "    return len(sentence.split())"
   ],
   "metadata": {
    "collapsed": false,
    "ExecuteTime": {
     "end_time": "2023-12-05T02:10:34.127398Z",
     "start_time": "2023-12-05T02:10:34.121970Z"
    }
   },
   "id": "213b55f7b2ce9711"
  },
  {
   "cell_type": "code",
   "execution_count": 9,
   "outputs": [],
   "source": [
    "training_dataset['article_length'] = training_dataset['newsarticle'].apply(getSenLen)\n",
    "training_dataset['summary_length'] = training_dataset['summary'].apply(getSenLen)\n",
    "testing_dataset['article_length'] = testing_dataset['newsarticle'].apply(getSenLen)\n",
    "testing_dataset['summary_length'] = testing_dataset['summary'].apply(getSenLen)\n"
   ],
   "metadata": {
    "collapsed": false,
    "ExecuteTime": {
     "end_time": "2023-12-05T02:10:34.169682Z",
     "start_time": "2023-12-05T02:10:34.164137Z"
    }
   },
   "id": "85375a505e39b06f"
  },
  {
   "cell_type": "code",
   "execution_count": 10,
   "outputs": [
    {
     "data": {
      "text/plain": "            filename                                        newsarticle  \\\n0          sport_353  Scots suffer another injury blow\\n\\nScotlands ...   \n1          sport_364  A year to remember for Irish\\n\\nThere used to ...   \n2  entertainment_295  Dame Julie pops in to see Poppins\\n\\nMary Popp...   \n3  entertainment_069  Foxx and Swank take actors awards\\n\\nJamie Fox...   \n4          sport_359  Ruddock backs Yapps credentials\\n\\nWales coach...   \n\n                                             summary  article_length  \\\n0  Another potential option, Glasgow flanker Andr...             258   \n1  While Ulster finished runners-up in their very...             778   \n2  But Kelly said she was \"very nervous\" about me...             224   \n3  Jamie Foxx and Hilary Swank have won the Scree...             338   \n4  Wales coach Mike Ruddock says John Yapp has wh...             375   \n\n   summary_length  \n0             108  \n1             343  \n2              92  \n3             137  \n4             156  ",
      "text/html": "<div>\n<style scoped>\n    .dataframe tbody tr th:only-of-type {\n        vertical-align: middle;\n    }\n\n    .dataframe tbody tr th {\n        vertical-align: top;\n    }\n\n    .dataframe thead th {\n        text-align: right;\n    }\n</style>\n<table border=\"1\" class=\"dataframe\">\n  <thead>\n    <tr style=\"text-align: right;\">\n      <th></th>\n      <th>filename</th>\n      <th>newsarticle</th>\n      <th>summary</th>\n      <th>article_length</th>\n      <th>summary_length</th>\n    </tr>\n  </thead>\n  <tbody>\n    <tr>\n      <th>0</th>\n      <td>sport_353</td>\n      <td>Scots suffer another injury blow\\n\\nScotlands ...</td>\n      <td>Another potential option, Glasgow flanker Andr...</td>\n      <td>258</td>\n      <td>108</td>\n    </tr>\n    <tr>\n      <th>1</th>\n      <td>sport_364</td>\n      <td>A year to remember for Irish\\n\\nThere used to ...</td>\n      <td>While Ulster finished runners-up in their very...</td>\n      <td>778</td>\n      <td>343</td>\n    </tr>\n    <tr>\n      <th>2</th>\n      <td>entertainment_295</td>\n      <td>Dame Julie pops in to see Poppins\\n\\nMary Popp...</td>\n      <td>But Kelly said she was \"very nervous\" about me...</td>\n      <td>224</td>\n      <td>92</td>\n    </tr>\n    <tr>\n      <th>3</th>\n      <td>entertainment_069</td>\n      <td>Foxx and Swank take actors awards\\n\\nJamie Fox...</td>\n      <td>Jamie Foxx and Hilary Swank have won the Scree...</td>\n      <td>338</td>\n      <td>137</td>\n    </tr>\n    <tr>\n      <th>4</th>\n      <td>sport_359</td>\n      <td>Ruddock backs Yapps credentials\\n\\nWales coach...</td>\n      <td>Wales coach Mike Ruddock says John Yapp has wh...</td>\n      <td>375</td>\n      <td>156</td>\n    </tr>\n  </tbody>\n</table>\n</div>"
     },
     "execution_count": 10,
     "metadata": {},
     "output_type": "execute_result"
    }
   ],
   "source": [
    "training_dataset.head()"
   ],
   "metadata": {
    "collapsed": false,
    "ExecuteTime": {
     "end_time": "2023-12-05T02:10:34.173081Z",
     "start_time": "2023-12-05T02:10:34.167965Z"
    }
   },
   "id": "cc5f5e7f1a7e77a7"
  },
  {
   "cell_type": "code",
   "execution_count": 11,
   "outputs": [
    {
     "data": {
      "text/plain": "       article_length  summary_length\ncount     1298.000000     1298.000000\nmean       385.013097      165.270416\nstd        243.616315      109.734916\nmin        115.000000       42.000000\n25%        235.000000       99.250000\n50%        323.000000      137.000000\n75%        465.750000      202.750000\nmax       3540.000000     1706.000000",
      "text/html": "<div>\n<style scoped>\n    .dataframe tbody tr th:only-of-type {\n        vertical-align: middle;\n    }\n\n    .dataframe tbody tr th {\n        vertical-align: top;\n    }\n\n    .dataframe thead th {\n        text-align: right;\n    }\n</style>\n<table border=\"1\" class=\"dataframe\">\n  <thead>\n    <tr style=\"text-align: right;\">\n      <th></th>\n      <th>article_length</th>\n      <th>summary_length</th>\n    </tr>\n  </thead>\n  <tbody>\n    <tr>\n      <th>count</th>\n      <td>1298.000000</td>\n      <td>1298.000000</td>\n    </tr>\n    <tr>\n      <th>mean</th>\n      <td>385.013097</td>\n      <td>165.270416</td>\n    </tr>\n    <tr>\n      <th>std</th>\n      <td>243.616315</td>\n      <td>109.734916</td>\n    </tr>\n    <tr>\n      <th>min</th>\n      <td>115.000000</td>\n      <td>42.000000</td>\n    </tr>\n    <tr>\n      <th>25%</th>\n      <td>235.000000</td>\n      <td>99.250000</td>\n    </tr>\n    <tr>\n      <th>50%</th>\n      <td>323.000000</td>\n      <td>137.000000</td>\n    </tr>\n    <tr>\n      <th>75%</th>\n      <td>465.750000</td>\n      <td>202.750000</td>\n    </tr>\n    <tr>\n      <th>max</th>\n      <td>3540.000000</td>\n      <td>1706.000000</td>\n    </tr>\n  </tbody>\n</table>\n</div>"
     },
     "execution_count": 11,
     "metadata": {},
     "output_type": "execute_result"
    }
   ],
   "source": [
    "training_dataset.describe()"
   ],
   "metadata": {
    "collapsed": false,
    "ExecuteTime": {
     "end_time": "2023-12-05T02:10:34.179784Z",
     "start_time": "2023-12-05T02:10:34.173489Z"
    }
   },
   "id": "409c461251584763"
  },
  {
   "cell_type": "code",
   "execution_count": 12,
   "outputs": [
    {
     "data": {
      "text/plain": "Text(0.5, 1.0, 'Boxplot of Summary Lengths')"
     },
     "execution_count": 12,
     "metadata": {},
     "output_type": "execute_result"
    },
    {
     "data": {
      "text/plain": "<Figure size 1200x600 with 2 Axes>",
      "image/png": "[encoded data removed]"
     },
     "metadata": {},
     "output_type": "display_data"
    }
   ],
   "source": [
    "# Create a subplot with 1 row and 2 columns\n",
    "fig, axes = plt.subplots(nrows=1, ncols=2, figsize=(12, 6))\n",
    "\n",
    "# Plot for the articles' number of words\n",
    "sns.boxplot(training_dataset[\"article_length\"], ax=axes[0])\n",
    "axes[0].set_ylabel(\"Number of Words\")\n",
    "axes[0].set_title(\"Boxplot of Article Lengths\")\n",
    "\n",
    "# Plot for the summaries' number of words\n",
    "sns.boxplot(training_dataset[\"summary_length\"], ax=axes[1])\n",
    "axes[1].set_ylabel(\"Number of Words\")\n",
    "axes[1].set_title(\"Boxplot of Summary Lengths\")\n"
   ],
   "metadata": {
    "collapsed": false,
    "ExecuteTime": {
     "end_time": "2023-12-05T02:10:34.324146Z",
     "start_time": "2023-12-05T02:10:34.179657Z"
    }
   },
   "id": "5c2f5ea9ceeb1dd8"
  },
  {
   "cell_type": "code",
   "execution_count": 13,
   "outputs": [],
   "source": [
    "# Get statistics for the articles boxplot\n",
    "lines_articles = axes[0].lines[:6]\n",
    "articles_stats = [line.get_ydata()[0] for line in lines_articles]\n",
    "Q1_articles, Q3_articles, lower_whisker_articles, upper_whisker_articles, median_articles = articles_stats[:5]\n",
    "\n",
    "# Get statistics for the summaries boxplot\n",
    "lines_summaries = axes[1].lines[:6]\n",
    "summaries_stats = [line.get_ydata()[0] for line in lines_summaries]\n",
    "Q1_summaries, Q3_summaries, lower_whisker_summaries, upper_whisker_summaries, median_summaries = summaries_stats[:5]"
   ],
   "metadata": {
    "collapsed": false,
    "ExecuteTime": {
     "end_time": "2023-12-05T02:10:34.326044Z",
     "start_time": "2023-12-05T02:10:34.322704Z"
    }
   },
   "id": "d697ffe1c77274f9"
  },
  {
   "cell_type": "code",
   "execution_count": 14,
   "outputs": [
    {
     "name": "stdout",
     "output_type": "stream",
     "text": [
      "810.0\n",
      "355.0\n"
     ]
    }
   ],
   "source": [
    "print(upper_whisker_articles)\n",
    "print(upper_whisker_summaries)"
   ],
   "metadata": {
    "collapsed": false,
    "ExecuteTime": {
     "end_time": "2023-12-05T02:10:34.332552Z",
     "start_time": "2023-12-05T02:10:34.327823Z"
    }
   },
   "id": "e8315c682fb174a"
  },
  {
   "cell_type": "code",
   "execution_count": 15,
   "outputs": [],
   "source": [
    "training_dataset = training_dataset[(training_dataset['summary_length'] <= upper_whisker_summaries) & (training_dataset['article_length'] <= upper_whisker_articles)]\n",
    "testing_dataset = testing_dataset[(testing_dataset['summary_length'] <= upper_whisker_summaries) & (testing_dataset['article_length'] <= upper_whisker_articles)]"
   ],
   "metadata": {
    "collapsed": false,
    "ExecuteTime": {
     "end_time": "2023-12-05T02:10:34.334778Z",
     "start_time": "2023-12-05T02:10:34.331383Z"
    }
   },
   "id": "aedcc943384662ee"
  },
  {
   "cell_type": "code",
   "execution_count": 16,
   "outputs": [
    {
     "data": {
      "text/plain": "            filename                                        newsarticle  \\\n0          sport_353  Scots suffer another injury blow\\n\\nScotlands ...   \n1          sport_364  A year to remember for Irish\\n\\nThere used to ...   \n2  entertainment_295  Dame Julie pops in to see Poppins\\n\\nMary Popp...   \n3  entertainment_069  Foxx and Swank take actors awards\\n\\nJamie Fox...   \n4          sport_359  Ruddock backs Yapps credentials\\n\\nWales coach...   \n\n                                             summary  article_length  \\\n0  Another potential option, Glasgow flanker Andr...             258   \n1  While Ulster finished runners-up in their very...             778   \n2  But Kelly said she was \"very nervous\" about me...             224   \n3  Jamie Foxx and Hilary Swank have won the Scree...             338   \n4  Wales coach Mike Ruddock says John Yapp has wh...             375   \n\n   summary_length  \n0             108  \n1             343  \n2              92  \n3             137  \n4             156  ",
      "text/html": "<div>\n<style scoped>\n    .dataframe tbody tr th:only-of-type {\n        vertical-align: middle;\n    }\n\n    .dataframe tbody tr th {\n        vertical-align: top;\n    }\n\n    .dataframe thead th {\n        text-align: right;\n    }\n</style>\n<table border=\"1\" class=\"dataframe\">\n  <thead>\n    <tr style=\"text-align: right;\">\n      <th></th>\n      <th>filename</th>\n      <th>newsarticle</th>\n      <th>summary</th>\n      <th>article_length</th>\n      <th>summary_length</th>\n    </tr>\n  </thead>\n  <tbody>\n    <tr>\n      <th>0</th>\n      <td>sport_353</td>\n      <td>Scots suffer another injury blow\\n\\nScotlands ...</td>\n      <td>Another potential option, Glasgow flanker Andr...</td>\n      <td>258</td>\n      <td>108</td>\n    </tr>\n    <tr>\n      <th>1</th>\n      <td>sport_364</td>\n      <td>A year to remember for Irish\\n\\nThere used to ...</td>\n      <td>While Ulster finished runners-up in their very...</td>\n      <td>778</td>\n      <td>343</td>\n    </tr>\n    <tr>\n      <th>2</th>\n      <td>entertainment_295</td>\n      <td>Dame Julie pops in to see Poppins\\n\\nMary Popp...</td>\n      <td>But Kelly said she was \"very nervous\" about me...</td>\n      <td>224</td>\n      <td>92</td>\n    </tr>\n    <tr>\n      <th>3</th>\n      <td>entertainment_069</td>\n      <td>Foxx and Swank take actors awards\\n\\nJamie Fox...</td>\n      <td>Jamie Foxx and Hilary Swank have won the Scree...</td>\n      <td>338</td>\n      <td>137</td>\n    </tr>\n    <tr>\n      <th>4</th>\n      <td>sport_359</td>\n      <td>Ruddock backs Yapps credentials\\n\\nWales coach...</td>\n      <td>Wales coach Mike Ruddock says John Yapp has wh...</td>\n      <td>375</td>\n      <td>156</td>\n    </tr>\n  </tbody>\n</table>\n</div>"
     },
     "execution_count": 16,
     "metadata": {},
     "output_type": "execute_result"
    }
   ],
   "source": [
    "training_dataset.head()"
   ],
   "metadata": {
    "collapsed": false,
    "ExecuteTime": {
     "end_time": "2023-12-05T02:10:34.343045Z",
     "start_time": "2023-12-05T02:10:34.336350Z"
    }
   },
   "id": "20767b785b9cda7f"
  },
  {
   "cell_type": "code",
   "execution_count": 17,
   "outputs": [
    {
     "data": {
      "text/plain": "       article_length  summary_length\ncount     1240.000000     1240.000000\nmean       351.926613      150.501613\nstd        156.300192       67.456332\nmin        115.000000       42.000000\n25%        233.000000       97.000000\n50%        315.000000      133.500000\n75%        441.000000      190.000000\nmax        810.000000      354.000000",
      "text/html": "<div>\n<style scoped>\n    .dataframe tbody tr th:only-of-type {\n        vertical-align: middle;\n    }\n\n    .dataframe tbody tr th {\n        vertical-align: top;\n    }\n\n    .dataframe thead th {\n        text-align: right;\n    }\n</style>\n<table border=\"1\" class=\"dataframe\">\n  <thead>\n    <tr style=\"text-align: right;\">\n      <th></th>\n      <th>article_length</th>\n      <th>summary_length</th>\n    </tr>\n  </thead>\n  <tbody>\n    <tr>\n      <th>count</th>\n      <td>1240.000000</td>\n      <td>1240.000000</td>\n    </tr>\n    <tr>\n      <th>mean</th>\n      <td>351.926613</td>\n      <td>150.501613</td>\n    </tr>\n    <tr>\n      <th>std</th>\n      <td>156.300192</td>\n      <td>67.456332</td>\n    </tr>\n    <tr>\n      <th>min</th>\n      <td>115.000000</td>\n      <td>42.000000</td>\n    </tr>\n    <tr>\n      <th>25%</th>\n      <td>233.000000</td>\n      <td>97.000000</td>\n    </tr>\n    <tr>\n      <th>50%</th>\n      <td>315.000000</td>\n      <td>133.500000</td>\n    </tr>\n    <tr>\n      <th>75%</th>\n      <td>441.000000</td>\n      <td>190.000000</td>\n    </tr>\n    <tr>\n      <th>max</th>\n      <td>810.000000</td>\n      <td>354.000000</td>\n    </tr>\n  </tbody>\n</table>\n</div>"
     },
     "execution_count": 17,
     "metadata": {},
     "output_type": "execute_result"
    }
   ],
   "source": [
    "training_dataset.describe()"
   ],
   "metadata": {
    "collapsed": false,
    "ExecuteTime": {
     "end_time": "2023-12-05T02:10:34.431343Z",
     "start_time": "2023-12-05T02:10:34.338829Z"
    }
   },
   "id": "d9583b01b0df2e6"
  },
  {
   "cell_type": "code",
   "execution_count": 18,
   "outputs": [],
   "source": [
    "df = training_dataset[1:30]"
   ],
   "metadata": {
    "collapsed": false,
    "ExecuteTime": {
     "end_time": "2023-12-05T02:10:34.441312Z",
     "start_time": "2023-12-05T02:10:34.347382Z"
    }
   },
   "id": "541ec7270ed9f71d"
  },
  {
   "cell_type": "code",
   "execution_count": 19,
   "outputs": [],
   "source": [
    "import torch\n",
    "from torch.nn.utils.rnn import pad_sequence\n",
    "from torch.utils.data import TensorDataset, DataLoader\n",
    "from transformers import BartTokenizer, BartForConditionalGeneration, AdamW, get_linear_schedule_with_warmup\n",
    "from sklearn.model_selection import train_test_split\n",
    "from tqdm import tqdm\n",
    "import pandas as pd\n",
    "from rouge_score import rouge_scorer\n",
    "from torch.cuda.amp import autocast, GradScaler\n",
    "from torch.nn.utils import clip_grad_norm_"
   ],
   "metadata": {
    "collapsed": false,
    "ExecuteTime": {
     "end_time": "2023-12-05T02:10:36.327662Z",
     "start_time": "2023-12-05T02:10:34.349720Z"
    }
   },
   "id": "a8bd84278d67bf4a"
  },
  {
   "cell_type": "code",
   "execution_count": 20,
   "outputs": [],
   "source": [
    "# Define the device for GPU usage (if available)\n",
    "if torch.backends.mps.is_available():\n",
    "    arch = \"mps\"\n",
    "elif torch.cuda.is_available():\n",
    "    arch = \"cuda\"\n",
    "else:\n",
    "    arch = \"cpu\"\n",
    "\n",
    "device = torch.device(arch)"
   ],
   "metadata": {
    "collapsed": false,
    "ExecuteTime": {
     "end_time": "2023-12-05T02:10:36.346809Z",
     "start_time": "2023-12-05T02:10:36.345287Z"
    }
   },
   "id": "5b66aa86a0d55c40"
  },
  {
   "cell_type": "code",
   "execution_count": 21,
   "outputs": [],
   "source": [
    "# Tokenize and preprocess the text data\n",
    "tokenizer = BartTokenizer.from_pretrained('facebook/bart-base')\n",
    "max_length = 512  # Maximum sequence length\n",
    "\n",
    "def tokenize_text(text):\n",
    "    inputs = tokenizer.encode(\"summarize: \" + text, return_tensors=\"pt\", max_length=512, truncation=True, padding='max_length', return_attention_mask=True)\n",
    "    return inputs.to(device)  # Move the tokenized inputs to the GPU\n",
    "\n",
    "def tokenize_summary(text):\n",
    "    inputs = tokenizer.encode(text, return_tensors=\"pt\", max_length=280, truncation=True, padding='max_length', return_attention_mask=True)\n",
    "    return inputs.to(device)  # Move the tokenized summaries to the GPU\n",
    "\n",
    "def tokenize_and_stack(df, text_column, summary_column):\n",
    "    df['TokenizedText'] = df[text_column].apply(tokenize_text)\n",
    "    df['TokenizedSummary'] = df[summary_column].apply(tokenize_summary)\n",
    "    \n",
    "    # Convert tokenized data to PyTorch tensors\n",
    "    X = torch.stack([seq.squeeze() for seq in df['TokenizedText']])\n",
    "    Y = torch.stack([seq.squeeze() for seq in df['TokenizedSummary']])\n",
    "    \n",
    "    # Define a DataLoader for batching data\n",
    "    dataset = TensorDataset(X, Y)\n",
    "    dataloader = DataLoader(dataset, batch_size=4, shuffle=True)\n",
    "    \n",
    "    return X, Y, dataloader\n",
    "\n",
    "train_df, val_df = train_test_split(df, test_size=0.2, random_state=42)\n",
    "\n",
    "# Tokenize and stack for training set\n",
    "X_train, Y_train, train_dataloader = tokenize_and_stack(train_df, 'newsarticle', 'summary')\n",
    "\n",
    "# Tokenize and stack for validation set\n",
    "X_val, Y_val, val_dataloader = tokenize_and_stack(val_df, 'newsarticle', 'summary')\n",
    "\n",
    "# Tokenize and stack for validation set\n",
    "X_test, Y_test, test_dataloader = tokenize_and_stack(testing_dataset, 'newsarticle', 'summary')\n"
   ],
   "metadata": {
    "collapsed": false,
    "ExecuteTime": {
     "end_time": "2023-12-05T02:10:39.502174Z",
     "start_time": "2023-12-05T02:10:36.349384Z"
    }
   },
   "id": "d196a4ee79c18b91"
  },
  {
   "cell_type": "code",
   "execution_count": 22,
   "outputs": [
    {
     "name": "stderr",
     "output_type": "stream",
     "text": [
      "/Users/kysgattu/anaconda3/lib/python3.11/site-packages/torch/cuda/amp/grad_scaler.py:124: UserWarning: torch.cuda.amp.GradScaler is enabled, but CUDA is not available.  Disabling.\n",
      "  warnings.warn(\n"
     ]
    }
   ],
   "source": [
    "# Define the BART model\n",
    "model = BartForConditionalGeneration.from_pretrained('facebook/bart-base')\n",
    "\n",
    "# Create a GradScaler for mixed-precision training\n",
    "scaler = GradScaler()\n",
    "\n",
    "# Define hyperparameters\n",
    "model.to(device)  # Move the model to the GPU\n",
    "optimizer = torch.optim.AdamW(model.parameters(), lr=2e-5, weight_decay=0.01)  \n",
    "scheduler = get_linear_schedule_with_warmup(optimizer, num_warmup_steps=50, num_training_steps=len(train_dataloader) * 10)  # Add learning rate scheduler\n",
    "early_stopping_rounds = 2\n",
    "best_rouge_score = -1\n",
    "current_round = 0\n",
    "\n",
    "# Define gradient accumulation steps\n",
    "accumulation_steps = 20  # You can adjust this number\n"
   ],
   "metadata": {
    "collapsed": false,
    "ExecuteTime": {
     "end_time": "2023-12-05T02:10:43.616771Z",
     "start_time": "2023-12-05T02:10:39.503031Z"
    }
   },
   "id": "c3cbf6349e469183"
  },
  {
   "cell_type": "code",
   "execution_count": 23,
   "outputs": [],
   "source": [
    "def train(model, dataloader, optimizer, scheduler):\n",
    "    model.train()\n",
    "    total_loss = 0.0\n",
    "    optimizer.zero_grad()\n",
    "\n",
    "    for step, batch in enumerate(tqdm(dataloader, desc=\"Training\")):\n",
    "        inputs = batch[0].to(device)  # Move the input batch to the GPU\n",
    "        attention_mask = (inputs != 0).float().to(device)  # Create attention mask\n",
    "        targets = batch[1].to(device)  # Move the target batch to the GPU\n",
    "\n",
    "        with autocast():\n",
    "            outputs = model(input_ids=inputs, attention_mask=attention_mask, decoder_input_ids=targets, labels=targets)\n",
    "            loss = outputs.loss\n",
    "\n",
    "        # Perform gradient accumulation\n",
    "        loss = loss / accumulation_steps\n",
    "        scaler.scale(loss).backward()\n",
    "\n",
    "        if (step + 1) % accumulation_steps == 0:\n",
    "            # Update gradients and optimizer once every accumulation_steps\n",
    "            clip_grad_norm_(model.parameters(), max_norm=1.0)  # Optional gradient clipping\n",
    "            scaler.step(optimizer)\n",
    "            scaler.update()\n",
    "            optimizer.zero_grad()\n",
    "\n",
    "        total_loss += loss.item()\n",
    "\n",
    "    return total_loss / len(dataloader)\n"
   ],
   "metadata": {
    "collapsed": false,
    "ExecuteTime": {
     "end_time": "2023-12-05T02:10:43.618671Z",
     "start_time": "2023-12-05T02:10:43.616188Z"
    }
   },
   "id": "24a633d527ec227f"
  },
  {
   "cell_type": "code",
   "execution_count": 24,
   "outputs": [
    {
     "name": "stderr",
     "output_type": "stream",
     "text": [
      "Training:   0%|          | 0/6 [00:00<?, ?it/s]/Users/kysgattu/anaconda3/lib/python3.11/site-packages/torch/amp/autocast_mode.py:250: UserWarning: User provided device_type of 'cuda', but CUDA is not available. Disabling\n",
      "  warnings.warn(\n",
      "Training: 100%|██████████| 6/6 [00:09<00:00,  1.63s/it]\n"
     ]
    },
    {
     "name": "stdout",
     "output_type": "stream",
     "text": [
      "Epoch 1/2, Train Loss: 0.6608\n"
     ]
    },
    {
     "name": "stderr",
     "output_type": "stream",
     "text": [
      "Training: 100%|██████████| 6/6 [00:04<00:00,  1.20it/s]\n"
     ]
    },
    {
     "name": "stdout",
     "output_type": "stream",
     "text": [
      "Epoch 2/2, Train Loss: 0.6416\n"
     ]
    }
   ],
   "source": [
    "# Training loop\n",
    "for epoch in range(2):  # Change the number of epochs as needed\n",
    "    train_loss = train(model, train_dataloader, optimizer, scheduler)\n",
    "    print(f\"Epoch {epoch+1}/{2}, Train Loss: {train_loss:.4f}\")\n",
    "\n",
    "model.save_pretrained(\"saved_model\")"
   ],
   "metadata": {
    "collapsed": false,
    "ExecuteTime": {
     "end_time": "2023-12-05T02:10:59.523850Z",
     "start_time": "2023-12-05T02:10:43.618979Z"
    }
   },
   "id": "9c0a38bbdf0d1b56"
  },
  {
   "cell_type": "code",
   "execution_count": 26,
   "outputs": [
    {
     "name": "stderr",
     "output_type": "stream",
     "text": [
      "Evaluating Test:  50%|█████     | 1/2 [01:26<01:26, 86.09s/it]"
     ]
    },
    {
     "name": "stdout",
     "output_type": "stream",
     "text": [
      "{'rouge1': Score(precision=0.5272727272727272, recall=0.48739495798319327, fmeasure=0.5065502183406113)}\n",
      "{'rouge1': Score(precision=0.60625, recall=0.8220338983050848, fmeasure=0.697841726618705)}\n",
      "{'rouge1': Score(precision=0.5754716981132075, recall=0.5398230088495575, fmeasure=0.5570776255707762)}\n",
      "{'rouge1': Score(precision=0.3836477987421384, recall=0.5350877192982456, fmeasure=0.4468864468864469)}\n"
     ]
    },
    {
     "name": "stderr",
     "output_type": "stream",
     "text": [
      "Evaluating Test: 100%|██████████| 2/2 [01:47<00:00, 53.72s/it]"
     ]
    },
    {
     "name": "stdout",
     "output_type": "stream",
     "text": [
      "{'rouge1': Score(precision=0.4457831325301205, recall=0.5967741935483871, fmeasure=0.5103448275862069)}\n",
      "{'rouge1': Score(precision=0.5942857142857143, recall=0.8253968253968254, fmeasure=0.6910299003322259)}\n"
     ]
    },
    {
     "name": "stderr",
     "output_type": "stream",
     "text": [
      "\n"
     ]
    },
    {
     "data": {
      "text/plain": "                                                                                                                                                                                                                                                                                                                                                                                                                                                                                                                                                                                                                                                                                                                                                                                                                                                                                                                                                                                                                                                                                                                                                                                                                                                                                                                                                                                                                                                                                                                                                                                                                                                                                                                                                                                                                                                                                                                                                                                                                                                                                                                                                                                                                                                                    Article  \\\n0                                                                                                                                                                                                                                                                                                                                                                                                                                                                                                                                                                                                                                                                                                                                                                                                                                                                                                                                                    summarize: Holmes secures comeback victory\\n\\nBritains Kelly Holmes marked her first appearance on home soil since winning double Olympic gold with 1500m victory at the Norwich Union International.\\n\\nHolmes hit the front just before the bell in front of a sell-out crowd in Glasgow and cruised to victory in a time of four minutes 14.74 seconds. \"It was nice to get that out of the way. I was nervous about whether I would actually be able to get round. \"I felt good. I just had to relax and use my racing knowledge,\" said Holmes. \"It was all about winning in front of my home crowd. The time is irrelevant. \"I got round in one piece and did not disgrace myself. Now it is about going forward. \"The reception I have had since the Olympics has been amazing and that is why I wanted to keep running this year, because I get a buzz from the crowd.\" Holmes ran a tactically perfect race to finish clear of Frances Hind Dehiba and Russias Svetlana Cherkasova. The Olympic 800m and 1500m champions time was inside the qualifying mark for the European Indoor Championships in Madrid in March. But the 34-year-old would not reveal whether she intended to run or not, having previously indicated she would leave a decision until after the Birmingham Grand Prix on 18 February.\\n   \n1                                                                                                                                                                                                                                                                                                                                                                                                                                                                                                                                                                                                 summarize: Parmar ruled out of Davis Cup tie\\n\\nA knee injury has forced Arvind Parmar out of Great Britains Davis Cup tie in Israel and left Alex Bogdanovic in line to take the second singles place.\\n\\nParmar picked up the injury last week and has failed to recover in time for the Europe/Africa Zone I tie, which begins in Tel Aviv on Friday. Bogdanovic looks set to take the second singles place alongside Greg Rusedski. GB captain Jeremy Bates could use 17-year-old Andrew Murray and David Sherwood in the doubles rubber. Bogdanovic and Murray both pulled out of tournaments last week through injury but are expected to be fit. Jamie Delgado and Lee Childs have been called into the squad in Tel Aviv as designated hitters for team practice but Bates has no plans to call either of them into his squad at present.\\n\\nThe unheralded Sherwood was the surprise inclusion when the squad was announced last week, and Bates said: \"David has earned his place in this squad on the merit of his form and results over the last 12 months.\" The 6ft 4in Sherwood is ranked 264th in the world and the LTA have high hopes for him after Futures tournament wins in Wrexham and Edinburgh.\\n\\nThe Sheffield-born right-hander, aged 24, also reached another final in Plaisir, France, a week after making the semi-final in Mulhouse. Bates is glad to have Rusedski available after Tim Henmans retirement from Davis Cup tennis. \"His wealth of experience is invaluable, particularly to the younger players and I know he will lead by example,\" Bates said. \"We are looking forward to the tie. The squad are all in excellent form.\"\\n   \n2                                                                                                                                                                                                                                                                                                                                                                                                                                                                                                                                                                                                                                                                                                                                                                                                  summarize: Elvis set for chart hat-trick\\n\\nThe late US legend Elvis Presley is likely to score his third UK number one single in three weeks on Sunday, according to early sales figures.\\n\\nThe king of rock n roll has already had consecutive chart-toppers with Jailhouse Rock and One Night. A Fool Such As I, the next in a series of 18 reissues, is on course to beat the Chemical Brothers to the top. But his next single, Its Now Or Never, will face a challenge from tsunami charity single Grief Never Grows Old. Sir Cliff Richard, Russell Watson, Boy George, Bill Wyman and members of the Bee Gees, the Beach Boys, America and the Eagles are expected to feature on the charity song.\\n\\nBookmakers have offered odds of 10/1 for all Presleys 18 hits to go back to number one. A Fool Such As I would become the 1,001st number one single in UK chart history after One Night took the 1,000th place on Sunday. The latest release is currently outselling the Chemical Brothers comeback single Galvanize plus other new releases from Athlete, Ciara and Feeder. Presleys 18 original number ones are being reissued as limited release singles, with fans eager to buy the set to fill a collectors box that went on sale in the first week. Record company Sony BMG is now manufacturing 5,000 more copies of each single than originally planned to meet demand, taking the total number of copies of each song on sale to about 28,000.\\n   \n3                                                                                                                                                                                                                                                                                                                                                                                                                                                                                summarize: Wenger dejected as Arsenal slump\\n\\nArsenal manager Arsene Wenger claimed their display in the 3-1 defeat against Bayern Munich was \"our worst peformance in the Champions League\".\\n\\nKolo Toures late goal gives the Gunners hope for the second leg, but Wenger said: \"The only positive is that we are still in the tie. \"The players are really down in the dressing-room. I feel we really turned in a bad performance. \"At 3-0 we faced a real struggle, but 3-1 at least gives us a chance.\"\\n\\nGoalscorer Toure was also at fault for two goals, and Wenger said: \"We need to help Toure rebuild his confidence as he is low at the moment.\" Wenger also tried to stay upbeat himself, adding: \"But there is enough time for crying. I could cry - maybe it would be easier - but life goes on. \"In this job, you have good and bad nights. This was a bad night - but I still have confidence in the quality of my players, as well as their spirit and desire.\" But Wengers Bayern counterpart Felix Magath was in no mood to celebrate either. He said: \"I am far from happy despite the win. My players failed to try and score a fourth to kill the tie and then conceded the late goal.\\n\\n\"Arsenal are fully capable of scoring several goals against us on their own turf.\" Arsenal keeper Jens Lehmann, whose personal rivalry with Bayern goalkeeper Oliver Kahn was not helped by the result, said: \"Do I blame myself for the third goal? As a goalkeeper, I always blame myself. \"I just know the goals were very easy against us. In my time here, we have never conceded three easy goals like that - but sometimes it happens. \"It would have been impossible to go through at 3-0 - but with the goal we have chances. Everything is now possible.\"\\n   \n4  summarize: Scotland v Italy (Sat)\\n\\nMurrayfield, Edinburgh\\n\\nSaturday, 26 February\\n\\n1400 GMT\\n\\nBBC1, Five Live and this website\\n\\nVictory for the Azzurri in Rome last year saw Scotland end their campaign without a victory. And the pressure is on Scotland coach Matt Williams as he seeks a first Six Nations victory at the eighth attempt. Italy have lost both their opening games at home to Ireland and Wales, but travel to Edinburgh with high hopes.\\n\\nTheir coach John Kirwan has warned his side they must eradicate the errors that blighted their loss to Wales however or risk suffering a third successive defeat. \"If the defeat against Wales has taught us anything, it is that at this level we cannot make any mistakes,\" Kirwan said. \"In the Six Nations, every error you make will come at a high price. \"We have to be aggressive for 80 minutes, keep calm in every situation and display great maturity on the pitch.\\n\\n\"It will be fundamental to keep cool in the difficult moments - in the key situations of the game.\" Kirwan has recalled the experienced Cristian Stoica at centre and drafted in David dal Maso at open-side after star flanker Mauro Bergamasco was ruled out for the rest of the tournament. Scotland have also made two changes, Simon Webster replacing Simon Danielli on the wing and Simon Taylor returning for his first Test in a year, for injured flanker Jason White. Taylors recovery from a serious knee injury is a major boost to Scottish hopes. \"He is one of the world-class players in the tournament and you want them in your team,\" acknowledged Williams.\\n\\nDespite a record of only two victories from 14 Tests, Williams insists he is revelling in the pressure. \"I actually really enjoy seeing how you cope with such pressure as a coach,\" he said, optimistic despite opening defeats to France and Ireland. \"We were confident for those two first games and we are confident we can beat Italy too,\" he added.\\n\\n: C Paterson; S Webster, A Craig, H Southwell, S Lamont; D Parks, C Cusiter; T Smith, G Bulloch (capt), G Kerr; S Grimes, S Murray; S Taylor, J Petrie, A Hogg.\\n\\nR Russell, B Douglas, N Hines, J Dunbar, M Blair, G Ross, B Hinshelwood.\\n\\nR de Mar   \n\n                                                                                                                                                                                                                                                                                                                                                                                                                                                                                                                                                                                                                                                                                                                                                                                                                                                                                                                                          Actual Summary  \\\n0                                                                                                                                                                                                                                                                                                                                             I was nervous about whether I would actually be able to get round.\"It was all about winning in front of my home crowd.Holmes hit the front just before the bell in front of a sell-out crowd in Glasgow and cruised to victory in a time of four minutes 14.74 seconds.\"It was nice to get that out of the way.The Olympic 800m and 1500m champion's time was inside the qualifying mark for the European Indoor Championships in Madrid in March.Britain's Kelly Holmes marked her first appearance on home soil since winning double Olympic gold with 1500m victory at the Norwich Union International.   \n1                                               The unheralded Sherwood was the surprise inclusion when the squad was announced last week, and Bates said: \"David has earned his place in this squad on the merit of his form and results over the last 12 months.\"A knee injury has forced Arvind Parmar out of Great Britain's Davis Cup tie in Israel and left Alex Bogdanovic in line to take the second singles place.Parmar picked up the injury last week and has failed to recover in time for the Europe/Africa Zone I tie, which begins in Tel Aviv on Friday.Bogdanovic and Murray both pulled out of tournaments last week through injury but are expected to be fit.Jamie Delgado and Lee Childs have been called into the squad in Tel Aviv as designated hitters for team practice but Bates has no plans to call either of them into his squad at present.Bogdanovic looks set to take the second singles place alongside Greg Rusedski.   \n2                                                                                                                                                                                                                                                                                                                                                                                                  A Fool Such As I would become the 1,001st number one single in UK chart history after One Night took the 1,000th place on Sunday.The late US legend Elvis Presley is likely to score his third UK number one single in three weeks on Sunday, according to early sales figures.Presley's 18 original number ones are being reissued as limited release singles, with fans eager to buy the set to fill a collector's box that went on sale in the first week.Bookmakers have offered odds of 10/1 for all Presley's 18 hits to go back to number one.   \n3                                                                              Arsenal keeper Jens Lehmann, whose personal rivalry with Bayern goalkeeper Oliver Kahn was not helped by the result, said: \"Do I blame myself for the third goal?Kolo Toure's late goal gives the Gunners hope for the second leg, but Wenger said: \"The only positive is that we are still in the tie.\"It would have been impossible to go through at 3-0 - but with the goal we have chances.My players failed to try and score a fourth to kill the tie and then conceded the late goal.\"I just know the goals were very easy against us.\"Arsenal are fully capable of scoring several goals against us on their own turf.\"In my time here, we have never conceded three easy goals like that - but sometimes it happens.Goalscorer Toure was also at fault for two goals, and Wenger said: \"We need to help Toure rebuild his confidence as he is low at the moment.\"   \n4  And the pressure is on Scotland coach Matt Williams as he seeks a first Six Nations victory at the eighth attempt.Italy have lost both their opening games at home to Ireland and Wales, but travel to Edinburgh with high hopes.Despite a record of only two victories from 14 Tests, Williams insists he is revelling in the pressure.\"I actually really enjoy seeing how you cope with such pressure as a coach,\" he said, optimistic despite opening defeats to France and Ireland.\"If the defeat against Wales has taught us anything, it's that at this level we can't make any mistakes,\" Kirwan said.Their coach John Kirwan has warned his side they must eradicate the errors that blighted their loss to Wales however or risk suffering a third successive defeat.\"We were confident for those two first games and we are confident we can beat Italy too,\" he added.\"In the Six Nations, every error you make will come at a high price.   \n\n                                                                                                                                                                                                                                                                                                                                                                                                                                                                                                                                                                                                                                                                                                                   Predicted Summary  \\\n0                                                   summarize: Holmes secures comeback victory in a time of 4 minutes 14.74 seconds. \"I felt good. I just had to relax and use my racing knowledge,\" said Holmes. \"It was all about winning in front of my first appearance on home soil since winning double Olympic gold with 1500m victory at the Norwich Union International. Now it is about going forward. \"The reception I have had since the Olympics has been amazing and that is why I wanted to keep running this year, because I get a buzz from the crowd.\" Holmes ran a tactically perfect race to finish clear of Frances Hind Dehiba and Russias Svetlana Cherkasova. “I got round in one piece and did not disgrace   \n1                                          summarize: Parmar ruled out of Davis Cup tie in Israel and left Alex Bogdanovic in line to take the second singles place alongside Greg Rusedski. Team are all in excellent form.Parmar picked up the injury last week and has failed to recover in time for the Europe/Africa Zone I tie, which begins in Tel Aviv on Friday. Hampdanovic. GB captain Jeremy Bates could use 17-year-old Andrew Murray and David Sherwood in the doubles rubber. Hamdanovic and Murray both pulled out of tournaments last week through injury but are expected to be fit. Jamie Delgado and Lee Childs have been called into the squad inTel Aviv as designated hitters for team practice but Bates has   \n2                                                                                                                                 summarize: Elvis set for chart hat-trick he’s on the 1,001st number one single in UK on sale to about 28,000th place on Sunday. The highest US legend Elvis Presley is likely to score his third UK number 1 single in three weeks on Sunday, according to early sales figures. “Grief Never Grows Old.” “The king of rock n roll has already had consecutive chart-toppers with Jailhouse Rock and One Night. A Fool Such As I, the next in a series of 18 reissues, is on course to beat the Chemical Brothers to the top. But his next single, Its Now Or Never, will face a challenge from the   \n3                                                                              summarize: Wenger dejected as Arsenal slump on the bench.Arsenal manager Arsene Wenger claimed their display in the 3-1 defeat against Bayern Munich was \"our worst peformance in the Champions League\". Arsenal player Jens Lehmann, whose personal rivalry with Bayern teammate Felix Magath was in no mood to celebrate either.Kolo Toure late goal gives the Gunners hope for the second leg, but Wenger said: \"The only positive is that we are still in the tie. \"The players are really down in the dressing-room. I feel we really turned in a bad performance. \"At 3-0 we faced a real struggle, but 3-2 at least gives us a chance.\" You’re   \n4  summarize: Scotland v Italy (Sat)The pressure is on Scotland coach Matt Williams as he seeks a first Six Nations victory at the eighth attempt. Italy have lost both their opening games at home to Ireland and Wales, but travel to Edinburgh with high hopes. It will be crucial to keep cool in the difficult moments - in the key situations of the game.Saturday, 26 February will be decisive1400 GMT:BBC1, Five Live and this website will not be able to cope with the pressure of watching a third successive defeatVictory for the Azzurri in Rome last year saw Scotland end their campaign without a victory. And the pressure is high Scotland coachMatt Williams as his side are looking to get another Six Nations   \n\n   ROUGE-1 Precision  \n0           0.527273  \n1           0.606250  \n2           0.575472  \n3           0.383648  \n4           0.445783  ",
      "text/html": "<div>\n<style scoped>\n    .dataframe tbody tr th:only-of-type {\n        vertical-align: middle;\n    }\n\n    .dataframe tbody tr th {\n        vertical-align: top;\n    }\n\n    .dataframe thead th {\n        text-align: right;\n    }\n</style>\n<table border=\"1\" class=\"dataframe\">\n  <thead>\n    <tr style=\"text-align: right;\">\n      <th></th>\n      <th>Article</th>\n      <th>Actual Summary</th>\n      <th>Predicted Summary</th>\n      <th>ROUGE-1 Precision</th>\n    </tr>\n  </thead>\n  <tbody>\n    <tr>\n      <th>0</th>\n      <td>summarize: Holmes secures comeback victory\\n\\nBritains Kelly Holmes marked her first appearance on home soil since winning double Olympic gold with 1500m victory at the Norwich Union International.\\n\\nHolmes hit the front just before the bell in front of a sell-out crowd in Glasgow and cruised to victory in a time of four minutes 14.74 seconds. \"It was nice to get that out of the way. I was nervous about whether I would actually be able to get round. \"I felt good. I just had to relax and use my racing knowledge,\" said Holmes. \"It was all about winning in front of my home crowd. The time is irrelevant. \"I got round in one piece and did not disgrace myself. Now it is about going forward. \"The reception I have had since the Olympics has been amazing and that is why I wanted to keep running this year, because I get a buzz from the crowd.\" Holmes ran a tactically perfect race to finish clear of Frances Hind Dehiba and Russias Svetlana Cherkasova. The Olympic 800m and 1500m champions time was inside the qualifying mark for the European Indoor Championships in Madrid in March. But the 34-year-old would not reveal whether she intended to run or not, having previously indicated she would leave a decision until after the Birmingham Grand Prix on 18 February.\\n</td>\n      <td>I was nervous about whether I would actually be able to get round.\"It was all about winning in front of my home crowd.Holmes hit the front just before the bell in front of a sell-out crowd in Glasgow and cruised to victory in a time of four minutes 14.74 seconds.\"It was nice to get that out of the way.The Olympic 800m and 1500m champion's time was inside the qualifying mark for the European Indoor Championships in Madrid in March.Britain's Kelly Holmes marked her first appearance on home soil since winning double Olympic gold with 1500m victory at the Norwich Union International.</td>\n      <td>summarize: Holmes secures comeback victory in a time of 4 minutes 14.74 seconds. \"I felt good. I just had to relax and use my racing knowledge,\" said Holmes. \"It was all about winning in front of my first appearance on home soil since winning double Olympic gold with 1500m victory at the Norwich Union International. Now it is about going forward. \"The reception I have had since the Olympics has been amazing and that is why I wanted to keep running this year, because I get a buzz from the crowd.\" Holmes ran a tactically perfect race to finish clear of Frances Hind Dehiba and Russias Svetlana Cherkasova. “I got round in one piece and did not disgrace</td>\n      <td>0.527273</td>\n    </tr>\n    <tr>\n      <th>1</th>\n      <td>summarize: Parmar ruled out of Davis Cup tie\\n\\nA knee injury has forced Arvind Parmar out of Great Britains Davis Cup tie in Israel and left Alex Bogdanovic in line to take the second singles place.\\n\\nParmar picked up the injury last week and has failed to recover in time for the Europe/Africa Zone I tie, which begins in Tel Aviv on Friday. Bogdanovic looks set to take the second singles place alongside Greg Rusedski. GB captain Jeremy Bates could use 17-year-old Andrew Murray and David Sherwood in the doubles rubber. Bogdanovic and Murray both pulled out of tournaments last week through injury but are expected to be fit. Jamie Delgado and Lee Childs have been called into the squad in Tel Aviv as designated hitters for team practice but Bates has no plans to call either of them into his squad at present.\\n\\nThe unheralded Sherwood was the surprise inclusion when the squad was announced last week, and Bates said: \"David has earned his place in this squad on the merit of his form and results over the last 12 months.\" The 6ft 4in Sherwood is ranked 264th in the world and the LTA have high hopes for him after Futures tournament wins in Wrexham and Edinburgh.\\n\\nThe Sheffield-born right-hander, aged 24, also reached another final in Plaisir, France, a week after making the semi-final in Mulhouse. Bates is glad to have Rusedski available after Tim Henmans retirement from Davis Cup tennis. \"His wealth of experience is invaluable, particularly to the younger players and I know he will lead by example,\" Bates said. \"We are looking forward to the tie. The squad are all in excellent form.\"\\n</td>\n      <td>The unheralded Sherwood was the surprise inclusion when the squad was announced last week, and Bates said: \"David has earned his place in this squad on the merit of his form and results over the last 12 months.\"A knee injury has forced Arvind Parmar out of Great Britain's Davis Cup tie in Israel and left Alex Bogdanovic in line to take the second singles place.Parmar picked up the injury last week and has failed to recover in time for the Europe/Africa Zone I tie, which begins in Tel Aviv on Friday.Bogdanovic and Murray both pulled out of tournaments last week through injury but are expected to be fit.Jamie Delgado and Lee Childs have been called into the squad in Tel Aviv as designated hitters for team practice but Bates has no plans to call either of them into his squad at present.Bogdanovic looks set to take the second singles place alongside Greg Rusedski.</td>\n      <td>summarize: Parmar ruled out of Davis Cup tie in Israel and left Alex Bogdanovic in line to take the second singles place alongside Greg Rusedski. Team are all in excellent form.Parmar picked up the injury last week and has failed to recover in time for the Europe/Africa Zone I tie, which begins in Tel Aviv on Friday. Hampdanovic. GB captain Jeremy Bates could use 17-year-old Andrew Murray and David Sherwood in the doubles rubber. Hamdanovic and Murray both pulled out of tournaments last week through injury but are expected to be fit. Jamie Delgado and Lee Childs have been called into the squad inTel Aviv as designated hitters for team practice but Bates has</td>\n      <td>0.606250</td>\n    </tr>\n    <tr>\n      <th>2</th>\n      <td>summarize: Elvis set for chart hat-trick\\n\\nThe late US legend Elvis Presley is likely to score his third UK number one single in three weeks on Sunday, according to early sales figures.\\n\\nThe king of rock n roll has already had consecutive chart-toppers with Jailhouse Rock and One Night. A Fool Such As I, the next in a series of 18 reissues, is on course to beat the Chemical Brothers to the top. But his next single, Its Now Or Never, will face a challenge from tsunami charity single Grief Never Grows Old. Sir Cliff Richard, Russell Watson, Boy George, Bill Wyman and members of the Bee Gees, the Beach Boys, America and the Eagles are expected to feature on the charity song.\\n\\nBookmakers have offered odds of 10/1 for all Presleys 18 hits to go back to number one. A Fool Such As I would become the 1,001st number one single in UK chart history after One Night took the 1,000th place on Sunday. The latest release is currently outselling the Chemical Brothers comeback single Galvanize plus other new releases from Athlete, Ciara and Feeder. Presleys 18 original number ones are being reissued as limited release singles, with fans eager to buy the set to fill a collectors box that went on sale in the first week. Record company Sony BMG is now manufacturing 5,000 more copies of each single than originally planned to meet demand, taking the total number of copies of each song on sale to about 28,000.\\n</td>\n      <td>A Fool Such As I would become the 1,001st number one single in UK chart history after One Night took the 1,000th place on Sunday.The late US legend Elvis Presley is likely to score his third UK number one single in three weeks on Sunday, according to early sales figures.Presley's 18 original number ones are being reissued as limited release singles, with fans eager to buy the set to fill a collector's box that went on sale in the first week.Bookmakers have offered odds of 10/1 for all Presley's 18 hits to go back to number one.</td>\n      <td>summarize: Elvis set for chart hat-trick he’s on the 1,001st number one single in UK on sale to about 28,000th place on Sunday. The highest US legend Elvis Presley is likely to score his third UK number 1 single in three weeks on Sunday, according to early sales figures. “Grief Never Grows Old.” “The king of rock n roll has already had consecutive chart-toppers with Jailhouse Rock and One Night. A Fool Such As I, the next in a series of 18 reissues, is on course to beat the Chemical Brothers to the top. But his next single, Its Now Or Never, will face a challenge from the</td>\n      <td>0.575472</td>\n    </tr>\n    <tr>\n      <th>3</th>\n      <td>summarize: Wenger dejected as Arsenal slump\\n\\nArsenal manager Arsene Wenger claimed their display in the 3-1 defeat against Bayern Munich was \"our worst peformance in the Champions League\".\\n\\nKolo Toures late goal gives the Gunners hope for the second leg, but Wenger said: \"The only positive is that we are still in the tie. \"The players are really down in the dressing-room. I feel we really turned in a bad performance. \"At 3-0 we faced a real struggle, but 3-1 at least gives us a chance.\"\\n\\nGoalscorer Toure was also at fault for two goals, and Wenger said: \"We need to help Toure rebuild his confidence as he is low at the moment.\" Wenger also tried to stay upbeat himself, adding: \"But there is enough time for crying. I could cry - maybe it would be easier - but life goes on. \"In this job, you have good and bad nights. This was a bad night - but I still have confidence in the quality of my players, as well as their spirit and desire.\" But Wengers Bayern counterpart Felix Magath was in no mood to celebrate either. He said: \"I am far from happy despite the win. My players failed to try and score a fourth to kill the tie and then conceded the late goal.\\n\\n\"Arsenal are fully capable of scoring several goals against us on their own turf.\" Arsenal keeper Jens Lehmann, whose personal rivalry with Bayern goalkeeper Oliver Kahn was not helped by the result, said: \"Do I blame myself for the third goal? As a goalkeeper, I always blame myself. \"I just know the goals were very easy against us. In my time here, we have never conceded three easy goals like that - but sometimes it happens. \"It would have been impossible to go through at 3-0 - but with the goal we have chances. Everything is now possible.\"\\n</td>\n      <td>Arsenal keeper Jens Lehmann, whose personal rivalry with Bayern goalkeeper Oliver Kahn was not helped by the result, said: \"Do I blame myself for the third goal?Kolo Toure's late goal gives the Gunners hope for the second leg, but Wenger said: \"The only positive is that we are still in the tie.\"It would have been impossible to go through at 3-0 - but with the goal we have chances.My players failed to try and score a fourth to kill the tie and then conceded the late goal.\"I just know the goals were very easy against us.\"Arsenal are fully capable of scoring several goals against us on their own turf.\"In my time here, we have never conceded three easy goals like that - but sometimes it happens.Goalscorer Toure was also at fault for two goals, and Wenger said: \"We need to help Toure rebuild his confidence as he is low at the moment.\"</td>\n      <td>summarize: Wenger dejected as Arsenal slump on the bench.Arsenal manager Arsene Wenger claimed their display in the 3-1 defeat against Bayern Munich was \"our worst peformance in the Champions League\". Arsenal player Jens Lehmann, whose personal rivalry with Bayern teammate Felix Magath was in no mood to celebrate either.Kolo Toure late goal gives the Gunners hope for the second leg, but Wenger said: \"The only positive is that we are still in the tie. \"The players are really down in the dressing-room. I feel we really turned in a bad performance. \"At 3-0 we faced a real struggle, but 3-2 at least gives us a chance.\" You’re</td>\n      <td>0.383648</td>\n    </tr>\n    <tr>\n      <th>4</th>\n      <td>summarize: Scotland v Italy (Sat)\\n\\nMurrayfield, Edinburgh\\n\\nSaturday, 26 February\\n\\n1400 GMT\\n\\nBBC1, Five Live and this website\\n\\nVictory for the Azzurri in Rome last year saw Scotland end their campaign without a victory. And the pressure is on Scotland coach Matt Williams as he seeks a first Six Nations victory at the eighth attempt. Italy have lost both their opening games at home to Ireland and Wales, but travel to Edinburgh with high hopes.\\n\\nTheir coach John Kirwan has warned his side they must eradicate the errors that blighted their loss to Wales however or risk suffering a third successive defeat. \"If the defeat against Wales has taught us anything, it is that at this level we cannot make any mistakes,\" Kirwan said. \"In the Six Nations, every error you make will come at a high price. \"We have to be aggressive for 80 minutes, keep calm in every situation and display great maturity on the pitch.\\n\\n\"It will be fundamental to keep cool in the difficult moments - in the key situations of the game.\" Kirwan has recalled the experienced Cristian Stoica at centre and drafted in David dal Maso at open-side after star flanker Mauro Bergamasco was ruled out for the rest of the tournament. Scotland have also made two changes, Simon Webster replacing Simon Danielli on the wing and Simon Taylor returning for his first Test in a year, for injured flanker Jason White. Taylors recovery from a serious knee injury is a major boost to Scottish hopes. \"He is one of the world-class players in the tournament and you want them in your team,\" acknowledged Williams.\\n\\nDespite a record of only two victories from 14 Tests, Williams insists he is revelling in the pressure. \"I actually really enjoy seeing how you cope with such pressure as a coach,\" he said, optimistic despite opening defeats to France and Ireland. \"We were confident for those two first games and we are confident we can beat Italy too,\" he added.\\n\\n: C Paterson; S Webster, A Craig, H Southwell, S Lamont; D Parks, C Cusiter; T Smith, G Bulloch (capt), G Kerr; S Grimes, S Murray; S Taylor, J Petrie, A Hogg.\\n\\nR Russell, B Douglas, N Hines, J Dunbar, M Blair, G Ross, B Hinshelwood.\\n\\nR de Mar</td>\n      <td>And the pressure is on Scotland coach Matt Williams as he seeks a first Six Nations victory at the eighth attempt.Italy have lost both their opening games at home to Ireland and Wales, but travel to Edinburgh with high hopes.Despite a record of only two victories from 14 Tests, Williams insists he is revelling in the pressure.\"I actually really enjoy seeing how you cope with such pressure as a coach,\" he said, optimistic despite opening defeats to France and Ireland.\"If the defeat against Wales has taught us anything, it's that at this level we can't make any mistakes,\" Kirwan said.Their coach John Kirwan has warned his side they must eradicate the errors that blighted their loss to Wales however or risk suffering a third successive defeat.\"We were confident for those two first games and we are confident we can beat Italy too,\" he added.\"In the Six Nations, every error you make will come at a high price.</td>\n      <td>summarize: Scotland v Italy (Sat)The pressure is on Scotland coach Matt Williams as he seeks a first Six Nations victory at the eighth attempt. Italy have lost both their opening games at home to Ireland and Wales, but travel to Edinburgh with high hopes. It will be crucial to keep cool in the difficult moments - in the key situations of the game.Saturday, 26 February will be decisive1400 GMT:BBC1, Five Live and this website will not be able to cope with the pressure of watching a third successive defeatVictory for the Azzurri in Rome last year saw Scotland end their campaign without a victory. And the pressure is high Scotland coachMatt Williams as his side are looking to get another Six Nations</td>\n      <td>0.445783</td>\n    </tr>\n  </tbody>\n</table>\n</div>"
     },
     "execution_count": 26,
     "metadata": {},
     "output_type": "execute_result"
    }
   ],
   "source": [
    "def evaluate(model, dataloader):\n",
    "    model.eval()\n",
    "    \n",
    "    test_articles = []\n",
    "    actual_summaries = []\n",
    "    predicted_summaries = []\n",
    "    rouge1_precision_scores = []\n",
    "\n",
    "    scorer = rouge_scorer.RougeScorer(['rouge1'])\n",
    "\n",
    "    with torch.no_grad():\n",
    "        for batch in tqdm(dataloader, desc=\"Evaluating Test\"):\n",
    "            inputs = batch[0].to(device)\n",
    "            attention_mask = (inputs != 0).float().to(device)\n",
    "            targets = batch[1].to(device)\n",
    "            outputs = model.generate(input_ids=inputs, attention_mask=attention_mask, max_length=150, num_beams=17, length_penalty=2.0, early_stopping=False)\n",
    "            \n",
    "            for output, target, input_text in zip(outputs, targets, inputs):\n",
    "                # Calculate ROUGE-1 precision for each sample\n",
    "                output_text = tokenizer.decode(output, skip_special_tokens=True)\n",
    "                target_text = tokenizer.decode(target, skip_special_tokens=True)\n",
    "                rouge_scores = scorer.score(output_text, target_text)\n",
    "                rouge1_precision_scores.append(rouge_scores['rouge1'].fmeasure)\n",
    "                \n",
    "                # Append tokenized text, actual summaries, and predicted summaries\n",
    "                test_articles.append(tokenizer.decode(input_text, skip_special_tokens=True))\n",
    "                actual_summaries.append(target_text)\n",
    "                predicted_summaries.append(output_text)\n",
    "\n",
    "    return test_articles, actual_summaries, predicted_summaries, rouge1_precision_scores\n",
    "\n",
    "# Evaluate the model\n",
    "test_articles, actual_summaries, predicted_summaries, rouge1_precision_scores = evaluate(model, val_dataloader)\n",
    "\n",
    "# Create a dictionary with the extracted data\n",
    "data = {\n",
    "    'Article': test_articles,\n",
    "    'Actual Summary': actual_summaries,\n",
    "    'Predicted Summary': predicted_summaries,\n",
    "    'ROUGE-1 Precision': rouge1_precision_scores,\n",
    "}\n",
    "\n",
    "# Create a Pandas DataFrame from the dictionary\n",
    "results_df = pd.DataFrame(data)\n",
    "\n",
    "# Display the DataFrame\n",
    "pd.set_option('display.max_colwidth', None)\n",
    "results_df.head(5)"
   ],
   "metadata": {
    "collapsed": false,
    "ExecuteTime": {
     "end_time": "2023-12-05T02:13:51.927198Z",
     "start_time": "2023-12-05T02:12:04.286108Z"
    }
   },
   "id": "ac966b9c1aa086c5"
  },
  {
   "cell_type": "code",
   "execution_count": null,
   "outputs": [],
   "source": [],
   "metadata": {
    "collapsed": false
   },
   "id": "fdaa1f4ebb3f8c80"
  }
 ],
 "metadata": {
  "kernelspec": {
   "display_name": "Python 3",
   "language": "python",
   "name": "python3"
  },
  "language_info": {
   "codemirror_mode": {
    "name": "ipython",
    "version": 2
   },
   "file_extension": ".py",
   "mimetype": "text/x-python",
   "name": "python",
   "nbconvert_exporter": "python",
   "pygments_lexer": "ipython2",
   "version": "2.7.6"
  }
 },
 "nbformat": 4,
 "nbformat_minor": 5
}
