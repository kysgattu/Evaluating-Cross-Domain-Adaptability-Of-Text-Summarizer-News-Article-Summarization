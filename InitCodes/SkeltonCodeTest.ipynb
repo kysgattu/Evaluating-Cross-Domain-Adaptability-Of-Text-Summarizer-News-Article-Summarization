{
 "cells": [
  {
   "cell_type": "code",
   "execution_count": 1,
   "outputs": [],
   "source": [
    "import re\n",
    "import os\n",
    "import pandas as pd\n",
    "import chardet\n",
    "import matplotlib.pyplot as plt\n",
    "import seaborn as sns\n",
    "from contractions import contractions_dict"
   ],
   "metadata": {
    "collapsed": false,
    "ExecuteTime": {
     "end_time": "2023-12-08T17:38:46.420264Z",
     "start_time": "2023-12-08T17:38:46.363431Z"
    }
   },
   "id": "300bfdef52b35cc4"
  },
  {
   "cell_type": "code",
   "execution_count": 2,
   "outputs": [],
   "source": [
    "def expand_contractions(text, contraction_map=None):\n",
    "    if contraction_map is None:\n",
    "        contraction_map = contractions_dict\n",
    "\n",
    "    # Using regex for getting all contracted words\n",
    "    contractions_keys = '|'.join(re.escape(key) for key in contraction_map.keys())\n",
    "    contractions_pattern = re.compile(f'({contractions_keys})', flags=re.DOTALL)\n",
    "\n",
    "    expanded_text = contractions_pattern.sub(lambda match: contraction_map.get(match.group(0), match.group(0)), text)\n",
    "    expanded_text = re.sub(\"'\", \"\", expanded_text)\n",
    "    return expanded_text"
   ],
   "metadata": {
    "collapsed": false,
    "ExecuteTime": {
     "end_time": "2023-12-08T17:38:46.938333Z",
     "start_time": "2023-12-08T17:38:46.922547Z"
    }
   },
   "id": "78549f0732cedf"
  },
  {
   "cell_type": "code",
   "execution_count": 3,
   "outputs": [],
   "source": [
    "# Function to detect file encoding\n",
    "def detect_encoding(file_path):\n",
    "    with open(file_path, 'rb') as f:\n",
    "        result = chardet.detect(f.read())\n",
    "    return result['encoding']"
   ],
   "metadata": {
    "collapsed": false,
    "ExecuteTime": {
     "end_time": "2023-12-08T17:38:47.704757Z",
     "start_time": "2023-12-08T17:38:47.693980Z"
    }
   },
   "id": "feae9fb0d0436a71"
  },
  {
   "cell_type": "code",
   "execution_count": 4,
   "outputs": [],
   "source": [
    "# Set the base directory\n",
    "base_dir = \"data/BBCNewsSummary/News Articles\"\n",
    "output_dir = \"data/BBCNewsSummaryCSV\"  # Output directory\n",
    "\n",
    "# Check if the output directory exists, and create it if not\n",
    "if not os.path.exists(output_dir):\n",
    "    os.makedirs(output_dir)\n",
    "\n",
    "# Get the list of classes (subfolder names)\n",
    "classes = os.listdir(base_dir)\n",
    "dfs = {}\n",
    "# Create dataframes and write to CSV files for each class\n",
    "for class_name in classes:\n",
    "    # Define the paths for news articles and summaries\n",
    "    news_articles_path = os.path.join(base_dir, class_name)\n",
    "    summaries_path = os.path.join(\"data/BBCNewsSummary/Summaries\", class_name)\n",
    "\n",
    "    # Get the list of file names in both directories\n",
    "    news_articles_files = os.listdir(news_articles_path)\n",
    "    summaries_files = os.listdir(summaries_path)\n",
    "\n",
    "    # Match file names\n",
    "    common_files = set(news_articles_files) & set(summaries_files)\n",
    "\n",
    "    # Create dataframe\n",
    "    df_list = []\n",
    "\n",
    "    # Read content from files and populate dataframe\n",
    "    for filename in sorted(common_files):  # Sort by filename\n",
    "        news_article_file_path = os.path.join(news_articles_path, filename)\n",
    "        summary_file_path = os.path.join(summaries_path, filename)\n",
    "\n",
    "        # Detect encoding\n",
    "        news_encoding = detect_encoding(news_article_file_path)\n",
    "        summary_encoding = detect_encoding(summary_file_path)\n",
    "\n",
    "        try:\n",
    "            with open(news_article_file_path, 'r', encoding=news_encoding) as news_file, \\\n",
    "                    open(summary_file_path, 'r', encoding=summary_encoding) as summary_file:\n",
    "                news_content = news_file.read()\n",
    "                summary_content = summary_file.read()\n",
    "                \n",
    "\n",
    "                # Extract file name without extension\n",
    "                file_name_without_extension = os.path.splitext(filename)[0]\n",
    "\n",
    "                # Generate the new entry in the filename\n",
    "                new_filename = f'{class_name}_{file_name_without_extension}'\n",
    "\n",
    "                df_list.append({'filename': new_filename, 'newsarticle': news_content, 'summary': summary_content})\n",
    "\n",
    "        except UnicodeDecodeError:\n",
    "            print(f\"UnicodeDecodeError: Could not read {filename}. Skipping this file.\")\n",
    "\n",
    "    # Create dataframe from the list and sort by filename\n",
    "    df = pd.DataFrame(df_list).sort_values(by='filename')\n",
    "    \n",
    "    # Save dataframe to the dictionary\n",
    "    dfs[class_name] = df\n",
    "\n",
    "\n",
    "    # # Write dataframe to CSV in the output directory\n",
    "    # csv_filename = os.path.join(output_dir, f'{class_name}_data.csv')\n",
    "    # df.to_csv(csv_filename, index=False)\n",
    "    # print(f'Dataframe for {class_name} written to {csv_filename}')\n"
   ],
   "metadata": {
    "collapsed": false,
    "ExecuteTime": {
     "end_time": "2023-12-08T17:38:55.749076Z",
     "start_time": "2023-12-08T17:38:48.147719Z"
    }
   },
   "id": "e49d17228768ca46"
  },
  {
   "cell_type": "code",
   "execution_count": 5,
   "outputs": [],
   "source": [
    "business = dfs['business']\n",
    "entertainment = dfs['entertainment']\n",
    "sport = dfs['sport']\n",
    "politics = dfs['politics']\n",
    "tech = dfs['tech']"
   ],
   "metadata": {
    "collapsed": false,
    "ExecuteTime": {
     "end_time": "2023-12-08T17:38:55.751918Z",
     "start_time": "2023-12-08T17:38:55.749519Z"
    }
   },
   "id": "9da6ac6b3a638419"
  },
  {
   "cell_type": "code",
   "execution_count": 6,
   "outputs": [],
   "source": [
    "sample_text = business['newsarticle'][242] "
   ],
   "metadata": {
    "collapsed": false,
    "ExecuteTime": {
     "end_time": "2023-12-08T17:39:00.489579Z",
     "start_time": "2023-12-08T17:39:00.472358Z"
    }
   },
   "id": "d9bc498d6661cdd7"
  },
  {
   "cell_type": "code",
   "execution_count": 7,
   "outputs": [
    {
     "data": {
      "text/plain": "\"Making your office work for you\\n\\nOur mission to brighten up your working lives continues - and this time, we're taking a long hard look at your offices.\\n\\nOver the next few months, our panel of experts will be listening to your gripes about where you work, and suggesting ways to make your workspace more efficient, more congenial or simply prettier. This week, we're hearing from Marianne Petersen, who is planning to convert a barn in Sweden into a base for her freelance writing work. Click on the link under her photograph to read her story, and then scroll down to see what the panel have to say. And if you want to take part in the series, go to the bottom of the story to find out how to get in touch.\\n\\nWorking from home presents a multitude of challenges. Understanding your work personality allows you to work in terms of your own style. Do you feel confident about your work output without conferring with others? Are you able to retain discipline and self motivate to get the job done? Do you build on the ideas of others - or are you a more introspective problem solver?. In order for a virtual office to succeed, keeping the boundary between work and home life is essential. It may be useful to be quite rigid about who is allowed to visit, and to keep strict office hours. Referring to the space as work will give those around you a clear message that this is professional space. It is imperative to consider how to bring the outside world into yours, keeping up to date with developments and maintaining a network. Isolated work environments mean this has to be carefully thought out, and a strategy has to be developed that suits both your personality and your industry. Joining professional groups or forming a loose association of like-minded people may assist. It is useful to structure these meetings in advance as often they get relegated to less important status when times are busy - with the danger that when the workload eases, they have to be resurrected.\\n\\n\\n\\nPrior to any interior work being undertaken it is essential to ensure that the roof and walls are made water-and-weather-tight, and the structure is checked for stability. It appears that the roof trusses may need repairs and additional bracing.\\n\\nIdeally, the roof should be replaced with an outer material in keeping with the character and location of the barn. This would also allow for a well-insulated inner skin to be provided which should be light coloured. It is likely that the most efficient way of heating the building is with electricity. In order to provide this the owner will need to have an electrical engineer calculate the potential heating, power and lighting load to make sure the mains supply and distribution capacity are adequate. Ideally, it would be good to have a mains water supply and some means of drainage for toilet and washing facilities. The walls should be dry lined with a single skin of plasterboard laid over rockwool slab which will allow good wall insulation and the power and lighting circuits to be concealed, and the walls should be painted in a light colour. The owner mentions she might lay a new floor over the existing planks; this will improve the insulation and offer a level surface. I would suggest laying new oak veneer planks which can work in with the character of the barn. As for lighting, consider a combination of floor mounted uplights, wall lights (wall washers) and selected downlights. Use a combination of mains voltage fluorescent fittings and dimmable units which can vary the light levels and the feel of the interior.\\n\\n\\n\\nPlease click on the link to the right here to see my ideas for Marianne's barn.\\n\\nThe layout of this office reflects the need to have a working area and a more relaxed meeting space. Large desk space and extensive storage would combine with tub chairs to maximise the space available. The finishes chosen for the furniture will need to reflect the unusual setting, while the lighting and temperature control mechanisms used will further influence the workplace.\\n\\n\\n\\nRegarding accessing the internet via the connection in the main house, your plan of going wireless is sensible. A wireless router/access point in the house with a wireless LAN card in the PC in the renovated area may be sufficient. However, important points to consider are the distance between the two buildings and the nature of the materials through which the signals have to pass, which could result in a weak signal strength. You may require an additional wireless access point in the renovated area. Your local IT supplier will be able to advise on this. If you haven't already invested in robust firewall and anti-virus software, it is essential to do so, to protect your investment. To really take advantage of wireless technology, you might consider a laptop computer and a docking station with external mouse and monitor. Or you could use one of the new Tablet computers, which allow you to write directly on the screen and convert into text with built-in hand recognition software. And finally, you will save money and space by considering a multi-function product for print, scan, copy and fax.\\n\""
     },
     "execution_count": 7,
     "metadata": {},
     "output_type": "execute_result"
    }
   ],
   "source": [
    "sample_text"
   ],
   "metadata": {
    "collapsed": false,
    "ExecuteTime": {
     "end_time": "2023-12-08T17:39:01.000046Z",
     "start_time": "2023-12-08T17:39:00.989057Z"
    }
   },
   "id": "7e4be9618dc62ce5"
  },
  {
   "cell_type": "code",
   "execution_count": 8,
   "outputs": [],
   "source": [
    "training_dataset = pd.concat([business,politics,tech], ignore_index=True)\n",
    "testing_dataset = pd.concat([entertainment,sport], ignore_index=True)"
   ],
   "metadata": {
    "collapsed": false,
    "ExecuteTime": {
     "end_time": "2023-12-08T17:39:01.566566Z",
     "start_time": "2023-12-08T17:39:01.554740Z"
    }
   },
   "id": "572d27564385a4fe"
  },
  {
   "cell_type": "code",
   "execution_count": 9,
   "outputs": [
    {
     "name": "stdout",
     "output_type": "stream",
     "text": [
      "Training size: 3984\n",
      "Testing size: 2691\n"
     ]
    }
   ],
   "source": [
    "print(\"Training size:\",training_dataset.size)\n",
    "print(\"Testing size:\",testing_dataset.size)"
   ],
   "metadata": {
    "collapsed": false,
    "ExecuteTime": {
     "end_time": "2023-12-08T17:39:02.100157Z",
     "start_time": "2023-12-08T17:39:02.087037Z"
    }
   },
   "id": "c32d8a7dd5ce7290"
  },
  {
   "cell_type": "code",
   "execution_count": 10,
   "outputs": [],
   "source": [
    "training_dataset = training_dataset.sample(frac=1).reset_index(drop=True)\n",
    "testing_dataset = testing_dataset.sample(frac=1).reset_index(drop=True)"
   ],
   "metadata": {
    "collapsed": false,
    "ExecuteTime": {
     "end_time": "2023-12-08T17:39:03.011889Z",
     "start_time": "2023-12-08T17:39:02.995778Z"
    }
   },
   "id": "65a820ec1fd49cef"
  },
  {
   "cell_type": "code",
   "execution_count": 11,
   "outputs": [],
   "source": [
    "training_dataset['newsarticle'] = training_dataset['newsarticle'].apply(expand_contractions)\n",
    "testing_dataset['newsarticle'] = testing_dataset['newsarticle'].apply(expand_contractions)"
   ],
   "metadata": {
    "collapsed": false,
    "ExecuteTime": {
     "end_time": "2023-12-08T17:39:06.682601Z",
     "start_time": "2023-12-08T17:39:03.519807Z"
    }
   },
   "id": "6f042ae27af53420"
  },
  {
   "cell_type": "code",
   "execution_count": 12,
   "outputs": [],
   "source": [
    "def getSenLen(sentence):\n",
    "    return len(sentence.split())"
   ],
   "metadata": {
    "collapsed": false,
    "ExecuteTime": {
     "end_time": "2023-12-08T17:39:07.359867Z",
     "start_time": "2023-12-08T17:39:07.341121Z"
    }
   },
   "id": "46456fddb7a89f0c"
  },
  {
   "cell_type": "code",
   "execution_count": 13,
   "outputs": [],
   "source": [
    "training_dataset['article_length'] = training_dataset['newsarticle'].apply(getSenLen)\n",
    "training_dataset['summary_length'] = training_dataset['summary'].apply(getSenLen)\n",
    "testing_dataset['article_length'] = testing_dataset['newsarticle'].apply(getSenLen)\n",
    "testing_dataset['summary_length'] = testing_dataset['summary'].apply(getSenLen)\n"
   ],
   "metadata": {
    "collapsed": false,
    "ExecuteTime": {
     "end_time": "2023-12-08T17:39:07.922552Z",
     "start_time": "2023-12-08T17:39:07.921007Z"
    }
   },
   "id": "ada84762441637bd"
  },
  {
   "cell_type": "code",
   "execution_count": 14,
   "outputs": [
    {
     "data": {
      "text/plain": "       filename                                        newsarticle  \\\n0  business_080  Argentina, Venezuela in oil deal\\n\\nArgentina ...   \n1      tech_232  BBC web search aids odd queries\\n\\nThe BBCs on...   \n2      tech_044  Apple attacked over sources row\\n\\nCivil liber...   \n3  politics_187  Jowell confirms casino climbdown\\n\\nTessa Jowe...   \n4      tech_024  Game firm holds cast auditions\\n\\nVideo game f...   \n\n                                             summary  article_length  \\\n0  Argentine President Nestor Kirchner and Venezu...             191   \n1  Search engines are key to the way people use t...             230   \n2  The EFF, representing the reporters, has asked...             321   \n3  \"Limiting the number of regional casinos to ei...             390   \n4  People chosen to appear in a game will have th...             289   \n\n   summary_length  \n0              84  \n1             108  \n2             150  \n3             172  \n4              97  ",
      "text/html": "<div>\n<style scoped>\n    .dataframe tbody tr th:only-of-type {\n        vertical-align: middle;\n    }\n\n    .dataframe tbody tr th {\n        vertical-align: top;\n    }\n\n    .dataframe thead th {\n        text-align: right;\n    }\n</style>\n<table border=\"1\" class=\"dataframe\">\n  <thead>\n    <tr style=\"text-align: right;\">\n      <th></th>\n      <th>filename</th>\n      <th>newsarticle</th>\n      <th>summary</th>\n      <th>article_length</th>\n      <th>summary_length</th>\n    </tr>\n  </thead>\n  <tbody>\n    <tr>\n      <th>0</th>\n      <td>business_080</td>\n      <td>Argentina, Venezuela in oil deal\\n\\nArgentina ...</td>\n      <td>Argentine President Nestor Kirchner and Venezu...</td>\n      <td>191</td>\n      <td>84</td>\n    </tr>\n    <tr>\n      <th>1</th>\n      <td>tech_232</td>\n      <td>BBC web search aids odd queries\\n\\nThe BBCs on...</td>\n      <td>Search engines are key to the way people use t...</td>\n      <td>230</td>\n      <td>108</td>\n    </tr>\n    <tr>\n      <th>2</th>\n      <td>tech_044</td>\n      <td>Apple attacked over sources row\\n\\nCivil liber...</td>\n      <td>The EFF, representing the reporters, has asked...</td>\n      <td>321</td>\n      <td>150</td>\n    </tr>\n    <tr>\n      <th>3</th>\n      <td>politics_187</td>\n      <td>Jowell confirms casino climbdown\\n\\nTessa Jowe...</td>\n      <td>\"Limiting the number of regional casinos to ei...</td>\n      <td>390</td>\n      <td>172</td>\n    </tr>\n    <tr>\n      <th>4</th>\n      <td>tech_024</td>\n      <td>Game firm holds cast auditions\\n\\nVideo game f...</td>\n      <td>People chosen to appear in a game will have th...</td>\n      <td>289</td>\n      <td>97</td>\n    </tr>\n  </tbody>\n</table>\n</div>"
     },
     "execution_count": 14,
     "metadata": {},
     "output_type": "execute_result"
    }
   ],
   "source": [
    "training_dataset.head()"
   ],
   "metadata": {
    "collapsed": false,
    "ExecuteTime": {
     "end_time": "2023-12-08T17:39:08.459908Z",
     "start_time": "2023-12-08T17:39:08.446639Z"
    }
   },
   "id": "97c28fa85e62a8d0"
  },
  {
   "cell_type": "code",
   "execution_count": 15,
   "outputs": [
    {
     "data": {
      "text/plain": "Text(0.5, 1.0, 'Boxplot of Summary Lengths')"
     },
     "execution_count": 15,
     "metadata": {},
     "output_type": "execute_result"
    },
    {
     "data": {
      "text/plain": "<Figure size 1200x600 with 2 Axes>",
      "image/png": "[encoded data removed]"
     },
     "metadata": {},
     "output_type": "display_data"
    }
   ],
   "source": [
    "# Boxplots for Article and Summary Lengths\n",
    "fig, axes = plt.subplots(nrows=1, ncols=2, figsize=(12, 6))\n",
    "\n",
    "sns.boxplot(training_dataset[\"article_length\"], ax=axes[0])\n",
    "axes[0].set_ylabel(\"Number of Words\")\n",
    "axes[0].set_title(\"Boxplot of Article Lengths\")\n",
    "\n",
    "sns.boxplot(training_dataset[\"summary_length\"], ax=axes[1])\n",
    "axes[1].set_ylabel(\"Number of Words\")\n",
    "axes[1].set_title(\"Boxplot of Summary Lengths\")"
   ],
   "metadata": {
    "collapsed": false,
    "ExecuteTime": {
     "end_time": "2023-12-08T17:39:09.269419Z",
     "start_time": "2023-12-08T17:39:09.150639Z"
    }
   },
   "id": "8ea372e9e9a6764d"
  },
  {
   "cell_type": "code",
   "execution_count": 16,
   "outputs": [
    {
     "data": {
      "text/plain": "       article_length  summary_length\ncount     1328.000000     1328.000000\nmean       421.438253      179.762048\nstd        242.685544      110.777280\nmin         90.000000       38.000000\n25%        280.750000      118.000000\n50%        380.000000      161.000000\n75%        508.250000      219.000000\nmax       4460.000000     2073.000000",
      "text/html": "<div>\n<style scoped>\n    .dataframe tbody tr th:only-of-type {\n        vertical-align: middle;\n    }\n\n    .dataframe tbody tr th {\n        vertical-align: top;\n    }\n\n    .dataframe thead th {\n        text-align: right;\n    }\n</style>\n<table border=\"1\" class=\"dataframe\">\n  <thead>\n    <tr style=\"text-align: right;\">\n      <th></th>\n      <th>article_length</th>\n      <th>summary_length</th>\n    </tr>\n  </thead>\n  <tbody>\n    <tr>\n      <th>count</th>\n      <td>1328.000000</td>\n      <td>1328.000000</td>\n    </tr>\n    <tr>\n      <th>mean</th>\n      <td>421.438253</td>\n      <td>179.762048</td>\n    </tr>\n    <tr>\n      <th>std</th>\n      <td>242.685544</td>\n      <td>110.777280</td>\n    </tr>\n    <tr>\n      <th>min</th>\n      <td>90.000000</td>\n      <td>38.000000</td>\n    </tr>\n    <tr>\n      <th>25%</th>\n      <td>280.750000</td>\n      <td>118.000000</td>\n    </tr>\n    <tr>\n      <th>50%</th>\n      <td>380.000000</td>\n      <td>161.000000</td>\n    </tr>\n    <tr>\n      <th>75%</th>\n      <td>508.250000</td>\n      <td>219.000000</td>\n    </tr>\n    <tr>\n      <th>max</th>\n      <td>4460.000000</td>\n      <td>2073.000000</td>\n    </tr>\n  </tbody>\n</table>\n</div>"
     },
     "execution_count": 16,
     "metadata": {},
     "output_type": "execute_result"
    }
   ],
   "source": [
    "training_dataset.describe()"
   ],
   "metadata": {
    "collapsed": false,
    "ExecuteTime": {
     "end_time": "2023-12-08T17:39:10.082657Z",
     "start_time": "2023-12-08T17:39:10.066501Z"
    }
   },
   "id": "1691520bfa627a15"
  },
  {
   "cell_type": "code",
   "execution_count": 17,
   "outputs": [],
   "source": [
    "# Get statistics for the articles boxplot\n",
    "lines_articles = axes[0].lines[:6]\n",
    "articles_stats = [line.get_ydata()[0] for line in lines_articles]\n",
    "Q1_articles, Q3_articles, lower_whisker_articles, upper_whisker_articles, median_articles = articles_stats[:5]\n",
    "\n",
    "# Get statistics for the summaries boxplot\n",
    "lines_summaries = axes[1].lines[:6]\n",
    "summaries_stats = [line.get_ydata()[0] for line in lines_summaries]\n",
    "Q1_summaries, Q3_summaries, lower_whisker_summaries, upper_whisker_summaries, median_summaries = summaries_stats[:5]"
   ],
   "metadata": {
    "collapsed": false,
    "ExecuteTime": {
     "end_time": "2023-12-08T17:39:11.039630Z",
     "start_time": "2023-12-08T17:39:11.026546Z"
    }
   },
   "id": "9ed358a31124ecc"
  },
  {
   "cell_type": "code",
   "execution_count": 18,
   "outputs": [
    {
     "name": "stdout",
     "output_type": "stream",
     "text": [
      "849.0\n",
      "369.0\n"
     ]
    }
   ],
   "source": [
    "print(upper_whisker_articles)\n",
    "print(upper_whisker_summaries)"
   ],
   "metadata": {
    "collapsed": false,
    "ExecuteTime": {
     "end_time": "2023-12-08T17:39:11.942283Z",
     "start_time": "2023-12-08T17:39:11.924231Z"
    }
   },
   "id": "c1e483ea5e3c33c6"
  },
  {
   "cell_type": "code",
   "execution_count": 19,
   "outputs": [],
   "source": [
    "training_dataset = training_dataset[(training_dataset['summary_length'] <= upper_whisker_summaries) & (training_dataset['article_length'] <= upper_whisker_articles)]\n",
    "testing_dataset = testing_dataset[(testing_dataset['summary_length'] <= upper_whisker_summaries) & (testing_dataset['article_length'] <= upper_whisker_articles)]"
   ],
   "metadata": {
    "collapsed": false,
    "ExecuteTime": {
     "end_time": "2023-12-08T17:39:12.578952Z",
     "start_time": "2023-12-08T17:39:12.567309Z"
    }
   },
   "id": "a0112b7a007eb961"
  },
  {
   "cell_type": "code",
   "execution_count": 20,
   "outputs": [
    {
     "data": {
      "text/plain": "Text(0.5, 1.0, 'Boxplot of Summary Lengths')"
     },
     "execution_count": 20,
     "metadata": {},
     "output_type": "execute_result"
    },
    {
     "data": {
      "text/plain": "<Figure size 1200x600 with 2 Axes>",
      "image/png": "[encoded data removed]"
     },
     "metadata": {},
     "output_type": "display_data"
    }
   ],
   "source": [
    "# Create a subplot with 1 row and 2 columns\n",
    "fig, axes = plt.subplots(nrows=1, ncols=2, figsize=(12, 6))\n",
    "\n",
    "# Plot for the articles' number of words\n",
    "sns.boxplot(training_dataset[\"article_length\"], ax=axes[0])\n",
    "axes[0].set_ylabel(\"Number of Words\")\n",
    "axes[0].set_title(\"Boxplot of Article Lengths\")\n",
    "\n",
    "# Plot for the summaries' number of words\n",
    "sns.boxplot(training_dataset[\"summary_length\"], ax=axes[1])\n",
    "axes[1].set_ylabel(\"Number of Words\")\n",
    "axes[1].set_title(\"Boxplot of Summary Lengths\")\n"
   ],
   "metadata": {
    "collapsed": false,
    "ExecuteTime": {
     "end_time": "2023-12-08T17:39:13.424158Z",
     "start_time": "2023-12-08T17:39:13.322701Z"
    }
   },
   "id": "b73205f280e29cc9"
  },
  {
   "cell_type": "code",
   "execution_count": 21,
   "outputs": [
    {
     "data": {
      "text/plain": "       filename                                        newsarticle  \\\n0  business_080  Argentina, Venezuela in oil deal\\n\\nArgentina ...   \n1      tech_232  BBC web search aids odd queries\\n\\nThe BBCs on...   \n2      tech_044  Apple attacked over sources row\\n\\nCivil liber...   \n3  politics_187  Jowell confirms casino climbdown\\n\\nTessa Jowe...   \n4      tech_024  Game firm holds cast auditions\\n\\nVideo game f...   \n\n                                             summary  article_length  \\\n0  Argentine President Nestor Kirchner and Venezu...             191   \n1  Search engines are key to the way people use t...             230   \n2  The EFF, representing the reporters, has asked...             321   \n3  \"Limiting the number of regional casinos to ei...             390   \n4  People chosen to appear in a game will have th...             289   \n\n   summary_length  \n0              84  \n1             108  \n2             150  \n3             172  \n4              97  ",
      "text/html": "<div>\n<style scoped>\n    .dataframe tbody tr th:only-of-type {\n        vertical-align: middle;\n    }\n\n    .dataframe tbody tr th {\n        vertical-align: top;\n    }\n\n    .dataframe thead th {\n        text-align: right;\n    }\n</style>\n<table border=\"1\" class=\"dataframe\">\n  <thead>\n    <tr style=\"text-align: right;\">\n      <th></th>\n      <th>filename</th>\n      <th>newsarticle</th>\n      <th>summary</th>\n      <th>article_length</th>\n      <th>summary_length</th>\n    </tr>\n  </thead>\n  <tbody>\n    <tr>\n      <th>0</th>\n      <td>business_080</td>\n      <td>Argentina, Venezuela in oil deal\\n\\nArgentina ...</td>\n      <td>Argentine President Nestor Kirchner and Venezu...</td>\n      <td>191</td>\n      <td>84</td>\n    </tr>\n    <tr>\n      <th>1</th>\n      <td>tech_232</td>\n      <td>BBC web search aids odd queries\\n\\nThe BBCs on...</td>\n      <td>Search engines are key to the way people use t...</td>\n      <td>230</td>\n      <td>108</td>\n    </tr>\n    <tr>\n      <th>2</th>\n      <td>tech_044</td>\n      <td>Apple attacked over sources row\\n\\nCivil liber...</td>\n      <td>The EFF, representing the reporters, has asked...</td>\n      <td>321</td>\n      <td>150</td>\n    </tr>\n    <tr>\n      <th>3</th>\n      <td>politics_187</td>\n      <td>Jowell confirms casino climbdown\\n\\nTessa Jowe...</td>\n      <td>\"Limiting the number of regional casinos to ei...</td>\n      <td>390</td>\n      <td>172</td>\n    </tr>\n    <tr>\n      <th>4</th>\n      <td>tech_024</td>\n      <td>Game firm holds cast auditions\\n\\nVideo game f...</td>\n      <td>People chosen to appear in a game will have th...</td>\n      <td>289</td>\n      <td>97</td>\n    </tr>\n  </tbody>\n</table>\n</div>"
     },
     "execution_count": 21,
     "metadata": {},
     "output_type": "execute_result"
    }
   ],
   "source": [
    "training_dataset.head()"
   ],
   "metadata": {
    "collapsed": false,
    "ExecuteTime": {
     "end_time": "2023-12-08T17:39:14.486028Z",
     "start_time": "2023-12-08T17:39:14.471639Z"
    }
   },
   "id": "ca08331b8e055430"
  },
  {
   "cell_type": "code",
   "execution_count": 22,
   "outputs": [
    {
     "data": {
      "text/plain": "       article_length  summary_length\ncount     1281.000000     1281.000000\nmean       394.962529      167.705699\nstd        151.600885       66.488051\nmin         90.000000       38.000000\n25%        278.000000      116.000000\n50%        372.000000      157.000000\n75%        496.000000      209.000000\nmax        849.000000      369.000000",
      "text/html": "<div>\n<style scoped>\n    .dataframe tbody tr th:only-of-type {\n        vertical-align: middle;\n    }\n\n    .dataframe tbody tr th {\n        vertical-align: top;\n    }\n\n    .dataframe thead th {\n        text-align: right;\n    }\n</style>\n<table border=\"1\" class=\"dataframe\">\n  <thead>\n    <tr style=\"text-align: right;\">\n      <th></th>\n      <th>article_length</th>\n      <th>summary_length</th>\n    </tr>\n  </thead>\n  <tbody>\n    <tr>\n      <th>count</th>\n      <td>1281.000000</td>\n      <td>1281.000000</td>\n    </tr>\n    <tr>\n      <th>mean</th>\n      <td>394.962529</td>\n      <td>167.705699</td>\n    </tr>\n    <tr>\n      <th>std</th>\n      <td>151.600885</td>\n      <td>66.488051</td>\n    </tr>\n    <tr>\n      <th>min</th>\n      <td>90.000000</td>\n      <td>38.000000</td>\n    </tr>\n    <tr>\n      <th>25%</th>\n      <td>278.000000</td>\n      <td>116.000000</td>\n    </tr>\n    <tr>\n      <th>50%</th>\n      <td>372.000000</td>\n      <td>157.000000</td>\n    </tr>\n    <tr>\n      <th>75%</th>\n      <td>496.000000</td>\n      <td>209.000000</td>\n    </tr>\n    <tr>\n      <th>max</th>\n      <td>849.000000</td>\n      <td>369.000000</td>\n    </tr>\n  </tbody>\n</table>\n</div>"
     },
     "execution_count": 22,
     "metadata": {},
     "output_type": "execute_result"
    }
   ],
   "source": [
    "training_dataset.describe()"
   ],
   "metadata": {
    "collapsed": false,
    "ExecuteTime": {
     "end_time": "2023-12-08T17:39:16.321726Z",
     "start_time": "2023-12-08T17:39:16.302330Z"
    }
   },
   "id": "407c1232c36390bb"
  },
  {
   "cell_type": "code",
   "execution_count": 23,
   "outputs": [],
   "source": [
    "df = training_dataset[0:100]\n",
    "# df = training_dataset"
   ],
   "metadata": {
    "collapsed": false,
    "ExecuteTime": {
     "end_time": "2023-12-08T17:39:17.168943Z",
     "start_time": "2023-12-08T17:39:17.155883Z"
    }
   },
   "id": "f9c1a3e364aff3b1"
  },
  {
   "cell_type": "code",
   "execution_count": 35,
   "outputs": [
    {
     "data": {
      "text/plain": "20"
     },
     "execution_count": 35,
     "metadata": {},
     "output_type": "execute_result"
    }
   ],
   "source": [
    "from transformers import pipeline\n",
    "from sklearn.model_selection import train_test_split\n",
    "summarizer = pipeline('summarization', model = 'facebook/bart-base')\n",
    "train_df, val_df = train_test_split(df, test_size=0.2, random_state=42)\n",
    "test_df = testing_dataset[0:len(val_df)]\n",
    "len(test_df)"
   ],
   "metadata": {
    "collapsed": false,
    "ExecuteTime": {
     "end_time": "2023-12-08T17:58:43.810265Z",
     "start_time": "2023-12-08T17:58:40.221125Z"
    }
   },
   "id": "345336866de3e5ff"
  },
  {
   "cell_type": "code",
   "execution_count": 36,
   "outputs": [
    {
     "name": "stdout",
     "output_type": "stream",
     "text": [
      "1\n",
      "Moya clinches Cup for SpainSpain won the Davis Cup for the second time in their history when Carlos Moya beat the USAs Andy Roddick in the fourth rubber in Seville. (Photo: AFP/Getty Images)Moya won 6-2 7-6 (7-1) 7-1 lead with only one singles rubber remaining. Spain beat the United States 6-3 6-4 6-1 in the final dead rubber to cut Spains' winning margin to 3-2. Spain won their second Davis Cup title in four years when they beat France in Paris in 2000. Moya dominated the first set to give the Spaniards an unassailable 3-0 lead with the hosts an undistinguished 4-2 tie-break victory in the second match. Roddrick battled hard and had chances in the two tie-breaks to win the second set, but Moyas clay-court expertise proved the difference. Mardy Fish beat Tommy Robredo 7- 6 (8-6) 6-0 in the third dead rubber of the final, cutting Spains winning margin by three points. Spains only other Davis Cup final came in 2000, whenThey beat Australia in Barcelona. This time they chose to play the final in Seale and the citys Olympic Stadium was revamped to allow for a record crowd for a competitve tennis event\n",
      "2\n",
      "British stars denied major Oscars glory as they fail to win acting, directing and directing prizesBritish hopes of winning major Oscars were dashed as UK stars failed to win acts, directing prizes. The UKs Andrea Arnold and Sophie Okonedo failed to take acting and directing awards, while Kate Winslet and Hilary Swank lost to star Imelda Staunton. Despite three nominations, Mike Leighs Vera Drake failed to taking the director or screenplay awards and there was no prize for star Ileana Stoutton. Kate Winslett also lost to best actress Hilary swank, while Clive Owen and SophieOkonedo also failed to hit the podium. The British actress Andrea Arnold won the short film award for her gritty drama Wasp. She lost in that category to fellow UK nominees Gary McKendry and Ashvin Kumarchuk.Arnold, who presented childrens television shows Number 73 and Motormouth in the 1980s, said it was \"totally overwhelming\" to win. Wasp tells the story of a single mother living on the breadline, beating films by fellow UK artists Gary McKenry andAshvin Kumarthuk. Arnold said she was \"absolutely thrilled\" to have won the award. \"Everyone worked extremely hard - they know who they are,\" Arnold said as she accepted the prize. \"The beers are on me when we get home\n"
     ]
    },
    {
     "name": "stderr",
     "output_type": "stream",
     "text": [
      "Your max_length is set to 280, but your input_length is only 229. Since this is a summarization task, where outputs shorter than the input are typically wanted, you might consider decreasing max_length manually, e.g. summarizer('...', max_length=114)\n"
     ]
    },
    {
     "name": "stdout",
     "output_type": "stream",
     "text": [
      "3\n",
      "EastEnders is set for US remake with a US cast - reportPlans to create a US soap based on the BBCs EastEnders have reportedly been drawn up by the Fox TV network. The series is set to air in the US in the autumn of 2018.BBC East Enders EastEnder EastEndERS head writer Tony Jordan and music mogul Simon Fuller are involved in the project, according to reports in the Hollywood Reporter trade newspaper. It said scripts have been commissioned for a series about a community of working class people living in the suburbs of Chicago. The original WestEnders was pulled from BBC America last year after it proved a failure in the ratings. US versions of other British hits have proved less successful across the Atlantic.BBC Coupling BBC CouplingBBC comedy Coupling was remade with a UK cast, but lost its primetime slot on the NBC network due to disappointing ratings. At home, EastEnds has been facing its own ratings battle, recently losing out to rival ITV soap Emmer dale. Primetime soaps on US television have made a recent comeback, following the success of ABC serial Desperate Housewives. It takes a \"darkly comedic\" look at the goings-on of a group of characters living on the suburbs.BBC The series has been remade in the UK with a British cast\n",
      "4\n",
      "Souness backs Smith for Scotland job, says Sir Alex FergusonGraeme Souness believes Walter Smith would be the perfect choice to succeed Berti Vogts as Scotland manager. The former Man Utd and Manchester United assistant has been linked with the role of caretaker-boss for the friendly against Sweden on 17 November. (Image: Getty Images) Sounessess former assistant at Rangers is hot favourite to take over from Vogts, who resigned on Monday. \"Walter is most definitely the ideal candidate for that job. He has a wealth of experience and he would be perfect for the job and he is the right person to be the right man to be in charge of the Scotland team and football. \"He fits the bill because of his experience and understanding of the Scottish team, the players and the national team. He is a real football person, as I know from working with him at Ibrox. \"On top of all that he is a proper human being who would command the instant respect and the respect of the players, everyone involved in Scottish football.\" Souniss joinedSir Alex Ferguson in backing Smiths claims. The Scottish Football Association is about to embark on the search for Vogts successor after appointing Tommy Burns in a caretaker capacity. Ferguson said: \"He (Smith) would be an outstanding candidate as far as I am concerned. \"You need\n",
      "5\n",
      "De Niro film leads US box office with $22m (£11.7m) in first weekend of wide releaseFilm star Robert De Niro has returned to the top of the North American boxoffice with his film Hide and Seek. The Oscar-nominated actor was at the top for the first time in his career with the film, which opened at number one in the United States on Friday.The thriller shot straight to the number one spot after taking $22.9m (£10.5m) at the box office. De Nao recently spent three weeks at the time with comedy Meet The Fockers, which was at number five this week. Oscar hopefuls The Aviator, Million Dollar Baby and Sideways all cashed in on their multiple nominations with stronger ticket sales.Scroll down for videoThe film opened to a strong response from critics in the US. Read more Read moreIn Hide And Seek, de Niro plays a widower whose daughter has a creepy imaginary friend. Despite lukewarm reviews from critics, the film took more than the expected $18m (£9.5 million). \"The element of a real actor in a psychological thriller certainly elevated it,\" said Bruce Snyder, president of domestic distribution at 20th Century Fox. Clint Eastwood Million DollarBaby led the Oscar hopewuls with $11.8m (£6.3\n",
      "6\n",
      "Tough schedule delays Elliot show preview performances, says DaldryPreview performances of the Â£3m musical Billy Elliot have been delayed to give the child actors a less arduous rehearsal schedule. The show is opening night on 12 May at the Victoria Palace Theatre in London, and will run until 27 April.Director Stephen Daldrys made the decision to re-schedule the previews to protect the young stars. Three boys will rotate the demanding role of ballet dancer Billy, which requires them to sing, dance and act. The production, which opened in the West End last year, is set to run until 28 April. However, production of the show is set for a new run. Production of the musical at the London Palace Theatre and London remains unaffected by the changes. Preview performances will now be held on 14, 20 and 27 May. \"This is one of the most ambitious projects I have been involved with,\" said Daldere. \"The decision has been made to push back our preview performances in order to give our company, with a cast including 45 children, a little extra time so they are as fully prepared as possible.\"Daldry said the show will run for three weeks.He added: \"The young Billy Elliots in particular, making their professional stage debuts in the East End, will benefit from a littleextra time to familiarise themselves with all\n",
      "7\n",
      "J-Lo and husband plan debut duet at Grammy AwardsGETTY Jennifer Lopez and husband Marc Anthony are to perform a duetSingers Jennifer Lopez (left) and Marc Anthony, a Latin pop star, are set for a surprise performance at this months Grammy Awards in Los Angeles. The pair are set to perform their duet for the first time at the ceremony.Anthony became Lopezs third husband in June 2004. He won a Grammy in 1998 and is nominated for two more this year. The 13 February ceremony will also include a rendition of The Beatles Across The Universe by Bono, Stevie Wonder, Norah Jones and Brian Wilson. The song will go on sale online to raise money for the tsunami aid effort. The awards show will also feature performances from U2, Green Day, Alicia Keys and Kanye West - but the Lopez and Anthony duet is likely to be one of the biggest talking points.GETTY J-Lo has been nominated for three GrammysAnthony, born in New York to a Puerto Rican family, is reported to be the biggest-selling salsa artist of all time. He is nominated this year for best Latin pop album and best salsa/merengue album. The tsunami tribute song will also features Alicia Keys, Velvet Revolver and Tim McGraw. Fans will be able to download it for $0.99 (Â£0.53)\n"
     ]
    },
    {
     "name": "stderr",
     "output_type": "stream",
     "text": [
      "Your max_length is set to 280, but your input_length is only 266. Since this is a summarization task, where outputs shorter than the input are typically wanted, you might consider decreasing max_length manually, e.g. summarizer('...', max_length=133)\n"
     ]
    },
    {
     "name": "stdout",
     "output_type": "stream",
     "text": [
      "8\n",
      "Hendrix guitar fetches £100,000 at London auctionA much-loved guitar belonging to Jimi Hendrix has been sold for £100k at an auction in London. The Fender Stratocaster was one of a number of guitars included in the sale dedicated to the rock legend. The vast archive of instruments, signed records and posters were collected by a dedicated fan who had become friendly with the star. The auction was billed as the biggest collection of Hendrix memorabilia to go under the hammer. The majority of the items were collect by fan Bob Terry who began collecting at the age of 17. He later sold it on to another collector. The guitar was used by Hendrix on tour and in his studio during the 1970s and 1980s. It was also used by the musician on his first solo album Hey Joe, signed by all the band members.The guitar was owned by the legendary rocker in 1970 at the time of his death from a drug overdose.The guitars were owned by all of the rockers. The 1963 Fender Strocaster had been used for the musician's solo career. The 1965 Fender Stocaster also was used to play on stage, in the studio. The 1966 Fender was used for Hendrix two weeks after his infamous appearance at the Monterey Festival where he set light to his guitar went for £10,\n",
      "9\n",
      "Lopez misses UK charity premiere of 'Shall We Dance?'Jennifer Lopez cancelled an appearance at the UK charity Premiere of her new movie saying she was too ill to fly. The actress and singer dropped out at the last minute and has now cancelled all European promotion of the film Shall We Dance?, and her new album. She said: \"I very much wanted to be in London but unfortunately I am not well. At the advice of my doctors I am unable to travel.\" Co-star Richard Gere attended the event held in aid of the tsunami appeal. Thousands braved the cold weather to see the stars in Londons Leicester Square. The red carpet boasted waltzing dancers in honour of the films ballroom dancing theme. The films director Peter Chelsom said he was disappointed that Lopez did not attend.GETTY Jennifer Lopez was unable to attend the charity event at the end of the night\"Its a shame. I know it is true that she is not well because she has also cancelled her promotional tour. I have heard she has swollen glands.\" Gere, 55, greeted the crowd and signed autographs, accompanied by his wife Carey Lowell. Other stars who turned out on the night included Honor Blackman, Strictly Come Dancing presenter Tess Daly and actress Anita Dobson. Lopez issues a statement apologising for her absence. \"I am so proud of\n",
      "10\n",
      "What now for British tennis? Tim Henmans decision to quit Davis Cup leaves team with gargantuan void to fill Tim Henman's departure from Davis Cup tennis has left the British team with a Gargantuan emptiness to fill. The world number seven is tied for fourth among his countrymen for wins in the history of the tournament (he has 36 from his 50 rubbers). And Great Britains last Davis Cup win without Henman came against Slovenia as far back as 1996. Worse could follow, according to former British team member Chris Bailey. Bailey told BBC Sport: \"After Tims announcement, I doubt Greg Rusedski will be that far behind him.\" But without their top two, where does that leave British ambitions in the sports premier team event? Captain Jeremy Bates has singled out Alex Bogdanovic and Andrew Murray as potential replacements. The Yugoslavian-born Bogdanovi, though, is 184 places below Henman in the world rankings and has played just two cup ties - winning one and losing the other. \"He has never played in a Davis Cup tie,\" said Bates. \"Murray, on the other hand, is 407th in the current ATP entry list and yet to make his cup debut. But Bailey does see some hope for the future. He said: \"Now we have dropped down to the Euro-Africa zone, the time was right for him\n"
     ]
    },
    {
     "name": "stderr",
     "output_type": "stream",
     "text": [
      "Your max_length is set to 280, but your input_length is only 243. Since this is a summarization task, where outputs shorter than the input are typically wanted, you might consider decreasing max_length manually, e.g. summarizer('...', max_length=121)\n"
     ]
    },
    {
     "name": "stdout",
     "output_type": "stream",
     "text": [
      "11\n",
      "Hamm bows out for US Women's World Cup finalWomens football legend Mia Hamm has played her final game. She will retire from international football at the end of the 2018 World Cup.Hamm, 32, who officially retired after this years Athens Olympics, took to the field for the last time to help the US claim a 5-0 win over Mexico. Hamm ends her career as the most prolific scorer - male or female - in international football, with 158 goals in 276 games for the US. She was twice Fifa womens player of the year and won the World Cup in 1991 and 1999 and two Olympic golds. On her retirement, Hamm said: \"There are mixed emotions. There are things in your life that you have had to put on the back-burner and you can focus more time and energy on that now. \"I have to see what is out there and not commit to everything at the beginning.\" The friendly also saw the beginning of Julie Foudy and Joy Fawcett's US careers. Hamm will now embark on a new life with husband, Chicago Cubs shortstop Nomar Garciaparra, who was in the stands to watch her last game. He has just agreed a new deal with the Cubs after joining them in July.GETTY Mia Hamm will be leaving the US in 2018\n",
      "12\n",
      "Jamelias return to the top of the charts with her triple triumph at last years Mobo awardsR&B star Jamelia had three Brit nominations to go with her quadruple triumph at the 2000 Mobo Awards. She was nominated for best female R&B song at the 2001 Mobo.The Birmingham-born singer, full name Jamelia Davis, was signed to a record label at the age of 15 and released her first single So High at 18. She released four number ones from her 2000 album Drama, including the top five hit Money featuring the vocals of reggae artist Beenie Man. She racked up five Mobo nominations in 2000, winning one for best video. But in the same year she also fell pregnant and decided to take a break from music to bring up her daughter Teja, who was born in March 2001. While she originally planned to get back to work pretty swiftly after giving birth it was actually two years before she released another single. During her absence R&D music exploded and a whole host of female artists were on the scene, meaning Jamelia felt she had to once again prove herself. Her comeback song Bout featuring Rah Digga only just scrapped into the top 40. It was Jamelia's second single, Superstar, that really put her back on the map as one of Britains most popular female R &B singers, holding her own\n"
     ]
    },
    {
     "name": "stderr",
     "output_type": "stream",
     "text": [
      "Your max_length is set to 280, but your input_length is only 267. Since this is a summarization task, where outputs shorter than the input are typically wanted, you might consider decreasing max_length manually, e.g. summarizer('...', max_length=133)\n"
     ]
    },
    {
     "name": "stdout",
     "output_type": "stream",
     "text": [
      "13\n",
      "Russian film wins BBC world prize for 'The Return'Russian drama The Return (Vozvrashchenie) has been named winner of the BBC Four World Cinema Award. The film has been nominated for the prestigious award for \"The Return\".The film tells the story of two adolescent boys who are subjected to a harsh regime when their strict father returns after a 10-year absence. Directed by Andrey Zvyagintsev, The Return previously won the 2003 Golden Lion award at the Venice Film Festival. The prize was presented at an awards ceremony held in London on Thursday and hosted by Jonathan Ross. The winner was chosen by a panel which included X Files actress Gillian Anderson, critic Roger Clarke and Touching the Void director Kevin McDonald. It was the first time the award has been given to a Russian film.Ross, who is the presenter of BBC Ones Film 2005, was also involved in the deliberations. A shortlist of six films from around the world had been drawn up from which the panel chose. Other nominees included the Motorcycle Diaries, Zatoichi and Hero. A viewer poll saw director Zhang Yimou's martial arts epic Hero emerge as the favourite with 32% of votes cast. Tragedy struck the production of The Return when one of the young stars, 15-year-old Vladimir Girin, drowned in a lake. It is\n"
     ]
    },
    {
     "name": "stderr",
     "output_type": "stream",
     "text": [
      "Your max_length is set to 280, but your input_length is only 246. Since this is a summarization task, where outputs shorter than the input are typically wanted, you might consider decreasing max_length manually, e.g. summarizer('...', max_length=123)\n"
     ]
    },
    {
     "name": "stdout",
     "output_type": "stream",
     "text": [
      "14\n",
      "Housewives lift Channel 4 ratings in JanuaryThe debut of US television hit Desperate Housewives has helped lift Channel fours January audience share by 12% compared to last year. Its share of the audience rose from 11.2% to 12.6% in January.Other successes such as Celebrity Big Brother and The Simpsons have enabled the broadcaster to surpass BBC Two for the first month since last July. BBC Twofs show's share of The Simpsons fell from 10% to 9.1% last month in comparison with January 2004. Celebrity Big brother attracted fewer viewers than its 2002 series.Channel 4 has also seen a rise in the number of viewers it has seen over the past year, with the BBC reporting a rise of one million viewers in January compared with January 2005.Comedy drama Desperate housewives managed to pull in five million viewers at one point during its run to date, attracting a quarter of the television audience. The two main television channels, BBC1 and ITV1, have both seen their monthly audience share decline in a year on year comparison for January, while Fives proportion remained the same at a slender 6.3%. Digital multi-channel TV is continuing to be the strongest area of growth, with The BBC reporting Freeview box ownership of five million, including one million sales in the last portion of 2004. Its Share of The audience soared by 20% in\n",
      "15\n",
      "Neeson in bid to revive theatre at New York's New Yorks SoHo HouseHollywood film star Liam Neeson has held a dinner party in New York to promote Belfasts Lyric Theatre. He said that the theatre was in a \"very dilapidated condition\" and that he would like to see it rebuilt. The actor said that he was \"very interested\" in rebuilding the theatre on Ridgeway Street. The Ballymena-born actor, whose films include Schindlers List, Michael Collins and Star Wars: The Phantom Menace, said that it would be \"difficult\" for the building to crumble and fall apart. Lyric chairman David Johnston has said that restarting the theatre, at a cost of Â£8m is the only answer. Mr Neeon said that that the idea was to get a bunch of \"healthy, wealthy Irish Americans\" in one room and ask them to help with fundraising. He added that he wanted to see the theatre rebuilt in the future. The Oscar-nominated actor, who films includeSchindlers, MichaelCollins and Star wars: The Phases and Menace,, said: \"The Lyric is too important to the cultural and social life of Northern Ireland for this building. \"It gave me a start professionally. Mary OMalley, the founder of theatre, gave me\n",
      "16\n",
      "Potter director signs Warner deal for three yearsHarry Potter director Alfonso Cuaron has signed a three-year deal with Hollywood studio Warner Brothers, according to Variety trade magazine. Cuaron will produce the films in the US, Canada and Mexico.The Mexican film-maker, who directed Harry Potter and the Prisoner of Azkaban, will produce mainstream movies and smaller Spanish-language films. \"We had a wonderful experience with Alfonso on Harry Potter,\" Warner producer Jeff Robinov told Variety. Cuarons other films include Mexican movie Y Tu Mama Tambien.The 2001 rites-of-passage drama about two teenage boys who embark on a relationship with an older woman, brought Cuaron international attention - and box office glory. It won him the Academy Award for best original screenplay for the film.It also won him and his brother Carlos, with whom he co-wrote the screenplay, an Oscar nomination for best Original screenplay. Warner will distribute Cuaron films in several languages outside the US. \"This deal will give us the opportunity to collaborate with Alfon on movies that make the most of his artistry and vision, and continue to offer him the mainstream worldwide audiences that our studio provides so successfully,\" said Mr Robinov in a statement.Cuaron's first film for Warner Brothers was 1995s family fantasy movie A Little Princess. Based on the novel by Frances\n",
      "17\n",
      "Snow Patrol bassist exits group, says Gary LightbodySnow Patrol had \"no other course of action\" but to ask their co-founder and bassist to leave the band, lead singer GaryLightbody has said. He said: \"It was the hardest decision we have ever had to make and believe us when we say we did not make it lightly.\"Mark McClelland had been in the band for more than 10 years since its formation at Dundee University. Lightbody said \"over the last 18 months touring has taken its toll on the rest of the band and our relationship with him\". He said \"This is the hardest business decision we could ever have, but we will always be Snow Patrol. It is not a decision we are going to make lightly.\" The group, originally from Northern Ireland, has only achieved mainstream success in the last year with the single Run and award-winning album Final Straw. In a statement on the bands website, Lightbody, said \"I started the group with Mark 10 years ago and he was a massive part of Snow Patrol and my life throughout that decade.\" He added: \"He was a huge part of our band and we had to do what was best for the band. \"He had a huge influence on our lives throughout the last 10 years and we all had a lot of influence on the band's success.\"He added:\n",
      "18\n",
      "Adventure tale tops awards for childrens booksYoung book fans have voted Fergus Crane, a story about a boy who is taken on an adventure by a flying horse, the winner of two Smarties Book Prizes. The story, which was written by Paul Stewart and Chris Riddells book came top in the category for six- to eight-year-olds and won the award chosen by after-school club members. Sally Grindleys Spilled Water, about a Chinese girl sold as a servant, was top in vote of readers aged nine to 11. Biscuit Bear by Mini Grey took the top award in the under-five category. Winners were voted for by about 6,000 children from a shortlist picked by an adult panel.Fergus Crane is a children's book about a girl who is sold by a Chinese servantThe prize, which is celebrating its 20th year, is billed as \"the UKs biggest childrens book award\". Fergus Crane includes text by Stewart and illustrations by Riddell, who also created The Edge Chronicles together. As well as the six to eights prize, it won the 4Children Special Award voting for by after the age of 12. Julia Eccleshare, chair of the adult judging panel, said childrens literature had \"never looked stronger\" in the prizes 20 years. \"This award counts because the final choice of\n",
      "19\n",
      "Hantuchova in Dubai last eight after beating Likhotseva 7-5 6-4, and now faces Serena Williams in the quarter-finals. (Reuters)Daniela Hantuchov moved into the quarter–finals of the Dubai Open, after beating Elene Likotseva of Russia 7-25 6-3, and will now faces Roger Federer in the semi-finals on Wednesday. Australian Open champion Williams is the defending champion, while French Open champion Federer is in the last eight.Australian Open championWilliams survived an early scare to beat Russias Elena Bovina 1-6 6-1 6-2. World number one Lindsay Davenport and Anastasia Myskina also progressed. Davenion defeated Chinas Jie Zheng 6-0 6-5 7-6, and French Open Champion Mys Kina sailed through after her opponent Marion Bartoli retired hurt. American Davenn will now face fellow former Wimbledon champion, Conchita Martinez of Spain, who ousted seventh-seeded Nathalie Dechy of France 6-7 (7-6), 6-6 (10-8). Myscina will face eighth-seed Patty Schnyder from Switzerland, who defeated ChinAS Li Na 6- 3 7- 6 (10.8). The other quarter final pits\n",
      "20\n",
      "Buffy creator joins Wonder Woman movie teamThe creator of Buffy the Vampire Slayer is to take on a new female superhero after signing up to write and direct the Wonder Woman Movie. The film is being produced by Joel Silver, producer of the Matrix trilogy.Joss Whedon described the DC Comics character as \"the most iconic female heroine of our time\". \"In a way, no one has met her yet,\" he said. \"What I love most about icons is finding out what is behind them, exploring the price of their power.\" Linda Carter played the character in the 1970s TV series. The character of Wonder Woman, famed for her red and gold costume, was born on Paradise Island, and was blessed with the powers of strength and flight. The project will be based on the book of the same name, and will be directed by Joss Whedon, who is also the creator of the Batman trilogy.The film is to be released in the fall of 2018.\"There is no one better than Joss to adapt the legendary Wonder Woman comic book character created in the 1940s into a dynamic feature film for 21st Century audiences,\" said Silver. \"Wonder Woman was the first great female superhero to emerge from comic books and later inspire millions of fans in her television incarnation... but this groundbreaking heroine has yet to be reinvented for the feature film arena.\" Whedon created the character of Buffy\n"
     ]
    }
   ],
   "source": [
    "import pandas as pd\n",
    "from rouge_score import rouge_scorer\n",
    "from bert_score import score as bert_score\n",
    "\n",
    "\n",
    "# Function to apply summarizer and calculate scores for each row\n",
    "def tr_summarize(row):\n",
    "    global c\n",
    "    c+=1\n",
    "    print(c)\n",
    "    news_article = row['newsarticle']\n",
    "    actual_summary = row['summary']\n",
    "\n",
    "    # Generate extractive summary\n",
    "    # extr = summarizer(news_article)\n",
    "    # extractive_summary_str = summarizer(news_article)[0]['summary_text']\n",
    "    extractive_summary_str = summarizer(news_article, max_length=280, min_length=50, length_penalty=2.0, num_beams=4)[0]['summary_text']\n",
    "    print(extractive_summary_str)\n",
    "    \n",
    "    # Calculate ROUGE scores\n",
    "    scorer = rouge_scorer.RougeScorer(['rouge1', 'rouge2', 'rougeL'])\n",
    "    rouge_scores = scorer.score(extractive_summary_str, actual_summary)\n",
    "    # rouge_scores = scorer.score(' '.join(item['text'] for item in extractive_summary_str), actual_summary)\n",
    "\n",
    "\n",
    "\n",
    "    # Compute BERT scores\n",
    "    _, _, bert_f1 = bert_score([extractive_summary_str], [actual_summary], lang='en', model_type='bert-base-uncased')\n",
    "\n",
    "    return pd.Series({\n",
    "        'predicted_summary': extractive_summary_str,\n",
    "        'rouge1_precision': rouge_scores['rouge1'].precision,\n",
    "        'bert_score': bert_f1.item()\n",
    "    })\n",
    "\n",
    "c = 0\n",
    "# Apply the process_row function to each row in the DataFrame\n",
    "result_df = test_df.apply(tr_summarize, axis=1)\n",
    "\n",
    "# Concatenate the result_df with the original DataFrame\n",
    "base_result_dataset = pd.concat([test_df, result_df], axis=1)\n",
    "\n",
    "# Print the updated DataFrame\n",
    "# print(testing_dataset)\n",
    "\n"
   ],
   "metadata": {
    "collapsed": false,
    "ExecuteTime": {
     "end_time": "2023-12-08T18:02:58.663740Z",
     "start_time": "2023-12-08T17:59:14.372554Z"
    }
   },
   "id": "e5c41b022878d1ae"
  },
  {
   "cell_type": "code",
   "execution_count": 37,
   "outputs": [
    {
     "data": {
      "text/plain": "0.7618620107956544"
     },
     "execution_count": 37,
     "metadata": {},
     "output_type": "execute_result"
    }
   ],
   "source": [
    "base_result_dataset['rouge1_precision'].mean()"
   ],
   "metadata": {
    "collapsed": false,
    "ExecuteTime": {
     "end_time": "2023-12-08T18:03:10.745498Z",
     "start_time": "2023-12-08T18:03:10.724989Z"
    }
   },
   "id": "ed0c0ac91f0bedd2"
  },
  {
   "cell_type": "code",
   "execution_count": 38,
   "outputs": [
    {
     "data": {
      "text/plain": "0.7290657520294189"
     },
     "execution_count": 38,
     "metadata": {},
     "output_type": "execute_result"
    }
   ],
   "source": [
    "base_result_dataset['bert_score'].mean()"
   ],
   "metadata": {
    "collapsed": false,
    "ExecuteTime": {
     "end_time": "2023-12-08T18:03:24.152167Z",
     "start_time": "2023-12-08T18:03:24.131269Z"
    }
   },
   "id": "f9da9388ed4ea1e0"
  },
  {
   "cell_type": "code",
   "execution_count": 24,
   "outputs": [],
   "source": [
    "import torch\n",
    "from torch.nn.utils.rnn import pad_sequence\n",
    "from torch.utils.data import TensorDataset, DataLoader\n",
    "from transformers import BartTokenizer, BartForConditionalGeneration, AdamW, get_linear_schedule_with_warmup\n",
    "from sklearn.model_selection import train_test_split\n",
    "from tqdm import tqdm\n",
    "import pandas as pd\n",
    "from rouge_score import rouge_scorer\n",
    "from torch.cuda.amp import autocast, GradScaler\n",
    "from torch.nn.utils import clip_grad_norm_\n",
    "from bert_score import score as bert_score"
   ],
   "metadata": {
    "collapsed": false,
    "ExecuteTime": {
     "end_time": "2023-12-08T16:16:54.487574Z",
     "start_time": "2023-12-08T16:16:52.622254Z"
    }
   },
   "id": "51dfe65832f89747"
  },
  {
   "cell_type": "code",
   "execution_count": 25,
   "outputs": [],
   "source": [
    "# Define the device for GPU usage (if available)\n",
    "if torch.backends.mps.is_available():\n",
    "    arch = \"mps\"\n",
    "elif torch.cuda.is_available():\n",
    "    arch = \"cuda\"\n",
    "else:\n",
    "    arch = \"cpu\"\n",
    "\n",
    "# device = torch.device(arch)\n",
    "device = torch.device(\"cpu\")"
   ],
   "metadata": {
    "collapsed": false,
    "ExecuteTime": {
     "end_time": "2023-12-08T16:16:54.505382Z",
     "start_time": "2023-12-08T16:16:54.501885Z"
    }
   },
   "id": "c983cdd88470fda8"
  },
  {
   "cell_type": "code",
   "execution_count": 26,
   "outputs": [
    {
     "name": "stderr",
     "output_type": "stream",
     "text": [
      "/var/folders/qd/t1dpxdpn0xj2byx5h2wvvzr80000gn/T/ipykernel_70826/827037185.py:14: SettingWithCopyWarning: \n",
      "A value is trying to be set on a copy of a slice from a DataFrame.\n",
      "Try using .loc[row_indexer,col_indexer] = value instead\n",
      "\n",
      "See the caveats in the documentation: https://pandas.pydata.org/pandas-docs/stable/user_guide/indexing.html#returning-a-view-versus-a-copy\n",
      "  df['TokenizedText'] = df[text_column].apply(tokenize_text)\n",
      "/var/folders/qd/t1dpxdpn0xj2byx5h2wvvzr80000gn/T/ipykernel_70826/827037185.py:15: SettingWithCopyWarning: \n",
      "A value is trying to be set on a copy of a slice from a DataFrame.\n",
      "Try using .loc[row_indexer,col_indexer] = value instead\n",
      "\n",
      "See the caveats in the documentation: https://pandas.pydata.org/pandas-docs/stable/user_guide/indexing.html#returning-a-view-versus-a-copy\n",
      "  df['TokenizedSummary'] = df[summary_column].apply(tokenize_summary)\n"
     ]
    }
   ],
   "source": [
    "# Tokenize and preprocess the text data\n",
    "tokenizer = BartTokenizer.from_pretrained('facebook/bart-large-cnn')\n",
    "max_length = 512  # Maximum sequence length\n",
    "\n",
    "def tokenize_text(text):\n",
    "    inputs = tokenizer.encode(\"summarize: \" + text, return_tensors=\"pt\", max_length=512, truncation=True, padding='max_length', return_attention_mask=True)\n",
    "    return inputs.to(device)  # Move the tokenized inputs to the GPU\n",
    "\n",
    "def tokenize_summary(text):\n",
    "    inputs = tokenizer.encode(text, return_tensors=\"pt\", max_length=280, truncation=True, padding='max_length', return_attention_mask=True)\n",
    "    return inputs.to(device)  # Move the tokenized summaries to the GPU\n",
    "\n",
    "def tokenize_and_stack(df, text_column, summary_column):\n",
    "    df['TokenizedText'] = df[text_column].apply(tokenize_text)\n",
    "    df['TokenizedSummary'] = df[summary_column].apply(tokenize_summary)\n",
    "    \n",
    "    # Convert tokenized data to PyTorch tensors\n",
    "    X = torch.stack([seq.squeeze() for seq in df['TokenizedText']])\n",
    "    Y = torch.stack([seq.squeeze() for seq in df['TokenizedSummary']])\n",
    "    \n",
    "    # Define a DataLoader for batching data\n",
    "    dataset = TensorDataset(X, Y)\n",
    "    dataloader = DataLoader(dataset, batch_size=4, shuffle=True)\n",
    "    \n",
    "    return X, Y, dataloader\n",
    "\n",
    "train_df, val_df = train_test_split(df, test_size=0.2, random_state=42)\n",
    "test_df = testing_dataset[0:len(val_df)]\n",
    "\n",
    "# Tokenize and stack for training set\n",
    "X_train, Y_train, train_dataloader = tokenize_and_stack(train_df, 'newsarticle', 'summary')\n",
    "\n",
    "# Tokenize and stack for validation set\n",
    "X_val, Y_val, val_dataloader = tokenize_and_stack(val_df, 'newsarticle', 'summary')\n",
    "\n",
    "# Tokenize and stack for validation set\n",
    "X_test, Y_test, test_dataloader = tokenize_and_stack(test_df, 'newsarticle', 'summary')\n",
    "\n"
   ],
   "metadata": {
    "collapsed": false,
    "ExecuteTime": {
     "end_time": "2023-12-08T16:16:55.004414Z",
     "start_time": "2023-12-08T16:16:54.506363Z"
    }
   },
   "id": "1261a9f76b141cad"
  },
  {
   "cell_type": "code",
   "execution_count": 27,
   "outputs": [],
   "source": [
    "def genSummaryAndEvaluate(model, dataloader):\n",
    "    model.eval()\n",
    "    \n",
    "    test_articles = []\n",
    "    actual_summaries = []\n",
    "    predicted_summaries = []\n",
    "    rouge1_precision_scores = []\n",
    "    bert_scores = []\n",
    "    embedding_cosine_similarity = []\n",
    "\n",
    "    scorer = rouge_scorer.RougeScorer(['rouge1', 'rouge2', 'rougeL'])\n",
    "\n",
    "    with torch.no_grad():\n",
    "        for batch in tqdm(dataloader, desc=\"Evaluating Test\"):\n",
    "            inputs = batch[0].to(device)\n",
    "            attention_mask = (inputs != 0).float().to(device)\n",
    "            targets = batch[1].to(device)\n",
    "            max_length=280\n",
    "            outputs = model.generate(input_ids=inputs, attention_mask=attention_mask, max_length=280, num_beams=17, length_penalty=2.0, early_stopping=False)\n",
    "            \n",
    "            for output, target, input_text in zip(outputs, targets, inputs):\n",
    "                # Calculate ROUGE-1 precision for each sample\n",
    "                output_text = tokenizer.decode(output, skip_special_tokens=True)\n",
    "                target_text = tokenizer.decode(target, skip_special_tokens=True)\n",
    "                target_text = ' '.join(target_text.split()[:max_length])\n",
    "                rouge_scores = scorer.score(output_text, target_text)\n",
    "                rouge1_precision_scores.append(rouge_scores['rouge1'].precision)\n",
    "                                                \n",
    "                # # BERTScore\n",
    "                _, _, bert_score_f1 = bert_score([output_text], [target_text], lang='en', model_type='bert-base-uncased')\n",
    "                bert_scores.append(bert_score_f1.item())\n",
    "                \n",
    "                # Append tokenized text, actual summaries, and predicted summaries\n",
    "                test_articles.append(tokenizer.decode(input_text, skip_special_tokens=True))\n",
    "                actual_summaries.append(target_text)\n",
    "                predicted_summaries.append(output_text)\n",
    "\n",
    "    data = {\n",
    "        'Article': test_articles,\n",
    "        'Actual Summary': actual_summaries,\n",
    "        'Predicted Summary': predicted_summaries,\n",
    "        'ROUGE-1 Precision': rouge1_precision_scores,\n",
    "        'BERT Score': bert_scores,\n",
    "\n",
    "    }\n",
    "    results_df = pd.DataFrame(data)\n",
    "    return results_df\n",
    "    # return test_articles, actual_summaries, predicted_summaries, rouge1_precision_scores\n"
   ],
   "metadata": {
    "collapsed": false,
    "ExecuteTime": {
     "end_time": "2023-12-08T16:16:55.012534Z",
     "start_time": "2023-12-08T16:16:55.005652Z"
    }
   },
   "id": "ef8ee7e33b0a1289"
  },
  {
   "cell_type": "code",
   "execution_count": 28,
   "outputs": [
    {
     "name": "stderr",
     "output_type": "stream",
     "text": [
      "/Users/kysgattu/anaconda3/lib/python3.11/site-packages/torch/cuda/amp/grad_scaler.py:124: UserWarning: torch.cuda.amp.GradScaler is enabled, but CUDA is not available.  Disabling.\n",
      "  warnings.warn(\n",
      "Epoch 1/2:   0%|          | 0/20 [00:00<?, ?it/s]/Users/kysgattu/anaconda3/lib/python3.11/site-packages/torch/amp/autocast_mode.py:250: UserWarning: User provided device_type of 'cuda', but CUDA is not available. Disabling\n",
      "  warnings.warn(\n",
      "Epoch 1/2: 100%|██████████| 20/20 [02:32<00:00,  7.64s/it]\n",
      "Evaluating Test: 100%|██████████| 5/5 [27:10<00:00, 326.20s/it]\n"
     ]
    },
    {
     "name": "stdout",
     "output_type": "stream",
     "text": [
      "Epoch 1/2, Train Loss: 0.2554, Mean Evaluation Rouge-1 Score: 0.49927780763214136, Mean Evaluation BERT Score: 0.6604024589061737\n"
     ]
    },
    {
     "name": "stderr",
     "output_type": "stream",
     "text": [
      "Epoch 2/2: 100%|██████████| 20/20 [02:50<00:00,  8.54s/it]\n",
      "Evaluating Test:  40%|████      | 2/5 [19:11<28:47, 575.77s/it]\n"
     ]
    },
    {
     "ename": "KeyboardInterrupt",
     "evalue": "",
     "output_type": "error",
     "traceback": [
      "\u001B[0;31m---------------------------------------------------------------------------\u001B[0m",
      "\u001B[0;31mKeyboardInterrupt\u001B[0m                         Traceback (most recent call last)",
      "Cell \u001B[0;32mIn[28], line 49\u001B[0m\n\u001B[1;32m     47\u001B[0m train_loss \u001B[38;5;241m=\u001B[39m total_loss \u001B[38;5;241m/\u001B[39m \u001B[38;5;28mlen\u001B[39m(train_dataloader)\n\u001B[1;32m     48\u001B[0m train_losses\u001B[38;5;241m.\u001B[39mappend(train_loss)\n\u001B[0;32m---> 49\u001B[0m evalResult \u001B[38;5;241m=\u001B[39m genSummaryAndEvaluate(model, val_dataloader)\n\u001B[1;32m     50\u001B[0m rouge \u001B[38;5;241m=\u001B[39m evalResult[\u001B[38;5;124m'\u001B[39m\u001B[38;5;124mROUGE-1 Precision\u001B[39m\u001B[38;5;124m'\u001B[39m]\n\u001B[1;32m     51\u001B[0m bert \u001B[38;5;241m=\u001B[39m evalResult[\u001B[38;5;124m'\u001B[39m\u001B[38;5;124mBERT Score\u001B[39m\u001B[38;5;124m'\u001B[39m]\n",
      "Cell \u001B[0;32mIn[27], line 19\u001B[0m, in \u001B[0;36mgenSummaryAndEvaluate\u001B[0;34m(model, dataloader)\u001B[0m\n\u001B[1;32m     17\u001B[0m targets \u001B[38;5;241m=\u001B[39m batch[\u001B[38;5;241m1\u001B[39m]\u001B[38;5;241m.\u001B[39mto(device)\n\u001B[1;32m     18\u001B[0m max_length\u001B[38;5;241m=\u001B[39m\u001B[38;5;241m280\u001B[39m\n\u001B[0;32m---> 19\u001B[0m outputs \u001B[38;5;241m=\u001B[39m model\u001B[38;5;241m.\u001B[39mgenerate(input_ids\u001B[38;5;241m=\u001B[39minputs, attention_mask\u001B[38;5;241m=\u001B[39mattention_mask, max_length\u001B[38;5;241m=\u001B[39m\u001B[38;5;241m280\u001B[39m, num_beams\u001B[38;5;241m=\u001B[39m\u001B[38;5;241m17\u001B[39m, length_penalty\u001B[38;5;241m=\u001B[39m\u001B[38;5;241m2.0\u001B[39m, early_stopping\u001B[38;5;241m=\u001B[39m\u001B[38;5;28;01mFalse\u001B[39;00m)\n\u001B[1;32m     21\u001B[0m \u001B[38;5;28;01mfor\u001B[39;00m output, target, input_text \u001B[38;5;129;01min\u001B[39;00m \u001B[38;5;28mzip\u001B[39m(outputs, targets, inputs):\n\u001B[1;32m     22\u001B[0m     \u001B[38;5;66;03m# Calculate ROUGE-1 precision for each sample\u001B[39;00m\n\u001B[1;32m     23\u001B[0m     output_text \u001B[38;5;241m=\u001B[39m tokenizer\u001B[38;5;241m.\u001B[39mdecode(output, skip_special_tokens\u001B[38;5;241m=\u001B[39m\u001B[38;5;28;01mTrue\u001B[39;00m)\n",
      "File \u001B[0;32m~/anaconda3/lib/python3.11/site-packages/torch/utils/_contextlib.py:115\u001B[0m, in \u001B[0;36mcontext_decorator.<locals>.decorate_context\u001B[0;34m(*args, **kwargs)\u001B[0m\n\u001B[1;32m    112\u001B[0m \u001B[38;5;129m@functools\u001B[39m\u001B[38;5;241m.\u001B[39mwraps(func)\n\u001B[1;32m    113\u001B[0m \u001B[38;5;28;01mdef\u001B[39;00m \u001B[38;5;21mdecorate_context\u001B[39m(\u001B[38;5;241m*\u001B[39margs, \u001B[38;5;241m*\u001B[39m\u001B[38;5;241m*\u001B[39mkwargs):\n\u001B[1;32m    114\u001B[0m     \u001B[38;5;28;01mwith\u001B[39;00m ctx_factory():\n\u001B[0;32m--> 115\u001B[0m         \u001B[38;5;28;01mreturn\u001B[39;00m func(\u001B[38;5;241m*\u001B[39margs, \u001B[38;5;241m*\u001B[39m\u001B[38;5;241m*\u001B[39mkwargs)\n",
      "File \u001B[0;32m~/anaconda3/lib/python3.11/site-packages/transformers/generation/utils.py:1675\u001B[0m, in \u001B[0;36mGenerationMixin.generate\u001B[0;34m(self, inputs, generation_config, logits_processor, stopping_criteria, prefix_allowed_tokens_fn, synced_gpus, assistant_model, streamer, negative_prompt_ids, negative_prompt_attention_mask, **kwargs)\u001B[0m\n\u001B[1;32m   1668\u001B[0m     input_ids, model_kwargs \u001B[38;5;241m=\u001B[39m \u001B[38;5;28mself\u001B[39m\u001B[38;5;241m.\u001B[39m_expand_inputs_for_generation(\n\u001B[1;32m   1669\u001B[0m         input_ids\u001B[38;5;241m=\u001B[39minput_ids,\n\u001B[1;32m   1670\u001B[0m         expand_size\u001B[38;5;241m=\u001B[39mgeneration_config\u001B[38;5;241m.\u001B[39mnum_beams,\n\u001B[1;32m   1671\u001B[0m         is_encoder_decoder\u001B[38;5;241m=\u001B[39m\u001B[38;5;28mself\u001B[39m\u001B[38;5;241m.\u001B[39mconfig\u001B[38;5;241m.\u001B[39mis_encoder_decoder,\n\u001B[1;32m   1672\u001B[0m         \u001B[38;5;241m*\u001B[39m\u001B[38;5;241m*\u001B[39mmodel_kwargs,\n\u001B[1;32m   1673\u001B[0m     )\n\u001B[1;32m   1674\u001B[0m     \u001B[38;5;66;03m# 13. run beam search\u001B[39;00m\n\u001B[0;32m-> 1675\u001B[0m     \u001B[38;5;28;01mreturn\u001B[39;00m \u001B[38;5;28mself\u001B[39m\u001B[38;5;241m.\u001B[39mbeam_search(\n\u001B[1;32m   1676\u001B[0m         input_ids,\n\u001B[1;32m   1677\u001B[0m         beam_scorer,\n\u001B[1;32m   1678\u001B[0m         logits_processor\u001B[38;5;241m=\u001B[39mlogits_processor,\n\u001B[1;32m   1679\u001B[0m         stopping_criteria\u001B[38;5;241m=\u001B[39mstopping_criteria,\n\u001B[1;32m   1680\u001B[0m         pad_token_id\u001B[38;5;241m=\u001B[39mgeneration_config\u001B[38;5;241m.\u001B[39mpad_token_id,\n\u001B[1;32m   1681\u001B[0m         eos_token_id\u001B[38;5;241m=\u001B[39mgeneration_config\u001B[38;5;241m.\u001B[39meos_token_id,\n\u001B[1;32m   1682\u001B[0m         output_scores\u001B[38;5;241m=\u001B[39mgeneration_config\u001B[38;5;241m.\u001B[39moutput_scores,\n\u001B[1;32m   1683\u001B[0m         return_dict_in_generate\u001B[38;5;241m=\u001B[39mgeneration_config\u001B[38;5;241m.\u001B[39mreturn_dict_in_generate,\n\u001B[1;32m   1684\u001B[0m         synced_gpus\u001B[38;5;241m=\u001B[39msynced_gpus,\n\u001B[1;32m   1685\u001B[0m         \u001B[38;5;241m*\u001B[39m\u001B[38;5;241m*\u001B[39mmodel_kwargs,\n\u001B[1;32m   1686\u001B[0m     )\n\u001B[1;32m   1688\u001B[0m \u001B[38;5;28;01melif\u001B[39;00m generation_mode \u001B[38;5;241m==\u001B[39m GenerationMode\u001B[38;5;241m.\u001B[39mBEAM_SAMPLE:\n\u001B[1;32m   1689\u001B[0m     \u001B[38;5;66;03m# 11. prepare logits warper\u001B[39;00m\n\u001B[1;32m   1690\u001B[0m     logits_warper \u001B[38;5;241m=\u001B[39m \u001B[38;5;28mself\u001B[39m\u001B[38;5;241m.\u001B[39m_get_logits_warper(generation_config)\n",
      "File \u001B[0;32m~/anaconda3/lib/python3.11/site-packages/transformers/generation/utils.py:3014\u001B[0m, in \u001B[0;36mGenerationMixin.beam_search\u001B[0;34m(self, input_ids, beam_scorer, logits_processor, stopping_criteria, max_length, pad_token_id, eos_token_id, output_attentions, output_hidden_states, output_scores, return_dict_in_generate, synced_gpus, **model_kwargs)\u001B[0m\n\u001B[1;32m   3010\u001B[0m         \u001B[38;5;28;01mbreak\u001B[39;00m\n\u001B[1;32m   3012\u001B[0m model_inputs \u001B[38;5;241m=\u001B[39m \u001B[38;5;28mself\u001B[39m\u001B[38;5;241m.\u001B[39mprepare_inputs_for_generation(input_ids, \u001B[38;5;241m*\u001B[39m\u001B[38;5;241m*\u001B[39mmodel_kwargs)\n\u001B[0;32m-> 3014\u001B[0m outputs \u001B[38;5;241m=\u001B[39m \u001B[38;5;28mself\u001B[39m(\n\u001B[1;32m   3015\u001B[0m     \u001B[38;5;241m*\u001B[39m\u001B[38;5;241m*\u001B[39mmodel_inputs,\n\u001B[1;32m   3016\u001B[0m     return_dict\u001B[38;5;241m=\u001B[39m\u001B[38;5;28;01mTrue\u001B[39;00m,\n\u001B[1;32m   3017\u001B[0m     output_attentions\u001B[38;5;241m=\u001B[39moutput_attentions,\n\u001B[1;32m   3018\u001B[0m     output_hidden_states\u001B[38;5;241m=\u001B[39moutput_hidden_states,\n\u001B[1;32m   3019\u001B[0m )\n\u001B[1;32m   3021\u001B[0m \u001B[38;5;28;01mif\u001B[39;00m synced_gpus \u001B[38;5;129;01mand\u001B[39;00m this_peer_finished:\n\u001B[1;32m   3022\u001B[0m     cur_len \u001B[38;5;241m=\u001B[39m cur_len \u001B[38;5;241m+\u001B[39m \u001B[38;5;241m1\u001B[39m\n",
      "File \u001B[0;32m~/anaconda3/lib/python3.11/site-packages/torch/nn/modules/module.py:1519\u001B[0m, in \u001B[0;36mModule._wrapped_call_impl\u001B[0;34m(self, *args, **kwargs)\u001B[0m\n\u001B[1;32m   1517\u001B[0m     \u001B[38;5;28;01mreturn\u001B[39;00m \u001B[38;5;28mself\u001B[39m\u001B[38;5;241m.\u001B[39m_compiled_call_impl(\u001B[38;5;241m*\u001B[39margs, \u001B[38;5;241m*\u001B[39m\u001B[38;5;241m*\u001B[39mkwargs)  \u001B[38;5;66;03m# type: ignore[misc]\u001B[39;00m\n\u001B[1;32m   1518\u001B[0m \u001B[38;5;28;01melse\u001B[39;00m:\n\u001B[0;32m-> 1519\u001B[0m     \u001B[38;5;28;01mreturn\u001B[39;00m \u001B[38;5;28mself\u001B[39m\u001B[38;5;241m.\u001B[39m_call_impl(\u001B[38;5;241m*\u001B[39margs, \u001B[38;5;241m*\u001B[39m\u001B[38;5;241m*\u001B[39mkwargs)\n",
      "File \u001B[0;32m~/anaconda3/lib/python3.11/site-packages/torch/nn/modules/module.py:1528\u001B[0m, in \u001B[0;36mModule._call_impl\u001B[0;34m(self, *args, **kwargs)\u001B[0m\n\u001B[1;32m   1523\u001B[0m \u001B[38;5;66;03m# If we don't have any hooks, we want to skip the rest of the logic in\u001B[39;00m\n\u001B[1;32m   1524\u001B[0m \u001B[38;5;66;03m# this function, and just call forward.\u001B[39;00m\n\u001B[1;32m   1525\u001B[0m \u001B[38;5;28;01mif\u001B[39;00m \u001B[38;5;129;01mnot\u001B[39;00m (\u001B[38;5;28mself\u001B[39m\u001B[38;5;241m.\u001B[39m_backward_hooks \u001B[38;5;129;01mor\u001B[39;00m \u001B[38;5;28mself\u001B[39m\u001B[38;5;241m.\u001B[39m_backward_pre_hooks \u001B[38;5;129;01mor\u001B[39;00m \u001B[38;5;28mself\u001B[39m\u001B[38;5;241m.\u001B[39m_forward_hooks \u001B[38;5;129;01mor\u001B[39;00m \u001B[38;5;28mself\u001B[39m\u001B[38;5;241m.\u001B[39m_forward_pre_hooks\n\u001B[1;32m   1526\u001B[0m         \u001B[38;5;129;01mor\u001B[39;00m _global_backward_pre_hooks \u001B[38;5;129;01mor\u001B[39;00m _global_backward_hooks\n\u001B[1;32m   1527\u001B[0m         \u001B[38;5;129;01mor\u001B[39;00m _global_forward_hooks \u001B[38;5;129;01mor\u001B[39;00m _global_forward_pre_hooks):\n\u001B[0;32m-> 1528\u001B[0m     \u001B[38;5;28;01mreturn\u001B[39;00m forward_call(\u001B[38;5;241m*\u001B[39margs, \u001B[38;5;241m*\u001B[39m\u001B[38;5;241m*\u001B[39mkwargs)\n\u001B[1;32m   1530\u001B[0m \u001B[38;5;28;01mtry\u001B[39;00m:\n\u001B[1;32m   1531\u001B[0m     result \u001B[38;5;241m=\u001B[39m \u001B[38;5;28;01mNone\u001B[39;00m\n",
      "File \u001B[0;32m~/anaconda3/lib/python3.11/site-packages/transformers/models/bart/modeling_bart.py:1388\u001B[0m, in \u001B[0;36mBartForConditionalGeneration.forward\u001B[0;34m(self, input_ids, attention_mask, decoder_input_ids, decoder_attention_mask, head_mask, decoder_head_mask, cross_attn_head_mask, encoder_outputs, past_key_values, inputs_embeds, decoder_inputs_embeds, labels, use_cache, output_attentions, output_hidden_states, return_dict)\u001B[0m\n\u001B[1;32m   1383\u001B[0m     \u001B[38;5;28;01mif\u001B[39;00m decoder_input_ids \u001B[38;5;129;01mis\u001B[39;00m \u001B[38;5;28;01mNone\u001B[39;00m \u001B[38;5;129;01mand\u001B[39;00m decoder_inputs_embeds \u001B[38;5;129;01mis\u001B[39;00m \u001B[38;5;28;01mNone\u001B[39;00m:\n\u001B[1;32m   1384\u001B[0m         decoder_input_ids \u001B[38;5;241m=\u001B[39m shift_tokens_right(\n\u001B[1;32m   1385\u001B[0m             labels, \u001B[38;5;28mself\u001B[39m\u001B[38;5;241m.\u001B[39mconfig\u001B[38;5;241m.\u001B[39mpad_token_id, \u001B[38;5;28mself\u001B[39m\u001B[38;5;241m.\u001B[39mconfig\u001B[38;5;241m.\u001B[39mdecoder_start_token_id\n\u001B[1;32m   1386\u001B[0m         )\n\u001B[0;32m-> 1388\u001B[0m outputs \u001B[38;5;241m=\u001B[39m \u001B[38;5;28mself\u001B[39m\u001B[38;5;241m.\u001B[39mmodel(\n\u001B[1;32m   1389\u001B[0m     input_ids,\n\u001B[1;32m   1390\u001B[0m     attention_mask\u001B[38;5;241m=\u001B[39mattention_mask,\n\u001B[1;32m   1391\u001B[0m     decoder_input_ids\u001B[38;5;241m=\u001B[39mdecoder_input_ids,\n\u001B[1;32m   1392\u001B[0m     encoder_outputs\u001B[38;5;241m=\u001B[39mencoder_outputs,\n\u001B[1;32m   1393\u001B[0m     decoder_attention_mask\u001B[38;5;241m=\u001B[39mdecoder_attention_mask,\n\u001B[1;32m   1394\u001B[0m     head_mask\u001B[38;5;241m=\u001B[39mhead_mask,\n\u001B[1;32m   1395\u001B[0m     decoder_head_mask\u001B[38;5;241m=\u001B[39mdecoder_head_mask,\n\u001B[1;32m   1396\u001B[0m     cross_attn_head_mask\u001B[38;5;241m=\u001B[39mcross_attn_head_mask,\n\u001B[1;32m   1397\u001B[0m     past_key_values\u001B[38;5;241m=\u001B[39mpast_key_values,\n\u001B[1;32m   1398\u001B[0m     inputs_embeds\u001B[38;5;241m=\u001B[39minputs_embeds,\n\u001B[1;32m   1399\u001B[0m     decoder_inputs_embeds\u001B[38;5;241m=\u001B[39mdecoder_inputs_embeds,\n\u001B[1;32m   1400\u001B[0m     use_cache\u001B[38;5;241m=\u001B[39muse_cache,\n\u001B[1;32m   1401\u001B[0m     output_attentions\u001B[38;5;241m=\u001B[39moutput_attentions,\n\u001B[1;32m   1402\u001B[0m     output_hidden_states\u001B[38;5;241m=\u001B[39moutput_hidden_states,\n\u001B[1;32m   1403\u001B[0m     return_dict\u001B[38;5;241m=\u001B[39mreturn_dict,\n\u001B[1;32m   1404\u001B[0m )\n\u001B[1;32m   1406\u001B[0m lm_logits \u001B[38;5;241m=\u001B[39m \u001B[38;5;28mself\u001B[39m\u001B[38;5;241m.\u001B[39mlm_head(outputs[\u001B[38;5;241m0\u001B[39m])\n\u001B[1;32m   1407\u001B[0m lm_logits \u001B[38;5;241m=\u001B[39m lm_logits \u001B[38;5;241m+\u001B[39m \u001B[38;5;28mself\u001B[39m\u001B[38;5;241m.\u001B[39mfinal_logits_bias\u001B[38;5;241m.\u001B[39mto(lm_logits\u001B[38;5;241m.\u001B[39mdevice)\n",
      "File \u001B[0;32m~/anaconda3/lib/python3.11/site-packages/torch/nn/modules/module.py:1519\u001B[0m, in \u001B[0;36mModule._wrapped_call_impl\u001B[0;34m(self, *args, **kwargs)\u001B[0m\n\u001B[1;32m   1517\u001B[0m     \u001B[38;5;28;01mreturn\u001B[39;00m \u001B[38;5;28mself\u001B[39m\u001B[38;5;241m.\u001B[39m_compiled_call_impl(\u001B[38;5;241m*\u001B[39margs, \u001B[38;5;241m*\u001B[39m\u001B[38;5;241m*\u001B[39mkwargs)  \u001B[38;5;66;03m# type: ignore[misc]\u001B[39;00m\n\u001B[1;32m   1518\u001B[0m \u001B[38;5;28;01melse\u001B[39;00m:\n\u001B[0;32m-> 1519\u001B[0m     \u001B[38;5;28;01mreturn\u001B[39;00m \u001B[38;5;28mself\u001B[39m\u001B[38;5;241m.\u001B[39m_call_impl(\u001B[38;5;241m*\u001B[39margs, \u001B[38;5;241m*\u001B[39m\u001B[38;5;241m*\u001B[39mkwargs)\n",
      "File \u001B[0;32m~/anaconda3/lib/python3.11/site-packages/torch/nn/modules/module.py:1528\u001B[0m, in \u001B[0;36mModule._call_impl\u001B[0;34m(self, *args, **kwargs)\u001B[0m\n\u001B[1;32m   1523\u001B[0m \u001B[38;5;66;03m# If we don't have any hooks, we want to skip the rest of the logic in\u001B[39;00m\n\u001B[1;32m   1524\u001B[0m \u001B[38;5;66;03m# this function, and just call forward.\u001B[39;00m\n\u001B[1;32m   1525\u001B[0m \u001B[38;5;28;01mif\u001B[39;00m \u001B[38;5;129;01mnot\u001B[39;00m (\u001B[38;5;28mself\u001B[39m\u001B[38;5;241m.\u001B[39m_backward_hooks \u001B[38;5;129;01mor\u001B[39;00m \u001B[38;5;28mself\u001B[39m\u001B[38;5;241m.\u001B[39m_backward_pre_hooks \u001B[38;5;129;01mor\u001B[39;00m \u001B[38;5;28mself\u001B[39m\u001B[38;5;241m.\u001B[39m_forward_hooks \u001B[38;5;129;01mor\u001B[39;00m \u001B[38;5;28mself\u001B[39m\u001B[38;5;241m.\u001B[39m_forward_pre_hooks\n\u001B[1;32m   1526\u001B[0m         \u001B[38;5;129;01mor\u001B[39;00m _global_backward_pre_hooks \u001B[38;5;129;01mor\u001B[39;00m _global_backward_hooks\n\u001B[1;32m   1527\u001B[0m         \u001B[38;5;129;01mor\u001B[39;00m _global_forward_hooks \u001B[38;5;129;01mor\u001B[39;00m _global_forward_pre_hooks):\n\u001B[0;32m-> 1528\u001B[0m     \u001B[38;5;28;01mreturn\u001B[39;00m forward_call(\u001B[38;5;241m*\u001B[39margs, \u001B[38;5;241m*\u001B[39m\u001B[38;5;241m*\u001B[39mkwargs)\n\u001B[1;32m   1530\u001B[0m \u001B[38;5;28;01mtry\u001B[39;00m:\n\u001B[1;32m   1531\u001B[0m     result \u001B[38;5;241m=\u001B[39m \u001B[38;5;28;01mNone\u001B[39;00m\n",
      "File \u001B[0;32m~/anaconda3/lib/python3.11/site-packages/transformers/models/bart/modeling_bart.py:1274\u001B[0m, in \u001B[0;36mBartModel.forward\u001B[0;34m(self, input_ids, attention_mask, decoder_input_ids, decoder_attention_mask, head_mask, decoder_head_mask, cross_attn_head_mask, encoder_outputs, past_key_values, inputs_embeds, decoder_inputs_embeds, use_cache, output_attentions, output_hidden_states, return_dict)\u001B[0m\n\u001B[1;32m   1267\u001B[0m     encoder_outputs \u001B[38;5;241m=\u001B[39m BaseModelOutput(\n\u001B[1;32m   1268\u001B[0m         last_hidden_state\u001B[38;5;241m=\u001B[39mencoder_outputs[\u001B[38;5;241m0\u001B[39m],\n\u001B[1;32m   1269\u001B[0m         hidden_states\u001B[38;5;241m=\u001B[39mencoder_outputs[\u001B[38;5;241m1\u001B[39m] \u001B[38;5;28;01mif\u001B[39;00m \u001B[38;5;28mlen\u001B[39m(encoder_outputs) \u001B[38;5;241m>\u001B[39m \u001B[38;5;241m1\u001B[39m \u001B[38;5;28;01melse\u001B[39;00m \u001B[38;5;28;01mNone\u001B[39;00m,\n\u001B[1;32m   1270\u001B[0m         attentions\u001B[38;5;241m=\u001B[39mencoder_outputs[\u001B[38;5;241m2\u001B[39m] \u001B[38;5;28;01mif\u001B[39;00m \u001B[38;5;28mlen\u001B[39m(encoder_outputs) \u001B[38;5;241m>\u001B[39m \u001B[38;5;241m2\u001B[39m \u001B[38;5;28;01melse\u001B[39;00m \u001B[38;5;28;01mNone\u001B[39;00m,\n\u001B[1;32m   1271\u001B[0m     )\n\u001B[1;32m   1273\u001B[0m \u001B[38;5;66;03m# decoder outputs consists of (dec_features, past_key_value, dec_hidden, dec_attn)\u001B[39;00m\n\u001B[0;32m-> 1274\u001B[0m decoder_outputs \u001B[38;5;241m=\u001B[39m \u001B[38;5;28mself\u001B[39m\u001B[38;5;241m.\u001B[39mdecoder(\n\u001B[1;32m   1275\u001B[0m     input_ids\u001B[38;5;241m=\u001B[39mdecoder_input_ids,\n\u001B[1;32m   1276\u001B[0m     attention_mask\u001B[38;5;241m=\u001B[39mdecoder_attention_mask,\n\u001B[1;32m   1277\u001B[0m     encoder_hidden_states\u001B[38;5;241m=\u001B[39mencoder_outputs[\u001B[38;5;241m0\u001B[39m],\n\u001B[1;32m   1278\u001B[0m     encoder_attention_mask\u001B[38;5;241m=\u001B[39mattention_mask,\n\u001B[1;32m   1279\u001B[0m     head_mask\u001B[38;5;241m=\u001B[39mdecoder_head_mask,\n\u001B[1;32m   1280\u001B[0m     cross_attn_head_mask\u001B[38;5;241m=\u001B[39mcross_attn_head_mask,\n\u001B[1;32m   1281\u001B[0m     past_key_values\u001B[38;5;241m=\u001B[39mpast_key_values,\n\u001B[1;32m   1282\u001B[0m     inputs_embeds\u001B[38;5;241m=\u001B[39mdecoder_inputs_embeds,\n\u001B[1;32m   1283\u001B[0m     use_cache\u001B[38;5;241m=\u001B[39muse_cache,\n\u001B[1;32m   1284\u001B[0m     output_attentions\u001B[38;5;241m=\u001B[39moutput_attentions,\n\u001B[1;32m   1285\u001B[0m     output_hidden_states\u001B[38;5;241m=\u001B[39moutput_hidden_states,\n\u001B[1;32m   1286\u001B[0m     return_dict\u001B[38;5;241m=\u001B[39mreturn_dict,\n\u001B[1;32m   1287\u001B[0m )\n\u001B[1;32m   1289\u001B[0m \u001B[38;5;28;01mif\u001B[39;00m \u001B[38;5;129;01mnot\u001B[39;00m return_dict:\n\u001B[1;32m   1290\u001B[0m     \u001B[38;5;28;01mreturn\u001B[39;00m decoder_outputs \u001B[38;5;241m+\u001B[39m encoder_outputs\n",
      "File \u001B[0;32m~/anaconda3/lib/python3.11/site-packages/torch/nn/modules/module.py:1519\u001B[0m, in \u001B[0;36mModule._wrapped_call_impl\u001B[0;34m(self, *args, **kwargs)\u001B[0m\n\u001B[1;32m   1517\u001B[0m     \u001B[38;5;28;01mreturn\u001B[39;00m \u001B[38;5;28mself\u001B[39m\u001B[38;5;241m.\u001B[39m_compiled_call_impl(\u001B[38;5;241m*\u001B[39margs, \u001B[38;5;241m*\u001B[39m\u001B[38;5;241m*\u001B[39mkwargs)  \u001B[38;5;66;03m# type: ignore[misc]\u001B[39;00m\n\u001B[1;32m   1518\u001B[0m \u001B[38;5;28;01melse\u001B[39;00m:\n\u001B[0;32m-> 1519\u001B[0m     \u001B[38;5;28;01mreturn\u001B[39;00m \u001B[38;5;28mself\u001B[39m\u001B[38;5;241m.\u001B[39m_call_impl(\u001B[38;5;241m*\u001B[39margs, \u001B[38;5;241m*\u001B[39m\u001B[38;5;241m*\u001B[39mkwargs)\n",
      "File \u001B[0;32m~/anaconda3/lib/python3.11/site-packages/torch/nn/modules/module.py:1528\u001B[0m, in \u001B[0;36mModule._call_impl\u001B[0;34m(self, *args, **kwargs)\u001B[0m\n\u001B[1;32m   1523\u001B[0m \u001B[38;5;66;03m# If we don't have any hooks, we want to skip the rest of the logic in\u001B[39;00m\n\u001B[1;32m   1524\u001B[0m \u001B[38;5;66;03m# this function, and just call forward.\u001B[39;00m\n\u001B[1;32m   1525\u001B[0m \u001B[38;5;28;01mif\u001B[39;00m \u001B[38;5;129;01mnot\u001B[39;00m (\u001B[38;5;28mself\u001B[39m\u001B[38;5;241m.\u001B[39m_backward_hooks \u001B[38;5;129;01mor\u001B[39;00m \u001B[38;5;28mself\u001B[39m\u001B[38;5;241m.\u001B[39m_backward_pre_hooks \u001B[38;5;129;01mor\u001B[39;00m \u001B[38;5;28mself\u001B[39m\u001B[38;5;241m.\u001B[39m_forward_hooks \u001B[38;5;129;01mor\u001B[39;00m \u001B[38;5;28mself\u001B[39m\u001B[38;5;241m.\u001B[39m_forward_pre_hooks\n\u001B[1;32m   1526\u001B[0m         \u001B[38;5;129;01mor\u001B[39;00m _global_backward_pre_hooks \u001B[38;5;129;01mor\u001B[39;00m _global_backward_hooks\n\u001B[1;32m   1527\u001B[0m         \u001B[38;5;129;01mor\u001B[39;00m _global_forward_hooks \u001B[38;5;129;01mor\u001B[39;00m _global_forward_pre_hooks):\n\u001B[0;32m-> 1528\u001B[0m     \u001B[38;5;28;01mreturn\u001B[39;00m forward_call(\u001B[38;5;241m*\u001B[39margs, \u001B[38;5;241m*\u001B[39m\u001B[38;5;241m*\u001B[39mkwargs)\n\u001B[1;32m   1530\u001B[0m \u001B[38;5;28;01mtry\u001B[39;00m:\n\u001B[1;32m   1531\u001B[0m     result \u001B[38;5;241m=\u001B[39m \u001B[38;5;28;01mNone\u001B[39;00m\n",
      "File \u001B[0;32m~/anaconda3/lib/python3.11/site-packages/transformers/models/bart/modeling_bart.py:1132\u001B[0m, in \u001B[0;36mBartDecoder.forward\u001B[0;34m(self, input_ids, attention_mask, encoder_hidden_states, encoder_attention_mask, head_mask, cross_attn_head_mask, past_key_values, inputs_embeds, use_cache, output_attentions, output_hidden_states, return_dict)\u001B[0m\n\u001B[1;32m   1121\u001B[0m     layer_outputs \u001B[38;5;241m=\u001B[39m torch\u001B[38;5;241m.\u001B[39mutils\u001B[38;5;241m.\u001B[39mcheckpoint\u001B[38;5;241m.\u001B[39mcheckpoint(\n\u001B[1;32m   1122\u001B[0m         create_custom_forward(decoder_layer),\n\u001B[1;32m   1123\u001B[0m         hidden_states,\n\u001B[0;32m   (...)\u001B[0m\n\u001B[1;32m   1129\u001B[0m         \u001B[38;5;28;01mNone\u001B[39;00m,\n\u001B[1;32m   1130\u001B[0m     )\n\u001B[1;32m   1131\u001B[0m \u001B[38;5;28;01melse\u001B[39;00m:\n\u001B[0;32m-> 1132\u001B[0m     layer_outputs \u001B[38;5;241m=\u001B[39m decoder_layer(\n\u001B[1;32m   1133\u001B[0m         hidden_states,\n\u001B[1;32m   1134\u001B[0m         attention_mask\u001B[38;5;241m=\u001B[39mattention_mask,\n\u001B[1;32m   1135\u001B[0m         encoder_hidden_states\u001B[38;5;241m=\u001B[39mencoder_hidden_states,\n\u001B[1;32m   1136\u001B[0m         encoder_attention_mask\u001B[38;5;241m=\u001B[39mencoder_attention_mask,\n\u001B[1;32m   1137\u001B[0m         layer_head_mask\u001B[38;5;241m=\u001B[39m(head_mask[idx] \u001B[38;5;28;01mif\u001B[39;00m head_mask \u001B[38;5;129;01mis\u001B[39;00m \u001B[38;5;129;01mnot\u001B[39;00m \u001B[38;5;28;01mNone\u001B[39;00m \u001B[38;5;28;01melse\u001B[39;00m \u001B[38;5;28;01mNone\u001B[39;00m),\n\u001B[1;32m   1138\u001B[0m         cross_attn_layer_head_mask\u001B[38;5;241m=\u001B[39m(\n\u001B[1;32m   1139\u001B[0m             cross_attn_head_mask[idx] \u001B[38;5;28;01mif\u001B[39;00m cross_attn_head_mask \u001B[38;5;129;01mis\u001B[39;00m \u001B[38;5;129;01mnot\u001B[39;00m \u001B[38;5;28;01mNone\u001B[39;00m \u001B[38;5;28;01melse\u001B[39;00m \u001B[38;5;28;01mNone\u001B[39;00m\n\u001B[1;32m   1140\u001B[0m         ),\n\u001B[1;32m   1141\u001B[0m         past_key_value\u001B[38;5;241m=\u001B[39mpast_key_value,\n\u001B[1;32m   1142\u001B[0m         output_attentions\u001B[38;5;241m=\u001B[39moutput_attentions,\n\u001B[1;32m   1143\u001B[0m         use_cache\u001B[38;5;241m=\u001B[39muse_cache,\n\u001B[1;32m   1144\u001B[0m     )\n\u001B[1;32m   1145\u001B[0m hidden_states \u001B[38;5;241m=\u001B[39m layer_outputs[\u001B[38;5;241m0\u001B[39m]\n\u001B[1;32m   1147\u001B[0m \u001B[38;5;28;01mif\u001B[39;00m use_cache:\n",
      "File \u001B[0;32m~/anaconda3/lib/python3.11/site-packages/torch/nn/modules/module.py:1519\u001B[0m, in \u001B[0;36mModule._wrapped_call_impl\u001B[0;34m(self, *args, **kwargs)\u001B[0m\n\u001B[1;32m   1517\u001B[0m     \u001B[38;5;28;01mreturn\u001B[39;00m \u001B[38;5;28mself\u001B[39m\u001B[38;5;241m.\u001B[39m_compiled_call_impl(\u001B[38;5;241m*\u001B[39margs, \u001B[38;5;241m*\u001B[39m\u001B[38;5;241m*\u001B[39mkwargs)  \u001B[38;5;66;03m# type: ignore[misc]\u001B[39;00m\n\u001B[1;32m   1518\u001B[0m \u001B[38;5;28;01melse\u001B[39;00m:\n\u001B[0;32m-> 1519\u001B[0m     \u001B[38;5;28;01mreturn\u001B[39;00m \u001B[38;5;28mself\u001B[39m\u001B[38;5;241m.\u001B[39m_call_impl(\u001B[38;5;241m*\u001B[39margs, \u001B[38;5;241m*\u001B[39m\u001B[38;5;241m*\u001B[39mkwargs)\n",
      "File \u001B[0;32m~/anaconda3/lib/python3.11/site-packages/torch/nn/modules/module.py:1528\u001B[0m, in \u001B[0;36mModule._call_impl\u001B[0;34m(self, *args, **kwargs)\u001B[0m\n\u001B[1;32m   1523\u001B[0m \u001B[38;5;66;03m# If we don't have any hooks, we want to skip the rest of the logic in\u001B[39;00m\n\u001B[1;32m   1524\u001B[0m \u001B[38;5;66;03m# this function, and just call forward.\u001B[39;00m\n\u001B[1;32m   1525\u001B[0m \u001B[38;5;28;01mif\u001B[39;00m \u001B[38;5;129;01mnot\u001B[39;00m (\u001B[38;5;28mself\u001B[39m\u001B[38;5;241m.\u001B[39m_backward_hooks \u001B[38;5;129;01mor\u001B[39;00m \u001B[38;5;28mself\u001B[39m\u001B[38;5;241m.\u001B[39m_backward_pre_hooks \u001B[38;5;129;01mor\u001B[39;00m \u001B[38;5;28mself\u001B[39m\u001B[38;5;241m.\u001B[39m_forward_hooks \u001B[38;5;129;01mor\u001B[39;00m \u001B[38;5;28mself\u001B[39m\u001B[38;5;241m.\u001B[39m_forward_pre_hooks\n\u001B[1;32m   1526\u001B[0m         \u001B[38;5;129;01mor\u001B[39;00m _global_backward_pre_hooks \u001B[38;5;129;01mor\u001B[39;00m _global_backward_hooks\n\u001B[1;32m   1527\u001B[0m         \u001B[38;5;129;01mor\u001B[39;00m _global_forward_hooks \u001B[38;5;129;01mor\u001B[39;00m _global_forward_pre_hooks):\n\u001B[0;32m-> 1528\u001B[0m     \u001B[38;5;28;01mreturn\u001B[39;00m forward_call(\u001B[38;5;241m*\u001B[39margs, \u001B[38;5;241m*\u001B[39m\u001B[38;5;241m*\u001B[39mkwargs)\n\u001B[1;32m   1530\u001B[0m \u001B[38;5;28;01mtry\u001B[39;00m:\n\u001B[1;32m   1531\u001B[0m     result \u001B[38;5;241m=\u001B[39m \u001B[38;5;28;01mNone\u001B[39;00m\n",
      "File \u001B[0;32m~/anaconda3/lib/python3.11/site-packages/transformers/models/bart/modeling_bart.py:463\u001B[0m, in \u001B[0;36mBartDecoderLayer.forward\u001B[0;34m(self, hidden_states, attention_mask, encoder_hidden_states, encoder_attention_mask, layer_head_mask, cross_attn_layer_head_mask, past_key_value, output_attentions, use_cache)\u001B[0m\n\u001B[1;32m    461\u001B[0m \u001B[38;5;66;03m# Fully Connected\u001B[39;00m\n\u001B[1;32m    462\u001B[0m residual \u001B[38;5;241m=\u001B[39m hidden_states\n\u001B[0;32m--> 463\u001B[0m hidden_states \u001B[38;5;241m=\u001B[39m \u001B[38;5;28mself\u001B[39m\u001B[38;5;241m.\u001B[39mactivation_fn(\u001B[38;5;28mself\u001B[39m\u001B[38;5;241m.\u001B[39mfc1(hidden_states))\n\u001B[1;32m    464\u001B[0m hidden_states \u001B[38;5;241m=\u001B[39m nn\u001B[38;5;241m.\u001B[39mfunctional\u001B[38;5;241m.\u001B[39mdropout(hidden_states, p\u001B[38;5;241m=\u001B[39m\u001B[38;5;28mself\u001B[39m\u001B[38;5;241m.\u001B[39mactivation_dropout, training\u001B[38;5;241m=\u001B[39m\u001B[38;5;28mself\u001B[39m\u001B[38;5;241m.\u001B[39mtraining)\n\u001B[1;32m    465\u001B[0m hidden_states \u001B[38;5;241m=\u001B[39m \u001B[38;5;28mself\u001B[39m\u001B[38;5;241m.\u001B[39mfc2(hidden_states)\n",
      "File \u001B[0;32m~/anaconda3/lib/python3.11/site-packages/torch/nn/modules/module.py:1519\u001B[0m, in \u001B[0;36mModule._wrapped_call_impl\u001B[0;34m(self, *args, **kwargs)\u001B[0m\n\u001B[1;32m   1517\u001B[0m     \u001B[38;5;28;01mreturn\u001B[39;00m \u001B[38;5;28mself\u001B[39m\u001B[38;5;241m.\u001B[39m_compiled_call_impl(\u001B[38;5;241m*\u001B[39margs, \u001B[38;5;241m*\u001B[39m\u001B[38;5;241m*\u001B[39mkwargs)  \u001B[38;5;66;03m# type: ignore[misc]\u001B[39;00m\n\u001B[1;32m   1518\u001B[0m \u001B[38;5;28;01melse\u001B[39;00m:\n\u001B[0;32m-> 1519\u001B[0m     \u001B[38;5;28;01mreturn\u001B[39;00m \u001B[38;5;28mself\u001B[39m\u001B[38;5;241m.\u001B[39m_call_impl(\u001B[38;5;241m*\u001B[39margs, \u001B[38;5;241m*\u001B[39m\u001B[38;5;241m*\u001B[39mkwargs)\n",
      "File \u001B[0;32m~/anaconda3/lib/python3.11/site-packages/torch/nn/modules/module.py:1528\u001B[0m, in \u001B[0;36mModule._call_impl\u001B[0;34m(self, *args, **kwargs)\u001B[0m\n\u001B[1;32m   1523\u001B[0m \u001B[38;5;66;03m# If we don't have any hooks, we want to skip the rest of the logic in\u001B[39;00m\n\u001B[1;32m   1524\u001B[0m \u001B[38;5;66;03m# this function, and just call forward.\u001B[39;00m\n\u001B[1;32m   1525\u001B[0m \u001B[38;5;28;01mif\u001B[39;00m \u001B[38;5;129;01mnot\u001B[39;00m (\u001B[38;5;28mself\u001B[39m\u001B[38;5;241m.\u001B[39m_backward_hooks \u001B[38;5;129;01mor\u001B[39;00m \u001B[38;5;28mself\u001B[39m\u001B[38;5;241m.\u001B[39m_backward_pre_hooks \u001B[38;5;129;01mor\u001B[39;00m \u001B[38;5;28mself\u001B[39m\u001B[38;5;241m.\u001B[39m_forward_hooks \u001B[38;5;129;01mor\u001B[39;00m \u001B[38;5;28mself\u001B[39m\u001B[38;5;241m.\u001B[39m_forward_pre_hooks\n\u001B[1;32m   1526\u001B[0m         \u001B[38;5;129;01mor\u001B[39;00m _global_backward_pre_hooks \u001B[38;5;129;01mor\u001B[39;00m _global_backward_hooks\n\u001B[1;32m   1527\u001B[0m         \u001B[38;5;129;01mor\u001B[39;00m _global_forward_hooks \u001B[38;5;129;01mor\u001B[39;00m _global_forward_pre_hooks):\n\u001B[0;32m-> 1528\u001B[0m     \u001B[38;5;28;01mreturn\u001B[39;00m forward_call(\u001B[38;5;241m*\u001B[39margs, \u001B[38;5;241m*\u001B[39m\u001B[38;5;241m*\u001B[39mkwargs)\n\u001B[1;32m   1530\u001B[0m \u001B[38;5;28;01mtry\u001B[39;00m:\n\u001B[1;32m   1531\u001B[0m     result \u001B[38;5;241m=\u001B[39m \u001B[38;5;28;01mNone\u001B[39;00m\n",
      "File \u001B[0;32m~/anaconda3/lib/python3.11/site-packages/torch/nn/modules/linear.py:114\u001B[0m, in \u001B[0;36mLinear.forward\u001B[0;34m(self, input)\u001B[0m\n\u001B[1;32m    113\u001B[0m \u001B[38;5;28;01mdef\u001B[39;00m \u001B[38;5;21mforward\u001B[39m(\u001B[38;5;28mself\u001B[39m, \u001B[38;5;28minput\u001B[39m: Tensor) \u001B[38;5;241m-\u001B[39m\u001B[38;5;241m>\u001B[39m Tensor:\n\u001B[0;32m--> 114\u001B[0m     \u001B[38;5;28;01mreturn\u001B[39;00m F\u001B[38;5;241m.\u001B[39mlinear(\u001B[38;5;28minput\u001B[39m, \u001B[38;5;28mself\u001B[39m\u001B[38;5;241m.\u001B[39mweight, \u001B[38;5;28mself\u001B[39m\u001B[38;5;241m.\u001B[39mbias)\n",
      "\u001B[0;31mKeyboardInterrupt\u001B[0m: "
     ]
    }
   ],
   "source": [
    "# Define the BART model\n",
    "model = BartForConditionalGeneration.from_pretrained('facebook/bart-large-cnn')\n",
    "\n",
    "# Create a GradScaler for mixed-precision training\n",
    "scaler = GradScaler()\n",
    "\n",
    "# Define hyperparameters\n",
    "model.to(device)  # Move the model to the GPU\n",
    "optimizer = torch.optim.AdamW(model.parameters(), lr=1e-4, weight_decay=0.001)\n",
    "scheduler = get_linear_schedule_with_warmup(optimizer, num_warmup_steps=50, num_training_steps=len(\n",
    "    train_dataloader) * 10)  # Add learning rate scheduler\n",
    "\n",
    "# Define gradient accumulation steps\n",
    "accumulation_steps = 40  # You can adjust this number\n",
    "\n",
    "# Training loop\n",
    "train_losses = []\n",
    "rouge_scores = []\n",
    "bert_scores = []\n",
    "for epoch in range(3):  # Change the number of epochs as needed\n",
    "    model.train()\n",
    "    total_loss = 0.0\n",
    "    optimizer.zero_grad()\n",
    "\n",
    "    for step, batch in enumerate(tqdm(train_dataloader, desc=f\"Epoch {epoch + 1}/{2}\")):\n",
    "        inputs = batch[0].to(device)  # Move the input batch to the GPU\n",
    "        attention_mask = (inputs != 0).float().to(device)  # Create attention mask\n",
    "        targets = batch[1].to(device)  # Move the target batch to the GPU\n",
    "\n",
    "        with autocast():\n",
    "            outputs = model(input_ids=inputs, attention_mask=attention_mask, decoder_input_ids=targets, labels=targets)\n",
    "            loss = outputs.loss\n",
    "\n",
    "        # Perform gradient accumulation\n",
    "        loss = loss / accumulation_steps\n",
    "        scaler.scale(loss).backward()\n",
    "\n",
    "        if (step + 1) % accumulation_steps == 0:\n",
    "            # Update gradients and optimizer once every accumulation_steps\n",
    "            clip_grad_norm_(model.parameters(), max_norm=1.0)  # Optional gradient clipping\n",
    "            scaler.step(optimizer)\n",
    "            scaler.update()\n",
    "            optimizer.zero_grad()\n",
    "\n",
    "        total_loss += loss.item()\n",
    "\n",
    "    train_loss = total_loss / len(train_dataloader)\n",
    "    train_losses.append(train_loss)\n",
    "    evalResult = genSummaryAndEvaluate(model, val_dataloader)\n",
    "    rouge = evalResult['ROUGE-1 Precision']\n",
    "    bert = evalResult['BERT Score']\n",
    "    rouge_scores.append(rouge.mean())\n",
    "    bert_scores.append(bert.mean())\n",
    "    print(\n",
    "        f\"Epoch {epoch + 1}/{2}, Train Loss: {train_loss:.4f}, Mean Evaluation Rouge-1 Score: {rouge.mean()}, Mean Evaluation BERT Score: {bert.mean()}\")\n",
    "\n",
    "sameCategoryData = evalResult\n",
    "\n",
    "# Save the model after training\n",
    "# model.save_pretrained(\"KYS_BART_BASE\")\n",
    "model.save_pretrained(\"Test\")"
   ],
   "metadata": {
    "collapsed": false,
    "ExecuteTime": {
     "end_time": "2023-12-08T17:08:47.299849Z",
     "start_time": "2023-12-08T16:16:55.010248Z"
    }
   },
   "id": "55fc6aa7255147a"
  },
  {
   "cell_type": "code",
   "execution_count": null,
   "outputs": [],
   "source": [
    "train_losses"
   ],
   "metadata": {
    "collapsed": false,
    "ExecuteTime": {
     "start_time": "2023-12-08T17:08:47.299202Z"
    }
   },
   "id": "2c963a762ee6df0a"
  },
  {
   "cell_type": "code",
   "execution_count": null,
   "outputs": [],
   "source": [
    "rouge_scores"
   ],
   "metadata": {
    "collapsed": false,
    "ExecuteTime": {
     "end_time": "2023-12-08T17:08:47.303957Z",
     "start_time": "2023-12-08T17:08:47.301392Z"
    }
   },
   "id": "b63d5de00858041d"
  },
  {
   "cell_type": "code",
   "execution_count": null,
   "outputs": [],
   "source": [
    "bert_scores"
   ],
   "metadata": {
    "collapsed": false,
    "ExecuteTime": {
     "start_time": "2023-12-08T17:08:47.302089Z"
    }
   },
   "id": "74aeb77241918ae6"
  },
  {
   "cell_type": "code",
   "execution_count": null,
   "outputs": [],
   "source": [
    "# Plot the Learning Curve\n",
    "plt.figure(figsize=(8, 6))\n",
    "plt.plot(range(1, len(train_losses) + 1), train_losses, label='Training Loss')\n",
    "plt.title('Learning Curve')\n",
    "plt.xlabel('Epoch')\n",
    "plt.ylabel('Loss')\n",
    "plt.legend()\n",
    "plt.show()"
   ],
   "metadata": {
    "collapsed": false,
    "ExecuteTime": {
     "start_time": "2023-12-08T17:08:47.302155Z"
    }
   },
   "id": "bdbe134392a2388"
  },
  {
   "cell_type": "code",
   "execution_count": null,
   "outputs": [],
   "source": [
    "import matplotlib.pyplot as plt\n",
    "\n",
    "# Example data (replace with your actual data)\n",
    "\n",
    "# train_losses = [0.30070960372686384, 0.30086159333586693, 0.30086159333586693, 0.30086159333586693]\n",
    "# \n",
    "# rouge_scores = [0.8, 0.85, 0.88, 0.92]  # Replace with your actual ROUGE scores\n",
    "# bert_scores = [0.75, 0.78, 0.82, 0.86]   # Replace with your actual BERT scores\n",
    "epochs = list(range(1, len(train_losses) + 1))\n",
    "# Create subplots\n",
    "fig, ax1 = plt.subplots(figsize=(10, 6))\n",
    "\n",
    "# Plot train losses on the first y-axis\n",
    "ax1.set_xlabel('Epoch')\n",
    "ax1.set_ylabel('Train Loss', color='tab:blue')\n",
    "ax1.plot(epochs, train_losses, color='tab:blue', label='Train Loss')\n",
    "ax1.tick_params(axis='y', labelcolor='tab:blue')\n",
    "ax1.legend(loc='upper left')\n",
    "\n",
    "# Create a second y-axis for ROUGE and BERT scores\n",
    "ax2 = ax1.twinx()\n",
    "ax2.set_ylabel('ROUGE / BERT Scores', color='tab:red')\n",
    "\n",
    "# Plot ROUGE scores on the second y-axis\n",
    "ax2.plot(epochs, rouge_scores, color='tab:red', linestyle='dashed', label='ROUGE Scores')\n",
    "ax2.tick_params(axis='y', labelcolor='tab:red')\n",
    "\n",
    "# Plot BERT scores on the second y-axis\n",
    "ax2.plot(epochs, bert_scores, color='tab:orange', linestyle='dashed', label='BERT Scores')\n",
    "ax2.tick_params(axis='y', labelcolor='tab:orange')\n",
    "\n",
    "# Add legend\n",
    "ax2.legend(loc='upper right')\n",
    "\n",
    "# Show the plot\n",
    "plt.title('Learning Curves')\n",
    "plt.show()\n"
   ],
   "metadata": {
    "collapsed": false,
    "ExecuteTime": {
     "start_time": "2023-12-08T17:08:47.302223Z"
    }
   },
   "id": "f137e8b56894a471"
  },
  {
   "cell_type": "markdown",
   "source": [
    "sameCategoryData = genSummaryAndEvaluate(model,val_dataloader)"
   ],
   "metadata": {
    "collapsed": false
   },
   "id": "39f1ef7f5669cce7"
  },
  {
   "cell_type": "code",
   "execution_count": null,
   "outputs": [],
   "source": [
    "sameCategoryData[['ROUGE-1 Precision','BERT Score']]"
   ],
   "metadata": {
    "collapsed": false,
    "ExecuteTime": {
     "start_time": "2023-12-08T17:08:47.302642Z"
    }
   },
   "id": "9cb8a4c0f8d3a4f4"
  },
  {
   "cell_type": "code",
   "execution_count": null,
   "outputs": [],
   "source": [
    "print(sameCategoryData['ROUGE-1 Precision'].mean(),sameCategoryData['BERT Score'].mean())"
   ],
   "metadata": {
    "collapsed": false,
    "ExecuteTime": {
     "start_time": "2023-12-08T17:08:47.303770Z"
    }
   },
   "id": "331d0eed9fc1bde5"
  },
  {
   "cell_type": "code",
   "execution_count": null,
   "outputs": [],
   "source": [
    "diffCategoryData = genSummaryAndEvaluate(model,test_dataloader)"
   ],
   "metadata": {
    "collapsed": false,
    "ExecuteTime": {
     "end_time": "2023-12-08T17:08:47.336176Z",
     "start_time": "2023-12-08T17:08:47.305037Z"
    }
   },
   "id": "37aa0b1fbbbbbc11"
  },
  {
   "cell_type": "code",
   "execution_count": null,
   "outputs": [],
   "source": [
    "diffCategoryData[['ROUGE-1 Precision','BERT Score']]"
   ],
   "metadata": {
    "collapsed": false,
    "ExecuteTime": {
     "start_time": "2023-12-08T17:08:47.309372Z"
    }
   },
   "id": "3461d8b4e489a0a9"
  },
  {
   "cell_type": "code",
   "execution_count": null,
   "outputs": [],
   "source": [
    "print(diffCategoryData['ROUGE-1 Precision'].mean(),diffCategoryData['BERT Score'].mean())"
   ],
   "metadata": {
    "collapsed": false,
    "ExecuteTime": {
     "start_time": "2023-12-08T17:08:47.309528Z"
    }
   },
   "id": "ed96521e0d1717c"
  },
  {
   "cell_type": "code",
   "execution_count": null,
   "outputs": [],
   "source": [
    "import matplotlib.pyplot as plt\n",
    "import numpy as np\n",
    "\n",
    "# Example data (replace with your actual data)\n",
    "same_category_mean_rouge1 = sameCategoryData['ROUGE-1 Precision'].mean()\n",
    "same_category_mean_bert = sameCategoryData['BERT Score'].mean()\n",
    "\n",
    "diff_category_mean_rouge1 = diffCategoryData['ROUGE-1 Precision'].mean()\n",
    "diff_category_mean_bert = diffCategoryData['BERT Score'].mean()\n",
    "\n",
    "categories = ['ROUGE-1 Precision', 'BERT Score']\n",
    "mean_scores_same_category = [same_category_mean_rouge1, same_category_mean_bert]\n",
    "mean_scores_diff_category = [diff_category_mean_rouge1, diff_category_mean_bert]\n",
    "\n",
    "bar_width = 0.35\n",
    "index = np.arange(len(categories))\n",
    "\n",
    "fig, ax = plt.subplots()\n",
    "bar1 = ax.bar(index, mean_scores_same_category, bar_width, label='Same Category')\n",
    "bar2 = ax.bar(index + bar_width, mean_scores_diff_category, bar_width, label='Different Category')\n",
    "\n",
    "# Add labels, title, and legend\n",
    "ax.set_xlabel('Metrics')\n",
    "ax.set_ylabel('Mean Score')\n",
    "ax.set_title('Mean ROUGE-1 Precision and BERT Score Comparison between Categories')\n",
    "ax.set_xticks(index + bar_width / 2)\n",
    "ax.set_xticklabels(categories)\n",
    "ax.legend()\n",
    "\n",
    "# Show the plot\n",
    "plt.show()\n"
   ],
   "metadata": {
    "collapsed": false,
    "ExecuteTime": {
     "start_time": "2023-12-08T17:08:47.309730Z"
    }
   },
   "id": "32e56495f8cf625e"
  },
  {
   "cell_type": "code",
   "execution_count": null,
   "outputs": [],
   "source": [
    "import matplotlib.pyplot as plt\n",
    "import numpy as np\n",
    "\n",
    "# Example data (replace with your actual data)\n",
    "same_category_median_rouge1 = sameCategoryData['ROUGE-1 Precision'].median()\n",
    "same_category_median_bert = sameCategoryData['BERT Score'].median()\n",
    "\n",
    "diff_category_median_rouge1 = diffCategoryData['ROUGE-1 Precision'].median()\n",
    "diff_category_median_bert = diffCategoryData['BERT Score'].median()\n",
    "\n",
    "categories = ['ROUGE-1 Precision', 'BERT Score']\n",
    "median_scores_same_category = [same_category_median_rouge1, same_category_median_bert]\n",
    "median_scores_diff_category = [diff_category_median_rouge1, diff_category_median_bert]\n",
    "\n",
    "bar_width = 0.35\n",
    "index = np.arange(len(categories))\n",
    "\n",
    "fig, ax = plt.subplots()\n",
    "bar1 = ax.bar(index, median_scores_same_category, bar_width, label='Same Category')\n",
    "bar2 = ax.bar(index + bar_width, median_scores_diff_category, bar_width, label='Different Category')\n",
    "\n",
    "# Add labels, title, and legend\n",
    "ax.set_xlabel('Metrics')\n",
    "ax.set_ylabel('median Score')\n",
    "ax.set_title('median ROUGE-1 Precision and BERT Score Comparison between Categories')\n",
    "ax.set_xticks(index + bar_width / 2)\n",
    "ax.set_xticklabels(categories)\n",
    "ax.legend()\n",
    "\n",
    "# Show the plot\n",
    "plt.show()"
   ],
   "metadata": {
    "collapsed": false,
    "ExecuteTime": {
     "start_time": "2023-12-08T17:08:47.311290Z"
    }
   },
   "id": "ba5df932ca9d043d"
  },
  {
   "cell_type": "code",
   "execution_count": null,
   "outputs": [],
   "source": [],
   "metadata": {
    "collapsed": false,
    "ExecuteTime": {
     "start_time": "2023-12-08T17:08:47.314910Z"
    }
   },
   "id": "42cc8188e5c1af81"
  },
  {
   "cell_type": "code",
   "execution_count": null,
   "outputs": [],
   "source": [
    "import matplotlib.pyplot as plt\n",
    "\n",
    "# Calculate mean values\n",
    "sameCat_mean_rouge = np.mean(sameCategoryData['ROUGE-1 Precision'])\n",
    "sameCat_mean_bert = np.mean(sameCategoryData['BERT Score'])\n",
    "\n",
    "\n",
    "# Create separate histogram plots for Rouge and BERT Scores\n",
    "plt.figure(figsize=(12, 6))\n",
    "# plt.title('Same Category Data')\n",
    "\n",
    "# Rouge Score Histogram\n",
    "plt.subplot(1, 2, 1)\n",
    "plt.hist(sameCategoryData['ROUGE-1 Precision'], bins=15, color='#1f77b4')\n",
    "plt.axvline(sameCat_mean_rouge, color='red', linestyle='dashed', linewidth=2, label=f'Mean: {sameCat_mean_rouge:.3f}')\n",
    "plt.title('Same Category Data Rouge Score Histogram')\n",
    "plt.xlabel('Rouge Score')\n",
    "plt.ylabel('Frequency')\n",
    "\n",
    "# BERT Score Histogram\n",
    "plt.subplot(1, 2, 2)\n",
    "plt.hist(sameCategoryData['BERT Score'], bins=15, color='darkorange')\n",
    "plt.axvline(sameCat_mean_bert, color='red', linestyle='dashed', linewidth=2, label=f'Mean: {sameCat_mean_bert:.3f}')\n",
    "plt.title('Same Category Data BERT Score Histogram')\n",
    "plt.xlabel('BERT Score')\n",
    "plt.ylabel('Frequency')\n",
    "\n",
    "# Adjust layout\n",
    "plt.tight_layout()\n",
    "\n",
    "# Show the plot\n",
    "plt.show()\n"
   ],
   "metadata": {
    "collapsed": false,
    "ExecuteTime": {
     "start_time": "2023-12-08T17:08:47.316247Z"
    }
   },
   "id": "7233954d48105c79"
  },
  {
   "cell_type": "code",
   "execution_count": null,
   "outputs": [],
   "source": [
    "from transformers import pipeline\n",
    "\n",
    "def generate_summary(model, text, max_length=280, num_beams=17, length_penalty=2.0, early_stopping=False):\n",
    "    model.eval()\n",
    "    \n",
    "    # Tokenize input text\n",
    "    inputs = tokenizer(text, return_tensors=\"pt\", max_length=512, truncation=True)['input_ids'].to(device)\n",
    "    \n",
    "    # Generate summary\n",
    "    with torch.no_grad():\n",
    "        outputs = model.generate(input_ids=inputs, max_length=max_length, num_beams=num_beams, length_penalty=length_penalty, early_stopping=early_stopping)\n",
    "    \n",
    "    # Decode the generated summary\n",
    "    summary_text = tokenizer.decode(outputs[0], skip_special_tokens=True)\n",
    "    \n",
    "    return summary_text\n",
    "\n",
    "# Example usage:\n",
    "text_to_summarize = testing_dataset['newsarticle'][43]\n",
    "\n",
    "summary = generate_summary(model, text_to_summarize)\n",
    "# print(f\"Text:\\n{text_to_summarize}\")\n",
    "print(f\"Summary:\\n{summary}\")"
   ],
   "metadata": {
    "collapsed": false,
    "ExecuteTime": {
     "start_time": "2023-12-08T17:08:47.317916Z"
    }
   },
   "id": "3f80c0b14f0bdea3"
  },
  {
   "cell_type": "code",
   "execution_count": null,
   "outputs": [],
   "source": [],
   "metadata": {
    "collapsed": false,
    "ExecuteTime": {
     "start_time": "2023-12-08T17:08:47.322197Z"
    }
   },
   "id": "4892ca1eb95cd9c8"
  }
 ],
 "metadata": {
  "kernelspec": {
   "display_name": "Python 3",
   "language": "python",
   "name": "python3"
  },
  "language_info": {
   "codemirror_mode": {
    "name": "ipython",
    "version": 2
   },
   "file_extension": ".py",
   "mimetype": "text/x-python",
   "name": "python",
   "nbconvert_exporter": "python",
   "pygments_lexer": "ipython2",
   "version": "2.7.6"
  }
 },
 "nbformat": 4,
 "nbformat_minor": 5
}
