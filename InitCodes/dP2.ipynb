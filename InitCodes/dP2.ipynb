{
 "cells": [
  {
   "cell_type": "code",
   "execution_count": 1,
   "outputs": [],
   "source": [
    "from contractions import contractions_dict"
   ],
   "metadata": {
    "collapsed": false,
    "ExecuteTime": {
     "end_time": "2023-12-02T17:27:09.164403Z",
     "start_time": "2023-12-02T17:27:09.113037Z"
    }
   },
   "id": "9fc4b11ff45b929f"
  },
  {
   "cell_type": "code",
   "execution_count": 2,
   "outputs": [
    {
     "name": "stderr",
     "output_type": "stream",
     "text": [
      "[nltk_data] Downloading package punkt to /Users/kysgattu/nltk_data...\n",
      "[nltk_data]   Package punkt is already up-to-date!\n"
     ]
    }
   ],
   "source": [
    "import re\n",
    "import pandas as pd\n",
    "import matplotlib.pyplot as plt\n",
    "import seaborn as sns\n",
    "\n",
    "import pandas as pd \n",
    "import numpy as np\n",
    "import os\n",
    "\n",
    "import matplotlib.pyplot as plt\n",
    "import seaborn as sns\n",
    "\n",
    "import torch\n",
    "import torch.nn as nn\n",
    "\n",
    "from transformers import AutoModelForSeq2SeqLM, AutoTokenizer, pipeline, set_seed\n",
    "from transformers import DataCollatorForSeq2Seq\n",
    "from transformers import Seq2SeqTrainer\n",
    "from transformers import Seq2SeqTrainingArguments\n",
    "\n",
    "import datasets\n",
    "from datasets import load_metric, Dataset\n",
    "from datasets import DatasetDict\n",
    "\n",
    "from tqdm import tqdm\n",
    "\n",
    "import wandb\n",
    "\n",
    "import nltk\n",
    "from nltk.tokenize import sent_tokenize\n",
    "nltk.download(\"punkt\")\n",
    "\n",
    "import warnings\n",
    "warnings.filterwarnings('ignore')\n",
    "\n",
    "\n",
    "from sklearn.model_selection import train_test_split"
   ],
   "metadata": {
    "collapsed": false,
    "ExecuteTime": {
     "end_time": "2023-12-02T17:27:11.875402Z",
     "start_time": "2023-12-02T17:27:09.166574Z"
    }
   },
   "id": "459667cebfebc99b"
  },
  {
   "cell_type": "code",
   "execution_count": 3,
   "outputs": [
    {
     "data": {
      "text/plain": "'you all cannot expand contractions id think'"
     },
     "execution_count": 3,
     "metadata": {},
     "output_type": "execute_result"
    }
   ],
   "source": [
    "def expand_contractions(text, contraction_map=None):\n",
    "    if contraction_map is None:\n",
    "        contraction_map = contractions_dict\n",
    "\n",
    "    # Using regex for getting all contracted words\n",
    "    contractions_keys = '|'.join(re.escape(key) for key in contraction_map.keys())\n",
    "    contractions_pattern = re.compile(f'({contractions_keys})', flags=re.DOTALL)\n",
    "\n",
    "    expanded_text = contractions_pattern.sub(lambda match: contraction_map.get(match.group(0), match.group(0)), text)\n",
    "    expanded_text = re.sub(\"'\", \"\", expanded_text)\n",
    "    return expanded_text\n",
    "\n",
    "# Example usage\n",
    "expand_contractions(\"y'all can't expand contractions i'd think\")\n"
   ],
   "metadata": {
    "collapsed": false,
    "ExecuteTime": {
     "end_time": "2023-12-02T17:27:11.883173Z",
     "start_time": "2023-12-02T17:27:11.880384Z"
    }
   },
   "id": "5102cb359bfe1625"
  },
  {
   "cell_type": "code",
   "execution_count": 4,
   "outputs": [],
   "source": [
    "entertainment = pd.read_csv('data/BBCNewsSummaryCSV/entertainment_data.csv') \n",
    "sport = pd.read_csv('data/BBCNewsSummaryCSV/sport_data.csv')\n",
    "tech = pd.read_csv('data/BBCNewsSummaryCSV/tech_data.csv')"
   ],
   "metadata": {
    "collapsed": false,
    "ExecuteTime": {
     "end_time": "2023-12-02T17:27:11.923694Z",
     "start_time": "2023-12-02T17:27:11.883741Z"
    }
   },
   "id": "e063517896837eaf"
  },
  {
   "cell_type": "code",
   "execution_count": 5,
   "outputs": [
    {
     "name": "stdout",
     "output_type": "stream",
     "text": [
      "            filename                                        newsarticle  \\\n",
      "0  entertainment_001  Gallery unveils interactive tree\\n\\nA Christma...   \n",
      "1  entertainment_002  Jarre joins fairytale celebration\\n\\nFrench mu...   \n",
      "2  entertainment_003  Musical treatment for Capra film\\n\\nThe classi...   \n",
      "3  entertainment_004  Richard and Judy choose top books\\n\\nThe 10 au...   \n",
      "4  entertainment_005  Poppins musical gets flying start\\n\\nThe stage...   \n",
      "\n",
      "                                             summary  \n",
      "0  The messages will be \"unwrapped\" by sculptor R...  \n",
      "1  Bloom is to be formally presented with the Han...  \n",
      "2  The classic film It's A Wonderful Life is to b...  \n",
      "3  \"It was very hard to follow last year's extrem...  \n",
      "4  Mary Poppins was originally created by author ...  \n"
     ]
    }
   ],
   "source": [
    "print(entertainment.head())"
   ],
   "metadata": {
    "collapsed": false,
    "ExecuteTime": {
     "end_time": "2023-12-02T17:27:11.931695Z",
     "start_time": "2023-12-02T17:27:11.926625Z"
    }
   },
   "id": "325c1e2e59b462db"
  },
  {
   "cell_type": "code",
   "execution_count": 6,
   "outputs": [],
   "source": [
    "training_dataset = pd.concat([entertainment,sport,tech], ignore_index=True)"
   ],
   "metadata": {
    "collapsed": false,
    "ExecuteTime": {
     "end_time": "2023-12-02T17:27:11.933843Z",
     "start_time": "2023-12-02T17:27:11.932049Z"
    }
   },
   "id": "608b8f6339846c83"
  },
  {
   "cell_type": "code",
   "execution_count": 7,
   "outputs": [],
   "source": [
    "training_dataset = training_dataset.sample(frac=1).reset_index(drop=True)"
   ],
   "metadata": {
    "collapsed": false,
    "ExecuteTime": {
     "end_time": "2023-12-02T17:27:11.937998Z",
     "start_time": "2023-12-02T17:27:11.935487Z"
    }
   },
   "id": "280a499e2c12abfe"
  },
  {
   "cell_type": "code",
   "execution_count": 8,
   "outputs": [
    {
     "data": {
      "text/plain": "            filename                                        newsarticle  \\\n0           tech_101  Bush website blocked outside US\\n\\nSurfers out...   \n1          sport_193  Real in talks over Gravesen move\\n\\nReal Madri...   \n2  entertainment_153  OutKast win at MTV Europe Awards\\n\\nUS hip-hop...   \n3  entertainment_283  Prodigy join V Festival line-up\\n\\nEssex act P...   \n4           tech_334  Security warning over 'FBI virus'\\n\\nThe US Fe...   \n\n                                             summary  \n0  Since then people outside the US trying to bro...  \n1  Real Madrid are closing in on a Â£2m deal for ...  \n2  OutKast did lose out in the contest for best a...  \n3  A month later at the V Festival, Prodigy will ...  \n4  An attachment in the e-mail contains the virus...  ",
      "text/html": "<div>\n<style scoped>\n    .dataframe tbody tr th:only-of-type {\n        vertical-align: middle;\n    }\n\n    .dataframe tbody tr th {\n        vertical-align: top;\n    }\n\n    .dataframe thead th {\n        text-align: right;\n    }\n</style>\n<table border=\"1\" class=\"dataframe\">\n  <thead>\n    <tr style=\"text-align: right;\">\n      <th></th>\n      <th>filename</th>\n      <th>newsarticle</th>\n      <th>summary</th>\n    </tr>\n  </thead>\n  <tbody>\n    <tr>\n      <th>0</th>\n      <td>tech_101</td>\n      <td>Bush website blocked outside US\\n\\nSurfers out...</td>\n      <td>Since then people outside the US trying to bro...</td>\n    </tr>\n    <tr>\n      <th>1</th>\n      <td>sport_193</td>\n      <td>Real in talks over Gravesen move\\n\\nReal Madri...</td>\n      <td>Real Madrid are closing in on a Â£2m deal for ...</td>\n    </tr>\n    <tr>\n      <th>2</th>\n      <td>entertainment_153</td>\n      <td>OutKast win at MTV Europe Awards\\n\\nUS hip-hop...</td>\n      <td>OutKast did lose out in the contest for best a...</td>\n    </tr>\n    <tr>\n      <th>3</th>\n      <td>entertainment_283</td>\n      <td>Prodigy join V Festival line-up\\n\\nEssex act P...</td>\n      <td>A month later at the V Festival, Prodigy will ...</td>\n    </tr>\n    <tr>\n      <th>4</th>\n      <td>tech_334</td>\n      <td>Security warning over 'FBI virus'\\n\\nThe US Fe...</td>\n      <td>An attachment in the e-mail contains the virus...</td>\n    </tr>\n  </tbody>\n</table>\n</div>"
     },
     "execution_count": 8,
     "metadata": {},
     "output_type": "execute_result"
    }
   ],
   "source": [
    "training_dataset.head()"
   ],
   "metadata": {
    "collapsed": false,
    "ExecuteTime": {
     "end_time": "2023-12-02T17:27:11.944725Z",
     "start_time": "2023-12-02T17:27:11.939649Z"
    }
   },
   "id": "20029499b39d778b"
  },
  {
   "cell_type": "code",
   "execution_count": 9,
   "outputs": [],
   "source": [
    "def getSenLen(sentence):\n",
    "    return len(sentence.split())"
   ],
   "metadata": {
    "collapsed": false,
    "ExecuteTime": {
     "end_time": "2023-12-02T17:27:11.962513Z",
     "start_time": "2023-12-02T17:27:11.944853Z"
    }
   },
   "id": "2a8d927e43a5b26d"
  },
  {
   "cell_type": "code",
   "execution_count": 10,
   "outputs": [],
   "source": [
    "training_dataset['article_length'] = training_dataset['newsarticle'].apply(getSenLen)\n",
    "training_dataset['summary_length'] = training_dataset['summary'].apply(getSenLen)"
   ],
   "metadata": {
    "collapsed": false,
    "ExecuteTime": {
     "end_time": "2023-12-02T17:27:12.023848Z",
     "start_time": "2023-12-02T17:27:11.960091Z"
    }
   },
   "id": "409b3521e03cb56e"
  },
  {
   "cell_type": "code",
   "execution_count": 11,
   "outputs": [
    {
     "data": {
      "text/plain": "               filename                                        newsarticle  \\\n0              tech_101  Bush website blocked outside US\\n\\nSurfers out...   \n1             sport_193  Real in talks over Gravesen move\\n\\nReal Madri...   \n2     entertainment_153  OutKast win at MTV Europe Awards\\n\\nUS hip-hop...   \n3     entertainment_283  Prodigy join V Festival line-up\\n\\nEssex act P...   \n4              tech_334  Security warning over 'FBI virus'\\n\\nThe US Fe...   \n...                 ...                                                ...   \n1293           tech_296  Gadget market 'to grow in 2005'\\n\\nThe explosi...   \n1294  entertainment_146  J-Lo and husband plan debut duet\\n\\nSingers Je...   \n1295           tech_314  Junk e-mails on relentless rise\\n\\nSpam traffi...   \n1296          sport_444  Hewitt falls to Dent\\n\\nLleyton Hewitt suffere...   \n1297  entertainment_354  Stars shine on Bafta red carpet\\n\\nHollywood s...   \n\n                                                summary  article_length  \\\n0     Since then people outside the US trying to bro...             355   \n1     Real Madrid are closing in on a Â£2m deal for ...             232   \n2     OutKast did lose out in the contest for best a...             599   \n3     A month later at the V Festival, Prodigy will ...             233   \n4     An attachment in the e-mail contains the virus...             215   \n...                                                 ...             ...   \n1293  The explosion in consumer technology is to con...             636   \n1294  The tsunami tribute song will also feature Ali...             271   \n1295  The figures, from e-mail management firm Email...             245   \n1296  Dent will face Juan Ignacio Chela next after t...             149   \n1297  Keanu Reeves, who presented the best actress a...             601   \n\n      summary_length  \n0                139  \n1                113  \n2                239  \n3                 97  \n4                101  \n...              ...  \n1293             241  \n1294             121  \n1295              91  \n1296              58  \n1297             263  \n\n[1298 rows x 5 columns]",
      "text/html": "<div>\n<style scoped>\n    .dataframe tbody tr th:only-of-type {\n        vertical-align: middle;\n    }\n\n    .dataframe tbody tr th {\n        vertical-align: top;\n    }\n\n    .dataframe thead th {\n        text-align: right;\n    }\n</style>\n<table border=\"1\" class=\"dataframe\">\n  <thead>\n    <tr style=\"text-align: right;\">\n      <th></th>\n      <th>filename</th>\n      <th>newsarticle</th>\n      <th>summary</th>\n      <th>article_length</th>\n      <th>summary_length</th>\n    </tr>\n  </thead>\n  <tbody>\n    <tr>\n      <th>0</th>\n      <td>tech_101</td>\n      <td>Bush website blocked outside US\\n\\nSurfers out...</td>\n      <td>Since then people outside the US trying to bro...</td>\n      <td>355</td>\n      <td>139</td>\n    </tr>\n    <tr>\n      <th>1</th>\n      <td>sport_193</td>\n      <td>Real in talks over Gravesen move\\n\\nReal Madri...</td>\n      <td>Real Madrid are closing in on a Â£2m deal for ...</td>\n      <td>232</td>\n      <td>113</td>\n    </tr>\n    <tr>\n      <th>2</th>\n      <td>entertainment_153</td>\n      <td>OutKast win at MTV Europe Awards\\n\\nUS hip-hop...</td>\n      <td>OutKast did lose out in the contest for best a...</td>\n      <td>599</td>\n      <td>239</td>\n    </tr>\n    <tr>\n      <th>3</th>\n      <td>entertainment_283</td>\n      <td>Prodigy join V Festival line-up\\n\\nEssex act P...</td>\n      <td>A month later at the V Festival, Prodigy will ...</td>\n      <td>233</td>\n      <td>97</td>\n    </tr>\n    <tr>\n      <th>4</th>\n      <td>tech_334</td>\n      <td>Security warning over 'FBI virus'\\n\\nThe US Fe...</td>\n      <td>An attachment in the e-mail contains the virus...</td>\n      <td>215</td>\n      <td>101</td>\n    </tr>\n    <tr>\n      <th>...</th>\n      <td>...</td>\n      <td>...</td>\n      <td>...</td>\n      <td>...</td>\n      <td>...</td>\n    </tr>\n    <tr>\n      <th>1293</th>\n      <td>tech_296</td>\n      <td>Gadget market 'to grow in 2005'\\n\\nThe explosi...</td>\n      <td>The explosion in consumer technology is to con...</td>\n      <td>636</td>\n      <td>241</td>\n    </tr>\n    <tr>\n      <th>1294</th>\n      <td>entertainment_146</td>\n      <td>J-Lo and husband plan debut duet\\n\\nSingers Je...</td>\n      <td>The tsunami tribute song will also feature Ali...</td>\n      <td>271</td>\n      <td>121</td>\n    </tr>\n    <tr>\n      <th>1295</th>\n      <td>tech_314</td>\n      <td>Junk e-mails on relentless rise\\n\\nSpam traffi...</td>\n      <td>The figures, from e-mail management firm Email...</td>\n      <td>245</td>\n      <td>91</td>\n    </tr>\n    <tr>\n      <th>1296</th>\n      <td>sport_444</td>\n      <td>Hewitt falls to Dent\\n\\nLleyton Hewitt suffere...</td>\n      <td>Dent will face Juan Ignacio Chela next after t...</td>\n      <td>149</td>\n      <td>58</td>\n    </tr>\n    <tr>\n      <th>1297</th>\n      <td>entertainment_354</td>\n      <td>Stars shine on Bafta red carpet\\n\\nHollywood s...</td>\n      <td>Keanu Reeves, who presented the best actress a...</td>\n      <td>601</td>\n      <td>263</td>\n    </tr>\n  </tbody>\n</table>\n<p>1298 rows × 5 columns</p>\n</div>"
     },
     "execution_count": 11,
     "metadata": {},
     "output_type": "execute_result"
    }
   ],
   "source": [
    "training_dataset"
   ],
   "metadata": {
    "collapsed": false,
    "ExecuteTime": {
     "end_time": "2023-12-02T17:27:12.100606Z",
     "start_time": "2023-12-02T17:27:11.976243Z"
    }
   },
   "id": "900b193bdf9d9f99"
  },
  {
   "cell_type": "code",
   "execution_count": 12,
   "outputs": [
    {
     "data": {
      "text/plain": "       article_length  summary_length\ncount     1298.000000     1298.000000\nmean       383.246533      165.270416\nstd        241.582739      109.734916\nmin        114.000000       42.000000\n25%        234.000000       99.250000\n50%        321.000000      137.000000\n75%        464.000000      202.750000\nmax       3482.000000     1706.000000",
      "text/html": "<div>\n<style scoped>\n    .dataframe tbody tr th:only-of-type {\n        vertical-align: middle;\n    }\n\n    .dataframe tbody tr th {\n        vertical-align: top;\n    }\n\n    .dataframe thead th {\n        text-align: right;\n    }\n</style>\n<table border=\"1\" class=\"dataframe\">\n  <thead>\n    <tr style=\"text-align: right;\">\n      <th></th>\n      <th>article_length</th>\n      <th>summary_length</th>\n    </tr>\n  </thead>\n  <tbody>\n    <tr>\n      <th>count</th>\n      <td>1298.000000</td>\n      <td>1298.000000</td>\n    </tr>\n    <tr>\n      <th>mean</th>\n      <td>383.246533</td>\n      <td>165.270416</td>\n    </tr>\n    <tr>\n      <th>std</th>\n      <td>241.582739</td>\n      <td>109.734916</td>\n    </tr>\n    <tr>\n      <th>min</th>\n      <td>114.000000</td>\n      <td>42.000000</td>\n    </tr>\n    <tr>\n      <th>25%</th>\n      <td>234.000000</td>\n      <td>99.250000</td>\n    </tr>\n    <tr>\n      <th>50%</th>\n      <td>321.000000</td>\n      <td>137.000000</td>\n    </tr>\n    <tr>\n      <th>75%</th>\n      <td>464.000000</td>\n      <td>202.750000</td>\n    </tr>\n    <tr>\n      <th>max</th>\n      <td>3482.000000</td>\n      <td>1706.000000</td>\n    </tr>\n  </tbody>\n</table>\n</div>"
     },
     "execution_count": 12,
     "metadata": {},
     "output_type": "execute_result"
    }
   ],
   "source": [
    "training_dataset.describe()"
   ],
   "metadata": {
    "collapsed": false,
    "ExecuteTime": {
     "end_time": "2023-12-02T17:27:12.128727Z",
     "start_time": "2023-12-02T17:27:11.979215Z"
    }
   },
   "id": "dca28b63b9125261"
  },
  {
   "cell_type": "code",
   "execution_count": 13,
   "outputs": [
    {
     "data": {
      "text/plain": "Text(0.5, 1.0, 'Boxplot of Summary Lengths')"
     },
     "execution_count": 13,
     "metadata": {},
     "output_type": "execute_result"
    },
    {
     "data": {
      "text/plain": "<Figure size 1200x600 with 2 Axes>",
      "image/png": "[encoded data removed]"
     },
     "metadata": {},
     "output_type": "display_data"
    }
   ],
   "source": [
    "# Create a subplot with 1 row and 2 columns\n",
    "fig, axes = plt.subplots(nrows=1, ncols=2, figsize=(12, 6))\n",
    "\n",
    "# Plot for the articles' number of words\n",
    "sns.boxplot(training_dataset[\"article_length\"], ax=axes[0])\n",
    "axes[0].set_ylabel(\"Number of Words\")\n",
    "axes[0].set_title(\"Boxplot of Article Lengths\")\n",
    "\n",
    "# Plot for the summaries' number of words\n",
    "sns.boxplot(training_dataset[\"summary_length\"], ax=axes[1])\n",
    "axes[1].set_ylabel(\"Number of Words\")\n",
    "axes[1].set_title(\"Boxplot of Summary Lengths\")\n"
   ],
   "metadata": {
    "collapsed": false,
    "ExecuteTime": {
     "end_time": "2023-12-02T17:27:12.269878Z",
     "start_time": "2023-12-02T17:27:11.987850Z"
    }
   },
   "id": "5123540c108c9971"
  },
  {
   "cell_type": "code",
   "execution_count": 14,
   "outputs": [],
   "source": [
    "# Get statistics for the articles boxplot\n",
    "lines_articles = axes[0].lines[:6]\n",
    "articles_stats = [line.get_ydata()[0] for line in lines_articles]\n",
    "Q1_articles, Q3_articles, lower_whisker_articles, upper_whisker_articles, median_articles = articles_stats[:5]\n",
    "\n",
    "# Get statistics for the summaries boxplot\n",
    "lines_summaries = axes[1].lines[:6]\n",
    "summaries_stats = [line.get_ydata()[0] for line in lines_summaries]\n",
    "Q1_summaries, Q3_summaries, lower_whisker_summaries, upper_whisker_summaries, median_summaries = summaries_stats[:5]"
   ],
   "metadata": {
    "collapsed": false,
    "ExecuteTime": {
     "end_time": "2023-12-02T17:27:12.341785Z",
     "start_time": "2023-12-02T17:27:12.312615Z"
    }
   },
   "id": "636b7a3f06913c87"
  },
  {
   "cell_type": "code",
   "execution_count": 15,
   "outputs": [],
   "source": [
    "training_dataset = training_dataset[(training_dataset['summary_length'] <= upper_whisker_summaries) & (training_dataset['article_length'] <= upper_whisker_articles)]"
   ],
   "metadata": {
    "collapsed": false,
    "ExecuteTime": {
     "end_time": "2023-12-02T17:27:12.341970Z",
     "start_time": "2023-12-02T17:27:12.316570Z"
    }
   },
   "id": "f76a75aa381125c6"
  },
  {
   "cell_type": "code",
   "execution_count": 16,
   "outputs": [
    {
     "data": {
      "text/plain": "            filename                                        newsarticle  \\\n0           tech_101  Bush website blocked outside US\\n\\nSurfers out...   \n1          sport_193  Real in talks over Gravesen move\\n\\nReal Madri...   \n2  entertainment_153  OutKast win at MTV Europe Awards\\n\\nUS hip-hop...   \n3  entertainment_283  Prodigy join V Festival line-up\\n\\nEssex act P...   \n4           tech_334  Security warning over 'FBI virus'\\n\\nThe US Fe...   \n\n                                             summary  article_length  \\\n0  Since then people outside the US trying to bro...             355   \n1  Real Madrid are closing in on a Â£2m deal for ...             232   \n2  OutKast did lose out in the contest for best a...             599   \n3  A month later at the V Festival, Prodigy will ...             233   \n4  An attachment in the e-mail contains the virus...             215   \n\n   summary_length  \n0             139  \n1             113  \n2             239  \n3              97  \n4             101  ",
      "text/html": "<div>\n<style scoped>\n    .dataframe tbody tr th:only-of-type {\n        vertical-align: middle;\n    }\n\n    .dataframe tbody tr th {\n        vertical-align: top;\n    }\n\n    .dataframe thead th {\n        text-align: right;\n    }\n</style>\n<table border=\"1\" class=\"dataframe\">\n  <thead>\n    <tr style=\"text-align: right;\">\n      <th></th>\n      <th>filename</th>\n      <th>newsarticle</th>\n      <th>summary</th>\n      <th>article_length</th>\n      <th>summary_length</th>\n    </tr>\n  </thead>\n  <tbody>\n    <tr>\n      <th>0</th>\n      <td>tech_101</td>\n      <td>Bush website blocked outside US\\n\\nSurfers out...</td>\n      <td>Since then people outside the US trying to bro...</td>\n      <td>355</td>\n      <td>139</td>\n    </tr>\n    <tr>\n      <th>1</th>\n      <td>sport_193</td>\n      <td>Real in talks over Gravesen move\\n\\nReal Madri...</td>\n      <td>Real Madrid are closing in on a Â£2m deal for ...</td>\n      <td>232</td>\n      <td>113</td>\n    </tr>\n    <tr>\n      <th>2</th>\n      <td>entertainment_153</td>\n      <td>OutKast win at MTV Europe Awards\\n\\nUS hip-hop...</td>\n      <td>OutKast did lose out in the contest for best a...</td>\n      <td>599</td>\n      <td>239</td>\n    </tr>\n    <tr>\n      <th>3</th>\n      <td>entertainment_283</td>\n      <td>Prodigy join V Festival line-up\\n\\nEssex act P...</td>\n      <td>A month later at the V Festival, Prodigy will ...</td>\n      <td>233</td>\n      <td>97</td>\n    </tr>\n    <tr>\n      <th>4</th>\n      <td>tech_334</td>\n      <td>Security warning over 'FBI virus'\\n\\nThe US Fe...</td>\n      <td>An attachment in the e-mail contains the virus...</td>\n      <td>215</td>\n      <td>101</td>\n    </tr>\n  </tbody>\n</table>\n</div>"
     },
     "execution_count": 16,
     "metadata": {},
     "output_type": "execute_result"
    }
   ],
   "source": [
    "training_dataset.head()"
   ],
   "metadata": {
    "collapsed": false,
    "ExecuteTime": {
     "end_time": "2023-12-02T17:27:12.342531Z",
     "start_time": "2023-12-02T17:27:12.320460Z"
    }
   },
   "id": "bd0946babd4718e9"
  },
  {
   "cell_type": "code",
   "execution_count": 17,
   "outputs": [
    {
     "ename": "ModuleNotFoundError",
     "evalue": "No module named 'pytorch_lightning'",
     "output_type": "error",
     "traceback": [
      "\u001B[0;31m---------------------------------------------------------------------------\u001B[0m",
      "\u001B[0;31mModuleNotFoundError\u001B[0m                       Traceback (most recent call last)",
      "Cell \u001B[0;32mIn[17], line 5\u001B[0m\n\u001B[1;32m      3\u001B[0m \u001B[38;5;28;01mfrom\u001B[39;00m \u001B[38;5;21;01mpathlib\u001B[39;00m \u001B[38;5;28;01mimport\u001B[39;00m Path\n\u001B[1;32m      4\u001B[0m \u001B[38;5;28;01mfrom\u001B[39;00m \u001B[38;5;21;01mtorch\u001B[39;00m\u001B[38;5;21;01m.\u001B[39;00m\u001B[38;5;21;01mutils\u001B[39;00m\u001B[38;5;21;01m.\u001B[39;00m\u001B[38;5;21;01mdata\u001B[39;00m \u001B[38;5;28;01mimport\u001B[39;00m Dataset, DataLoader\n\u001B[0;32m----> 5\u001B[0m \u001B[38;5;28;01mimport\u001B[39;00m \u001B[38;5;21;01mpytorch_lightning\u001B[39;00m \u001B[38;5;28;01mas\u001B[39;00m \u001B[38;5;21;01mpl\u001B[39;00m\n\u001B[1;32m      6\u001B[0m \u001B[38;5;28;01mfrom\u001B[39;00m \u001B[38;5;21;01mpytorch_lightning\u001B[39;00m\u001B[38;5;21;01m.\u001B[39;00m\u001B[38;5;21;01mcallbacks\u001B[39;00m \u001B[38;5;28;01mimport\u001B[39;00m ModelCheckpoint\n\u001B[1;32m      7\u001B[0m \u001B[38;5;28;01mfrom\u001B[39;00m \u001B[38;5;21;01mpytorch_lightning\u001B[39;00m\u001B[38;5;21;01m.\u001B[39;00m\u001B[38;5;21;01mloggers\u001B[39;00m \u001B[38;5;28;01mimport\u001B[39;00m TensorBoardLogger\n",
      "\u001B[0;31mModuleNotFoundError\u001B[0m: No module named 'pytorch_lightning'"
     ]
    }
   ],
   "source": [
    "import json\n",
    "import torch\n",
    "from pathlib import Path\n",
    "from torch.utils.data import Dataset, DataLoader\n",
    "import pytorch_lightning as pl\n",
    "from torch.callbacks import ModelCheckpoint\n",
    "\n",
    "from pytorch_lightning.loggers import TensorBoardLogger\n",
    "from sklearn.model_selection import train_test_split\n",
    "from termcolor import colored\n",
    "import textwrap\n",
    "\n",
    "from transformers import (\n",
    "    AdamW,\n",
    "    T5ForConditionalGeneration,\n",
    "    AutoTokenizer,\n",
    "    T5TokenizerFast as T5Tokenizer\n",
    ")\n",
    "\n",
    "from tqdm.auto import tqdm\n",
    "from pylab import rcParams\n",
    "from matplotlib import rc\n",
    "\n",
    "%matplotlib inline\n",
    "%config InlineBackend.figure_format='retina'"
   ],
   "metadata": {
    "collapsed": false,
    "ExecuteTime": {
     "end_time": "2023-12-02T17:27:38.245854Z",
     "start_time": "2023-12-02T17:27:38.029196Z"
    }
   },
   "id": "150f1e69d42ce93c"
  },
  {
   "cell_type": "code",
   "execution_count": null,
   "outputs": [],
   "source": [],
   "metadata": {
    "collapsed": false
   },
   "id": "496772da1ec52278"
  }
 ],
 "metadata": {
  "kernelspec": {
   "display_name": "Python 3",
   "language": "python",
   "name": "python3"
  },
  "language_info": {
   "codemirror_mode": {
    "name": "ipython",
    "version": 2
   },
   "file_extension": ".py",
   "mimetype": "text/x-python",
   "name": "python",
   "nbconvert_exporter": "python",
   "pygments_lexer": "ipython2",
   "version": "2.7.6"
  }
 },
 "nbformat": 4,
 "nbformat_minor": 5
}
