{
 "cells": [
  {
   "cell_type": "code",
   "execution_count": 1,
   "outputs": [
    {
     "name": "stderr",
     "output_type": "stream",
     "text": [
      "[nltk_data] Downloading package stopwords to\n",
      "[nltk_data]     /Users/kysgattu/nltk_data...\n",
      "[nltk_data]   Package stopwords is already up-to-date!\n",
      "[nltk_data] Downloading package punkt to /Users/kysgattu/nltk_data...\n",
      "[nltk_data]   Package punkt is already up-to-date!\n"
     ]
    }
   ],
   "source": [
    "import re\n",
    "import os\n",
    "\n",
    "import pandas as pd\n",
    "import chardet\n",
    "import nltk\n",
    "import textwrap\n",
    "from nltk.corpus import stopwords\n",
    "from nltk.tokenize import word_tokenize,sent_tokenize\n",
    "nltk.download(\"stopwords\")\n",
    "nltk.download(\"punkt\")\n",
    "from contractions import contractions_dict\n",
    "from sklearn.model_selection import train_test_split"
   ],
   "metadata": {
    "collapsed": false,
    "ExecuteTime": {
     "end_time": "2023-12-08T18:28:28.245951Z",
     "start_time": "2023-12-08T18:28:27.736730Z"
    }
   },
   "id": "e8132c54e6183324"
  },
  {
   "cell_type": "code",
   "execution_count": 2,
   "outputs": [],
   "source": [
    "def expand_contractions(text, contraction_map=None):\n",
    "    if contraction_map is None:\n",
    "        contraction_map = contractions_dict\n",
    "\n",
    "    # Using regex for getting all contracted words\n",
    "    contractions_keys = '|'.join(re.escape(key) for key in contraction_map.keys())\n",
    "    contractions_pattern = re.compile(f'({contractions_keys})', flags=re.DOTALL)\n",
    "\n",
    "    expanded_text = contractions_pattern.sub(lambda match: contraction_map.get(match.group(0), match.group(0)), text)\n",
    "    expanded_text = re.sub(\"'\", \"\", expanded_text)\n",
    "    return expanded_text\n"
   ],
   "metadata": {
    "collapsed": false,
    "ExecuteTime": {
     "end_time": "2023-12-08T18:28:29.540432Z",
     "start_time": "2023-12-08T18:28:29.530273Z"
    }
   },
   "id": "720fce22cda4347d"
  },
  {
   "cell_type": "code",
   "execution_count": 3,
   "outputs": [],
   "source": [
    "# Function to detect file encoding\n",
    "def detect_encoding(file_path):\n",
    "    with open(file_path, 'rb') as f:\n",
    "        result = chardet.detect(f.read())\n",
    "    return result['encoding']"
   ],
   "metadata": {
    "collapsed": false,
    "ExecuteTime": {
     "end_time": "2023-12-08T18:28:30.284528Z",
     "start_time": "2023-12-08T18:28:30.275786Z"
    }
   },
   "id": "234b7dfd16139d11"
  },
  {
   "cell_type": "code",
   "execution_count": 4,
   "outputs": [],
   "source": [
    "# Set the base directory\n",
    "base_dir = \"data/BBCNewsSummary/News Articles\"\n",
    "output_dir = \"data/BBCNewsSummaryCSV\"  # Output directory\n",
    "\n",
    "# Check if the output directory exists, and create it if not\n",
    "if not os.path.exists(output_dir):\n",
    "    os.makedirs(output_dir)\n",
    "\n",
    "# Get the list of classes (subfolder names)\n",
    "classes = os.listdir(base_dir)\n",
    "dfs = {}\n",
    "# Create dataframes and write to CSV files for each class\n",
    "for class_name in classes:\n",
    "    # Define the paths for news articles and summaries\n",
    "    news_articles_path = os.path.join(base_dir, class_name)\n",
    "    summaries_path = os.path.join(\"data/BBCNewsSummary/Summaries\", class_name)\n",
    "\n",
    "    # Get the list of file names in both directories\n",
    "    news_articles_files = os.listdir(news_articles_path)\n",
    "    summaries_files = os.listdir(summaries_path)\n",
    "\n",
    "    # Match file names\n",
    "    common_files = set(news_articles_files) & set(summaries_files)\n",
    "\n",
    "    # Create dataframe\n",
    "    df_list = []\n",
    "\n",
    "    # Read content from files and populate dataframe\n",
    "    for filename in sorted(common_files):  # Sort by filename\n",
    "        news_article_file_path = os.path.join(news_articles_path, filename)\n",
    "        summary_file_path = os.path.join(summaries_path, filename)\n",
    "\n",
    "        # Detect encoding\n",
    "        news_encoding = detect_encoding(news_article_file_path)\n",
    "        summary_encoding = detect_encoding(summary_file_path)\n",
    "\n",
    "        try:\n",
    "            with open(news_article_file_path, 'r', encoding=news_encoding) as news_file, \\\n",
    "                    open(summary_file_path, 'r', encoding=summary_encoding) as summary_file:\n",
    "                news_content = news_file.read()\n",
    "                summary_content = summary_file.read()\n",
    "                \n",
    "\n",
    "                # Extract file name without extension\n",
    "                file_name_without_extension = os.path.splitext(filename)[0]\n",
    "\n",
    "                # Generate the new entry in the filename\n",
    "                new_filename = f'{class_name}_{file_name_without_extension}'\n",
    "\n",
    "                df_list.append({'filename': new_filename, 'newsarticle': news_content, 'summary': summary_content})\n",
    "\n",
    "        except UnicodeDecodeError:\n",
    "            print(f\"UnicodeDecodeError: Could not read {filename}. Skipping this file.\")\n",
    "\n",
    "    # Create dataframe from the list and sort by filename\n",
    "    df = pd.DataFrame(df_list).sort_values(by='filename')\n",
    "    \n",
    "    # Save dataframe to the dictionary\n",
    "    dfs[class_name] = df\n",
    "\n",
    "\n",
    "    # # Write dataframe to CSV in the output directory\n",
    "    # csv_filename = os.path.join(output_dir, f'{class_name}_data.csv')\n",
    "    # df.to_csv(csv_filename, index=False)\n",
    "    # print(f'Dataframe for {class_name} written to {csv_filename}')\n"
   ],
   "metadata": {
    "collapsed": false,
    "ExecuteTime": {
     "end_time": "2023-12-08T18:28:39.508478Z",
     "start_time": "2023-12-08T18:28:32.222730Z"
    }
   },
   "id": "36da0491bb00f44"
  },
  {
   "cell_type": "code",
   "execution_count": 5,
   "outputs": [],
   "source": [
    "business = dfs['business']\n",
    "entertainment = dfs['entertainment']\n",
    "sport = dfs['sport']\n",
    "politics = dfs['politics']\n",
    "tech = dfs['tech']"
   ],
   "metadata": {
    "collapsed": false,
    "ExecuteTime": {
     "end_time": "2023-12-08T18:28:40.746724Z",
     "start_time": "2023-12-08T18:28:40.734907Z"
    }
   },
   "id": "339fab2b8dd2f197"
  },
  {
   "cell_type": "code",
   "execution_count": 6,
   "outputs": [],
   "source": [
    "sample_text = business['newsarticle'][242] "
   ],
   "metadata": {
    "collapsed": false,
    "ExecuteTime": {
     "end_time": "2023-12-08T18:28:41.425127Z",
     "start_time": "2023-12-08T18:28:41.421360Z"
    }
   },
   "id": "ec7819ded9fb2a37"
  },
  {
   "cell_type": "code",
   "execution_count": 7,
   "outputs": [
    {
     "data": {
      "text/plain": "\"Making your office work for you\\n\\nOur mission to brighten up your working lives continues - and this time, we're taking a long hard look at your offices.\\n\\nOver the next few months, our panel of experts will be listening to your gripes about where you work, and suggesting ways to make your workspace more efficient, more congenial or simply prettier. This week, we're hearing from Marianne Petersen, who is planning to convert a barn in Sweden into a base for her freelance writing work. Click on the link under her photograph to read her story, and then scroll down to see what the panel have to say. And if you want to take part in the series, go to the bottom of the story to find out how to get in touch.\\n\\nWorking from home presents a multitude of challenges. Understanding your work personality allows you to work in terms of your own style. Do you feel confident about your work output without conferring with others? Are you able to retain discipline and self motivate to get the job done? Do you build on the ideas of others - or are you a more introspective problem solver?. In order for a virtual office to succeed, keeping the boundary between work and home life is essential. It may be useful to be quite rigid about who is allowed to visit, and to keep strict office hours. Referring to the space as work will give those around you a clear message that this is professional space. It is imperative to consider how to bring the outside world into yours, keeping up to date with developments and maintaining a network. Isolated work environments mean this has to be carefully thought out, and a strategy has to be developed that suits both your personality and your industry. Joining professional groups or forming a loose association of like-minded people may assist. It is useful to structure these meetings in advance as often they get relegated to less important status when times are busy - with the danger that when the workload eases, they have to be resurrected.\\n\\n\\n\\nPrior to any interior work being undertaken it is essential to ensure that the roof and walls are made water-and-weather-tight, and the structure is checked for stability. It appears that the roof trusses may need repairs and additional bracing.\\n\\nIdeally, the roof should be replaced with an outer material in keeping with the character and location of the barn. This would also allow for a well-insulated inner skin to be provided which should be light coloured. It is likely that the most efficient way of heating the building is with electricity. In order to provide this the owner will need to have an electrical engineer calculate the potential heating, power and lighting load to make sure the mains supply and distribution capacity are adequate. Ideally, it would be good to have a mains water supply and some means of drainage for toilet and washing facilities. The walls should be dry lined with a single skin of plasterboard laid over rockwool slab which will allow good wall insulation and the power and lighting circuits to be concealed, and the walls should be painted in a light colour. The owner mentions she might lay a new floor over the existing planks; this will improve the insulation and offer a level surface. I would suggest laying new oak veneer planks which can work in with the character of the barn. As for lighting, consider a combination of floor mounted uplights, wall lights (wall washers) and selected downlights. Use a combination of mains voltage fluorescent fittings and dimmable units which can vary the light levels and the feel of the interior.\\n\\n\\n\\nPlease click on the link to the right here to see my ideas for Marianne's barn.\\n\\nThe layout of this office reflects the need to have a working area and a more relaxed meeting space. Large desk space and extensive storage would combine with tub chairs to maximise the space available. The finishes chosen for the furniture will need to reflect the unusual setting, while the lighting and temperature control mechanisms used will further influence the workplace.\\n\\n\\n\\nRegarding accessing the internet via the connection in the main house, your plan of going wireless is sensible. A wireless router/access point in the house with a wireless LAN card in the PC in the renovated area may be sufficient. However, important points to consider are the distance between the two buildings and the nature of the materials through which the signals have to pass, which could result in a weak signal strength. You may require an additional wireless access point in the renovated area. Your local IT supplier will be able to advise on this. If you haven't already invested in robust firewall and anti-virus software, it is essential to do so, to protect your investment. To really take advantage of wireless technology, you might consider a laptop computer and a docking station with external mouse and monitor. Or you could use one of the new Tablet computers, which allow you to write directly on the screen and convert into text with built-in hand recognition software. And finally, you will save money and space by considering a multi-function product for print, scan, copy and fax.\\n\""
     },
     "execution_count": 7,
     "metadata": {},
     "output_type": "execute_result"
    }
   ],
   "source": [
    "sample_text"
   ],
   "metadata": {
    "collapsed": false,
    "ExecuteTime": {
     "end_time": "2023-12-08T18:28:42.308173Z",
     "start_time": "2023-12-08T18:28:42.297894Z"
    }
   },
   "id": "ef0f4056f2f8a253"
  },
  {
   "cell_type": "code",
   "execution_count": 8,
   "outputs": [],
   "source": [
    "# entertainment = pd.read_csv('data/BBCNewsSummaryCSV/entertainment_data.csv') \n",
    "# sport = pd.read_csv('data/BBCNewsSummaryCSV/sport_data.csv')\n",
    "# tech = pd.read_csv('data/BBCNewsSummaryCSV/tech_data.csv')\n",
    "# business = pd.read_csv('data/BBCNewsSummaryCSV/business_data.csv')\n",
    "# politics = pd.read_csv('data/BBCNewsSummaryCSV/politics_data.csv')"
   ],
   "metadata": {
    "collapsed": false,
    "ExecuteTime": {
     "end_time": "2023-12-08T18:28:44.082414Z",
     "start_time": "2023-12-08T18:28:44.067965Z"
    }
   },
   "id": "49c03e25f00f8e73"
  },
  {
   "cell_type": "code",
   "execution_count": 9,
   "outputs": [],
   "source": [
    "training_dataset = pd.concat([business,politics,tech], ignore_index=True)\n",
    "testing_dataset = pd.concat([entertainment,sport], ignore_index=True)"
   ],
   "metadata": {
    "collapsed": false,
    "ExecuteTime": {
     "end_time": "2023-12-08T18:28:45.253674Z",
     "start_time": "2023-12-08T18:28:45.242734Z"
    }
   },
   "id": "2e0be0c20cd5abfa"
  },
  {
   "cell_type": "code",
   "execution_count": 10,
   "outputs": [
    {
     "name": "stdout",
     "output_type": "stream",
     "text": [
      "Training size: 3984\n",
      "Testing size: 2691\n"
     ]
    }
   ],
   "source": [
    "print(\"Training size:\",training_dataset.size)\n",
    "print(\"Testing size:\",testing_dataset.size)"
   ],
   "metadata": {
    "collapsed": false,
    "ExecuteTime": {
     "end_time": "2023-12-08T18:28:46.597137Z",
     "start_time": "2023-12-08T18:28:46.584499Z"
    }
   },
   "id": "859712ca5f791efb"
  },
  {
   "cell_type": "code",
   "execution_count": 11,
   "outputs": [],
   "source": [
    "training_dataset = training_dataset.sample(frac=1).reset_index(drop=True)\n",
    "testing_dataset = testing_dataset.sample(frac=1).reset_index(drop=True)"
   ],
   "metadata": {
    "collapsed": false,
    "ExecuteTime": {
     "end_time": "2023-12-08T18:28:47.648769Z",
     "start_time": "2023-12-08T18:28:47.636937Z"
    }
   },
   "id": "17ac064b43d1fa11"
  },
  {
   "cell_type": "code",
   "execution_count": 12,
   "outputs": [],
   "source": [
    "training_dataset['newsarticle'] = training_dataset['newsarticle'].apply(expand_contractions)\n",
    "testing_dataset['newsarticle'] = testing_dataset['newsarticle'].apply(expand_contractions)"
   ],
   "metadata": {
    "collapsed": false,
    "ExecuteTime": {
     "end_time": "2023-12-08T18:28:51.345196Z",
     "start_time": "2023-12-08T18:28:48.251732Z"
    }
   },
   "id": "240aa609306224eb"
  },
  {
   "cell_type": "code",
   "execution_count": 13,
   "outputs": [],
   "source": [
    "stop_words = stopwords.words(\"english\")"
   ],
   "metadata": {
    "collapsed": false,
    "ExecuteTime": {
     "end_time": "2023-12-08T18:28:52.237494Z",
     "start_time": "2023-12-08T18:28:52.224713Z"
    }
   },
   "id": "bd1727969bbb4949"
  },
  {
   "cell_type": "code",
   "execution_count": 14,
   "outputs": [],
   "source": [
    "def wrap(x):\n",
    "    return textwrap.fill(x,replace_whitespace=False,fix_sentence_endings=True)"
   ],
   "metadata": {
    "collapsed": false,
    "ExecuteTime": {
     "end_time": "2023-12-08T18:28:52.774031Z",
     "start_time": "2023-12-08T18:28:52.770171Z"
    }
   },
   "id": "630a4127a83a9408"
  },
  {
   "cell_type": "code",
   "execution_count": 15,
   "outputs": [],
   "source": [
    "import numpy as np\n",
    "import pandas as pd\n",
    "import nltk\n",
    "import re\n",
    "from nltk.tokenize import sent_tokenize\n",
    "from nltk.corpus import stopwords\n",
    "from gensim.models import Word2Vec\n",
    "from scipy import spatial\n",
    "import networkx as nx"
   ],
   "metadata": {
    "collapsed": false,
    "ExecuteTime": {
     "end_time": "2023-12-08T18:28:53.502401Z",
     "start_time": "2023-12-08T18:28:53.300551Z"
    }
   },
   "id": "e15eafe7126e284f"
  },
  {
   "cell_type": "code",
   "execution_count": 16,
   "outputs": [],
   "source": [
    "def textRank(text):\n",
    "    sentences=sent_tokenize(text)\n",
    "    sentences_clean=[re.sub(r'[^\\w\\s]','',sentence.lower()) for sentence in sentences]\n",
    "    stop_words = stopwords.words('english')\n",
    "    sentence_tokens=[[words for words in sentence.split(' ') if words not in stop_words] for sentence in sentences_clean]\n",
    "    w2v=Word2Vec(sentence_tokens,vector_size=1,min_count=1,epochs=1000)\n",
    "    sentence_embeddings=[[w2v.wv[word][0] for word in words] for words in sentence_tokens]\n",
    "    max_len=max([len(tokens) for tokens in sentence_tokens])\n",
    "    sentence_embeddings=[np.pad(embedding,(0,max_len-len(embedding)),'constant') for embedding in sentence_embeddings]\n",
    "    similarity_matrix = np.zeros([len(sentence_tokens), len(sentence_tokens)])\n",
    "    for i,row_embedding in enumerate(sentence_embeddings):\n",
    "        for j,column_embedding in enumerate(sentence_embeddings):\n",
    "            similarity_matrix[i][j]=1-spatial.distance.cosine(row_embedding,column_embedding)\n",
    "    nx_graph = nx.from_numpy_array(similarity_matrix)\n",
    "    scores = nx.pagerank(nx_graph)\n",
    "    top_sentence={sentence:scores[index] for index,sentence in enumerate(sentences)}\n",
    "    top=dict(sorted(top_sentence.items(), key=lambda x: x[1], reverse=True)[:4])\n",
    "    summary = ''\n",
    "    for sent in sentences:\n",
    "        if sent in top.keys():\n",
    "            summary = summary+sent\n",
    "            # print(summary)\n",
    "    return summary"
   ],
   "metadata": {
    "collapsed": false,
    "ExecuteTime": {
     "end_time": "2023-12-08T18:28:56.759078Z",
     "start_time": "2023-12-08T18:28:56.748354Z"
    }
   },
   "id": "3be188dbf51c7c5b"
  },
  {
   "cell_type": "code",
   "execution_count": 17,
   "outputs": [
    {
     "data": {
      "text/plain": "'He added: \"Lots of ministers believe Tony Blair will attempt to move Gordon Brown out of the Treasury after the election.Senior MPs are expected to raise concerns about the latest reports of infighting at the regular meeting of Labour backbenchers on Monday.Tory leader Michael Howard accused the prime minister and Mr Brown of\"squabbling like schoolboys\".Liberal Democrat parliamentary chairman Matthew Taylor said the personal ambition of Mr Blair and Mr Brown was \"getting in the way of good government\".'"
     },
     "execution_count": 17,
     "metadata": {},
     "output_type": "execute_result"
    }
   ],
   "source": [
    "textRank(training_dataset['newsarticle'][1])"
   ],
   "metadata": {
    "collapsed": false,
    "ExecuteTime": {
     "end_time": "2023-12-08T18:29:00.076954Z",
     "start_time": "2023-12-08T18:28:59.608796Z"
    }
   },
   "id": "ff7ce9eb7fe599f0"
  },
  {
   "cell_type": "code",
   "execution_count": 18,
   "outputs": [],
   "source": [
    "train_df, val_df = train_test_split(training_dataset, test_size=0.2, random_state=42)\n",
    "test_df = testing_dataset[0:len(val_df)]\n",
    "\n",
    "# testing_dataset = [0:10]"
   ],
   "metadata": {
    "collapsed": false,
    "ExecuteTime": {
     "end_time": "2023-12-08T18:29:01.891630Z",
     "start_time": "2023-12-08T18:29:01.878711Z"
    }
   },
   "id": "df1213354e95a33d"
  },
  {
   "cell_type": "code",
   "execution_count": 19,
   "outputs": [
    {
     "name": "stderr",
     "output_type": "stream",
     "text": [
      "/Users/kysgattu/anaconda3/lib/python3.11/site-packages/scipy/spatial/distance.py:636: RuntimeWarning: invalid value encountered in scalar divide\n",
      "  dist = 1.0 - uv / np.sqrt(uu * vv)\n"
     ]
    }
   ],
   "source": [
    "import pandas as pd\n",
    "from rouge_score import rouge_scorer\n",
    "from bert_score import score as bert_score\n",
    "\n",
    "\n",
    "# Function to apply summarizer and calculate scores for each row\n",
    "def tr_summarize(row):\n",
    "    news_article = row['newsarticle']\n",
    "    actual_summary = row['summary']\n",
    "\n",
    "    # Generate extractive summary\n",
    "    extractive_summary_str = textRank(news_article)\n",
    "    \n",
    "    # Calculate ROUGE scores\n",
    "    scorer = rouge_scorer.RougeScorer(['rouge1', 'rouge2', 'rougeL'])\n",
    "    rouge_scores = scorer.score(extractive_summary_str, actual_summary)\n",
    "\n",
    "    # Compute BERT scores\n",
    "    _, _, bert_f1 = bert_score([extractive_summary_str], [actual_summary], lang='en', model_type='bert-base-uncased')\n",
    "\n",
    "    return pd.Series({\n",
    "        'predicted_summary': extractive_summary_str,\n",
    "        'rouge1_precision': rouge_scores['rouge1'].precision,\n",
    "        'bert_score': bert_f1.item()\n",
    "    })\n",
    "\n",
    "# Apply the process_row function to each row in the DataFrame\n",
    "result_df = test_df.apply(tr_summarize, axis=1)\n",
    "\n",
    "# Concatenate the result_df with the original DataFrame\n",
    "tr_result_dataset = pd.concat([test_df, result_df], axis=1)\n",
    "\n",
    "# Print the updated DataFrame\n",
    "# print(testing_dataset)\n"
   ],
   "metadata": {
    "collapsed": false,
    "ExecuteTime": {
     "end_time": "2023-12-08T18:33:57.254220Z",
     "start_time": "2023-12-08T18:29:04.944699Z"
    }
   },
   "id": "5d408b7f35d3c31a"
  },
  {
   "cell_type": "code",
   "execution_count": 20,
   "outputs": [
    {
     "data": {
      "text/plain": "            filename                                        newsarticle  \\\n0          sport_455  Slovakia seal Hopman Cup success\\n\\nSlovakia c...   \n1  entertainment_323  Vera Drake leads UK Oscar hopes\\n\\nMike Leighs...   \n2          sport_376  Wasps 31-37 Leicester\\n\\nLeicester withstood a...   \n3  entertainment_244  Ten-year tragedy of missing Manic\\n\\nRichey Ed...   \n4          sport_048  Greek pair set for hearing\\n\\nKostas Kenteris ...   \n\n                                             summary  \\\n0  Dominik Hrbaty, who had not lost a set in his ...   \n1  Kate Winslet was also nominated in the best ac...   \n2  The closing moments saw desperate defence from...   \n3  The Manic Street Preachers release their first...   \n4  Kenteris and Thanou also face criminal charges...   \n\n                                   predicted_summary  rouge1_precision  \\\n0  Slovakias win made up for last years final def...          0.282443   \n1  And Clive Owen and Sophie Okonedo both got nom...          0.234513   \n2  The Tigers stormed 22-6 ahead within 18 minute...          0.284153   \n3  Singer/guitarist James Dean Bradfield, bassist...          0.182759   \n4  Athletics ruling body took action against the ...          0.250000   \n\n   bert_score  \n0    0.558991  \n1    0.625201  \n2    0.663714  \n3    0.577712  \n4    0.651474  ",
      "text/html": "<div>\n<style scoped>\n    .dataframe tbody tr th:only-of-type {\n        vertical-align: middle;\n    }\n\n    .dataframe tbody tr th {\n        vertical-align: top;\n    }\n\n    .dataframe thead th {\n        text-align: right;\n    }\n</style>\n<table border=\"1\" class=\"dataframe\">\n  <thead>\n    <tr style=\"text-align: right;\">\n      <th></th>\n      <th>filename</th>\n      <th>newsarticle</th>\n      <th>summary</th>\n      <th>predicted_summary</th>\n      <th>rouge1_precision</th>\n      <th>bert_score</th>\n    </tr>\n  </thead>\n  <tbody>\n    <tr>\n      <th>0</th>\n      <td>sport_455</td>\n      <td>Slovakia seal Hopman Cup success\\n\\nSlovakia c...</td>\n      <td>Dominik Hrbaty, who had not lost a set in his ...</td>\n      <td>Slovakias win made up for last years final def...</td>\n      <td>0.282443</td>\n      <td>0.558991</td>\n    </tr>\n    <tr>\n      <th>1</th>\n      <td>entertainment_323</td>\n      <td>Vera Drake leads UK Oscar hopes\\n\\nMike Leighs...</td>\n      <td>Kate Winslet was also nominated in the best ac...</td>\n      <td>And Clive Owen and Sophie Okonedo both got nom...</td>\n      <td>0.234513</td>\n      <td>0.625201</td>\n    </tr>\n    <tr>\n      <th>2</th>\n      <td>sport_376</td>\n      <td>Wasps 31-37 Leicester\\n\\nLeicester withstood a...</td>\n      <td>The closing moments saw desperate defence from...</td>\n      <td>The Tigers stormed 22-6 ahead within 18 minute...</td>\n      <td>0.284153</td>\n      <td>0.663714</td>\n    </tr>\n    <tr>\n      <th>3</th>\n      <td>entertainment_244</td>\n      <td>Ten-year tragedy of missing Manic\\n\\nRichey Ed...</td>\n      <td>The Manic Street Preachers release their first...</td>\n      <td>Singer/guitarist James Dean Bradfield, bassist...</td>\n      <td>0.182759</td>\n      <td>0.577712</td>\n    </tr>\n    <tr>\n      <th>4</th>\n      <td>sport_048</td>\n      <td>Greek pair set for hearing\\n\\nKostas Kenteris ...</td>\n      <td>Kenteris and Thanou also face criminal charges...</td>\n      <td>Athletics ruling body took action against the ...</td>\n      <td>0.250000</td>\n      <td>0.651474</td>\n    </tr>\n  </tbody>\n</table>\n</div>"
     },
     "execution_count": 20,
     "metadata": {},
     "output_type": "execute_result"
    }
   ],
   "source": [
    "tr_result_dataset.head()"
   ],
   "metadata": {
    "collapsed": false,
    "ExecuteTime": {
     "end_time": "2023-12-08T18:33:57.261595Z",
     "start_time": "2023-12-08T18:33:57.256412Z"
    }
   },
   "id": "5ea053313e055d11"
  },
  {
   "cell_type": "code",
   "execution_count": 22,
   "outputs": [
    {
     "data": {
      "text/plain": "'Slovakias win made up for last years final defeat to the United States.\"I also feel a little sorry for Guillermo because I get very excited whenever I play for my country.\"I was so nervous because I really wanted to win for the team and for Dominik as he played so well all week,\" she said.\"I did not think I was playing my best but I just tried to hang in there and fight hard for every point for my country.\"'"
     },
     "execution_count": 22,
     "metadata": {},
     "output_type": "execute_result"
    }
   ],
   "source": [
    "tr_result_dataset['predicted_summary'][0]"
   ],
   "metadata": {
    "collapsed": false,
    "ExecuteTime": {
     "end_time": "2023-12-08T18:34:11.487081Z",
     "start_time": "2023-12-08T18:34:11.472988Z"
    }
   },
   "id": "8e99210332f0f380"
  },
  {
   "cell_type": "code",
   "execution_count": 23,
   "outputs": [
    {
     "data": {
      "text/plain": "<Figure size 1200x600 with 2 Axes>",
      "image/png": "[encoded data removed]"
     },
     "metadata": {},
     "output_type": "display_data"
    }
   ],
   "source": [
    "import matplotlib.pyplot as plt\n",
    "\n",
    "# Calculate mean values\n",
    "textRank_mean_rouge = np.mean(tr_result_dataset['rouge1_precision'])\n",
    "textRank_mean_bert = np.mean(tr_result_dataset['bert_score'])\n",
    "\n",
    "\n",
    "# Create separate histogram plots for Rouge and BERT Scores\n",
    "plt.figure(figsize=(12, 6))\n",
    "# plt.title('Same Category Data')\n",
    "\n",
    "# Rouge Score Histogram\n",
    "plt.subplot(1, 2, 1)\n",
    "plt.hist(tr_result_dataset['rouge1_precision'], bins=15, color='#1f77b4')\n",
    "plt.axvline(textRank_mean_rouge, color='red', linestyle='dashed', linewidth=2, label=f'Mean: {textRank_mean_rouge:.3f}')\n",
    "plt.title('Same Category Data Rouge Score Histogram')\n",
    "plt.xlabel('Rouge Score')\n",
    "plt.ylabel('Frequency')\n",
    "\n",
    "# BERT Score Histogram\n",
    "plt.subplot(1, 2, 2)\n",
    "plt.hist(tr_result_dataset['bert_score'], bins=15, color='darkorange')\n",
    "plt.axvline(textRank_mean_bert, color='red', linestyle='dashed', linewidth=2, label=f'Mean: {textRank_mean_bert:.3f}')\n",
    "plt.title('Same Category Data BERT Score Histogram')\n",
    "plt.xlabel('BERT Score')\n",
    "plt.ylabel('Frequency')\n",
    "\n",
    "# Adjust layout\n",
    "plt.tight_layout()\n",
    "\n",
    "# Show the plot\n",
    "plt.show()\n"
   ],
   "metadata": {
    "collapsed": false,
    "ExecuteTime": {
     "end_time": "2023-12-08T18:34:18.788633Z",
     "start_time": "2023-12-08T18:34:18.584934Z"
    }
   },
   "id": "ad377f388d452a6d"
  },
  {
   "cell_type": "code",
   "execution_count": 24,
   "outputs": [
    {
     "name": "stdout",
     "output_type": "stream",
     "text": [
      "[NbConvertApp] Converting notebook TextRank-ExtractiveSummarizer.ipynb to script\r\n",
      "[NbConvertApp] Writing 9318 bytes to TextRank-ExtractiveSummarizer.py\r\n"
     ]
    }
   ],
   "source": [
    "get_ipython().system('jupyter nbconvert --to script TextRank-ExtractiveSummarizer.ipynb')"
   ],
   "metadata": {
    "collapsed": false,
    "ExecuteTime": {
     "end_time": "2023-12-08T18:34:34.901421Z",
     "start_time": "2023-12-08T18:34:33.372471Z"
    }
   },
   "id": "cce98c7aa051aae7"
  },
  {
   "cell_type": "code",
   "execution_count": null,
   "outputs": [],
   "source": [],
   "metadata": {
    "collapsed": false
   },
   "id": "ae5be1697608cef6"
  }
 ],
 "metadata": {
  "kernelspec": {
   "display_name": "Python 3",
   "language": "python",
   "name": "python3"
  },
  "language_info": {
   "codemirror_mode": {
    "name": "ipython",
    "version": 2
   },
   "file_extension": ".py",
   "mimetype": "text/x-python",
   "name": "python",
   "nbconvert_exporter": "python",
   "pygments_lexer": "ipython2",
   "version": "2.7.6"
  }
 },
 "nbformat": 4,
 "nbformat_minor": 5
}
