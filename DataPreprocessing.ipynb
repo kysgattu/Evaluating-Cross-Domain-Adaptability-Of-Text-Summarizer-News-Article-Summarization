{
 "cells": [
  {
   "cell_type": "code",
   "execution_count": 1,
   "id": "initial_id",
   "metadata": {
    "collapsed": true,
    "ExecuteTime": {
     "end_time": "2023-11-23T22:44:09.551492Z",
     "start_time": "2023-11-23T22:44:09.508606Z"
    }
   },
   "outputs": [],
   "source": [
    "from contractions import contractions_dict"
   ]
  },
  {
   "cell_type": "code",
   "execution_count": 2,
   "outputs": [],
   "source": [
    "import re\n",
    "import pandas as pd\n",
    "import matplotlib.pyplot as plt\n",
    "import seaborn as sns\n",
    "\n",
    "from sklearn.model_selection import train_test_split"
   ],
   "metadata": {
    "collapsed": false,
    "ExecuteTime": {
     "end_time": "2023-11-23T22:44:09.555623Z",
     "start_time": "2023-11-23T22:44:09.551884Z"
    }
   },
   "id": "bf20683d05613703"
  },
  {
   "cell_type": "code",
   "execution_count": 3,
   "outputs": [
    {
     "data": {
      "text/plain": "'you all cannot expand contractions id think'"
     },
     "execution_count": 3,
     "metadata": {},
     "output_type": "execute_result"
    }
   ],
   "source": [
    "def expand_contractions(text, contraction_map=None):\n",
    "    if contraction_map is None:\n",
    "        contraction_map = contractions_dict\n",
    "\n",
    "    # Using regex for getting all contracted words\n",
    "    contractions_keys = '|'.join(re.escape(key) for key in contraction_map.keys())\n",
    "    contractions_pattern = re.compile(f'({contractions_keys})', flags=re.DOTALL)\n",
    "\n",
    "    expanded_text = contractions_pattern.sub(lambda match: contraction_map.get(match.group(0), match.group(0)), text)\n",
    "    expanded_text = re.sub(\"'\", \"\", expanded_text)\n",
    "    return expanded_text\n",
    "\n",
    "# Example usage\n",
    "expand_contractions(\"y'all can't expand contractions i'd think\")\n"
   ],
   "metadata": {
    "collapsed": false,
    "ExecuteTime": {
     "end_time": "2023-11-23T22:44:09.564002Z",
     "start_time": "2023-11-23T22:44:09.559069Z"
    }
   },
   "id": "d90be135bc8ff28f"
  },
  {
   "cell_type": "code",
   "execution_count": 4,
   "outputs": [],
   "source": [
    "entertainment = pd.read_csv('data/BBCNewsSummaryCSV/entertainment_data.csv') \n",
    "sport = pd.read_csv('data/BBCNewsSummaryCSV/sport_data.csv')\n",
    "tech = pd.read_csv('data/BBCNewsSummaryCSV/tech_data.csv')"
   ],
   "metadata": {
    "collapsed": false,
    "ExecuteTime": {
     "end_time": "2023-11-23T22:44:09.600426Z",
     "start_time": "2023-11-23T22:44:09.561275Z"
    }
   },
   "id": "c250380048199c56"
  },
  {
   "cell_type": "code",
   "execution_count": 5,
   "outputs": [
    {
     "name": "stdout",
     "output_type": "stream",
     "text": [
      "            filename                                        newsarticle  \\\n",
      "0  entertainment_001  Gallery unveils interactive tree\\n\\nA Christma...   \n",
      "1  entertainment_002  Jarre joins fairytale celebration\\n\\nFrench mu...   \n",
      "2  entertainment_003  Musical treatment for Capra film\\n\\nThe classi...   \n",
      "3  entertainment_004  Richard and Judy choose top books\\n\\nThe 10 au...   \n",
      "4  entertainment_005  Poppins musical gets flying start\\n\\nThe stage...   \n",
      "\n",
      "                                             summary  \n",
      "0  The messages will be \"unwrapped\" by sculptor R...  \n",
      "1  Bloom is to be formally presented with the Han...  \n",
      "2  The classic film It's A Wonderful Life is to b...  \n",
      "3  \"It was very hard to follow last year's extrem...  \n",
      "4  Mary Poppins was originally created by author ...  \n"
     ]
    }
   ],
   "source": [
    "print(entertainment.head())"
   ],
   "metadata": {
    "collapsed": false,
    "ExecuteTime": {
     "end_time": "2023-11-23T22:44:09.604412Z",
     "start_time": "2023-11-23T22:44:09.600907Z"
    }
   },
   "id": "a9ba338e0b034d4b"
  },
  {
   "cell_type": "code",
   "execution_count": 6,
   "outputs": [],
   "source": [
    "training_dataset = pd.concat([entertainment,sport,tech], ignore_index=True)"
   ],
   "metadata": {
    "collapsed": false,
    "ExecuteTime": {
     "end_time": "2023-11-23T22:44:09.608630Z",
     "start_time": "2023-11-23T22:44:09.605080Z"
    }
   },
   "id": "19ef8bc19899ce28"
  },
  {
   "cell_type": "code",
   "execution_count": 7,
   "outputs": [],
   "source": [
    "training_dataset = training_dataset.sample(frac=1).reset_index(drop=True)"
   ],
   "metadata": {
    "collapsed": false,
    "ExecuteTime": {
     "end_time": "2023-11-23T22:44:09.613061Z",
     "start_time": "2023-11-23T22:44:09.607601Z"
    }
   },
   "id": "1b75ae64396d1a08"
  },
  {
   "cell_type": "code",
   "execution_count": 8,
   "outputs": [
    {
     "data": {
      "text/plain": "            filename                                        newsarticle  \\\n0          sport_375  Dallaglio his own man to the end\\n\\nControvers...   \n1  entertainment_058  Berlin hails European cinema\\n\\nOrganisers say...   \n2          sport_087  GB quartet get cross country call\\n\\nFour Brit...   \n3          sport_150  Jol joy at 'professional' Cup win\\n\\nTottenham...   \n4          sport_506  Rusedski forced out in Marseille\\n\\nGreg Rused...   \n\n                                             summary  \n0  To supporters of England, Dallaglio could do n...  \n1  Festival director Dieter Kosslick says this st...  \n2  Yelling clinched the women's European cross co...  \n3  \"If you play like we did and concede two goals...  \n4  Greg Rusedski was forced to withdraw from the ...  ",
      "text/html": "<div>\n<style scoped>\n    .dataframe tbody tr th:only-of-type {\n        vertical-align: middle;\n    }\n\n    .dataframe tbody tr th {\n        vertical-align: top;\n    }\n\n    .dataframe thead th {\n        text-align: right;\n    }\n</style>\n<table border=\"1\" class=\"dataframe\">\n  <thead>\n    <tr style=\"text-align: right;\">\n      <th></th>\n      <th>filename</th>\n      <th>newsarticle</th>\n      <th>summary</th>\n    </tr>\n  </thead>\n  <tbody>\n    <tr>\n      <th>0</th>\n      <td>sport_375</td>\n      <td>Dallaglio his own man to the end\\n\\nControvers...</td>\n      <td>To supporters of England, Dallaglio could do n...</td>\n    </tr>\n    <tr>\n      <th>1</th>\n      <td>entertainment_058</td>\n      <td>Berlin hails European cinema\\n\\nOrganisers say...</td>\n      <td>Festival director Dieter Kosslick says this st...</td>\n    </tr>\n    <tr>\n      <th>2</th>\n      <td>sport_087</td>\n      <td>GB quartet get cross country call\\n\\nFour Brit...</td>\n      <td>Yelling clinched the women's European cross co...</td>\n    </tr>\n    <tr>\n      <th>3</th>\n      <td>sport_150</td>\n      <td>Jol joy at 'professional' Cup win\\n\\nTottenham...</td>\n      <td>\"If you play like we did and concede two goals...</td>\n    </tr>\n    <tr>\n      <th>4</th>\n      <td>sport_506</td>\n      <td>Rusedski forced out in Marseille\\n\\nGreg Rused...</td>\n      <td>Greg Rusedski was forced to withdraw from the ...</td>\n    </tr>\n  </tbody>\n</table>\n</div>"
     },
     "execution_count": 8,
     "metadata": {},
     "output_type": "execute_result"
    }
   ],
   "source": [
    "training_dataset.head()"
   ],
   "metadata": {
    "collapsed": false,
    "ExecuteTime": {
     "end_time": "2023-11-23T22:44:09.618080Z",
     "start_time": "2023-11-23T22:44:09.611584Z"
    }
   },
   "id": "7d64fcdfb8144927"
  },
  {
   "cell_type": "code",
   "execution_count": 9,
   "outputs": [],
   "source": [
    "def getSenLen(sentence):\n",
    "    return len(sentence.split())"
   ],
   "metadata": {
    "collapsed": false,
    "ExecuteTime": {
     "end_time": "2023-11-23T22:44:09.618262Z",
     "start_time": "2023-11-23T22:44:09.615500Z"
    }
   },
   "id": "6b8447b04ec4972e"
  },
  {
   "cell_type": "code",
   "execution_count": 10,
   "outputs": [],
   "source": [
    "training_dataset['article_length'] = training_dataset['newsarticle'].apply(getSenLen)\n",
    "training_dataset['summary_length'] = training_dataset['summary'].apply(getSenLen)"
   ],
   "metadata": {
    "collapsed": false,
    "ExecuteTime": {
     "end_time": "2023-11-23T22:44:09.661855Z",
     "start_time": "2023-11-23T22:44:09.640485Z"
    }
   },
   "id": "f58205d7d5aa03f7"
  },
  {
   "cell_type": "code",
   "execution_count": 18,
   "outputs": [
    {
     "data": {
      "text/plain": "               filename                                        newsarticle  \\\n0             sport_375  Dallaglio his own man to the end\\n\\nControvers...   \n1     entertainment_058  Berlin hails European cinema\\n\\nOrganisers say...   \n2             sport_087  GB quartet get cross country call\\n\\nFour Brit...   \n3             sport_150  Jol joy at 'professional' Cup win\\n\\nTottenham...   \n4             sport_506  Rusedski forced out in Marseille\\n\\nGreg Rused...   \n...                 ...                                                ...   \n1293          sport_115  Giggs handed Wales leading role\\n\\nRyan Giggs ...   \n1294  entertainment_084  Oscar nominees gear up for lunch\\n\\nLeonardo D...   \n1295           tech_043  DVD copy protection strengthened\\n\\nDVDs will ...   \n1296  entertainment_017  Spark heads world Booker list\\n\\nDame Muriel S...   \n1297  entertainment_145  Sir Paul rocks Super Bowl crowds\\n\\nSir Paul M...   \n\n                                                summary  article_length  \\\n0     To supporters of England, Dallaglio could do n...             745   \n1     Festival director Dieter Kosslick says this st...             226   \n2     Yelling clinched the women's European cross co...             184   \n3     \"If you play like we did and concede two goals...             311   \n4     Greg Rusedski was forced to withdraw from the ...             130   \n...                                                 ...             ...   \n1293  \"For this particular game I think it is approp...             648   \n1294  Oscar nominees Swank and Foxx were among the w...             220   \n1295  Macrovision says its new RipGuard technology w...             341   \n1296  Dame Muriel Spark is among three British autho...             252   \n1297  Organisers were widely considered to be playin...             403   \n\n      summary_length  \n0                305  \n1                 97  \n2                 76  \n3                131  \n4                 52  \n...              ...  \n1293             302  \n1294              86  \n1295             128  \n1296             124  \n1297             157  \n\n[1298 rows x 5 columns]",
      "text/html": "<div>\n<style scoped>\n    .dataframe tbody tr th:only-of-type {\n        vertical-align: middle;\n    }\n\n    .dataframe tbody tr th {\n        vertical-align: top;\n    }\n\n    .dataframe thead th {\n        text-align: right;\n    }\n</style>\n<table border=\"1\" class=\"dataframe\">\n  <thead>\n    <tr style=\"text-align: right;\">\n      <th></th>\n      <th>filename</th>\n      <th>newsarticle</th>\n      <th>summary</th>\n      <th>article_length</th>\n      <th>summary_length</th>\n    </tr>\n  </thead>\n  <tbody>\n    <tr>\n      <th>0</th>\n      <td>sport_375</td>\n      <td>Dallaglio his own man to the end\\n\\nControvers...</td>\n      <td>To supporters of England, Dallaglio could do n...</td>\n      <td>745</td>\n      <td>305</td>\n    </tr>\n    <tr>\n      <th>1</th>\n      <td>entertainment_058</td>\n      <td>Berlin hails European cinema\\n\\nOrganisers say...</td>\n      <td>Festival director Dieter Kosslick says this st...</td>\n      <td>226</td>\n      <td>97</td>\n    </tr>\n    <tr>\n      <th>2</th>\n      <td>sport_087</td>\n      <td>GB quartet get cross country call\\n\\nFour Brit...</td>\n      <td>Yelling clinched the women's European cross co...</td>\n      <td>184</td>\n      <td>76</td>\n    </tr>\n    <tr>\n      <th>3</th>\n      <td>sport_150</td>\n      <td>Jol joy at 'professional' Cup win\\n\\nTottenham...</td>\n      <td>\"If you play like we did and concede two goals...</td>\n      <td>311</td>\n      <td>131</td>\n    </tr>\n    <tr>\n      <th>4</th>\n      <td>sport_506</td>\n      <td>Rusedski forced out in Marseille\\n\\nGreg Rused...</td>\n      <td>Greg Rusedski was forced to withdraw from the ...</td>\n      <td>130</td>\n      <td>52</td>\n    </tr>\n    <tr>\n      <th>...</th>\n      <td>...</td>\n      <td>...</td>\n      <td>...</td>\n      <td>...</td>\n      <td>...</td>\n    </tr>\n    <tr>\n      <th>1293</th>\n      <td>sport_115</td>\n      <td>Giggs handed Wales leading role\\n\\nRyan Giggs ...</td>\n      <td>\"For this particular game I think it is approp...</td>\n      <td>648</td>\n      <td>302</td>\n    </tr>\n    <tr>\n      <th>1294</th>\n      <td>entertainment_084</td>\n      <td>Oscar nominees gear up for lunch\\n\\nLeonardo D...</td>\n      <td>Oscar nominees Swank and Foxx were among the w...</td>\n      <td>220</td>\n      <td>86</td>\n    </tr>\n    <tr>\n      <th>1295</th>\n      <td>tech_043</td>\n      <td>DVD copy protection strengthened\\n\\nDVDs will ...</td>\n      <td>Macrovision says its new RipGuard technology w...</td>\n      <td>341</td>\n      <td>128</td>\n    </tr>\n    <tr>\n      <th>1296</th>\n      <td>entertainment_017</td>\n      <td>Spark heads world Booker list\\n\\nDame Muriel S...</td>\n      <td>Dame Muriel Spark is among three British autho...</td>\n      <td>252</td>\n      <td>124</td>\n    </tr>\n    <tr>\n      <th>1297</th>\n      <td>entertainment_145</td>\n      <td>Sir Paul rocks Super Bowl crowds\\n\\nSir Paul M...</td>\n      <td>Organisers were widely considered to be playin...</td>\n      <td>403</td>\n      <td>157</td>\n    </tr>\n  </tbody>\n</table>\n<p>1298 rows × 5 columns</p>\n</div>"
     },
     "execution_count": 18,
     "metadata": {},
     "output_type": "execute_result"
    }
   ],
   "source": [
    "training_dataset"
   ],
   "metadata": {
    "collapsed": false,
    "ExecuteTime": {
     "end_time": "2023-11-23T22:44:40.412365Z",
     "start_time": "2023-11-23T22:44:40.403475Z"
    }
   },
   "id": "b8785c3fbb19e1fa"
  },
  {
   "cell_type": "code",
   "execution_count": 12,
   "outputs": [
    {
     "data": {
      "text/plain": "       article_length  summary_length\ncount     1298.000000     1298.000000\nmean       383.246533      165.270416\nstd        241.582739      109.734916\nmin        114.000000       42.000000\n25%        234.000000       99.250000\n50%        321.000000      137.000000\n75%        464.000000      202.750000\nmax       3482.000000     1706.000000",
      "text/html": "<div>\n<style scoped>\n    .dataframe tbody tr th:only-of-type {\n        vertical-align: middle;\n    }\n\n    .dataframe tbody tr th {\n        vertical-align: top;\n    }\n\n    .dataframe thead th {\n        text-align: right;\n    }\n</style>\n<table border=\"1\" class=\"dataframe\">\n  <thead>\n    <tr style=\"text-align: right;\">\n      <th></th>\n      <th>article_length</th>\n      <th>summary_length</th>\n    </tr>\n  </thead>\n  <tbody>\n    <tr>\n      <th>count</th>\n      <td>1298.000000</td>\n      <td>1298.000000</td>\n    </tr>\n    <tr>\n      <th>mean</th>\n      <td>383.246533</td>\n      <td>165.270416</td>\n    </tr>\n    <tr>\n      <th>std</th>\n      <td>241.582739</td>\n      <td>109.734916</td>\n    </tr>\n    <tr>\n      <th>min</th>\n      <td>114.000000</td>\n      <td>42.000000</td>\n    </tr>\n    <tr>\n      <th>25%</th>\n      <td>234.000000</td>\n      <td>99.250000</td>\n    </tr>\n    <tr>\n      <th>50%</th>\n      <td>321.000000</td>\n      <td>137.000000</td>\n    </tr>\n    <tr>\n      <th>75%</th>\n      <td>464.000000</td>\n      <td>202.750000</td>\n    </tr>\n    <tr>\n      <th>max</th>\n      <td>3482.000000</td>\n      <td>1706.000000</td>\n    </tr>\n  </tbody>\n</table>\n</div>"
     },
     "execution_count": 12,
     "metadata": {},
     "output_type": "execute_result"
    }
   ],
   "source": [
    "training_dataset.describe()"
   ],
   "metadata": {
    "collapsed": false,
    "ExecuteTime": {
     "end_time": "2023-11-23T22:44:09.687353Z",
     "start_time": "2023-11-23T22:44:09.649228Z"
    }
   },
   "id": "61e1e7c53ea37bee"
  },
  {
   "cell_type": "code",
   "execution_count": 13,
   "outputs": [
    {
     "data": {
      "text/plain": "Text(0.5, 1.0, 'Boxplot of Summary Lengths')"
     },
     "execution_count": 13,
     "metadata": {},
     "output_type": "execute_result"
    },
    {
     "data": {
      "text/plain": "<Figure size 1200x600 with 2 Axes>",
      "image/png": "[encoded data removed]"
     },
     "metadata": {},
     "output_type": "display_data"
    }
   ],
   "source": [
    "# Create a subplot with 1 row and 2 columns\n",
    "fig, axes = plt.subplots(nrows=1, ncols=2, figsize=(12, 6))\n",
    "\n",
    "# Plot for the articles' number of words\n",
    "sns.boxplot(training_dataset[\"article_length\"], ax=axes[0])\n",
    "axes[0].set_ylabel(\"Number of Words\")\n",
    "axes[0].set_title(\"Boxplot of Article Lengths\")\n",
    "\n",
    "# Plot for the summaries' number of words\n",
    "sns.boxplot(training_dataset[\"summary_length\"], ax=axes[1])\n",
    "axes[1].set_ylabel(\"Number of Words\")\n",
    "axes[1].set_title(\"Boxplot of Summary Lengths\")\n"
   ],
   "metadata": {
    "collapsed": false,
    "ExecuteTime": {
     "end_time": "2023-11-23T22:44:09.793422Z",
     "start_time": "2023-11-23T22:44:09.655047Z"
    }
   },
   "id": "13bb057a20e14b6e"
  },
  {
   "cell_type": "code",
   "execution_count": 14,
   "outputs": [],
   "source": [
    "# Get statistics for the articles boxplot\n",
    "lines_articles = axes[0].lines[:6]\n",
    "articles_stats = [line.get_ydata()[0] for line in lines_articles]\n",
    "Q1_articles, Q3_articles, lower_whisker_articles, upper_whisker_articles, median_articles = articles_stats[:5]\n",
    "\n",
    "# Get statistics for the summaries boxplot\n",
    "lines_summaries = axes[1].lines[:6]\n",
    "summaries_stats = [line.get_ydata()[0] for line in lines_summaries]\n",
    "Q1_summaries, Q3_summaries, lower_whisker_summaries, upper_whisker_summaries, median_summaries = summaries_stats[:5]"
   ],
   "metadata": {
    "collapsed": false,
    "ExecuteTime": {
     "end_time": "2023-11-23T22:44:09.793722Z",
     "start_time": "2023-11-23T22:44:09.789795Z"
    }
   },
   "id": "5548c1b1ebc4545a"
  },
  {
   "cell_type": "code",
   "execution_count": 19,
   "outputs": [],
   "source": [
    "training_dataset = training_dataset[(training_dataset['summary_length'] <= upper_whisker_summaries) & (training_dataset['article_length'] <= upper_whisker_articles)]"
   ],
   "metadata": {
    "collapsed": false,
    "ExecuteTime": {
     "end_time": "2023-11-23T22:44:58.000793Z",
     "start_time": "2023-11-23T22:44:57.996110Z"
    }
   },
   "id": "386a3fe1b0408491"
  },
  {
   "cell_type": "code",
   "execution_count": 21,
   "outputs": [
    {
     "data": {
      "text/plain": "            filename                                        newsarticle  \\\n0          sport_375  Dallaglio his own man to the end\\n\\nControvers...   \n1  entertainment_058  Berlin hails European cinema\\n\\nOrganisers say...   \n2          sport_087  GB quartet get cross country call\\n\\nFour Brit...   \n3          sport_150  Jol joy at 'professional' Cup win\\n\\nTottenham...   \n4          sport_506  Rusedski forced out in Marseille\\n\\nGreg Rused...   \n\n                                             summary  article_length  \\\n0  To supporters of England, Dallaglio could do n...             745   \n1  Festival director Dieter Kosslick says this st...             226   \n2  Yelling clinched the women's European cross co...             184   \n3  \"If you play like we did and concede two goals...             311   \n4  Greg Rusedski was forced to withdraw from the ...             130   \n\n   summary_length  \n0             305  \n1              97  \n2              76  \n3             131  \n4              52  ",
      "text/html": "<div>\n<style scoped>\n    .dataframe tbody tr th:only-of-type {\n        vertical-align: middle;\n    }\n\n    .dataframe tbody tr th {\n        vertical-align: top;\n    }\n\n    .dataframe thead th {\n        text-align: right;\n    }\n</style>\n<table border=\"1\" class=\"dataframe\">\n  <thead>\n    <tr style=\"text-align: right;\">\n      <th></th>\n      <th>filename</th>\n      <th>newsarticle</th>\n      <th>summary</th>\n      <th>article_length</th>\n      <th>summary_length</th>\n    </tr>\n  </thead>\n  <tbody>\n    <tr>\n      <th>0</th>\n      <td>sport_375</td>\n      <td>Dallaglio his own man to the end\\n\\nControvers...</td>\n      <td>To supporters of England, Dallaglio could do n...</td>\n      <td>745</td>\n      <td>305</td>\n    </tr>\n    <tr>\n      <th>1</th>\n      <td>entertainment_058</td>\n      <td>Berlin hails European cinema\\n\\nOrganisers say...</td>\n      <td>Festival director Dieter Kosslick says this st...</td>\n      <td>226</td>\n      <td>97</td>\n    </tr>\n    <tr>\n      <th>2</th>\n      <td>sport_087</td>\n      <td>GB quartet get cross country call\\n\\nFour Brit...</td>\n      <td>Yelling clinched the women's European cross co...</td>\n      <td>184</td>\n      <td>76</td>\n    </tr>\n    <tr>\n      <th>3</th>\n      <td>sport_150</td>\n      <td>Jol joy at 'professional' Cup win\\n\\nTottenham...</td>\n      <td>\"If you play like we did and concede two goals...</td>\n      <td>311</td>\n      <td>131</td>\n    </tr>\n    <tr>\n      <th>4</th>\n      <td>sport_506</td>\n      <td>Rusedski forced out in Marseille\\n\\nGreg Rused...</td>\n      <td>Greg Rusedski was forced to withdraw from the ...</td>\n      <td>130</td>\n      <td>52</td>\n    </tr>\n  </tbody>\n</table>\n</div>"
     },
     "execution_count": 21,
     "metadata": {},
     "output_type": "execute_result"
    }
   ],
   "source": [
    "training_dataset.head()"
   ],
   "metadata": {
    "collapsed": false,
    "ExecuteTime": {
     "end_time": "2023-11-23T22:45:09.239612Z",
     "start_time": "2023-11-23T22:45:09.230085Z"
    }
   },
   "id": "3a9867c1b3d58118"
  },
  {
   "cell_type": "code",
   "execution_count": 27,
   "outputs": [],
   "source": [
    "\n",
    "\n",
    "train_df, test_df = train_test_split(training_dataset, test_size=0.2, random_state=42)\n"
   ],
   "metadata": {
    "collapsed": false,
    "ExecuteTime": {
     "end_time": "2023-11-26T17:35:47.662925Z",
     "start_time": "2023-11-26T17:35:46.989533Z"
    }
   },
   "id": "707dd8f6e8d5f352"
  },
  {
   "cell_type": "code",
   "execution_count": 28,
   "outputs": [
    {
     "data": {
      "text/plain": "               filename                                        newsarticle  \\\n33    entertainment_144  Eminem beats Elvis to number one\\n\\nRapper Emi...   \n1055  entertainment_329  Van Gogh festival film withdrawn\\n\\nMurdered d...   \n965   entertainment_383  French honour for director Parker\\n\\nBritish f...   \n705   entertainment_193  CSI shows give 'unrealistic view'\\n\\nPeople ha...   \n894            tech_224  Disney backs Sony DVD technology\\n\\nA next gen...   \n...                 ...                                                ...   \n1094  entertainment_330  Douglas set for Indian adventure\\n\\nActor Mich...   \n1147          sport_325  Worcester v Sale (Fri)\\n\\nSixways\\n\\nFriday, 2...   \n1183  entertainment_214  Volcano drama erupts on BBC One\\n\\nSupervolcan...   \n903           sport_501  Ivanovic seals Canberra victory\\n\\nSerbia's An...   \n1179          sport_130  Weir poised for Sunderland move\\n\\nLarne's tee...   \n\n                                                summary  article_length  \\\n33    Last week's number one, Elvis's It's Now or Ne...             196   \n1055  Murdered director Theo van Gogh's controversia...             241   \n965   \"You have explored the possibilities of film w...             225   \n705   \"The CSI effect is basically the perception of...             471   \n894   Film giant Disney says it will produce its fut...             321   \n...                                                 ...             ...   \n1094  Actor Michael Douglas is to co-produce and sta...             227   \n1147  John Payne and Chris Rhys Jones come into the ...             115   \n1183  Also on Christmas Day, John Nettles will retur...             471   \n903   Serbia's Ana Ivanovic captured her first WTA t...             130   \n1179  ''Robbie has an agreement with Larne that he c...             139   \n\n      summary_length  \n33                90  \n1055             104  \n965               87  \n705              222  \n894              152  \n...              ...  \n1094              96  \n1147              47  \n1183             207  \n903               73  \n1179              49  \n\n[992 rows x 5 columns]",
      "text/html": "<div>\n<style scoped>\n    .dataframe tbody tr th:only-of-type {\n        vertical-align: middle;\n    }\n\n    .dataframe tbody tr th {\n        vertical-align: top;\n    }\n\n    .dataframe thead th {\n        text-align: right;\n    }\n</style>\n<table border=\"1\" class=\"dataframe\">\n  <thead>\n    <tr style=\"text-align: right;\">\n      <th></th>\n      <th>filename</th>\n      <th>newsarticle</th>\n      <th>summary</th>\n      <th>article_length</th>\n      <th>summary_length</th>\n    </tr>\n  </thead>\n  <tbody>\n    <tr>\n      <th>33</th>\n      <td>entertainment_144</td>\n      <td>Eminem beats Elvis to number one\\n\\nRapper Emi...</td>\n      <td>Last week's number one, Elvis's It's Now or Ne...</td>\n      <td>196</td>\n      <td>90</td>\n    </tr>\n    <tr>\n      <th>1055</th>\n      <td>entertainment_329</td>\n      <td>Van Gogh festival film withdrawn\\n\\nMurdered d...</td>\n      <td>Murdered director Theo van Gogh's controversia...</td>\n      <td>241</td>\n      <td>104</td>\n    </tr>\n    <tr>\n      <th>965</th>\n      <td>entertainment_383</td>\n      <td>French honour for director Parker\\n\\nBritish f...</td>\n      <td>\"You have explored the possibilities of film w...</td>\n      <td>225</td>\n      <td>87</td>\n    </tr>\n    <tr>\n      <th>705</th>\n      <td>entertainment_193</td>\n      <td>CSI shows give 'unrealistic view'\\n\\nPeople ha...</td>\n      <td>\"The CSI effect is basically the perception of...</td>\n      <td>471</td>\n      <td>222</td>\n    </tr>\n    <tr>\n      <th>894</th>\n      <td>tech_224</td>\n      <td>Disney backs Sony DVD technology\\n\\nA next gen...</td>\n      <td>Film giant Disney says it will produce its fut...</td>\n      <td>321</td>\n      <td>152</td>\n    </tr>\n    <tr>\n      <th>...</th>\n      <td>...</td>\n      <td>...</td>\n      <td>...</td>\n      <td>...</td>\n      <td>...</td>\n    </tr>\n    <tr>\n      <th>1094</th>\n      <td>entertainment_330</td>\n      <td>Douglas set for Indian adventure\\n\\nActor Mich...</td>\n      <td>Actor Michael Douglas is to co-produce and sta...</td>\n      <td>227</td>\n      <td>96</td>\n    </tr>\n    <tr>\n      <th>1147</th>\n      <td>sport_325</td>\n      <td>Worcester v Sale (Fri)\\n\\nSixways\\n\\nFriday, 2...</td>\n      <td>John Payne and Chris Rhys Jones come into the ...</td>\n      <td>115</td>\n      <td>47</td>\n    </tr>\n    <tr>\n      <th>1183</th>\n      <td>entertainment_214</td>\n      <td>Volcano drama erupts on BBC One\\n\\nSupervolcan...</td>\n      <td>Also on Christmas Day, John Nettles will retur...</td>\n      <td>471</td>\n      <td>207</td>\n    </tr>\n    <tr>\n      <th>903</th>\n      <td>sport_501</td>\n      <td>Ivanovic seals Canberra victory\\n\\nSerbia's An...</td>\n      <td>Serbia's Ana Ivanovic captured her first WTA t...</td>\n      <td>130</td>\n      <td>73</td>\n    </tr>\n    <tr>\n      <th>1179</th>\n      <td>sport_130</td>\n      <td>Weir poised for Sunderland move\\n\\nLarne's tee...</td>\n      <td>''Robbie has an agreement with Larne that he c...</td>\n      <td>139</td>\n      <td>49</td>\n    </tr>\n  </tbody>\n</table>\n<p>992 rows × 5 columns</p>\n</div>"
     },
     "execution_count": 28,
     "metadata": {},
     "output_type": "execute_result"
    }
   ],
   "source": [
    "train_df"
   ],
   "metadata": {
    "collapsed": false,
    "ExecuteTime": {
     "end_time": "2023-11-26T17:35:51.371831Z",
     "start_time": "2023-11-26T17:35:51.358286Z"
    }
   },
   "id": "13177b1f7ccecfcf"
  },
  {
   "cell_type": "code",
   "execution_count": null,
   "outputs": [],
   "source": [],
   "metadata": {
    "collapsed": false
   },
   "id": "edb4e34da07b0562"
  }
 ],
 "metadata": {
  "kernelspec": {
   "display_name": "Python 3",
   "language": "python",
   "name": "python3"
  },
  "language_info": {
   "codemirror_mode": {
    "name": "ipython",
    "version": 2
   },
   "file_extension": ".py",
   "mimetype": "text/x-python",
   "name": "python",
   "nbconvert_exporter": "python",
   "pygments_lexer": "ipython2",
   "version": "2.7.6"
  }
 },
 "nbformat": 4,
 "nbformat_minor": 5
}
