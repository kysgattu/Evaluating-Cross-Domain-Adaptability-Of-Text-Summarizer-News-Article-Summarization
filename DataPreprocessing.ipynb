{
 "cells": [
  {
   "cell_type": "code",
   "execution_count": 1,
   "id": "initial_id",
   "metadata": {
    "collapsed": true,
    "ExecuteTime": {
     "end_time": "2023-12-02T15:59:24.402358Z",
     "start_time": "2023-12-02T15:59:24.348154Z"
    }
   },
   "outputs": [],
   "source": [
    "from contractions import contractions_dict"
   ]
  },
  {
   "cell_type": "code",
   "execution_count": 2,
   "outputs": [],
   "source": [
    "import re\n",
    "import pandas as pd\n",
    "import matplotlib.pyplot as plt\n",
    "import seaborn as sns\n",
    "\n",
    "from sklearn.model_selection import train_test_split"
   ],
   "metadata": {
    "collapsed": false,
    "ExecuteTime": {
     "end_time": "2023-12-02T15:59:24.562038Z",
     "start_time": "2023-12-02T15:59:24.401983Z"
    }
   },
   "id": "bf20683d05613703"
  },
  {
   "cell_type": "code",
   "execution_count": 3,
   "outputs": [
    {
     "data": {
      "text/plain": "'you all cannot expand contractions id think'"
     },
     "execution_count": 3,
     "metadata": {},
     "output_type": "execute_result"
    }
   ],
   "source": [
    "def expand_contractions(text, contraction_map=None):\n",
    "    if contraction_map is None:\n",
    "        contraction_map = contractions_dict\n",
    "\n",
    "    # Using regex for getting all contracted words\n",
    "    contractions_keys = '|'.join(re.escape(key) for key in contraction_map.keys())\n",
    "    contractions_pattern = re.compile(f'({contractions_keys})', flags=re.DOTALL)\n",
    "\n",
    "    expanded_text = contractions_pattern.sub(lambda match: contraction_map.get(match.group(0), match.group(0)), text)\n",
    "    expanded_text = re.sub(\"'\", \"\", expanded_text)\n",
    "    return expanded_text\n",
    "\n",
    "# Example usage\n",
    "expand_contractions(\"y'all can't expand contractions i'd think\")\n"
   ],
   "metadata": {
    "collapsed": false,
    "ExecuteTime": {
     "end_time": "2023-12-02T15:59:24.571744Z",
     "start_time": "2023-12-02T15:59:24.566810Z"
    }
   },
   "id": "d90be135bc8ff28f"
  },
  {
   "cell_type": "code",
   "execution_count": 4,
   "outputs": [],
   "source": [
    "entertainment = pd.read_csv('data/BBCNewsSummaryCSV/entertainment_data.csv') \n",
    "sport = pd.read_csv('data/BBCNewsSummaryCSV/sport_data.csv')\n",
    "tech = pd.read_csv('data/BBCNewsSummaryCSV/tech_data.csv')"
   ],
   "metadata": {
    "collapsed": false,
    "ExecuteTime": {
     "end_time": "2023-12-02T15:59:24.613084Z",
     "start_time": "2023-12-02T15:59:24.569403Z"
    }
   },
   "id": "c250380048199c56"
  },
  {
   "cell_type": "code",
   "execution_count": 5,
   "outputs": [
    {
     "name": "stdout",
     "output_type": "stream",
     "text": [
      "            filename                                        newsarticle  \\\n",
      "0  entertainment_001  Gallery unveils interactive tree\\n\\nA Christma...   \n",
      "1  entertainment_002  Jarre joins fairytale celebration\\n\\nFrench mu...   \n",
      "2  entertainment_003  Musical treatment for Capra film\\n\\nThe classi...   \n",
      "3  entertainment_004  Richard and Judy choose top books\\n\\nThe 10 au...   \n",
      "4  entertainment_005  Poppins musical gets flying start\\n\\nThe stage...   \n",
      "\n",
      "                                             summary  \n",
      "0  The messages will be \"unwrapped\" by sculptor R...  \n",
      "1  Bloom is to be formally presented with the Han...  \n",
      "2  The classic film It's A Wonderful Life is to b...  \n",
      "3  \"It was very hard to follow last year's extrem...  \n",
      "4  Mary Poppins was originally created by author ...  \n"
     ]
    }
   ],
   "source": [
    "print(entertainment.head())"
   ],
   "metadata": {
    "collapsed": false,
    "ExecuteTime": {
     "end_time": "2023-12-02T15:59:24.622053Z",
     "start_time": "2023-12-02T15:59:24.615205Z"
    }
   },
   "id": "a9ba338e0b034d4b"
  },
  {
   "cell_type": "code",
   "execution_count": 6,
   "outputs": [],
   "source": [
    "training_dataset = pd.concat([entertainment,sport,tech], ignore_index=True)"
   ],
   "metadata": {
    "collapsed": false,
    "ExecuteTime": {
     "end_time": "2023-12-02T15:59:24.626404Z",
     "start_time": "2023-12-02T15:59:24.620599Z"
    }
   },
   "id": "19ef8bc19899ce28"
  },
  {
   "cell_type": "code",
   "execution_count": 7,
   "outputs": [],
   "source": [
    "training_dataset = training_dataset.sample(frac=1).reset_index(drop=True)"
   ],
   "metadata": {
    "collapsed": false,
    "ExecuteTime": {
     "end_time": "2023-12-02T15:59:24.630252Z",
     "start_time": "2023-12-02T15:59:24.623130Z"
    }
   },
   "id": "1b75ae64396d1a08"
  },
  {
   "cell_type": "code",
   "execution_count": 8,
   "outputs": [
    {
     "data": {
      "text/plain": "            filename                                        newsarticle  \\\n0  entertainment_097  Surprise win for anti-Bush film\\n\\nMichael Moo...   \n1           tech_329  Intel unveils laser breakthrough\\n\\nIntel has ...   \n2           tech_352  Slow start to speedy net services\\n\\nFaster br...   \n3          sport_461  Rusedski angry over supplements\\n\\nGreg Ruseds...   \n4           tech_074  China 'to overtake US net use'\\n\\nThe Chinese ...   \n\n                                             summary  \n0  Moore said it was \"an historic occasion\" that ...  \n1  While work has been done to make some of the c...  \n2  For BT Retail, she said, the super-fast servic...  \n3  \"You would think they would have been availabl...  \n4  The net is key to helping Chinese people keep ...  ",
      "text/html": "<div>\n<style scoped>\n    .dataframe tbody tr th:only-of-type {\n        vertical-align: middle;\n    }\n\n    .dataframe tbody tr th {\n        vertical-align: top;\n    }\n\n    .dataframe thead th {\n        text-align: right;\n    }\n</style>\n<table border=\"1\" class=\"dataframe\">\n  <thead>\n    <tr style=\"text-align: right;\">\n      <th></th>\n      <th>filename</th>\n      <th>newsarticle</th>\n      <th>summary</th>\n    </tr>\n  </thead>\n  <tbody>\n    <tr>\n      <th>0</th>\n      <td>entertainment_097</td>\n      <td>Surprise win for anti-Bush film\\n\\nMichael Moo...</td>\n      <td>Moore said it was \"an historic occasion\" that ...</td>\n    </tr>\n    <tr>\n      <th>1</th>\n      <td>tech_329</td>\n      <td>Intel unveils laser breakthrough\\n\\nIntel has ...</td>\n      <td>While work has been done to make some of the c...</td>\n    </tr>\n    <tr>\n      <th>2</th>\n      <td>tech_352</td>\n      <td>Slow start to speedy net services\\n\\nFaster br...</td>\n      <td>For BT Retail, she said, the super-fast servic...</td>\n    </tr>\n    <tr>\n      <th>3</th>\n      <td>sport_461</td>\n      <td>Rusedski angry over supplements\\n\\nGreg Ruseds...</td>\n      <td>\"You would think they would have been availabl...</td>\n    </tr>\n    <tr>\n      <th>4</th>\n      <td>tech_074</td>\n      <td>China 'to overtake US net use'\\n\\nThe Chinese ...</td>\n      <td>The net is key to helping Chinese people keep ...</td>\n    </tr>\n  </tbody>\n</table>\n</div>"
     },
     "execution_count": 8,
     "metadata": {},
     "output_type": "execute_result"
    }
   ],
   "source": [
    "training_dataset.head()"
   ],
   "metadata": {
    "collapsed": false,
    "ExecuteTime": {
     "end_time": "2023-12-02T15:59:24.634901Z",
     "start_time": "2023-12-02T15:59:24.628908Z"
    }
   },
   "id": "7d64fcdfb8144927"
  },
  {
   "cell_type": "code",
   "execution_count": 9,
   "outputs": [],
   "source": [
    "def getSenLen(sentence):\n",
    "    return len(sentence.split())"
   ],
   "metadata": {
    "collapsed": false,
    "ExecuteTime": {
     "end_time": "2023-12-02T15:59:24.635446Z",
     "start_time": "2023-12-02T15:59:24.633409Z"
    }
   },
   "id": "6b8447b04ec4972e"
  },
  {
   "cell_type": "code",
   "execution_count": 10,
   "outputs": [],
   "source": [
    "training_dataset['article_length'] = training_dataset['newsarticle'].apply(getSenLen)\n",
    "training_dataset['summary_length'] = training_dataset['summary'].apply(getSenLen)"
   ],
   "metadata": {
    "collapsed": false,
    "ExecuteTime": {
     "end_time": "2023-12-02T15:59:24.698249Z",
     "start_time": "2023-12-02T15:59:24.636173Z"
    }
   },
   "id": "f58205d7d5aa03f7"
  },
  {
   "cell_type": "code",
   "execution_count": 11,
   "outputs": [
    {
     "data": {
      "text/plain": "               filename                                        newsarticle  \\\n0     entertainment_097  Surprise win for anti-Bush film\\n\\nMichael Moo...   \n1              tech_329  Intel unveils laser breakthrough\\n\\nIntel has ...   \n2              tech_352  Slow start to speedy net services\\n\\nFaster br...   \n3             sport_461  Rusedski angry over supplements\\n\\nGreg Ruseds...   \n4              tech_074  China 'to overtake US net use'\\n\\nThe Chinese ...   \n...                 ...                                                ...   \n1293  entertainment_177  Hillbillies singer Scoggins dies\\n\\nCountry an...   \n1294           tech_346  Warnings on woeful wi-fi security\\n\\nCompanies...   \n1295          sport_024  Chepkemei joins Edinburgh line-up\\n\\nSusan Che...   \n1296  entertainment_128  Top gig award for Scissor Sisters\\n\\nNew York ...   \n1297  entertainment_246  Singer Sizzla jailed for swearing\\n\\nReggae st...   \n\n                                                summary  article_length  \\\n0     Moore said it was \"an historic occasion\" that ...             309   \n1     While work has been done to make some of the c...             481   \n2     For BT Retail, she said, the super-fast servic...             273   \n3     \"You would think they would have been availabl...             305   \n4     The net is key to helping Chinese people keep ...             500   \n...                                                 ...             ...   \n1293  Scoggins was best remembered for singing the t...             164   \n1294  A survey of wi-fi networks in London, Frankfur...             393   \n1295  Susan Chepkemei has decided she is fit enough ...             167   \n1296  New York band Scissor Sisters have won a gig o...             211   \n1297  Reggae star Sizzla, whose UK tour was cancelle...             201   \n\n      summary_length  \n0                138  \n1                219  \n2                130  \n3                113  \n4                203  \n...              ...  \n1293              79  \n1294             162  \n1295              72  \n1296              85  \n1297              65  \n\n[1298 rows x 5 columns]",
      "text/html": "<div>\n<style scoped>\n    .dataframe tbody tr th:only-of-type {\n        vertical-align: middle;\n    }\n\n    .dataframe tbody tr th {\n        vertical-align: top;\n    }\n\n    .dataframe thead th {\n        text-align: right;\n    }\n</style>\n<table border=\"1\" class=\"dataframe\">\n  <thead>\n    <tr style=\"text-align: right;\">\n      <th></th>\n      <th>filename</th>\n      <th>newsarticle</th>\n      <th>summary</th>\n      <th>article_length</th>\n      <th>summary_length</th>\n    </tr>\n  </thead>\n  <tbody>\n    <tr>\n      <th>0</th>\n      <td>entertainment_097</td>\n      <td>Surprise win for anti-Bush film\\n\\nMichael Moo...</td>\n      <td>Moore said it was \"an historic occasion\" that ...</td>\n      <td>309</td>\n      <td>138</td>\n    </tr>\n    <tr>\n      <th>1</th>\n      <td>tech_329</td>\n      <td>Intel unveils laser breakthrough\\n\\nIntel has ...</td>\n      <td>While work has been done to make some of the c...</td>\n      <td>481</td>\n      <td>219</td>\n    </tr>\n    <tr>\n      <th>2</th>\n      <td>tech_352</td>\n      <td>Slow start to speedy net services\\n\\nFaster br...</td>\n      <td>For BT Retail, she said, the super-fast servic...</td>\n      <td>273</td>\n      <td>130</td>\n    </tr>\n    <tr>\n      <th>3</th>\n      <td>sport_461</td>\n      <td>Rusedski angry over supplements\\n\\nGreg Ruseds...</td>\n      <td>\"You would think they would have been availabl...</td>\n      <td>305</td>\n      <td>113</td>\n    </tr>\n    <tr>\n      <th>4</th>\n      <td>tech_074</td>\n      <td>China 'to overtake US net use'\\n\\nThe Chinese ...</td>\n      <td>The net is key to helping Chinese people keep ...</td>\n      <td>500</td>\n      <td>203</td>\n    </tr>\n    <tr>\n      <th>...</th>\n      <td>...</td>\n      <td>...</td>\n      <td>...</td>\n      <td>...</td>\n      <td>...</td>\n    </tr>\n    <tr>\n      <th>1293</th>\n      <td>entertainment_177</td>\n      <td>Hillbillies singer Scoggins dies\\n\\nCountry an...</td>\n      <td>Scoggins was best remembered for singing the t...</td>\n      <td>164</td>\n      <td>79</td>\n    </tr>\n    <tr>\n      <th>1294</th>\n      <td>tech_346</td>\n      <td>Warnings on woeful wi-fi security\\n\\nCompanies...</td>\n      <td>A survey of wi-fi networks in London, Frankfur...</td>\n      <td>393</td>\n      <td>162</td>\n    </tr>\n    <tr>\n      <th>1295</th>\n      <td>sport_024</td>\n      <td>Chepkemei joins Edinburgh line-up\\n\\nSusan Che...</td>\n      <td>Susan Chepkemei has decided she is fit enough ...</td>\n      <td>167</td>\n      <td>72</td>\n    </tr>\n    <tr>\n      <th>1296</th>\n      <td>entertainment_128</td>\n      <td>Top gig award for Scissor Sisters\\n\\nNew York ...</td>\n      <td>New York band Scissor Sisters have won a gig o...</td>\n      <td>211</td>\n      <td>85</td>\n    </tr>\n    <tr>\n      <th>1297</th>\n      <td>entertainment_246</td>\n      <td>Singer Sizzla jailed for swearing\\n\\nReggae st...</td>\n      <td>Reggae star Sizzla, whose UK tour was cancelle...</td>\n      <td>201</td>\n      <td>65</td>\n    </tr>\n  </tbody>\n</table>\n<p>1298 rows × 5 columns</p>\n</div>"
     },
     "execution_count": 11,
     "metadata": {},
     "output_type": "execute_result"
    }
   ],
   "source": [
    "training_dataset"
   ],
   "metadata": {
    "collapsed": false,
    "ExecuteTime": {
     "end_time": "2023-12-02T15:59:24.705423Z",
     "start_time": "2023-12-02T15:59:24.664694Z"
    }
   },
   "id": "b8785c3fbb19e1fa"
  },
  {
   "cell_type": "code",
   "execution_count": 12,
   "outputs": [
    {
     "data": {
      "text/plain": "       article_length  summary_length\ncount     1298.000000     1298.000000\nmean       383.246533      165.270416\nstd        241.582739      109.734916\nmin        114.000000       42.000000\n25%        234.000000       99.250000\n50%        321.000000      137.000000\n75%        464.000000      202.750000\nmax       3482.000000     1706.000000",
      "text/html": "<div>\n<style scoped>\n    .dataframe tbody tr th:only-of-type {\n        vertical-align: middle;\n    }\n\n    .dataframe tbody tr th {\n        vertical-align: top;\n    }\n\n    .dataframe thead th {\n        text-align: right;\n    }\n</style>\n<table border=\"1\" class=\"dataframe\">\n  <thead>\n    <tr style=\"text-align: right;\">\n      <th></th>\n      <th>article_length</th>\n      <th>summary_length</th>\n    </tr>\n  </thead>\n  <tbody>\n    <tr>\n      <th>count</th>\n      <td>1298.000000</td>\n      <td>1298.000000</td>\n    </tr>\n    <tr>\n      <th>mean</th>\n      <td>383.246533</td>\n      <td>165.270416</td>\n    </tr>\n    <tr>\n      <th>std</th>\n      <td>241.582739</td>\n      <td>109.734916</td>\n    </tr>\n    <tr>\n      <th>min</th>\n      <td>114.000000</td>\n      <td>42.000000</td>\n    </tr>\n    <tr>\n      <th>25%</th>\n      <td>234.000000</td>\n      <td>99.250000</td>\n    </tr>\n    <tr>\n      <th>50%</th>\n      <td>321.000000</td>\n      <td>137.000000</td>\n    </tr>\n    <tr>\n      <th>75%</th>\n      <td>464.000000</td>\n      <td>202.750000</td>\n    </tr>\n    <tr>\n      <th>max</th>\n      <td>3482.000000</td>\n      <td>1706.000000</td>\n    </tr>\n  </tbody>\n</table>\n</div>"
     },
     "execution_count": 12,
     "metadata": {},
     "output_type": "execute_result"
    }
   ],
   "source": [
    "training_dataset.describe()"
   ],
   "metadata": {
    "collapsed": false,
    "ExecuteTime": {
     "end_time": "2023-12-02T15:59:24.705744Z",
     "start_time": "2023-12-02T15:59:24.667902Z"
    }
   },
   "id": "61e1e7c53ea37bee"
  },
  {
   "cell_type": "code",
   "execution_count": 13,
   "outputs": [
    {
     "data": {
      "text/plain": "Text(0.5, 1.0, 'Boxplot of Summary Lengths')"
     },
     "execution_count": 13,
     "metadata": {},
     "output_type": "execute_result"
    },
    {
     "data": {
      "text/plain": "<Figure size 1200x600 with 2 Axes>",
      "image/png": "[encoded data removed]"
     },
     "metadata": {},
     "output_type": "display_data"
    }
   ],
   "source": [
    "# Create a subplot with 1 row and 2 columns\n",
    "fig, axes = plt.subplots(nrows=1, ncols=2, figsize=(12, 6))\n",
    "\n",
    "# Plot for the articles' number of words\n",
    "sns.boxplot(training_dataset[\"article_length\"], ax=axes[0])\n",
    "axes[0].set_ylabel(\"Number of Words\")\n",
    "axes[0].set_title(\"Boxplot of Article Lengths\")\n",
    "\n",
    "# Plot for the summaries' number of words\n",
    "sns.boxplot(training_dataset[\"summary_length\"], ax=axes[1])\n",
    "axes[1].set_ylabel(\"Number of Words\")\n",
    "axes[1].set_title(\"Boxplot of Summary Lengths\")\n"
   ],
   "metadata": {
    "collapsed": false,
    "ExecuteTime": {
     "end_time": "2023-12-02T15:59:24.846520Z",
     "start_time": "2023-12-02T15:59:24.675179Z"
    }
   },
   "id": "13bb057a20e14b6e"
  },
  {
   "cell_type": "code",
   "execution_count": 14,
   "outputs": [],
   "source": [
    "# Get statistics for the articles boxplot\n",
    "lines_articles = axes[0].lines[:6]\n",
    "articles_stats = [line.get_ydata()[0] for line in lines_articles]\n",
    "Q1_articles, Q3_articles, lower_whisker_articles, upper_whisker_articles, median_articles = articles_stats[:5]\n",
    "\n",
    "# Get statistics for the summaries boxplot\n",
    "lines_summaries = axes[1].lines[:6]\n",
    "summaries_stats = [line.get_ydata()[0] for line in lines_summaries]\n",
    "Q1_summaries, Q3_summaries, lower_whisker_summaries, upper_whisker_summaries, median_summaries = summaries_stats[:5]"
   ],
   "metadata": {
    "collapsed": false,
    "ExecuteTime": {
     "end_time": "2023-12-02T15:59:24.846688Z",
     "start_time": "2023-12-02T15:59:24.837104Z"
    }
   },
   "id": "5548c1b1ebc4545a"
  },
  {
   "cell_type": "code",
   "execution_count": 15,
   "outputs": [],
   "source": [
    "training_dataset = training_dataset[(training_dataset['summary_length'] <= upper_whisker_summaries) & (training_dataset['article_length'] <= upper_whisker_articles)]"
   ],
   "metadata": {
    "collapsed": false,
    "ExecuteTime": {
     "end_time": "2023-12-02T15:59:24.850652Z",
     "start_time": "2023-12-02T15:59:24.842939Z"
    }
   },
   "id": "386a3fe1b0408491"
  },
  {
   "cell_type": "code",
   "execution_count": 16,
   "outputs": [
    {
     "data": {
      "text/plain": "            filename                                        newsarticle  \\\n0  entertainment_097  Surprise win for anti-Bush film\\n\\nMichael Moo...   \n1           tech_329  Intel unveils laser breakthrough\\n\\nIntel has ...   \n2           tech_352  Slow start to speedy net services\\n\\nFaster br...   \n3          sport_461  Rusedski angry over supplements\\n\\nGreg Ruseds...   \n4           tech_074  China 'to overtake US net use'\\n\\nThe Chinese ...   \n\n                                             summary  article_length  \\\n0  Moore said it was \"an historic occasion\" that ...             309   \n1  While work has been done to make some of the c...             481   \n2  For BT Retail, she said, the super-fast servic...             273   \n3  \"You would think they would have been availabl...             305   \n4  The net is key to helping Chinese people keep ...             500   \n\n   summary_length  \n0             138  \n1             219  \n2             130  \n3             113  \n4             203  ",
      "text/html": "<div>\n<style scoped>\n    .dataframe tbody tr th:only-of-type {\n        vertical-align: middle;\n    }\n\n    .dataframe tbody tr th {\n        vertical-align: top;\n    }\n\n    .dataframe thead th {\n        text-align: right;\n    }\n</style>\n<table border=\"1\" class=\"dataframe\">\n  <thead>\n    <tr style=\"text-align: right;\">\n      <th></th>\n      <th>filename</th>\n      <th>newsarticle</th>\n      <th>summary</th>\n      <th>article_length</th>\n      <th>summary_length</th>\n    </tr>\n  </thead>\n  <tbody>\n    <tr>\n      <th>0</th>\n      <td>entertainment_097</td>\n      <td>Surprise win for anti-Bush film\\n\\nMichael Moo...</td>\n      <td>Moore said it was \"an historic occasion\" that ...</td>\n      <td>309</td>\n      <td>138</td>\n    </tr>\n    <tr>\n      <th>1</th>\n      <td>tech_329</td>\n      <td>Intel unveils laser breakthrough\\n\\nIntel has ...</td>\n      <td>While work has been done to make some of the c...</td>\n      <td>481</td>\n      <td>219</td>\n    </tr>\n    <tr>\n      <th>2</th>\n      <td>tech_352</td>\n      <td>Slow start to speedy net services\\n\\nFaster br...</td>\n      <td>For BT Retail, she said, the super-fast servic...</td>\n      <td>273</td>\n      <td>130</td>\n    </tr>\n    <tr>\n      <th>3</th>\n      <td>sport_461</td>\n      <td>Rusedski angry over supplements\\n\\nGreg Ruseds...</td>\n      <td>\"You would think they would have been availabl...</td>\n      <td>305</td>\n      <td>113</td>\n    </tr>\n    <tr>\n      <th>4</th>\n      <td>tech_074</td>\n      <td>China 'to overtake US net use'\\n\\nThe Chinese ...</td>\n      <td>The net is key to helping Chinese people keep ...</td>\n      <td>500</td>\n      <td>203</td>\n    </tr>\n  </tbody>\n</table>\n</div>"
     },
     "execution_count": 16,
     "metadata": {},
     "output_type": "execute_result"
    }
   ],
   "source": [
    "training_dataset.head()"
   ],
   "metadata": {
    "collapsed": false,
    "ExecuteTime": {
     "end_time": "2023-12-02T15:59:24.864976Z",
     "start_time": "2023-12-02T15:59:24.849194Z"
    }
   },
   "id": "3a9867c1b3d58118"
  },
  {
   "cell_type": "code",
   "execution_count": 17,
   "outputs": [],
   "source": [
    "df = training_dataset"
   ],
   "metadata": {
    "collapsed": false,
    "ExecuteTime": {
     "end_time": "2023-12-02T15:59:24.865445Z",
     "start_time": "2023-12-02T15:59:24.853065Z"
    }
   },
   "id": "4ca1cac6537c484"
  },
  {
   "cell_type": "code",
   "execution_count": 20,
   "outputs": [],
   "source": [
    "import torch\n",
    "from torch.nn.utils.rnn import pad_sequence\n",
    "from torch.utils.data import TensorDataset, DataLoader\n",
    "from transformers import BartTokenizer, BartForConditionalGeneration, AdamW, get_linear_schedule_with_warmup\n",
    "from sklearn.model_selection import train_test_split\n",
    "from tqdm import tqdm\n",
    "import pandas as pd\n",
    "from rouge_score import rouge_scorer\n",
    "from torch.cuda.amp import autocast, GradScaler\n",
    "from torch.nn.utils import clip_grad_norm_"
   ],
   "metadata": {
    "collapsed": false,
    "ExecuteTime": {
     "end_time": "2023-12-02T16:00:47.005655Z",
     "start_time": "2023-12-02T16:00:46.349222Z"
    }
   },
   "id": "32521c5a44390a50"
  },
  {
   "cell_type": "code",
   "execution_count": 22,
   "outputs": [
    {
     "name": "stderr",
     "output_type": "stream",
     "text": [
      "/var/folders/qd/t1dpxdpn0xj2byx5h2wvvzr80000gn/T/ipykernel_75830/3414705335.py:17: SettingWithCopyWarning: \n",
      "A value is trying to be set on a copy of a slice from a DataFrame.\n",
      "Try using .loc[row_indexer,col_indexer] = value instead\n",
      "\n",
      "See the caveats in the documentation: https://pandas.pydata.org/pandas-docs/stable/user_guide/indexing.html#returning-a-view-versus-a-copy\n",
      "  df['TokenizedText'] = df['newsarticle'].apply(tokenize_text)\n",
      "/var/folders/qd/t1dpxdpn0xj2byx5h2wvvzr80000gn/T/ipykernel_75830/3414705335.py:18: SettingWithCopyWarning: \n",
      "A value is trying to be set on a copy of a slice from a DataFrame.\n",
      "Try using .loc[row_indexer,col_indexer] = value instead\n",
      "\n",
      "See the caveats in the documentation: https://pandas.pydata.org/pandas-docs/stable/user_guide/indexing.html#returning-a-view-versus-a-copy\n",
      "  df['TokenizedSummary'] = df['summary'].apply(tokenize_summary)\n"
     ]
    }
   ],
   "source": [
    "# Define the device for GPU usage (if available)\n",
    "device = torch.device(\"cuda\" if torch.cuda.is_available() else \"cpu\")\n",
    "\n",
    "# Tokenize and preprocess the text data\n",
    "tokenizer = BartTokenizer.from_pretrained('facebook/bart-base')\n",
    "max_length = 512  # Maximum sequence length\n",
    "\n",
    "def tokenize_text(text):\n",
    "    inputs = tokenizer.encode(\"summarize: \" + text, return_tensors=\"pt\", max_length=512, truncation=True, padding='max_length', return_attention_mask=True)\n",
    "    return inputs.to(device)  # Move the tokenized inputs to the GPU\n",
    "\n",
    "def tokenize_summary(text):\n",
    "    inputs = tokenizer.encode(text, return_tensors=\"pt\", max_length=280, truncation=True, padding='max_length', return_attention_mask=True)\n",
    "    return inputs.to(device)  # Move the tokenized summaries to the GPU\n",
    "\n",
    "\n",
    "df['TokenizedText'] = df['newsarticle'].apply(tokenize_text)\n",
    "df['TokenizedSummary'] = df['summary'].apply(tokenize_summary)\n",
    "\n",
    "# Split your data into train and test sets\n",
    "train_df, test_df = train_test_split(df, test_size=0.2, random_state=42)\n",
    "\n",
    "# Convert tokenized data to PyTorch tensors\n",
    "X_train = torch.stack([seq.squeeze() for seq in train_df['TokenizedText']])\n",
    "Y_train = torch.stack([seq.squeeze() for seq in train_df['TokenizedSummary']])\n",
    "X_test = torch.stack([seq.squeeze() for seq in test_df['TokenizedText']])\n",
    "Y_test = torch.stack([seq.squeeze() for seq in test_df['TokenizedSummary']])\n",
    "\n",
    "# Define a DataLoader for batching data\n",
    "train_dataset = TensorDataset(X_train, Y_train)\n",
    "train_dataloader = DataLoader(train_dataset, batch_size=4, shuffle=True)\n",
    "test_dataset = TensorDataset(X_test, Y_test)\n",
    "test_dataloader = DataLoader(test_dataset, batch_size=4)\n"
   ],
   "metadata": {
    "collapsed": false,
    "ExecuteTime": {
     "end_time": "2023-12-02T16:01:41.477175Z",
     "start_time": "2023-12-02T16:01:38.789342Z"
    }
   },
   "id": "6c9f92635daaf67e"
  },
  {
   "cell_type": "code",
   "execution_count": 23,
   "outputs": [
    {
     "data": {
      "text/plain": "Downloading model.safetensors:   0%|          | 0.00/558M [00:00<?, ?B/s]",
      "application/vnd.jupyter.widget-view+json": {
       "version_major": 2,
       "version_minor": 0,
       "model_id": "01f5483f2ac44628b6789bd3085507b3"
      }
     },
     "metadata": {},
     "output_type": "display_data"
    },
    {
     "name": "stderr",
     "output_type": "stream",
     "text": [
      "/Users/kysgattu/anaconda3/lib/python3.11/site-packages/torch/cuda/amp/grad_scaler.py:124: UserWarning: torch.cuda.amp.GradScaler is enabled, but CUDA is not available.  Disabling.\n",
      "  warnings.warn(\n",
      "/Users/kysgattu/anaconda3/lib/python3.11/site-packages/transformers/optimization.py:411: FutureWarning: This implementation of AdamW is deprecated and will be removed in a future version. Use the PyTorch implementation torch.optim.AdamW instead, or set `no_deprecation_warning=True` to disable this warning\n",
      "  warnings.warn(\n",
      "Training:   0%|          | 0/248 [00:00<?, ?it/s]/Users/kysgattu/anaconda3/lib/python3.11/site-packages/torch/amp/autocast_mode.py:250: UserWarning: User provided device_type of 'cuda', but CUDA is not available. Disabling\n",
      "  warnings.warn(\n",
      "Training: 100%|██████████| 248/248 [16:24<00:00,  3.97s/it]\n"
     ]
    },
    {
     "name": "stdout",
     "output_type": "stream",
     "text": [
      "Epoch 1/2, Train Loss: 0.6437\n"
     ]
    },
    {
     "name": "stderr",
     "output_type": "stream",
     "text": [
      "Training: 100%|██████████| 248/248 [14:57<00:00,  3.62s/it]"
     ]
    },
    {
     "name": "stdout",
     "output_type": "stream",
     "text": [
      "Epoch 2/2, Train Loss: 0.6453\n"
     ]
    },
    {
     "name": "stderr",
     "output_type": "stream",
     "text": [
      "\n"
     ]
    }
   ],
   "source": [
    "# Define the BART model\n",
    "model = BartForConditionalGeneration.from_pretrained('facebook/bart-base')\n",
    "\n",
    "# Create a GradScaler for mixed-precision training\n",
    "scaler = GradScaler()\n",
    "\n",
    "# Define hyperparameters\n",
    "device = torch.device(\"cuda\" if torch.cuda.is_available() else \"cpu\")\n",
    "device = torch.device(\"mps\" if torch.backends.mps.is_available() else \"cpu\")\n",
    "model.to(device)  # Move the model to the GPU\n",
    "optimizer = AdamW(model.parameters(), lr=2e-5, weight_decay=0.01)  \n",
    "scheduler = get_linear_schedule_with_warmup(optimizer, num_warmup_steps=50, num_training_steps=len(train_dataloader) * 10)  # Add learning rate scheduler\n",
    "early_stopping_rounds = 2\n",
    "best_rouge_score = -1\n",
    "current_round = 0\n",
    "\n",
    "# Define gradient accumulation steps\n",
    "accumulation_steps = 20  # You can adjust this number\n",
    "\n",
    "def train(model, dataloader, optimizer, scheduler):\n",
    "    model.train()\n",
    "    total_loss = 0.0\n",
    "    optimizer.zero_grad()\n",
    "\n",
    "    for step, batch in enumerate(tqdm(dataloader, desc=\"Training\")):\n",
    "        inputs = batch[0].to(device)  # Move the input batch to the GPU\n",
    "        attention_mask = (inputs != 0).float().to(device)  # Create attention mask\n",
    "        targets = batch[1].to(device)  # Move the target batch to the GPU\n",
    "\n",
    "        with autocast():\n",
    "            outputs = model(input_ids=inputs, attention_mask=attention_mask, decoder_input_ids=targets, labels=targets)\n",
    "            loss = outputs.loss\n",
    "\n",
    "        # Perform gradient accumulation\n",
    "        loss = loss / accumulation_steps\n",
    "        scaler.scale(loss).backward()\n",
    "\n",
    "        if (step + 1) % accumulation_steps == 0:\n",
    "            # Update gradients and optimizer once every accumulation_steps\n",
    "            clip_grad_norm_(model.parameters(), max_norm=1.0)  # Optional gradient clipping\n",
    "            scaler.step(optimizer)\n",
    "            scaler.update()\n",
    "            optimizer.zero_grad()\n",
    "\n",
    "        total_loss += loss.item()\n",
    "\n",
    "    return total_loss / len(dataloader)\n",
    "\n",
    "def calculate_rouge1_precision(logits, targets):\n",
    "    scorer = rouge_scorer.RougeScorer(['rouge1'], use_stemmer=True)\n",
    "    rouge1_precision = 0.0\n",
    "    num_samples = len(logits)\n",
    "\n",
    "    for i in range(num_samples):\n",
    "        predicted_ids = logits[i].cpu().numpy()\n",
    "        target_ids = targets[i].cpu().numpy()\n",
    "\n",
    "        # Convert token IDs to strings\n",
    "        predicted_text = tokenizer.decode(predicted_ids, skip_special_tokens=True)\n",
    "        target_text = tokenizer.decode(target_ids, skip_special_tokens=True)\n",
    "\n",
    "        # Calculate ROUGE-1 precision\n",
    "        scores = scorer.score(predicted_text, target_text)\n",
    "        rouge1_precision += scores['rouge1'].precision\n",
    "\n",
    "    return rouge1_precision / num_samples\n",
    "\n",
    "# Training loop\n",
    "for epoch in range(2):  # Change the number of epochs as needed\n",
    "    train_loss = train(model, train_dataloader, optimizer, scheduler)\n",
    "    print(f\"Epoch {epoch+1}/{2}, Train Loss: {train_loss:.4f}\")\n"
   ],
   "metadata": {
    "collapsed": false,
    "ExecuteTime": {
     "end_time": "2023-12-02T16:34:14.692590Z",
     "start_time": "2023-12-02T16:02:38.913202Z"
    }
   },
   "id": "aaa2147550a889fc"
  },
  {
   "cell_type": "code",
   "execution_count": 26,
   "outputs": [
    {
     "name": "stdout",
     "output_type": "stream",
     "text": [
      "cpu\n"
     ]
    },
    {
     "name": "stderr",
     "output_type": "stream",
     "text": [
      "Evaluating Test: 100%|██████████| 63/63 [38:02<00:00, 36.23s/it]\n"
     ]
    },
    {
     "data": {
      "text/plain": "                                                                                                                                                                                                                                                                                                                                                                                                                                                                                                                                                                                                                                                                                                                                                                                                                                                                                                                                                                                                                                                                                                                                                                                                                                                                                                                                                                                                                                                                                                                                                                                                                                                                                                                                                                                                                                                                                                                                                                                                                                                                                                                                                                                                                                                                                                                                                                                                                                                                                                                                             Article  \\\n0                                                                                                                                                                                                                                                                                                                                                                                                                                                                                                                                                                                                                                                                                                                                                                                                                                                                                                                  summarize: IBM puts cash behind Linux push\\n\\nIBM is spending $100m (Â£52m) over the next three years beefing up its commitment to Linux software.\\n\\nThe cash injection will be used to help its customers use Linux on every type of device from handheld computers and phones right up to powerful servers. IBM said the money will fund a variety of technical, research and marketing initiatives to boost Linux use. IBM said it had taken the step in response to greater customer demand for the open source software.\\n\\nIn 2004 IBM said it had seen double digit growth in the number of customers using Linux to help staff work together more closely. The money will be used to help this push towards greater collaboration and will add Linux-based elements to IBM's Workplace software. Workplace is a suite of programs and tools that allow workers to get at core business applications no matter what device they use to connect to corporate networks. One of the main focuses of the initiative will be to make it easier to use Linux-based desktop computers and mobile devices with Workplace. Even before IBM announced this latest spending boost it was one of the biggest advocates of the open source way of working. In 2001 it put $300m into a three-year Linux program and has produced Linux versions of many of its programs. Linux and the open source software movement are based on the premise that developers should be free to tinker with the core components of software programs. They reason that more open scrutiny of software produces better programs and fuels innovation.\\n   \n1                                                                                                                                                                                                                                                                                                                                                                                                                                                                                                                                                                                                                                                                                                                                                                                                                                                               summarize: Game firm holds 'cast' auditions\\n\\nVideo game firm Bioware is to hold open auditions for people to become cast members for future games.\\n\\nThe company, which makes role playing games such as Knights of the Old Republic and Neverwinter Nights, is seeking people aged 18 to 99. The Canada-based company says it was looking for \"a wide variety of people to use as face models for characters\". Everyone chosen to appear in a video game will receive a performer's fee for the use of their image. The company is inviting people to come along to a shopping mall in West Edmonton, Alberta, on Friday and Saturday, bringing along a piece of photo identification.\\n\\n\"There are hundreds and hundreds of characters in a typical Bioware game,\" said Shauna Perry, Bioware's audio and external resources producer. \"Those people live in any city and village and so we need ordinary people, people with interesting faces.\" She added: \"Not everyone is a model in the world so we don't want just models in our games.\" People chosen to appear in a game will have their head scanned in three dimensions. Hundreds of photos of the person's head are taken so that a model of the head can be generated in 3D. \"The 3D model will look exactly like the person - it's really quite incredible how detailed they are,\" said Ms Perry. She said chosen participants will have no control over how the image is used in a computer game. \"We cannot give people any control over how the images are used. \"But their face could be used in multiple games - so they could be the hero in one, the villain in another and just a merchant in a third.\"\\n   \n2                                                                   summarize: Mac Mini heralds mini revolution\\n\\nThe Mac Mini was launched amid much fanfare by Apple and great excitement by Apple watchers last month. But does the latest Macintosh justify the hype? Let us get a few things dealt with at the outset - yes, the Mac Mini is really, really small, and yes, it is another piece of inspired Apple design. There is more to be said on the computer's size and design but it is worth highlighting that the Mac Mini is a just a computer. Inside that small box there is a G4 processor, a CD/DVD player, a hard drive, some other technical bits and bobs and an operating system. A DVD burner, wireless and bluetooth technologies can be bought at extra cost. And if you do not have a monitor, keyboard or mouse then you will need to purchase those also.\\n\\nIt is not the fastest computer for the money but for under Â£400 you are getting something more interesting than mere technical specifications - Apple software. The Mac Mini comes bundled with Mac OS X, the operating system, as well as iLife 05, a suite of software which includes iTunes, web browser Safari, iPhoto, Garage Band and iDVD. I doubt many PC lovers would seriously argue that Windows XP comes with a better suite of programs than Mac OS X.\\n\\nOf course, users of open source operating system Linux draw up their own menu of programs. For people who want to do interesting things with their music, photos and home movies then a Mac Mini is an ideal first computer or companion to a main computer. \"It's a good little machine with a reasonable amount of power and just perfect for the average computer user who wants to leave the tyranny of Window and viruses,\" said Mark Sparrow, technical and reviews editor at Mac Format magazine. He added: \"In essence, it's a laptop in a biscuit tin, minus the screen and the keyboard. \"The software bundle that comes with the mini makes your average budget PC look a bit sick.\" The relatively low price of the machine has also encouraged the more technically-savvy to experiment with their Macs. One user has already created a \"dock\" to enable him to plug in and out his Mac Mini in his car.\\n\\nThe small size of the machine makes it a practical solution for in-car entertainment - playing movies and music - as well as navigation. Another user has mounted his Mac Mini to the back of his large plasma screen and then controls the computer via   \n3                                                                                                                                                                                                                                                                                                                                                                                                                                                                                                                         summarize: Hollywood campaign hits websites\\n\\nMovie studio efforts to stop pirated films being shared on peer-to-peer networks have claimed a high-profile victim.\\n\\nThe campaign of legal action is thought to be behind the closure of the widely used Suprnova.org website. The site was the most popular place for people swapping and sharing links for the BitTorrent network. A recent study showed that more than half of the peer-to-peer traffic during June was for the BitTorrent system.\\n\\nIn a message posted on Suprnova.org on Sunday, the site's controllers said the site was \"closing down for good in the way that we all know it\". If the site did return, the message said, it would not be hosting any more torrent links. It continued: \"We are very sorry for this, but there was no other way, we have tried everything. \" The only parts that would keep going, said the operators of the Suprnova site, were the discussion forums and net chat channels. The site is thought to have closed following an announcement by the Motion Picture Association of America that it was launching legal action against those operating BitTorrent servers rather than end users. Because of the way that BitTorrent works, server sites do not host the actual file being shared, instead they host a link that points people to others that have it. By targeting servers, the MPAA hopes to cripple BitTorrent's ability to share files. In the opening days of the MPAA campaign, the organisation filed 100 lawsuits against operators of BitTorrent server site. The launching of the legal seems to be having an effect. Phoenix Torrents, another popular BitTorrent site, has also decided to shut down and, though it gave no reasons for the closure, it is thought to be motivated by the threat of legal action. Last week Finnish police raided a BitTorrent site based in the country that, according to reports, let 10,000 users shared pirated films, software, music and games.\\n   \n4  summarize: US 'afflicted' with awards fatigue\\n\\nThe film world and media may be wild about the Oscars but cinema-goers and the TV-viewing public are sick of watching award ceremonies, according to some LA film critics.\\n\\nBob Strauss, from the LA Daily News, thinks there are just too many televised gatherings of stars showering praise on each other. He came up with a colourful but unprintable description for these glitzy events, which roughly translates a \"celebrity love-in\". This echoed the views of Oscars host and comedian Chris Rock, who whipped up a media storm for saying he rarely watched them, calling award shows \"idiotic\". \"As Chris Rock accurately said, they're about celebrity and fashion,\" Mr Strauss said. The recent Grammy music awards proved to be a ratings loser, and it seems Oscars organisers are determined not to go the same way.\\n\\nRecently announced changes to the ceremony include lining up all five nominees on stage before announcing the winner.\\n\\nUnsurprisingly, this prompted press speculation that the changes were aimed at boosting flagging advertising revenue. But Entertainment Weekly's Dave Karger maintained the Oscars only generated excitement outside the industry when a blockbuster, such as Titanic or Lord of the Rings, was nominated. The near constant flow of US film awards, representing directors, actors and producers' guilds, also means \"few surprises\" are left by the time the Oscar ceremony is upon us, he said. A quick scan of the Los Angeles Times and Los Angeles Daily News bears this out - speculation about who will win seems to have ground to a halt.\\n\\nOn Thursday, the Times simply printed a picture of the plastic tents going up outside the Kodak Theatre to protect the red carpet from rain. Variety and the Hollywood Reporter have also kept their focus firmly on industry-related news, while in the UK bets have closed on the best actor category, with Ray star Jamie Foxx a dead cert to win.\\n\\nScreen International's US editor Mike Goodridge thinks 2004's films have simply not grabbed the public's imagination. \"Film-makers haven't produced films that people adore this year,\" he said. \"They adored Saving Private Ryan for example - people loved it and it made a ton of money. \"2004's films could be a reaction to 9/11 - there was a realisation in America that things might not be so rosy after all. \"Audiences don't necessarily want to see darker films such as Million Dollar Baby, Av   \n\n                                                                                                                                                                                                                                                                                                                                                                                                                                                                                                                                                                                                                                                                                                                                                                                                                                                                                                                                                                                                                                                                                                                                                                                                                                                                                                                                                                       Actual Summary  \\\n0                                                                                                                                                                                                                                                                                                                                                                                                                                                                                                                                                                                                                                                                                                                                              IBM said it had taken the step in response to greater customer demand for the open source software.Linux and the open source software movement are based on the premise that developers should be free to tinker with the core components of software programs.IBM is spending $100m (Â£52m) over the next three years beefing up its commitment to Linux software.IBM said the money will fund a variety of technical, research and marketing initiatives to boost Linux use.The cash injection will be used to help its customers use Linux on every type of device from handheld computers and phones right up to powerful servers.   \n1                                                                                                                                                                                                                                                                                                                                                                                                                                                                                                                                                                                                                                                                                                                                                                                                       People chosen to appear in a game will have their head scanned in three dimensions.She said chosen participants will have no control over how the image is used in a computer game.\"We cannot give people any control over how the images are used.Everyone chosen to appear in a video game will receive a performer's fee for the use of their image.Video game firm Bioware is to hold open auditions for people to become cast members for future games.The Canada-based company says it was looking for \"a wide variety of people to use as face models for characters\".   \n2                                                                            Another user has mounted his Mac Mini to the back of his large plasma screen and then controls the computer via a wireless keyboard and mouse.So - is the Mac Mini just another computer or a revolution in computing?But that has not stopped more enterprising users from adapting the Mac Mini to media centre uses.There is more to be said on the computer's size and design but it is worth highlighting that the Mac Mini is a just a computer.The Mac Mini comes bundled with Mac OS X, the operating system, as well as iLife 05, a suite of software which includes iTunes, web browser Safari, iPhoto, Garage Band and iDVD.The design of the Mac Mini is further evidence of a future when PCs are more than just bland, bulky boxes.One user has already created a \"dock\" to enable him to plug in and out his Mac Mini in his car.For people who want to do interesting things with their music, photos and home movies then a Mac Mini is an ideal first computer or companion to a main computer.Coupled with the lack of a TV tuner card, a digital audio out and any kind of media centre software bundled with the machine then the Mac Mini should be judged on what it is, not what it is not.Let us say then that if the Mac Mini is not a fully fledged revolution - it is a mini   \n3                                                                                                                                                                                                                                                                                                                                                                                                                       The site is thought to have closed following an announcement by the Motion Picture Association of America that it was launching legal action against those operating BitTorrent servers rather than end users.The site was the most popular place for people swapping and sharing links for the BitTorrent network.In the opening days of the MPAA campaign, the organisation filed 100 lawsuits against operators of BitTorrent server site.Phoenix Torrents, another popular BitTorrent site, has also decided to shut down and, though it gave no reasons for the closure, it is thought to be motivated by the threat of legal action.Because of the way that BitTorrent works, server sites do not host the actual file being shared, instead they host a link that points people to others that have it.In a message posted on Suprnova.org on Sunday, the site's controllers said the site was \"closing down for good in the way that we all know it\".   \n4  And Mr Goodridge said best film and director were between Martin Scorsese's Aviator and Million Dollar Baby.\"As Chris Rock accurately said, they're about celebrity and fashion,\" Mr Strauss said.\"Film-makers haven't produced films that people adore this year,\" he said.\"I hope this is the year for small films to triumph,\" he said.Mr Karger, whose favourite film of the year was Mike Leigh's abortion drama Vera Drake, stayed upbeat about the awards despite his other comments.\"Clint Eastwood's Million Dollar Baby affected people emotionally, which is why it will beat Aviator, which was about technical artistry not feelings,\" Mr Karger said.Mr Strauss doubted whether Rock would make an impact, but added: \"I'm all for lower ratings though - there are far more important things going on than the Oscars.\"The near constant flow of US film awards, representing directors, actors and producers' guilds, also means \"few surprises\" are left by the time the Oscar ceremony is upon us, he said.The film world and media may be wild about the Oscars but cinema-goers and the TV-viewing public are sick of watching award ceremonies, according to some LA film critics.Mr Karger said the comic might boost younger viewers, but Mike Goodridge thought Rock's humour could prompt America's conservative states to switch off.\"2004's films could   \n\n                                                                                                                                                                                                                                                                                                                                                                                                                                                                                                                                                                                                                                                                                                                                            Predicted Summary  \\\n0  summarize: IBM puts cash behind Linux push in response to greater customer demand for the open source software. “In 2004 IBM said it had seen double digit growth in the number of customers using Linux to help staff work together more closely.The cash injection will be used to help its customers use Linux on every type of device from handheld computers and phones right up to powerful servers. IBM said the money will fund a variety of technical, research and marketing initiatives to boost Linux use. IBM is spending $100m (Â£52m) over the next three years beefing up its commitment to support and will add Linux-based elements to IBM's Workplace software. The money will be spent to help this push towards greater collaboration   \n1                               summarize: Game firm holds 'cast' auditions for people to become cast members for future games.The company, which makes role playing games such as Knights of the Old Republic and Neverwinter Nights, is seeking people aged 18 to 99. The Canada-based company says it was looking for \"a wide variety of people to use as face models for characters\". Everyone chosen to appear in a video game will receive a performer's fee for the use of their image. The company is inviting people to come along to a shopping mall in West Edmonton, Alberta, on Friday and Saturday, bringing along a piece of photo identification.“There are hundreds and hundreds of characters in a typical Bioware game,\" said Shauna Perry   \n2                                                                                  summarize: Mac Mini heralds mini revolution with a Mac Mini in a biscuit tin, minus the screen and the keyboard. \"The Mac Mini was launched amid much fanfare by Apple and great excitement by Apple watchers last month. But does the latest Macintosh justify the hype? Let us get a few things dealt with at the outset - yes, the Mac Mini is really, really small, and yes, it is another piece of inspired Apple design. There is more to be said on the computer's size and design but it is worth highlighting that the mac Mini is a just a computer. Inside that small box there is a G4 processor, a CD/DVD player, a hard drive, some other technical bits and   \n3                                                           summarize: Hollywood campaign hits websites, he said, “Movie studio efforts to stop pirated films being shared on peer-to-peer networks have claimed a high-profile victim.”The campaign of legal action is thought to be behind the closure of the widely used Suprnova.org website. The site was the most popular place for people swapping and sharing links for the BitTorrent network. A recent study showed that more than half of the peer- to-peer traffic during June was for the bitTorrent system.The only parts that would keep going, said the operators of the Superrnova site, were the discussion forums and net chat channels. The 16,000 people who were in a message posted on   \n4                           summarize: US 'afflicted' with awards fatigue Dave Karger, from the Los Angeles Times and Los Angeles Daily News, thinks there are just too many televised gatherings of stars showering praise on each other. This echoed the views of Oscars host and comedian Chris Rock, who whipped up a media storm for saying he rarely watched them, calling award shows \"idiotic\". \"As Chris Rock accurately said, they're about celebrity and fashion,\" Mr Strauss said. The recent Grammy music awards proved to be a ratings loser, and it seems Oscars organisers are determined not to go the same way. He came up with a colourful but unprintable description for these glitzy events, which roughly translates a \"celebrity love   \n\n   ROUGE-1 Precision  \n0           0.801887  \n1           0.663462  \n2           0.288618  \n3           0.406250  \n4           0.218341  ",
      "text/html": "<div>\n<style scoped>\n    .dataframe tbody tr th:only-of-type {\n        vertical-align: middle;\n    }\n\n    .dataframe tbody tr th {\n        vertical-align: top;\n    }\n\n    .dataframe thead th {\n        text-align: right;\n    }\n</style>\n<table border=\"1\" class=\"dataframe\">\n  <thead>\n    <tr style=\"text-align: right;\">\n      <th></th>\n      <th>Article</th>\n      <th>Actual Summary</th>\n      <th>Predicted Summary</th>\n      <th>ROUGE-1 Precision</th>\n    </tr>\n  </thead>\n  <tbody>\n    <tr>\n      <th>0</th>\n      <td>summarize: IBM puts cash behind Linux push\\n\\nIBM is spending $100m (Â£52m) over the next three years beefing up its commitment to Linux software.\\n\\nThe cash injection will be used to help its customers use Linux on every type of device from handheld computers and phones right up to powerful servers. IBM said the money will fund a variety of technical, research and marketing initiatives to boost Linux use. IBM said it had taken the step in response to greater customer demand for the open source software.\\n\\nIn 2004 IBM said it had seen double digit growth in the number of customers using Linux to help staff work together more closely. The money will be used to help this push towards greater collaboration and will add Linux-based elements to IBM's Workplace software. Workplace is a suite of programs and tools that allow workers to get at core business applications no matter what device they use to connect to corporate networks. One of the main focuses of the initiative will be to make it easier to use Linux-based desktop computers and mobile devices with Workplace. Even before IBM announced this latest spending boost it was one of the biggest advocates of the open source way of working. In 2001 it put $300m into a three-year Linux program and has produced Linux versions of many of its programs. Linux and the open source software movement are based on the premise that developers should be free to tinker with the core components of software programs. They reason that more open scrutiny of software produces better programs and fuels innovation.\\n</td>\n      <td>IBM said it had taken the step in response to greater customer demand for the open source software.Linux and the open source software movement are based on the premise that developers should be free to tinker with the core components of software programs.IBM is spending $100m (Â£52m) over the next three years beefing up its commitment to Linux software.IBM said the money will fund a variety of technical, research and marketing initiatives to boost Linux use.The cash injection will be used to help its customers use Linux on every type of device from handheld computers and phones right up to powerful servers.</td>\n      <td>summarize: IBM puts cash behind Linux push in response to greater customer demand for the open source software. “In 2004 IBM said it had seen double digit growth in the number of customers using Linux to help staff work together more closely.The cash injection will be used to help its customers use Linux on every type of device from handheld computers and phones right up to powerful servers. IBM said the money will fund a variety of technical, research and marketing initiatives to boost Linux use. IBM is spending $100m (Â£52m) over the next three years beefing up its commitment to support and will add Linux-based elements to IBM's Workplace software. The money will be spent to help this push towards greater collaboration</td>\n      <td>0.801887</td>\n    </tr>\n    <tr>\n      <th>1</th>\n      <td>summarize: Game firm holds 'cast' auditions\\n\\nVideo game firm Bioware is to hold open auditions for people to become cast members for future games.\\n\\nThe company, which makes role playing games such as Knights of the Old Republic and Neverwinter Nights, is seeking people aged 18 to 99. The Canada-based company says it was looking for \"a wide variety of people to use as face models for characters\". Everyone chosen to appear in a video game will receive a performer's fee for the use of their image. The company is inviting people to come along to a shopping mall in West Edmonton, Alberta, on Friday and Saturday, bringing along a piece of photo identification.\\n\\n\"There are hundreds and hundreds of characters in a typical Bioware game,\" said Shauna Perry, Bioware's audio and external resources producer. \"Those people live in any city and village and so we need ordinary people, people with interesting faces.\" She added: \"Not everyone is a model in the world so we don't want just models in our games.\" People chosen to appear in a game will have their head scanned in three dimensions. Hundreds of photos of the person's head are taken so that a model of the head can be generated in 3D. \"The 3D model will look exactly like the person - it's really quite incredible how detailed they are,\" said Ms Perry. She said chosen participants will have no control over how the image is used in a computer game. \"We cannot give people any control over how the images are used. \"But their face could be used in multiple games - so they could be the hero in one, the villain in another and just a merchant in a third.\"\\n</td>\n      <td>People chosen to appear in a game will have their head scanned in three dimensions.She said chosen participants will have no control over how the image is used in a computer game.\"We cannot give people any control over how the images are used.Everyone chosen to appear in a video game will receive a performer's fee for the use of their image.Video game firm Bioware is to hold open auditions for people to become cast members for future games.The Canada-based company says it was looking for \"a wide variety of people to use as face models for characters\".</td>\n      <td>summarize: Game firm holds 'cast' auditions for people to become cast members for future games.The company, which makes role playing games such as Knights of the Old Republic and Neverwinter Nights, is seeking people aged 18 to 99. The Canada-based company says it was looking for \"a wide variety of people to use as face models for characters\". Everyone chosen to appear in a video game will receive a performer's fee for the use of their image. The company is inviting people to come along to a shopping mall in West Edmonton, Alberta, on Friday and Saturday, bringing along a piece of photo identification.“There are hundreds and hundreds of characters in a typical Bioware game,\" said Shauna Perry</td>\n      <td>0.663462</td>\n    </tr>\n    <tr>\n      <th>2</th>\n      <td>summarize: Mac Mini heralds mini revolution\\n\\nThe Mac Mini was launched amid much fanfare by Apple and great excitement by Apple watchers last month. But does the latest Macintosh justify the hype? Let us get a few things dealt with at the outset - yes, the Mac Mini is really, really small, and yes, it is another piece of inspired Apple design. There is more to be said on the computer's size and design but it is worth highlighting that the Mac Mini is a just a computer. Inside that small box there is a G4 processor, a CD/DVD player, a hard drive, some other technical bits and bobs and an operating system. A DVD burner, wireless and bluetooth technologies can be bought at extra cost. And if you do not have a monitor, keyboard or mouse then you will need to purchase those also.\\n\\nIt is not the fastest computer for the money but for under Â£400 you are getting something more interesting than mere technical specifications - Apple software. The Mac Mini comes bundled with Mac OS X, the operating system, as well as iLife 05, a suite of software which includes iTunes, web browser Safari, iPhoto, Garage Band and iDVD. I doubt many PC lovers would seriously argue that Windows XP comes with a better suite of programs than Mac OS X.\\n\\nOf course, users of open source operating system Linux draw up their own menu of programs. For people who want to do interesting things with their music, photos and home movies then a Mac Mini is an ideal first computer or companion to a main computer. \"It's a good little machine with a reasonable amount of power and just perfect for the average computer user who wants to leave the tyranny of Window and viruses,\" said Mark Sparrow, technical and reviews editor at Mac Format magazine. He added: \"In essence, it's a laptop in a biscuit tin, minus the screen and the keyboard. \"The software bundle that comes with the mini makes your average budget PC look a bit sick.\" The relatively low price of the machine has also encouraged the more technically-savvy to experiment with their Macs. One user has already created a \"dock\" to enable him to plug in and out his Mac Mini in his car.\\n\\nThe small size of the machine makes it a practical solution for in-car entertainment - playing movies and music - as well as navigation. Another user has mounted his Mac Mini to the back of his large plasma screen and then controls the computer via</td>\n      <td>Another user has mounted his Mac Mini to the back of his large plasma screen and then controls the computer via a wireless keyboard and mouse.So - is the Mac Mini just another computer or a revolution in computing?But that has not stopped more enterprising users from adapting the Mac Mini to media centre uses.There is more to be said on the computer's size and design but it is worth highlighting that the Mac Mini is a just a computer.The Mac Mini comes bundled with Mac OS X, the operating system, as well as iLife 05, a suite of software which includes iTunes, web browser Safari, iPhoto, Garage Band and iDVD.The design of the Mac Mini is further evidence of a future when PCs are more than just bland, bulky boxes.One user has already created a \"dock\" to enable him to plug in and out his Mac Mini in his car.For people who want to do interesting things with their music, photos and home movies then a Mac Mini is an ideal first computer or companion to a main computer.Coupled with the lack of a TV tuner card, a digital audio out and any kind of media centre software bundled with the machine then the Mac Mini should be judged on what it is, not what it is not.Let us say then that if the Mac Mini is not a fully fledged revolution - it is a mini</td>\n      <td>summarize: Mac Mini heralds mini revolution with a Mac Mini in a biscuit tin, minus the screen and the keyboard. \"The Mac Mini was launched amid much fanfare by Apple and great excitement by Apple watchers last month. But does the latest Macintosh justify the hype? Let us get a few things dealt with at the outset - yes, the Mac Mini is really, really small, and yes, it is another piece of inspired Apple design. There is more to be said on the computer's size and design but it is worth highlighting that the mac Mini is a just a computer. Inside that small box there is a G4 processor, a CD/DVD player, a hard drive, some other technical bits and</td>\n      <td>0.288618</td>\n    </tr>\n    <tr>\n      <th>3</th>\n      <td>summarize: Hollywood campaign hits websites\\n\\nMovie studio efforts to stop pirated films being shared on peer-to-peer networks have claimed a high-profile victim.\\n\\nThe campaign of legal action is thought to be behind the closure of the widely used Suprnova.org website. The site was the most popular place for people swapping and sharing links for the BitTorrent network. A recent study showed that more than half of the peer-to-peer traffic during June was for the BitTorrent system.\\n\\nIn a message posted on Suprnova.org on Sunday, the site's controllers said the site was \"closing down for good in the way that we all know it\". If the site did return, the message said, it would not be hosting any more torrent links. It continued: \"We are very sorry for this, but there was no other way, we have tried everything. \" The only parts that would keep going, said the operators of the Suprnova site, were the discussion forums and net chat channels. The site is thought to have closed following an announcement by the Motion Picture Association of America that it was launching legal action against those operating BitTorrent servers rather than end users. Because of the way that BitTorrent works, server sites do not host the actual file being shared, instead they host a link that points people to others that have it. By targeting servers, the MPAA hopes to cripple BitTorrent's ability to share files. In the opening days of the MPAA campaign, the organisation filed 100 lawsuits against operators of BitTorrent server site. The launching of the legal seems to be having an effect. Phoenix Torrents, another popular BitTorrent site, has also decided to shut down and, though it gave no reasons for the closure, it is thought to be motivated by the threat of legal action. Last week Finnish police raided a BitTorrent site based in the country that, according to reports, let 10,000 users shared pirated films, software, music and games.\\n</td>\n      <td>The site is thought to have closed following an announcement by the Motion Picture Association of America that it was launching legal action against those operating BitTorrent servers rather than end users.The site was the most popular place for people swapping and sharing links for the BitTorrent network.In the opening days of the MPAA campaign, the organisation filed 100 lawsuits against operators of BitTorrent server site.Phoenix Torrents, another popular BitTorrent site, has also decided to shut down and, though it gave no reasons for the closure, it is thought to be motivated by the threat of legal action.Because of the way that BitTorrent works, server sites do not host the actual file being shared, instead they host a link that points people to others that have it.In a message posted on Suprnova.org on Sunday, the site's controllers said the site was \"closing down for good in the way that we all know it\".</td>\n      <td>summarize: Hollywood campaign hits websites, he said, “Movie studio efforts to stop pirated films being shared on peer-to-peer networks have claimed a high-profile victim.”The campaign of legal action is thought to be behind the closure of the widely used Suprnova.org website. The site was the most popular place for people swapping and sharing links for the BitTorrent network. A recent study showed that more than half of the peer- to-peer traffic during June was for the bitTorrent system.The only parts that would keep going, said the operators of the Superrnova site, were the discussion forums and net chat channels. The 16,000 people who were in a message posted on</td>\n      <td>0.406250</td>\n    </tr>\n    <tr>\n      <th>4</th>\n      <td>summarize: US 'afflicted' with awards fatigue\\n\\nThe film world and media may be wild about the Oscars but cinema-goers and the TV-viewing public are sick of watching award ceremonies, according to some LA film critics.\\n\\nBob Strauss, from the LA Daily News, thinks there are just too many televised gatherings of stars showering praise on each other. He came up with a colourful but unprintable description for these glitzy events, which roughly translates a \"celebrity love-in\". This echoed the views of Oscars host and comedian Chris Rock, who whipped up a media storm for saying he rarely watched them, calling award shows \"idiotic\". \"As Chris Rock accurately said, they're about celebrity and fashion,\" Mr Strauss said. The recent Grammy music awards proved to be a ratings loser, and it seems Oscars organisers are determined not to go the same way.\\n\\nRecently announced changes to the ceremony include lining up all five nominees on stage before announcing the winner.\\n\\nUnsurprisingly, this prompted press speculation that the changes were aimed at boosting flagging advertising revenue. But Entertainment Weekly's Dave Karger maintained the Oscars only generated excitement outside the industry when a blockbuster, such as Titanic or Lord of the Rings, was nominated. The near constant flow of US film awards, representing directors, actors and producers' guilds, also means \"few surprises\" are left by the time the Oscar ceremony is upon us, he said. A quick scan of the Los Angeles Times and Los Angeles Daily News bears this out - speculation about who will win seems to have ground to a halt.\\n\\nOn Thursday, the Times simply printed a picture of the plastic tents going up outside the Kodak Theatre to protect the red carpet from rain. Variety and the Hollywood Reporter have also kept their focus firmly on industry-related news, while in the UK bets have closed on the best actor category, with Ray star Jamie Foxx a dead cert to win.\\n\\nScreen International's US editor Mike Goodridge thinks 2004's films have simply not grabbed the public's imagination. \"Film-makers haven't produced films that people adore this year,\" he said. \"They adored Saving Private Ryan for example - people loved it and it made a ton of money. \"2004's films could be a reaction to 9/11 - there was a realisation in America that things might not be so rosy after all. \"Audiences don't necessarily want to see darker films such as Million Dollar Baby, Av</td>\n      <td>And Mr Goodridge said best film and director were between Martin Scorsese's Aviator and Million Dollar Baby.\"As Chris Rock accurately said, they're about celebrity and fashion,\" Mr Strauss said.\"Film-makers haven't produced films that people adore this year,\" he said.\"I hope this is the year for small films to triumph,\" he said.Mr Karger, whose favourite film of the year was Mike Leigh's abortion drama Vera Drake, stayed upbeat about the awards despite his other comments.\"Clint Eastwood's Million Dollar Baby affected people emotionally, which is why it will beat Aviator, which was about technical artistry not feelings,\" Mr Karger said.Mr Strauss doubted whether Rock would make an impact, but added: \"I'm all for lower ratings though - there are far more important things going on than the Oscars.\"The near constant flow of US film awards, representing directors, actors and producers' guilds, also means \"few surprises\" are left by the time the Oscar ceremony is upon us, he said.The film world and media may be wild about the Oscars but cinema-goers and the TV-viewing public are sick of watching award ceremonies, according to some LA film critics.Mr Karger said the comic might boost younger viewers, but Mike Goodridge thought Rock's humour could prompt America's conservative states to switch off.\"2004's films could</td>\n      <td>summarize: US 'afflicted' with awards fatigue Dave Karger, from the Los Angeles Times and Los Angeles Daily News, thinks there are just too many televised gatherings of stars showering praise on each other. This echoed the views of Oscars host and comedian Chris Rock, who whipped up a media storm for saying he rarely watched them, calling award shows \"idiotic\". \"As Chris Rock accurately said, they're about celebrity and fashion,\" Mr Strauss said. The recent Grammy music awards proved to be a ratings loser, and it seems Oscars organisers are determined not to go the same way. He came up with a colourful but unprintable description for these glitzy events, which roughly translates a \"celebrity love</td>\n      <td>0.218341</td>\n    </tr>\n  </tbody>\n</table>\n</div>"
     },
     "execution_count": 26,
     "metadata": {},
     "output_type": "execute_result"
    }
   ],
   "source": [
    "device = torch.device(\"cpu\" if torch.backends.mps.is_available() else \"cpu\")\n",
    "print(device)\n",
    "\n",
    "def evaluate(model, dataloader):\n",
    "    model.eval()\n",
    "    \n",
    "    test_articles = []\n",
    "    actual_summaries = []\n",
    "    predicted_summaries = []\n",
    "    rouge1_precision_scores = []\n",
    "\n",
    "    scorer = rouge_scorer.RougeScorer(['rouge1'])\n",
    "\n",
    "    with torch.no_grad():\n",
    "        for batch in tqdm(dataloader, desc=\"Evaluating Test\"):\n",
    "            inputs = batch[0].to(device)\n",
    "            attention_mask = (inputs != 0).float().to(device)\n",
    "            targets = batch[1].to(device)\n",
    "            outputs = model.generate(input_ids=inputs, attention_mask=attention_mask, max_length=150, num_beams=17, length_penalty=2.0, early_stopping=False)\n",
    "            \n",
    "            for output, target, input_text in zip(outputs, targets, inputs):\n",
    "                # Calculate ROUGE-1 precision for each sample\n",
    "                output_text = tokenizer.decode(output, skip_special_tokens=True)\n",
    "                target_text = tokenizer.decode(target, skip_special_tokens=True)\n",
    "                rouge_scores = scorer.score(output_text, target_text)\n",
    "                rouge1_precision_scores.append(rouge_scores['rouge1'].precision)\n",
    "                \n",
    "                # Append tokenized text, actual summaries, and predicted summaries\n",
    "                test_articles.append(tokenizer.decode(input_text, skip_special_tokens=True))\n",
    "                actual_summaries.append(target_text)\n",
    "                predicted_summaries.append(output_text)\n",
    "\n",
    "    return test_articles, actual_summaries, predicted_summaries, rouge1_precision_scores\n",
    "\n",
    "# Evaluate the model\n",
    "test_articles, actual_summaries, predicted_summaries, rouge1_precision_scores = evaluate(model, test_dataloader)\n",
    "\n",
    "# Create a dictionary with the extracted data\n",
    "data = {\n",
    "    'Article': test_articles,\n",
    "    'Actual Summary': actual_summaries,\n",
    "    'Predicted Summary': predicted_summaries,\n",
    "    'ROUGE-1 Precision': rouge1_precision_scores,\n",
    "}\n",
    "\n",
    "# Create a Pandas DataFrame from the dictionary\n",
    "results_df = pd.DataFrame(data)\n",
    "\n",
    "# Display the DataFrame\n",
    "pd.set_option('display.max_colwidth', None)\n",
    "results_df.head(5)"
   ],
   "metadata": {
    "collapsed": false,
    "ExecuteTime": {
     "end_time": "2023-12-02T17:14:07.386266Z",
     "start_time": "2023-12-02T16:36:04.851051Z"
    }
   },
   "id": "efb0649e368d64e4"
  },
  {
   "cell_type": "code",
   "execution_count": null,
   "outputs": [],
   "source": [],
   "metadata": {
    "collapsed": false
   },
   "id": "2f3e7be441b3c8bc"
  }
 ],
 "metadata": {
  "kernelspec": {
   "display_name": "Python 3",
   "language": "python",
   "name": "python3"
  },
  "language_info": {
   "codemirror_mode": {
    "name": "ipython",
    "version": 2
   },
   "file_extension": ".py",
   "mimetype": "text/x-python",
   "name": "python",
   "nbconvert_exporter": "python",
   "pygments_lexer": "ipython2",
   "version": "2.7.6"
  }
 },
 "nbformat": 4,
 "nbformat_minor": 5
}
