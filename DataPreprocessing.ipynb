{
 "cells": [
  {
   "cell_type": "code",
   "execution_count": 1,
   "id": "initial_id",
   "metadata": {
    "collapsed": true,
    "ExecuteTime": {
     "end_time": "2023-12-04T17:35:08.004828Z",
     "start_time": "2023-12-04T17:35:07.962578Z"
    }
   },
   "outputs": [],
   "source": [
    "from contractions import contractions_dict"
   ]
  },
  {
   "cell_type": "code",
   "execution_count": 2,
   "outputs": [],
   "source": [
    "import re\n",
    "import pandas as pd\n",
    "import matplotlib.pyplot as plt\n",
    "import seaborn as sns\n",
    "\n",
    "from sklearn.model_selection import train_test_split"
   ],
   "metadata": {
    "collapsed": false,
    "ExecuteTime": {
     "end_time": "2023-12-04T17:35:08.120969Z",
     "start_time": "2023-12-04T17:35:08.005114Z"
    }
   },
   "id": "bf20683d05613703"
  },
  {
   "cell_type": "code",
   "execution_count": 3,
   "outputs": [
    {
     "data": {
      "text/plain": "'you all cannot expand contractions id think'"
     },
     "execution_count": 3,
     "metadata": {},
     "output_type": "execute_result"
    }
   ],
   "source": [
    "def expand_contractions(text, contraction_map=None):\n",
    "    if contraction_map is None:\n",
    "        contraction_map = contractions_dict\n",
    "\n",
    "    # Using regex for getting all contracted words\n",
    "    contractions_keys = '|'.join(re.escape(key) for key in contraction_map.keys())\n",
    "    contractions_pattern = re.compile(f'({contractions_keys})', flags=re.DOTALL)\n",
    "\n",
    "    expanded_text = contractions_pattern.sub(lambda match: contraction_map.get(match.group(0), match.group(0)), text)\n",
    "    expanded_text = re.sub(\"'\", \"\", expanded_text)\n",
    "    return expanded_text\n",
    "\n",
    "def "
   ],
   "metadata": {
    "collapsed": false,
    "ExecuteTime": {
     "end_time": "2023-12-04T17:35:08.131826Z",
     "start_time": "2023-12-04T17:35:08.126567Z"
    }
   },
   "id": "d90be135bc8ff28f"
  },
  {
   "cell_type": "code",
   "execution_count": 4,
   "outputs": [],
   "source": [
    "entertainment = pd.read_csv('data/BBCNewsSummaryCSV/entertainment_data.csv') \n",
    "sport = pd.read_csv('data/BBCNewsSummaryCSV/sport_data.csv')\n",
    "tech = pd.read_csv('data/BBCNewsSummaryCSV/tech_data.csv')"
   ],
   "metadata": {
    "collapsed": false,
    "ExecuteTime": {
     "end_time": "2023-12-04T17:35:08.182471Z",
     "start_time": "2023-12-04T17:35:08.128711Z"
    }
   },
   "id": "c250380048199c56"
  },
  {
   "cell_type": "code",
   "execution_count": 5,
   "outputs": [
    {
     "name": "stdout",
     "output_type": "stream",
     "text": [
      "            filename                                        newsarticle  \\\n",
      "0  entertainment_001  Gallery unveils interactive tree\\n\\nA Christma...   \n",
      "1  entertainment_002  Jarre joins fairytale celebration\\n\\nFrench mu...   \n",
      "2  entertainment_003  Musical treatment for Capra film\\n\\nThe classi...   \n",
      "3  entertainment_004  Richard and Judy choose top books\\n\\nThe 10 au...   \n",
      "4  entertainment_005  Poppins musical gets flying start\\n\\nThe stage...   \n",
      "\n",
      "                                             summary  \n",
      "0  The messages will be \"unwrapped\" by sculptor R...  \n",
      "1  Bloom is to be formally presented with the Han...  \n",
      "2  The classic film It's A Wonderful Life is to b...  \n",
      "3  \"It was very hard to follow last year's extrem...  \n",
      "4  Mary Poppins was originally created by author ...  \n"
     ]
    }
   ],
   "source": [
    "print(entertainment.head())"
   ],
   "metadata": {
    "collapsed": false,
    "ExecuteTime": {
     "end_time": "2023-12-04T17:35:08.183045Z",
     "start_time": "2023-12-04T17:35:08.169261Z"
    }
   },
   "id": "a9ba338e0b034d4b"
  },
  {
   "cell_type": "code",
   "execution_count": 6,
   "outputs": [],
   "source": [
    "training_dataset = pd.concat([entertainment,sport,tech], ignore_index=True)"
   ],
   "metadata": {
    "collapsed": false,
    "ExecuteTime": {
     "end_time": "2023-12-04T17:35:08.183120Z",
     "start_time": "2023-12-04T17:35:08.173317Z"
    }
   },
   "id": "19ef8bc19899ce28"
  },
  {
   "cell_type": "code",
   "execution_count": 7,
   "outputs": [],
   "source": [
    "training_dataset = training_dataset.sample(frac=1).reset_index(drop=True)"
   ],
   "metadata": {
    "collapsed": false,
    "ExecuteTime": {
     "end_time": "2023-12-04T17:35:08.183192Z",
     "start_time": "2023-12-04T17:35:08.175890Z"
    }
   },
   "id": "1b75ae64396d1a08"
  },
  {
   "cell_type": "code",
   "execution_count": 8,
   "outputs": [
    {
     "data": {
      "text/plain": "    filename                                        newsarticle  \\\n0   tech_190  First look at PlayStation 3 chip\\n\\nSome detai...   \n1  sport_509  Melzer shocks Agassi in San Jose\\n\\nSecond see...   \n2   tech_072  Gadget growth fuels eco concerns\\n\\nTechnology...   \n3  sport_195  Juninho demand for O'Neill talks\\n\\nJuninho's ...   \n4   tech_393  Savvy searchers fail to spot ads\\n\\nInternet s...   \n\n                                             summary  \n0  Some details of the chip inside Sony's PlaySta...  \n1  Second seed Andre Agassi suffered a comprehens...  \n2  But more awareness is needed about how and whe...  \n3  Hassel says Juninho, who has just bought a new...  \n4  Almost 50% of those questioned said they would...  ",
      "text/html": "<div>\n<style scoped>\n    .dataframe tbody tr th:only-of-type {\n        vertical-align: middle;\n    }\n\n    .dataframe tbody tr th {\n        vertical-align: top;\n    }\n\n    .dataframe thead th {\n        text-align: right;\n    }\n</style>\n<table border=\"1\" class=\"dataframe\">\n  <thead>\n    <tr style=\"text-align: right;\">\n      <th></th>\n      <th>filename</th>\n      <th>newsarticle</th>\n      <th>summary</th>\n    </tr>\n  </thead>\n  <tbody>\n    <tr>\n      <th>0</th>\n      <td>tech_190</td>\n      <td>First look at PlayStation 3 chip\\n\\nSome detai...</td>\n      <td>Some details of the chip inside Sony's PlaySta...</td>\n    </tr>\n    <tr>\n      <th>1</th>\n      <td>sport_509</td>\n      <td>Melzer shocks Agassi in San Jose\\n\\nSecond see...</td>\n      <td>Second seed Andre Agassi suffered a comprehens...</td>\n    </tr>\n    <tr>\n      <th>2</th>\n      <td>tech_072</td>\n      <td>Gadget growth fuels eco concerns\\n\\nTechnology...</td>\n      <td>But more awareness is needed about how and whe...</td>\n    </tr>\n    <tr>\n      <th>3</th>\n      <td>sport_195</td>\n      <td>Juninho demand for O'Neill talks\\n\\nJuninho's ...</td>\n      <td>Hassel says Juninho, who has just bought a new...</td>\n    </tr>\n    <tr>\n      <th>4</th>\n      <td>tech_393</td>\n      <td>Savvy searchers fail to spot ads\\n\\nInternet s...</td>\n      <td>Almost 50% of those questioned said they would...</td>\n    </tr>\n  </tbody>\n</table>\n</div>"
     },
     "execution_count": 8,
     "metadata": {},
     "output_type": "execute_result"
    }
   ],
   "source": [
    "training_dataset.head()"
   ],
   "metadata": {
    "collapsed": false,
    "ExecuteTime": {
     "end_time": "2023-12-04T17:35:08.183587Z",
     "start_time": "2023-12-04T17:35:08.178967Z"
    }
   },
   "id": "7d64fcdfb8144927"
  },
  {
   "cell_type": "code",
   "execution_count": 9,
   "outputs": [],
   "source": [
    "def getSenLen(sentence):\n",
    "    return len(sentence.split())"
   ],
   "metadata": {
    "collapsed": false,
    "ExecuteTime": {
     "end_time": "2023-12-04T17:35:08.185998Z",
     "start_time": "2023-12-04T17:35:08.184486Z"
    }
   },
   "id": "6b8447b04ec4972e"
  },
  {
   "cell_type": "code",
   "execution_count": 10,
   "outputs": [],
   "source": [
    "training_dataset['article_length'] = training_dataset['newsarticle'].apply(getSenLen)\n",
    "training_dataset['summary_length'] = training_dataset['summary'].apply(getSenLen)"
   ],
   "metadata": {
    "collapsed": false,
    "ExecuteTime": {
     "end_time": "2023-12-04T17:35:08.237679Z",
     "start_time": "2023-12-04T17:35:08.208921Z"
    }
   },
   "id": "f58205d7d5aa03f7"
  },
  {
   "cell_type": "code",
   "execution_count": 11,
   "outputs": [
    {
     "data": {
      "text/plain": "               filename                                        newsarticle  \\\n0              tech_190  First look at PlayStation 3 chip\\n\\nSome detai...   \n1             sport_509  Melzer shocks Agassi in San Jose\\n\\nSecond see...   \n2              tech_072  Gadget growth fuels eco concerns\\n\\nTechnology...   \n3             sport_195  Juninho demand for O'Neill talks\\n\\nJuninho's ...   \n4              tech_393  Savvy searchers fail to spot ads\\n\\nInternet s...   \n...                 ...                                                ...   \n1293          sport_275  Beckham rules out management move\\n\\nReal Madr...   \n1294          sport_259  Benitez deflects blame from Dudek\\n\\nLiverpool...   \n1295  entertainment_148  Pupils to get anti-piracy lessons\\n\\nLessons o...   \n1296          sport_100  Mido makes third apology\\n\\nAhmed 'Mido' Hossa...   \n1297           tech_095  Mobile games come of age\\n\\nThe BBC News websi...   \n\n                                                summary  article_length  \\\n0     Some details of the chip inside Sony's PlaySta...             330   \n1     Second seed Andre Agassi suffered a comprehens...             206   \n2     But more awareness is needed about how and whe...             886   \n3     Hassel says Juninho, who has just bought a new...             410   \n4     Almost 50% of those questioned said they would...             500   \n...                                                 ...             ...   \n1293  But Beckham revealed that his immediate priori...             254   \n1294  Benitez said: \"It was difficult for Jerzy.Beni...             191   \n1295  Music piracy, including illegally swapping mus...             432   \n1296  Shalaby earlier said that after an apology Mid...             373   \n1297  Even before Nokia's N-Gage game phone launched...             913   \n\n      summary_length  \n0                130  \n1                 88  \n2                401  \n3                188  \n4                199  \n...              ...  \n1293             133  \n1294              55  \n1295             188  \n1296             157  \n1297             346  \n\n[1298 rows x 5 columns]",
      "text/html": "<div>\n<style scoped>\n    .dataframe tbody tr th:only-of-type {\n        vertical-align: middle;\n    }\n\n    .dataframe tbody tr th {\n        vertical-align: top;\n    }\n\n    .dataframe thead th {\n        text-align: right;\n    }\n</style>\n<table border=\"1\" class=\"dataframe\">\n  <thead>\n    <tr style=\"text-align: right;\">\n      <th></th>\n      <th>filename</th>\n      <th>newsarticle</th>\n      <th>summary</th>\n      <th>article_length</th>\n      <th>summary_length</th>\n    </tr>\n  </thead>\n  <tbody>\n    <tr>\n      <th>0</th>\n      <td>tech_190</td>\n      <td>First look at PlayStation 3 chip\\n\\nSome detai...</td>\n      <td>Some details of the chip inside Sony's PlaySta...</td>\n      <td>330</td>\n      <td>130</td>\n    </tr>\n    <tr>\n      <th>1</th>\n      <td>sport_509</td>\n      <td>Melzer shocks Agassi in San Jose\\n\\nSecond see...</td>\n      <td>Second seed Andre Agassi suffered a comprehens...</td>\n      <td>206</td>\n      <td>88</td>\n    </tr>\n    <tr>\n      <th>2</th>\n      <td>tech_072</td>\n      <td>Gadget growth fuels eco concerns\\n\\nTechnology...</td>\n      <td>But more awareness is needed about how and whe...</td>\n      <td>886</td>\n      <td>401</td>\n    </tr>\n    <tr>\n      <th>3</th>\n      <td>sport_195</td>\n      <td>Juninho demand for O'Neill talks\\n\\nJuninho's ...</td>\n      <td>Hassel says Juninho, who has just bought a new...</td>\n      <td>410</td>\n      <td>188</td>\n    </tr>\n    <tr>\n      <th>4</th>\n      <td>tech_393</td>\n      <td>Savvy searchers fail to spot ads\\n\\nInternet s...</td>\n      <td>Almost 50% of those questioned said they would...</td>\n      <td>500</td>\n      <td>199</td>\n    </tr>\n    <tr>\n      <th>...</th>\n      <td>...</td>\n      <td>...</td>\n      <td>...</td>\n      <td>...</td>\n      <td>...</td>\n    </tr>\n    <tr>\n      <th>1293</th>\n      <td>sport_275</td>\n      <td>Beckham rules out management move\\n\\nReal Madr...</td>\n      <td>But Beckham revealed that his immediate priori...</td>\n      <td>254</td>\n      <td>133</td>\n    </tr>\n    <tr>\n      <th>1294</th>\n      <td>sport_259</td>\n      <td>Benitez deflects blame from Dudek\\n\\nLiverpool...</td>\n      <td>Benitez said: \"It was difficult for Jerzy.Beni...</td>\n      <td>191</td>\n      <td>55</td>\n    </tr>\n    <tr>\n      <th>1295</th>\n      <td>entertainment_148</td>\n      <td>Pupils to get anti-piracy lessons\\n\\nLessons o...</td>\n      <td>Music piracy, including illegally swapping mus...</td>\n      <td>432</td>\n      <td>188</td>\n    </tr>\n    <tr>\n      <th>1296</th>\n      <td>sport_100</td>\n      <td>Mido makes third apology\\n\\nAhmed 'Mido' Hossa...</td>\n      <td>Shalaby earlier said that after an apology Mid...</td>\n      <td>373</td>\n      <td>157</td>\n    </tr>\n    <tr>\n      <th>1297</th>\n      <td>tech_095</td>\n      <td>Mobile games come of age\\n\\nThe BBC News websi...</td>\n      <td>Even before Nokia's N-Gage game phone launched...</td>\n      <td>913</td>\n      <td>346</td>\n    </tr>\n  </tbody>\n</table>\n<p>1298 rows × 5 columns</p>\n</div>"
     },
     "execution_count": 11,
     "metadata": {},
     "output_type": "execute_result"
    }
   ],
   "source": [
    "training_dataset"
   ],
   "metadata": {
    "collapsed": false,
    "ExecuteTime": {
     "end_time": "2023-12-04T17:35:08.258387Z",
     "start_time": "2023-12-04T17:35:08.213832Z"
    }
   },
   "id": "b8785c3fbb19e1fa"
  },
  {
   "cell_type": "code",
   "execution_count": 12,
   "outputs": [
    {
     "data": {
      "text/plain": "       article_length  summary_length\ncount     1298.000000     1298.000000\nmean       383.246533      165.270416\nstd        241.582739      109.734916\nmin        114.000000       42.000000\n25%        234.000000       99.250000\n50%        321.000000      137.000000\n75%        464.000000      202.750000\nmax       3482.000000     1706.000000",
      "text/html": "<div>\n<style scoped>\n    .dataframe tbody tr th:only-of-type {\n        vertical-align: middle;\n    }\n\n    .dataframe tbody tr th {\n        vertical-align: top;\n    }\n\n    .dataframe thead th {\n        text-align: right;\n    }\n</style>\n<table border=\"1\" class=\"dataframe\">\n  <thead>\n    <tr style=\"text-align: right;\">\n      <th></th>\n      <th>article_length</th>\n      <th>summary_length</th>\n    </tr>\n  </thead>\n  <tbody>\n    <tr>\n      <th>count</th>\n      <td>1298.000000</td>\n      <td>1298.000000</td>\n    </tr>\n    <tr>\n      <th>mean</th>\n      <td>383.246533</td>\n      <td>165.270416</td>\n    </tr>\n    <tr>\n      <th>std</th>\n      <td>241.582739</td>\n      <td>109.734916</td>\n    </tr>\n    <tr>\n      <th>min</th>\n      <td>114.000000</td>\n      <td>42.000000</td>\n    </tr>\n    <tr>\n      <th>25%</th>\n      <td>234.000000</td>\n      <td>99.250000</td>\n    </tr>\n    <tr>\n      <th>50%</th>\n      <td>321.000000</td>\n      <td>137.000000</td>\n    </tr>\n    <tr>\n      <th>75%</th>\n      <td>464.000000</td>\n      <td>202.750000</td>\n    </tr>\n    <tr>\n      <th>max</th>\n      <td>3482.000000</td>\n      <td>1706.000000</td>\n    </tr>\n  </tbody>\n</table>\n</div>"
     },
     "execution_count": 12,
     "metadata": {},
     "output_type": "execute_result"
    }
   ],
   "source": [
    "training_dataset.describe()"
   ],
   "metadata": {
    "collapsed": false,
    "ExecuteTime": {
     "end_time": "2023-12-04T17:35:08.275593Z",
     "start_time": "2023-12-04T17:35:08.216241Z"
    }
   },
   "id": "61e1e7c53ea37bee"
  },
  {
   "cell_type": "code",
   "execution_count": 13,
   "outputs": [
    {
     "data": {
      "text/plain": "Text(0.5, 1.0, 'Boxplot of Summary Lengths')"
     },
     "execution_count": 13,
     "metadata": {},
     "output_type": "execute_result"
    },
    {
     "data": {
      "text/plain": "<Figure size 1200x600 with 2 Axes>",
      "image/png": "[encoded data removed]"
     },
     "metadata": {},
     "output_type": "display_data"
    }
   ],
   "source": [
    "# Create a subplot with 1 row and 2 columns\n",
    "fig, axes = plt.subplots(nrows=1, ncols=2, figsize=(12, 6))\n",
    "\n",
    "# Plot for the articles' number of words\n",
    "sns.boxplot(training_dataset[\"article_length\"], ax=axes[0])\n",
    "axes[0].set_ylabel(\"Number of Words\")\n",
    "axes[0].set_title(\"Boxplot of Article Lengths\")\n",
    "\n",
    "# Plot for the summaries' number of words\n",
    "sns.boxplot(training_dataset[\"summary_length\"], ax=axes[1])\n",
    "axes[1].set_ylabel(\"Number of Words\")\n",
    "axes[1].set_title(\"Boxplot of Summary Lengths\")\n"
   ],
   "metadata": {
    "collapsed": false,
    "ExecuteTime": {
     "end_time": "2023-12-04T17:35:08.408792Z",
     "start_time": "2023-12-04T17:35:08.222640Z"
    }
   },
   "id": "13bb057a20e14b6e"
  },
  {
   "cell_type": "code",
   "execution_count": 14,
   "outputs": [],
   "source": [
    "# Get statistics for the articles boxplot\n",
    "lines_articles = axes[0].lines[:6]\n",
    "articles_stats = [line.get_ydata()[0] for line in lines_articles]\n",
    "Q1_articles, Q3_articles, lower_whisker_articles, upper_whisker_articles, median_articles = articles_stats[:5]\n",
    "\n",
    "# Get statistics for the summaries boxplot\n",
    "lines_summaries = axes[1].lines[:6]\n",
    "summaries_stats = [line.get_ydata()[0] for line in lines_summaries]\n",
    "Q1_summaries, Q3_summaries, lower_whisker_summaries, upper_whisker_summaries, median_summaries = summaries_stats[:5]"
   ],
   "metadata": {
    "collapsed": false,
    "ExecuteTime": {
     "end_time": "2023-12-04T17:35:08.408982Z",
     "start_time": "2023-12-04T17:35:08.353870Z"
    }
   },
   "id": "5548c1b1ebc4545a"
  },
  {
   "cell_type": "code",
   "execution_count": 15,
   "outputs": [],
   "source": [
    "training_dataset = training_dataset[(training_dataset['summary_length'] <= upper_whisker_summaries) & (training_dataset['article_length'] <= upper_whisker_articles)]"
   ],
   "metadata": {
    "collapsed": false,
    "ExecuteTime": {
     "end_time": "2023-12-04T17:35:08.409048Z",
     "start_time": "2023-12-04T17:35:08.355907Z"
    }
   },
   "id": "386a3fe1b0408491"
  },
  {
   "cell_type": "code",
   "execution_count": 16,
   "outputs": [
    {
     "data": {
      "text/plain": "    filename                                        newsarticle  \\\n0   tech_190  First look at PlayStation 3 chip\\n\\nSome detai...   \n1  sport_509  Melzer shocks Agassi in San Jose\\n\\nSecond see...   \n3  sport_195  Juninho demand for O'Neill talks\\n\\nJuninho's ...   \n4   tech_393  Savvy searchers fail to spot ads\\n\\nInternet s...   \n5   tech_132  US duo in first spam conviction\\n\\nA brother a...   \n\n                                             summary  article_length  \\\n0  Some details of the chip inside Sony's PlaySta...             330   \n1  Second seed Andre Agassi suffered a comprehens...             206   \n3  Hassel says Juninho, who has just bought a new...             410   \n4  Almost 50% of those questioned said they would...             500   \n5  Jaynes was also found guilty of breaking a sta...             278   \n\n   summary_length  \n0             130  \n1              88  \n3             188  \n4             199  \n5             135  ",
      "text/html": "<div>\n<style scoped>\n    .dataframe tbody tr th:only-of-type {\n        vertical-align: middle;\n    }\n\n    .dataframe tbody tr th {\n        vertical-align: top;\n    }\n\n    .dataframe thead th {\n        text-align: right;\n    }\n</style>\n<table border=\"1\" class=\"dataframe\">\n  <thead>\n    <tr style=\"text-align: right;\">\n      <th></th>\n      <th>filename</th>\n      <th>newsarticle</th>\n      <th>summary</th>\n      <th>article_length</th>\n      <th>summary_length</th>\n    </tr>\n  </thead>\n  <tbody>\n    <tr>\n      <th>0</th>\n      <td>tech_190</td>\n      <td>First look at PlayStation 3 chip\\n\\nSome detai...</td>\n      <td>Some details of the chip inside Sony's PlaySta...</td>\n      <td>330</td>\n      <td>130</td>\n    </tr>\n    <tr>\n      <th>1</th>\n      <td>sport_509</td>\n      <td>Melzer shocks Agassi in San Jose\\n\\nSecond see...</td>\n      <td>Second seed Andre Agassi suffered a comprehens...</td>\n      <td>206</td>\n      <td>88</td>\n    </tr>\n    <tr>\n      <th>3</th>\n      <td>sport_195</td>\n      <td>Juninho demand for O'Neill talks\\n\\nJuninho's ...</td>\n      <td>Hassel says Juninho, who has just bought a new...</td>\n      <td>410</td>\n      <td>188</td>\n    </tr>\n    <tr>\n      <th>4</th>\n      <td>tech_393</td>\n      <td>Savvy searchers fail to spot ads\\n\\nInternet s...</td>\n      <td>Almost 50% of those questioned said they would...</td>\n      <td>500</td>\n      <td>199</td>\n    </tr>\n    <tr>\n      <th>5</th>\n      <td>tech_132</td>\n      <td>US duo in first spam conviction\\n\\nA brother a...</td>\n      <td>Jaynes was also found guilty of breaking a sta...</td>\n      <td>278</td>\n      <td>135</td>\n    </tr>\n  </tbody>\n</table>\n</div>"
     },
     "execution_count": 16,
     "metadata": {},
     "output_type": "execute_result"
    }
   ],
   "source": [
    "training_dataset.head()"
   ],
   "metadata": {
    "collapsed": false,
    "ExecuteTime": {
     "end_time": "2023-12-04T17:35:08.409406Z",
     "start_time": "2023-12-04T17:35:08.361521Z"
    }
   },
   "id": "3a9867c1b3d58118"
  },
  {
   "cell_type": "code",
   "execution_count": 17,
   "outputs": [],
   "source": [
    "df = training_dataset"
   ],
   "metadata": {
    "collapsed": false,
    "ExecuteTime": {
     "end_time": "2023-12-04T17:35:08.409465Z",
     "start_time": "2023-12-04T17:35:08.364145Z"
    }
   },
   "id": "4ca1cac6537c484"
  },
  {
   "cell_type": "code",
   "execution_count": null,
   "outputs": [],
   "source": [],
   "metadata": {
    "collapsed": false,
    "ExecuteTime": {
     "start_time": "2023-12-04T17:48:15.790379Z"
    }
   },
   "id": "2f3e7be441b3c8bc"
  }
 ],
 "metadata": {
  "kernelspec": {
   "display_name": "Python 3",
   "language": "python",
   "name": "python3"
  },
  "language_info": {
   "codemirror_mode": {
    "name": "ipython",
    "version": 2
   },
   "file_extension": ".py",
   "mimetype": "text/x-python",
   "name": "python",
   "nbconvert_exporter": "python",
   "pygments_lexer": "ipython2",
   "version": "2.7.6"
  }
 },
 "nbformat": 4,
 "nbformat_minor": 5
}
