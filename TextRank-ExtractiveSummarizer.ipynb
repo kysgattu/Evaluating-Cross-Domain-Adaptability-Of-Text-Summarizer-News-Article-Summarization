{
 "cells": [
  {
   "cell_type": "code",
   "execution_count": 1,
   "outputs": [],
   "source": [
    "from contractions import contractions_dict"
   ],
   "metadata": {
    "collapsed": false,
    "ExecuteTime": {
     "end_time": "2023-12-04T18:09:31.863676Z",
     "start_time": "2023-12-04T18:09:31.803675Z"
    }
   },
   "id": "1544e591b08eb817"
  },
  {
   "cell_type": "code",
   "execution_count": 2,
   "outputs": [
    {
     "name": "stderr",
     "output_type": "stream",
     "text": [
      "[nltk_data] Downloading package stopwords to\n",
      "[nltk_data]     /Users/kysgattu/nltk_data...\n",
      "[nltk_data]   Package stopwords is already up-to-date!\n",
      "[nltk_data] Downloading package punkt to /Users/kysgattu/nltk_data...\n",
      "[nltk_data]   Package punkt is already up-to-date!\n"
     ]
    }
   ],
   "source": [
    "import re\n",
    "import pandas as pd\n",
    "import matplotlib.pyplot as plt\n",
    "import seaborn as sns\n",
    "\n",
    "import pandas as pd\n",
    "import numpy as np\n",
    "import matplotlib.pyplot as plt\n",
    "import seaborn as sns\n",
    "from sklearn.feature_extraction.text import TfidfVectorizer\n",
    "from sklearn.metrics.pairwise import cosine_similarity\n",
    "import nltk\n",
    "import textwrap\n",
    "from nltk.corpus import stopwords\n",
    "from nltk.tokenize import word_tokenize,sent_tokenize\n",
    "nltk.download(\"stopwords\")\n",
    "nltk.download(\"punkt\")\n",
    "\n",
    "from sklearn.model_selection import train_test_split"
   ],
   "metadata": {
    "collapsed": false,
    "ExecuteTime": {
     "end_time": "2023-12-04T18:09:32.561573Z",
     "start_time": "2023-12-04T18:09:32.156427Z"
    }
   },
   "id": "e8132c54e6183324"
  },
  {
   "cell_type": "code",
   "execution_count": 3,
   "outputs": [],
   "source": [
    "def expand_contractions(text, contraction_map=None):\n",
    "    if contraction_map is None:\n",
    "        contraction_map = contractions_dict\n",
    "\n",
    "    # Using regex for getting all contracted words\n",
    "    contractions_keys = '|'.join(re.escape(key) for key in contraction_map.keys())\n",
    "    contractions_pattern = re.compile(f'({contractions_keys})', flags=re.DOTALL)\n",
    "\n",
    "    expanded_text = contractions_pattern.sub(lambda match: contraction_map.get(match.group(0), match.group(0)), text)\n",
    "    expanded_text = re.sub(\"'\", \"\", expanded_text)\n",
    "    return expanded_text\n"
   ],
   "metadata": {
    "collapsed": false,
    "ExecuteTime": {
     "end_time": "2023-12-04T18:09:32.570448Z",
     "start_time": "2023-12-04T18:09:32.563022Z"
    }
   },
   "id": "720fce22cda4347d"
  },
  {
   "cell_type": "code",
   "execution_count": 4,
   "outputs": [],
   "source": [
    "entertainment = pd.read_csv('data/BBCNewsSummaryCSV/entertainment_data.csv') \n",
    "sport = pd.read_csv('data/BBCNewsSummaryCSV/sport_data.csv')\n",
    "tech = pd.read_csv('data/BBCNewsSummaryCSV/tech_data.csv')"
   ],
   "metadata": {
    "collapsed": false,
    "ExecuteTime": {
     "end_time": "2023-12-04T18:09:32.954478Z",
     "start_time": "2023-12-04T18:09:32.908751Z"
    }
   },
   "id": "d4c1a72c431acaf9"
  },
  {
   "cell_type": "code",
   "execution_count": 5,
   "outputs": [
    {
     "name": "stdout",
     "output_type": "stream",
     "text": [
      "            filename                                        newsarticle  \\\n",
      "0  entertainment_001  Gallery unveils interactive tree\\n\\nA Christma...   \n",
      "1  entertainment_002  Jarre joins fairytale celebration\\n\\nFrench mu...   \n",
      "2  entertainment_003  Musical treatment for Capra film\\n\\nThe classi...   \n",
      "3  entertainment_004  Richard and Judy choose top books\\n\\nThe 10 au...   \n",
      "4  entertainment_005  Poppins musical gets flying start\\n\\nThe stage...   \n",
      "\n",
      "                                             summary  \n",
      "0  The messages will be \"unwrapped\" by sculptor R...  \n",
      "1  Bloom is to be formally presented with the Han...  \n",
      "2  The classic film It's A Wonderful Life is to b...  \n",
      "3  \"It was very hard to follow last year's extrem...  \n",
      "4  Mary Poppins was originally created by author ...  \n"
     ]
    }
   ],
   "source": [
    "print(entertainment.head())"
   ],
   "metadata": {
    "collapsed": false,
    "ExecuteTime": {
     "end_time": "2023-12-04T18:09:33.397672Z",
     "start_time": "2023-12-04T18:09:33.393414Z"
    }
   },
   "id": "37e6a738190adee7"
  },
  {
   "cell_type": "code",
   "execution_count": 6,
   "outputs": [],
   "source": [
    "training_dataset = pd.concat([entertainment,sport,tech], ignore_index=True)"
   ],
   "metadata": {
    "collapsed": false,
    "ExecuteTime": {
     "end_time": "2023-12-04T18:09:33.954315Z",
     "start_time": "2023-12-04T18:09:33.934644Z"
    }
   },
   "id": "3c2ec3fd41f0db4b"
  },
  {
   "cell_type": "code",
   "execution_count": 7,
   "outputs": [],
   "source": [
    "training_dataset = training_dataset.sample(frac=1).reset_index(drop=True)"
   ],
   "metadata": {
    "collapsed": false,
    "ExecuteTime": {
     "end_time": "2023-12-04T18:09:34.330384Z",
     "start_time": "2023-12-04T18:09:34.326563Z"
    }
   },
   "id": "93ff95d1763fb30d"
  },
  {
   "cell_type": "code",
   "execution_count": 8,
   "outputs": [],
   "source": [
    "training_dataset = training_dataset.replace([np.inf, -np.inf], np.nan).dropna()"
   ],
   "metadata": {
    "collapsed": false,
    "ExecuteTime": {
     "end_time": "2023-12-04T18:09:34.683544Z",
     "start_time": "2023-12-04T18:09:34.679331Z"
    }
   },
   "id": "1bdb77952d8f3ae2"
  },
  {
   "cell_type": "code",
   "execution_count": 9,
   "outputs": [
    {
     "data": {
      "text/plain": "            filename                                        newsarticle  \\\n0           tech_250  Microsoft sets sights on spyware\\n\\nWindows us...   \n1  entertainment_262  U2's desire to be number one\\n\\nU2, who have w...   \n2          sport_008  Hansen 'delays return until 2006'\\n\\nBritish t...   \n3          sport_056  Kluft impressed by Sotherton form\\n\\nOlympic h...   \n4           tech_372  Text message record smashed again\\n\\nUK mobile...   \n\n                                             summary  \n0  Windows users could soon be paying Microsoft t...  \n1  But they still want more.They have to want to ...  \n2  Moore said Hansen may be able to return to spr...  \n3  Sotherton has also displayed promise, with a n...  \n4  Before December's bumper text record, the prev...  ",
      "text/html": "<div>\n<style scoped>\n    .dataframe tbody tr th:only-of-type {\n        vertical-align: middle;\n    }\n\n    .dataframe tbody tr th {\n        vertical-align: top;\n    }\n\n    .dataframe thead th {\n        text-align: right;\n    }\n</style>\n<table border=\"1\" class=\"dataframe\">\n  <thead>\n    <tr style=\"text-align: right;\">\n      <th></th>\n      <th>filename</th>\n      <th>newsarticle</th>\n      <th>summary</th>\n    </tr>\n  </thead>\n  <tbody>\n    <tr>\n      <th>0</th>\n      <td>tech_250</td>\n      <td>Microsoft sets sights on spyware\\n\\nWindows us...</td>\n      <td>Windows users could soon be paying Microsoft t...</td>\n    </tr>\n    <tr>\n      <th>1</th>\n      <td>entertainment_262</td>\n      <td>U2's desire to be number one\\n\\nU2, who have w...</td>\n      <td>But they still want more.They have to want to ...</td>\n    </tr>\n    <tr>\n      <th>2</th>\n      <td>sport_008</td>\n      <td>Hansen 'delays return until 2006'\\n\\nBritish t...</td>\n      <td>Moore said Hansen may be able to return to spr...</td>\n    </tr>\n    <tr>\n      <th>3</th>\n      <td>sport_056</td>\n      <td>Kluft impressed by Sotherton form\\n\\nOlympic h...</td>\n      <td>Sotherton has also displayed promise, with a n...</td>\n    </tr>\n    <tr>\n      <th>4</th>\n      <td>tech_372</td>\n      <td>Text message record smashed again\\n\\nUK mobile...</td>\n      <td>Before December's bumper text record, the prev...</td>\n    </tr>\n  </tbody>\n</table>\n</div>"
     },
     "execution_count": 9,
     "metadata": {},
     "output_type": "execute_result"
    }
   ],
   "source": [
    "training_dataset.head()"
   ],
   "metadata": {
    "collapsed": false,
    "ExecuteTime": {
     "end_time": "2023-12-04T18:09:36.021517Z",
     "start_time": "2023-12-04T18:09:36.011317Z"
    }
   },
   "id": "cdfa1fa87809acf"
  },
  {
   "cell_type": "code",
   "execution_count": 10,
   "outputs": [],
   "source": [
    "stop_words = stopwords.words(\"english\")"
   ],
   "metadata": {
    "collapsed": false,
    "ExecuteTime": {
     "end_time": "2023-12-04T18:09:36.631566Z",
     "start_time": "2023-12-04T18:09:36.626809Z"
    }
   },
   "id": "bd1727969bbb4949"
  },
  {
   "cell_type": "code",
   "execution_count": 11,
   "outputs": [],
   "source": [
    "def wrap(x):\n",
    "    return textwrap.fill(x,replace_whitespace=False,fix_sentence_endings=True)"
   ],
   "metadata": {
    "collapsed": false,
    "ExecuteTime": {
     "end_time": "2023-12-04T18:09:37.038937Z",
     "start_time": "2023-12-04T18:09:37.028321Z"
    }
   },
   "id": "630a4127a83a9408"
  },
  {
   "cell_type": "code",
   "execution_count": 12,
   "outputs": [],
   "source": [
    "def summarize_textrank(text,factor=0.15):\n",
    "    # extract sentences\n",
    "    sents = sent_tokenize(text)\n",
    "    # perform tfidf\n",
    "    tfidf = TfidfVectorizer(stop_words=stop_words,norm='l1')\n",
    "    X = tfidf.fit_transform(sents)\n",
    "    \n",
    "    # compute similarity matrix\n",
    "    S = cosine_similarity(X)\n",
    "    # Normalize\n",
    "    S  = S/S.sum(axis=1,keepdims=True)\n",
    "    \n",
    "    # Uniform transition matrix\n",
    "    U = np.ones_like(S)/len(S)\n",
    "    \n",
    "    # smmothed similarity matrix\n",
    "    S = (1-factor) * S + factor * U\n",
    "    \n",
    "    # find the limiting/stationary distribution\n",
    "    eigenvals,eigenvecs = np.linalg.eig(S.T)\n",
    "    \n",
    "    # compute scores\n",
    "    scores = eigenvecs[:,0]/eigenvecs[:,0].sum()\n",
    "    \n",
    "    # sort the scores\n",
    "    sort_idx = np.argsort(-scores)\n",
    "    \n",
    "    # print summary\n",
    "    \n",
    "    print(\"Summary:\\n\")\n",
    "    for i in sort_idx[:5]:\n",
    "        print(wrap(\"%.2f: %s\"%(scores[i],sents[i])))"
   ],
   "metadata": {
    "collapsed": false,
    "ExecuteTime": {
     "end_time": "2023-12-04T18:09:37.452111Z",
     "start_time": "2023-12-04T18:09:37.447987Z"
    }
   },
   "id": "af46667f8e67c1d4"
  },
  {
   "cell_type": "code",
   "execution_count": 27,
   "outputs": [
    {
     "name": "stdout",
     "output_type": "stream",
     "text": [
      "Summary:\n",
      "\n",
      "0.03: But they still want more.\n",
      "0.03: The band have done \"everything in their considerable powers\" to\n",
      "ensure they remain the biggest band in the world, according to Q\n",
      "magazine editor Paul Rees.\n",
      "0.03: We don't want to be thought of as a veteran band.\"\n",
      "0.03: They have to want to be the biggest band ever and not stop\n",
      "wanting it.\n",
      "0.03: They also have to want it.\n"
     ]
    }
   ],
   "source": [
    "summarize_textrank(training_dataset['newsarticle'][1])"
   ],
   "metadata": {
    "collapsed": false,
    "ExecuteTime": {
     "end_time": "2023-12-04T18:23:45.683910Z",
     "start_time": "2023-12-04T18:23:45.680987Z"
    }
   },
   "id": "4c2d9d75658583d3"
  },
  {
   "cell_type": "code",
   "execution_count": 26,
   "outputs": [
    {
     "ename": "AttributeError",
     "evalue": "'str' object has no attribute 'apply'",
     "output_type": "error",
     "traceback": [
      "\u001B[0;31m---------------------------------------------------------------------------\u001B[0m",
      "\u001B[0;31mAttributeError\u001B[0m                            Traceback (most recent call last)",
      "Cell \u001B[0;32mIn[26], line 1\u001B[0m\n\u001B[0;32m----> 1\u001B[0m training_dataset[\u001B[38;5;124m'\u001B[39m\u001B[38;5;124mTextRankSummary\u001B[39m\u001B[38;5;124m'\u001B[39m] \u001B[38;5;241m=\u001B[39m training_dataset[\u001B[38;5;124m'\u001B[39m\u001B[38;5;124mnewsarticle\u001B[39m\u001B[38;5;124m'\u001B[39m][\u001B[38;5;241m1\u001B[39m]\u001B[38;5;241m.\u001B[39mapply(summarize_textrank)\n",
      "\u001B[0;31mAttributeError\u001B[0m: 'str' object has no attribute 'apply'"
     ]
    }
   ],
   "source": [
    "training_dataset['TextRankSummary'] = training_dataset['newsarticle'][1].apply(summarize_textrank)"
   ],
   "metadata": {
    "collapsed": false,
    "ExecuteTime": {
     "end_time": "2023-12-04T18:23:25.320878Z",
     "start_time": "2023-12-04T18:23:25.316238Z"
    }
   },
   "id": "5b84ee7459a69cfc"
  },
  {
   "cell_type": "code",
   "execution_count": 14,
   "outputs": [],
   "source": [
    "import numpy as np\n",
    "import pandas as pd\n",
    "import nltk\n",
    "import re\n",
    "from nltk.tokenize import sent_tokenize\n",
    "from nltk.corpus import stopwords\n",
    "from gensim.models import Word2Vec\n",
    "from scipy import spatial\n",
    "import networkx as nx"
   ],
   "metadata": {
    "collapsed": false,
    "ExecuteTime": {
     "end_time": "2023-12-04T18:14:45.172986Z",
     "start_time": "2023-12-04T18:14:44.437867Z"
    }
   },
   "id": "e15eafe7126e284f"
  },
  {
   "cell_type": "code",
   "execution_count": 36,
   "outputs": [],
   "source": [
    "def textRank(text):\n",
    "    sentences=sent_tokenize(text)\n",
    "    sentences_clean=[re.sub(r'[^\\w\\s]','',sentence.lower()) for sentence in sentences]\n",
    "    stop_words = stopwords.words('english')\n",
    "    sentence_tokens=[[words for words in sentence.split(' ') if words not in stop_words] for sentence in sentences_clean]\n",
    "    w2v=Word2Vec(sentence_tokens,vector_size=1,min_count=1,epochs=1000)\n",
    "    sentence_embeddings=[[w2v.wv[word][0] for word in words] for words in sentence_tokens]\n",
    "    max_len=max([len(tokens) for tokens in sentence_tokens])\n",
    "    sentence_embeddings=[np.pad(embedding,(0,max_len-len(embedding)),'constant') for embedding in sentence_embeddings]\n",
    "    similarity_matrix = np.zeros([len(sentence_tokens), len(sentence_tokens)])\n",
    "    for i,row_embedding in enumerate(sentence_embeddings):\n",
    "        for j,column_embedding in enumerate(sentence_embeddings):\n",
    "            similarity_matrix[i][j]=1-spatial.distance.cosine(row_embedding,column_embedding)\n",
    "    nx_graph = nx.from_numpy_array(similarity_matrix)\n",
    "    scores = nx.pagerank(nx_graph)\n",
    "    top_sentence={sentence:scores[index] for index,sentence in enumerate(sentences)}\n",
    "    top=dict(sorted(top_sentence.items(), key=lambda x: x[1], reverse=True)[:4])\n",
    "    summary = ''\n",
    "    for sent in sentences:\n",
    "        if sent in top.keys():\n",
    "            summary = summary+sent\n",
    "            # print(summary)\n",
    "    return summary"
   ],
   "metadata": {
    "collapsed": false,
    "ExecuteTime": {
     "end_time": "2023-12-04T18:26:07.765768Z",
     "start_time": "2023-12-04T18:26:07.760530Z"
    }
   },
   "id": "3be188dbf51c7c5b"
  },
  {
   "cell_type": "code",
   "execution_count": 37,
   "outputs": [
    {
     "data": {
      "text/plain": "'They have to be compelling performers, charismatic and intelligent enough to make good decisions and keep their feet on the ground.\"The challenge is to be bigger and bolder and better - to make records the whole world will listen to,\" Bono recently said.Drummer Larry Mullen Jr echoed those sentiments: \"We\\'re very competitive - we want to be on the radio, have big singles.The end of the decade marked a crucial point for the band - they had reached the top but still yearned for new challenges and achievements.'"
     },
     "execution_count": 37,
     "metadata": {},
     "output_type": "execute_result"
    }
   ],
   "source": [
    "textRank(training_dataset['newsarticle'][1])"
   ],
   "metadata": {
    "collapsed": false,
    "ExecuteTime": {
     "end_time": "2023-12-04T18:26:08.817119Z",
     "start_time": "2023-12-04T18:26:08.324295Z"
    }
   },
   "id": "ff7ce9eb7fe599f0"
  },
  {
   "cell_type": "code",
   "execution_count": 38,
   "outputs": [
    {
     "name": "stdout",
     "output_type": "stream",
     "text": [
      "But they still want more.They have to want to be the biggest band ever and not stop wanting it.The band have done \"everything in their considerable powers\" to ensure they remain the biggest band in the world, according to Q magazine editor Paul Rees.We don't want to be thought of as a veteran band.\"\"The challenge is to be bigger and bolder and better - to make records the whole world will listen to,\" Bono recently said.U2, who have won three prestigious Grammy Awards for their hit Vertigo, are stubbornly clinging to their status as one of the biggest bands in the world.The end of the decade marked a crucial point for the band - they had reached the top but still yearned for new challenges and achievements.They are, perhaps, alone as the only rock band that has got better with age.\"They also have to want it.In 1987, The Joshua Tree broke sales records and saw the band reach the height of their powers with hits including Where the Streets Have No Name, I Still Haven't Found What I'm Looking For and With Or Without You.The stadium-filling, anthemic sound was U2's aim from the start, and their third album, War, saw them make the breakthrough on both sides of the Atlantic, going to number one in the UK and 12 in the US.He added: \"They are equally determined to push themselves to make music that continues to stand up.Their new album, How To Dismantle An Atomic Bomb, comes 28 years after the schoolfriends got together in Dublin and 17 years after The Joshua Tree cemented their place on the all-time rock A-list.These came in the form of explorations of different branches of rock and forays into electronic dance music, plus wildly extravagant stage shows, while still trying to retain their mass appeal.Vertigo, the first single from the new album, went straight into the UK singles chart at number one, knocking Eminem off the top spot and giving them their 26th top 10 hit.Songs like Sunday Bloody Sunday and New Year's Day brought success and an image as a political and spiritual band - which Bono rejected as a cliche.Before the release of How To Dismantle An Atomic Bomb, they had sold 125 million albums around the world. ____\n",
      "_____ They have to be compelling performers, charismatic and intelligent enough to make good decisions and keep their feet on the ground.\"The challenge is to be bigger and bolder and better - to make records the whole world will listen to,\" Bono recently said.Drummer Larry Mullen Jr echoed those sentiments: \"We're very competitive - we want to be on the radio, have big singles.The end of the decade marked a crucial point for the band - they had reached the top but still yearned for new challenges and achievements.\n"
     ]
    }
   ],
   "source": [
    "print(training_dataset['summary'][1],\"____\\n_____\",textRank(training_dataset['newsarticle'][1]))"
   ],
   "metadata": {
    "collapsed": false,
    "ExecuteTime": {
     "end_time": "2023-12-04T18:26:10.499019Z",
     "start_time": "2023-12-04T18:26:09.910325Z"
    }
   },
   "id": "fd3928c21efbc0c7"
  },
  {
   "cell_type": "code",
   "execution_count": 39,
   "outputs": [],
   "source": [
    "dd = \"\"\"Ajax refuse to rule out Jol move..Ajax have refused to reveal whether Tottenham's boss Martin Jol is on the Dutch champions' shortlist to become the Amsterdam club's new coach...Jol, who has coached in his native Holland, has guided Spurs to the Premiership's top eight. An Ajax spokesman told BBC Sport: \"The coach must fit our profile - a coach who understands the Dutch league and offensive and distinctive football. \"We need to find a solution soon, so someone is in place for next season.\" Ronald Koeman quit as Ajax boss last week after their exit from the Uefa Cup. Jol has been linked with the vacant post at Ajax, with reports saying he has fallen out with Spurs' sporting director Frank Arnesen. But in a statement on Spurs' website, Jol said: \"I'm happy here, I'm not in discussion with anyone else, I don't want to go elsewhere.\" Ajax have enlisted the help of Dutch legend Johann Cruyff, currently a consultant at Barcelona, to help find a new head coach. Cruyff has admitted he has been impressed by the way former RFC Waalwijk coach Jol has turned round Spurs' fortunes since taking over from Jacques Santini. Tonny Bruins Slot and Ruud Krol are currently in charge of Ajax, who are third in the Dutch league.\"\"\""
   ],
   "metadata": {
    "collapsed": false,
    "ExecuteTime": {
     "end_time": "2023-12-04T20:23:30.683863Z",
     "start_time": "2023-12-04T20:23:30.651993Z"
    }
   },
   "id": "7ef6986b295763ec"
  },
  {
   "cell_type": "code",
   "execution_count": 40,
   "outputs": [
    {
     "data": {
      "text/plain": "1224"
     },
     "execution_count": 40,
     "metadata": {},
     "output_type": "execute_result"
    }
   ],
   "source": [
    "len(dd)"
   ],
   "metadata": {
    "collapsed": false,
    "ExecuteTime": {
     "end_time": "2023-12-04T20:23:36.873588Z",
     "start_time": "2023-12-04T20:23:36.809482Z"
    }
   },
   "id": "d1073dfd3848b7d1"
  },
  {
   "cell_type": "code",
   "execution_count": null,
   "outputs": [],
   "source": [],
   "metadata": {
    "collapsed": false
   },
   "id": "df1213354e95a33d"
  }
 ],
 "metadata": {
  "kernelspec": {
   "display_name": "Python 3",
   "language": "python",
   "name": "python3"
  },
  "language_info": {
   "codemirror_mode": {
    "name": "ipython",
    "version": 2
   },
   "file_extension": ".py",
   "mimetype": "text/x-python",
   "name": "python",
   "nbconvert_exporter": "python",
   "pygments_lexer": "ipython2",
   "version": "2.7.6"
  }
 },
 "nbformat": 4,
 "nbformat_minor": 5
}
