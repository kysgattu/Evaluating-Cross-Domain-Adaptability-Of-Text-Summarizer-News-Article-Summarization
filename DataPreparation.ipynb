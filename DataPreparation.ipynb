{
 "cells": [
  {
   "cell_type": "code",
   "execution_count": 12,
   "outputs": [],
   "source": [
    "    import os\n",
    "import pandas as pd\n",
    "import chardet\n",
    "import contractions"
   ],
   "metadata": {
    "collapsed": false,
    "ExecuteTime": {
     "end_time": "2023-11-06T15:42:50.844530Z",
     "start_time": "2023-11-06T15:42:50.618097Z"
    }
   },
   "id": "300bfdef52b35cc4"
  },
  {
   "cell_type": "code",
   "execution_count": 20,
   "outputs": [],
   "source": [
    "# Function to detect file encoding\n",
    "def detect_encoding(file_path):\n",
    "    with open(file_path, 'rb') as f:\n",
    "        result = chardet.detect(f.read())\n",
    "    return result['encoding']\n",
    "\n",
    "# Set the base directory\n",
    "base_dir = \"data/BBCNewsSummary/News Articles\"\n",
    "output_dir = \"data/BBCNewsSummaryCSV\"  # Output directory\n",
    "\n",
    "# Check if the output directory exists, and create it if not\n",
    "if not os.path.exists(output_dir):\n",
    "    os.makedirs(output_dir)\n",
    "\n",
    "# Get the list of classes (subfolder names)\n",
    "classes = os.listdir(base_dir)\n",
    "dfs = {}\n",
    "# Create dataframes and write to CSV files for each class\n",
    "for class_name in classes:\n",
    "    # Define the paths for news articles and summaries\n",
    "    news_articles_path = os.path.join(base_dir, class_name)\n",
    "    summaries_path = os.path.join(\"data/BBCNewsSummary/Summaries\", class_name)\n",
    "\n",
    "    # Get the list of file names in both directories\n",
    "    news_articles_files = os.listdir(news_articles_path)\n",
    "    summaries_files = os.listdir(summaries_path)\n",
    "\n",
    "    # Match file names\n",
    "    common_files = set(news_articles_files) & set(summaries_files)\n",
    "\n",
    "    # Create dataframe\n",
    "    df_list = []\n",
    "\n",
    "    # Read content from files and populate dataframe\n",
    "    for filename in sorted(common_files):  # Sort by filename\n",
    "        news_article_file_path = os.path.join(news_articles_path, filename)\n",
    "        summary_file_path = os.path.join(summaries_path, filename)\n",
    "\n",
    "        # Detect encoding\n",
    "        news_encoding = detect_encoding(news_article_file_path)\n",
    "        summary_encoding = detect_encoding(summary_file_path)\n",
    "\n",
    "        try:\n",
    "            with open(news_article_file_path, 'r', encoding=news_encoding) as news_file, \\\n",
    "                    open(summary_file_path, 'r', encoding=summary_encoding) as summary_file:\n",
    "                news_content = news_file.read()\n",
    "                summary_content = summary_file.read()\n",
    "                \n",
    "\n",
    "                # Extract file name without extension\n",
    "                file_name_without_extension = os.path.splitext(filename)[0]\n",
    "\n",
    "                # Generate the new entry in the filename\n",
    "                new_filename = f'{class_name}_{file_name_without_extension}'\n",
    "\n",
    "                df_list.append({'filename': new_filename, 'newsarticle': news_content, 'summary': summary_content})\n",
    "\n",
    "        except UnicodeDecodeError:\n",
    "            print(f\"UnicodeDecodeError: Could not read {filename}. Skipping this file.\")\n",
    "\n",
    "    # Create dataframe from the list and sort by filename\n",
    "    df = pd.DataFrame(df_list).sort_values(by='filename')\n",
    "    \n",
    "    # Save dataframe to the dictionary\n",
    "    dfs[class_name] = df\n",
    "\n",
    "\n",
    "    # # Write dataframe to CSV in the output directory\n",
    "    # csv_filename = os.path.join(output_dir, f'{class_name}_data.csv')\n",
    "    # df.to_csv(csv_filename, index=False)\n",
    "    # print(f'Dataframe for {class_name} written to {csv_filename}')\n"
   ],
   "metadata": {
    "collapsed": false,
    "ExecuteTime": {
     "end_time": "2023-11-06T15:58:47.758274Z",
     "start_time": "2023-11-06T15:58:40.373844Z"
    }
   },
   "id": "e49d17228768ca46"
  },
  {
   "cell_type": "code",
   "execution_count": 21,
   "outputs": [],
   "source": [
    "business_df = dfs['business']\n",
    "entertainment_df = dfs['entertainment']\n",
    "sport_df = dfs['sport']\n",
    "politics_df = dfs['politics']\n",
    "tech_df = dfs['tech']"
   ],
   "metadata": {
    "collapsed": false,
    "ExecuteTime": {
     "end_time": "2023-11-06T15:58:49.410755Z",
     "start_time": "2023-11-06T15:58:49.400928Z"
    }
   },
   "id": "9da6ac6b3a638419"
  },
  {
   "cell_type": "code",
   "execution_count": 22,
   "outputs": [
    {
     "data": {
      "text/plain": "       filename                                        newsarticle  \\\n0  business_001  Ad sales boost Time Warner profit\\n\\nQuarterly...   \n1  business_002  Dollar gains on Greenspan speech\\n\\nThe dollar...   \n2  business_003  Yukos unit buyer faces loan claim\\n\\nThe owner...   \n3  business_004  High fuel prices hit BA's profits\\n\\nBritish A...   \n4  business_005  Pernod takeover talk lifts Domecq\\n\\nShares in...   \n\n                                             summary  \n0  TimeWarner said fourth quarter sales rose 2% t...  \n1  The dollar has hit its highest level against t...  \n2  Yukos' owner Menatep Group says it will ask Ro...  \n3  Rod Eddington, BA's chief executive, said the ...  \n4  Pernod has reduced the debt it took on to fund...  ",
      "text/html": "<div>\n<style scoped>\n    .dataframe tbody tr th:only-of-type {\n        vertical-align: middle;\n    }\n\n    .dataframe tbody tr th {\n        vertical-align: top;\n    }\n\n    .dataframe thead th {\n        text-align: right;\n    }\n</style>\n<table border=\"1\" class=\"dataframe\">\n  <thead>\n    <tr style=\"text-align: right;\">\n      <th></th>\n      <th>filename</th>\n      <th>newsarticle</th>\n      <th>summary</th>\n    </tr>\n  </thead>\n  <tbody>\n    <tr>\n      <th>0</th>\n      <td>business_001</td>\n      <td>Ad sales boost Time Warner profit\\n\\nQuarterly...</td>\n      <td>TimeWarner said fourth quarter sales rose 2% t...</td>\n    </tr>\n    <tr>\n      <th>1</th>\n      <td>business_002</td>\n      <td>Dollar gains on Greenspan speech\\n\\nThe dollar...</td>\n      <td>The dollar has hit its highest level against t...</td>\n    </tr>\n    <tr>\n      <th>2</th>\n      <td>business_003</td>\n      <td>Yukos unit buyer faces loan claim\\n\\nThe owner...</td>\n      <td>Yukos' owner Menatep Group says it will ask Ro...</td>\n    </tr>\n    <tr>\n      <th>3</th>\n      <td>business_004</td>\n      <td>High fuel prices hit BA's profits\\n\\nBritish A...</td>\n      <td>Rod Eddington, BA's chief executive, said the ...</td>\n    </tr>\n    <tr>\n      <th>4</th>\n      <td>business_005</td>\n      <td>Pernod takeover talk lifts Domecq\\n\\nShares in...</td>\n      <td>Pernod has reduced the debt it took on to fund...</td>\n    </tr>\n  </tbody>\n</table>\n</div>"
     },
     "execution_count": 22,
     "metadata": {},
     "output_type": "execute_result"
    }
   ],
   "source": [
    "business_df.head()"
   ],
   "metadata": {
    "collapsed": false,
    "ExecuteTime": {
     "end_time": "2023-11-06T15:59:00.148966Z",
     "start_time": "2023-11-06T15:59:00.143915Z"
    }
   },
   "id": "2b71e7315efe470f"
  },
  {
   "cell_type": "code",
   "execution_count": 18,
   "outputs": [],
   "source": [
    "from nltk.corpus import stopwords\n",
    "stop_words = stopwords.words('english')"
   ],
   "metadata": {
    "collapsed": false,
    "ExecuteTime": {
     "end_time": "2023-11-06T15:55:16.475835Z",
     "start_time": "2023-11-06T15:55:14.860990Z"
    }
   },
   "id": "a0e19b482277b006"
  },
  {
   "cell_type": "code",
   "execution_count": 19,
   "outputs": [
    {
     "data": {
      "text/plain": "['i',\n 'me',\n 'my',\n 'myself',\n 'we',\n 'our',\n 'ours',\n 'ourselves',\n 'you',\n \"you're\",\n \"you've\",\n \"you'll\",\n \"you'd\",\n 'your',\n 'yours',\n 'yourself',\n 'yourselves',\n 'he',\n 'him',\n 'his',\n 'himself',\n 'she',\n \"she's\",\n 'her',\n 'hers',\n 'herself',\n 'it',\n \"it's\",\n 'its',\n 'itself',\n 'they',\n 'them',\n 'their',\n 'theirs',\n 'themselves',\n 'what',\n 'which',\n 'who',\n 'whom',\n 'this',\n 'that',\n \"that'll\",\n 'these',\n 'those',\n 'am',\n 'is',\n 'are',\n 'was',\n 'were',\n 'be',\n 'been',\n 'being',\n 'have',\n 'has',\n 'had',\n 'having',\n 'do',\n 'does',\n 'did',\n 'doing',\n 'a',\n 'an',\n 'the',\n 'and',\n 'but',\n 'if',\n 'or',\n 'because',\n 'as',\n 'until',\n 'while',\n 'of',\n 'at',\n 'by',\n 'for',\n 'with',\n 'about',\n 'against',\n 'between',\n 'into',\n 'through',\n 'during',\n 'before',\n 'after',\n 'above',\n 'below',\n 'to',\n 'from',\n 'up',\n 'down',\n 'in',\n 'out',\n 'on',\n 'off',\n 'over',\n 'under',\n 'again',\n 'further',\n 'then',\n 'once',\n 'here',\n 'there',\n 'when',\n 'where',\n 'why',\n 'how',\n 'all',\n 'any',\n 'both',\n 'each',\n 'few',\n 'more',\n 'most',\n 'other',\n 'some',\n 'such',\n 'no',\n 'nor',\n 'not',\n 'only',\n 'own',\n 'same',\n 'so',\n 'than',\n 'too',\n 'very',\n 's',\n 't',\n 'can',\n 'will',\n 'just',\n 'don',\n \"don't\",\n 'should',\n \"should've\",\n 'now',\n 'd',\n 'll',\n 'm',\n 'o',\n 're',\n 've',\n 'y',\n 'ain',\n 'aren',\n \"aren't\",\n 'couldn',\n \"couldn't\",\n 'didn',\n \"didn't\",\n 'doesn',\n \"doesn't\",\n 'hadn',\n \"hadn't\",\n 'hasn',\n \"hasn't\",\n 'haven',\n \"haven't\",\n 'isn',\n \"isn't\",\n 'ma',\n 'mightn',\n \"mightn't\",\n 'mustn',\n \"mustn't\",\n 'needn',\n \"needn't\",\n 'shan',\n \"shan't\",\n 'shouldn',\n \"shouldn't\",\n 'wasn',\n \"wasn't\",\n 'weren',\n \"weren't\",\n 'won',\n \"won't\",\n 'wouldn',\n \"wouldn't\"]"
     },
     "execution_count": 19,
     "metadata": {},
     "output_type": "execute_result"
    }
   ],
   "source": [
    "def text_cleaning(text):"
   ],
   "metadata": {
    "collapsed": false,
    "ExecuteTime": {
     "end_time": "2023-11-06T15:55:18.573106Z",
     "start_time": "2023-11-06T15:55:18.561156Z"
    }
   },
   "id": "5506fc9c461727f"
  },
  {
   "cell_type": "code",
   "execution_count": 25,
   "outputs": [],
   "source": [
    "sample_text = business_df['newsarticle'][242] "
   ],
   "metadata": {
    "collapsed": false,
    "ExecuteTime": {
     "end_time": "2023-11-06T16:05:31.733731Z",
     "start_time": "2023-11-06T16:05:31.725377Z"
    }
   },
   "id": "d9bc498d6661cdd7"
  },
  {
   "cell_type": "code",
   "execution_count": 26,
   "outputs": [
    {
     "data": {
      "text/plain": "\"Making your office work for you\\n\\nOur mission to brighten up your working lives continues - and this time, we're taking a long hard look at your offices.\\n\\nOver the next few months, our panel of experts will be listening to your gripes about where you work, and suggesting ways to make your workspace more efficient, more congenial or simply prettier. This week, we're hearing from Marianne Petersen, who is planning to convert a barn in Sweden into a base for her freelance writing work. Click on the link under her photograph to read her story, and then scroll down to see what the panel have to say. And if you want to take part in the series, go to the bottom of the story to find out how to get in touch.\\n\\nWorking from home presents a multitude of challenges. Understanding your work personality allows you to work in terms of your own style. Do you feel confident about your work output without conferring with others? Are you able to retain discipline and self motivate to get the job done? Do you build on the ideas of others - or are you a more introspective problem solver?. In order for a virtual office to succeed, keeping the boundary between work and home life is essential. It may be useful to be quite rigid about who is allowed to visit, and to keep strict office hours. Referring to the space as work will give those around you a clear message that this is professional space. It is imperative to consider how to bring the outside world into yours, keeping up to date with developments and maintaining a network. Isolated work environments mean this has to be carefully thought out, and a strategy has to be developed that suits both your personality and your industry. Joining professional groups or forming a loose association of like-minded people may assist. It is useful to structure these meetings in advance as often they get relegated to less important status when times are busy - with the danger that when the workload eases, they have to be resurrected.\\n\\n\\n\\nPrior to any interior work being undertaken it is essential to ensure that the roof and walls are made water-and-weather-tight, and the structure is checked for stability. It appears that the roof trusses may need repairs and additional bracing.\\n\\nIdeally, the roof should be replaced with an outer material in keeping with the character and location of the barn. This would also allow for a well-insulated inner skin to be provided which should be light coloured. It is likely that the most efficient way of heating the building is with electricity. In order to provide this the owner will need to have an electrical engineer calculate the potential heating, power and lighting load to make sure the mains supply and distribution capacity are adequate. Ideally, it would be good to have a mains water supply and some means of drainage for toilet and washing facilities. The walls should be dry lined with a single skin of plasterboard laid over rockwool slab which will allow good wall insulation and the power and lighting circuits to be concealed, and the walls should be painted in a light colour. The owner mentions she might lay a new floor over the existing planks; this will improve the insulation and offer a level surface. I would suggest laying new oak veneer planks which can work in with the character of the barn. As for lighting, consider a combination of floor mounted uplights, wall lights (wall washers) and selected downlights. Use a combination of mains voltage fluorescent fittings and dimmable units which can vary the light levels and the feel of the interior.\\n\\n\\n\\nPlease click on the link to the right here to see my ideas for Marianne's barn.\\n\\nThe layout of this office reflects the need to have a working area and a more relaxed meeting space. Large desk space and extensive storage would combine with tub chairs to maximise the space available. The finishes chosen for the furniture will need to reflect the unusual setting, while the lighting and temperature control mechanisms used will further influence the workplace.\\n\\n\\n\\nRegarding accessing the internet via the connection in the main house, your plan of going wireless is sensible. A wireless router/access point in the house with a wireless LAN card in the PC in the renovated area may be sufficient. However, important points to consider are the distance between the two buildings and the nature of the materials through which the signals have to pass, which could result in a weak signal strength. You may require an additional wireless access point in the renovated area. Your local IT supplier will be able to advise on this. If you haven't already invested in robust firewall and anti-virus software, it is essential to do so, to protect your investment. To really take advantage of wireless technology, you might consider a laptop computer and a docking station with external mouse and monitor. Or you could use one of the new Tablet computers, which allow you to write directly on the screen and convert into text with built-in hand recognition software. And finally, you will save money and space by considering a multi-function product for print, scan, copy and fax.\\n\""
     },
     "execution_count": 26,
     "metadata": {},
     "output_type": "execute_result"
    }
   ],
   "source": [
    "sample_text"
   ],
   "metadata": {
    "collapsed": false,
    "ExecuteTime": {
     "end_time": "2023-11-06T16:05:32.174291Z",
     "start_time": "2023-11-06T16:05:32.166567Z"
    }
   },
   "id": "7e4be9618dc62ce5"
  },
  {
   "cell_type": "code",
   "execution_count": null,
   "outputs": [],
   "source": [],
   "metadata": {
    "collapsed": false
   },
   "id": "572d27564385a4fe"
  }
 ],
 "metadata": {
  "kernelspec": {
   "display_name": "Python 3",
   "language": "python",
   "name": "python3"
  },
  "language_info": {
   "codemirror_mode": {
    "name": "ipython",
    "version": 2
   },
   "file_extension": ".py",
   "mimetype": "text/x-python",
   "name": "python",
   "nbconvert_exporter": "python",
   "pygments_lexer": "ipython2",
   "version": "2.7.6"
  }
 },
 "nbformat": 4,
 "nbformat_minor": 5
}
