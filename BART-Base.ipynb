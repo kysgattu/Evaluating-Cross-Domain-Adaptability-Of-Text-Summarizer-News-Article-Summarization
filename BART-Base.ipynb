{
 "cells": [
  {
   "cell_type": "code",
   "execution_count": 1,
   "outputs": [],
   "source": [
    "import re\n",
    "import pandas as pd\n",
    "import matplotlib.pyplot as plt\n",
    "import seaborn as sns\n",
    "\n",
    "from sklearn.model_selection import train_test_split"
   ],
   "metadata": {
    "collapsed": false,
    "ExecuteTime": {
     "end_time": "2023-12-05T01:54:58.268726Z",
     "start_time": "2023-12-05T01:54:58.130508Z"
    }
   },
   "id": "a420193d2b10ad2e"
  },
  {
   "cell_type": "code",
   "execution_count": 2,
   "outputs": [],
   "source": [
    "from contractions import contractions_dict\n",
    "def expand_contractions(text, contraction_map=None):\n",
    "    if contraction_map is None:\n",
    "        contraction_map = contractions_dict\n",
    "\n",
    "    # Using regex for getting all contracted words\n",
    "    contractions_keys = '|'.join(re.escape(key) for key in contraction_map.keys())\n",
    "    contractions_pattern = re.compile(f'({contractions_keys})', flags=re.DOTALL)\n",
    "\n",
    "    expanded_text = contractions_pattern.sub(lambda match: contraction_map.get(match.group(0), match.group(0)), text)\n",
    "    expanded_text = re.sub(\"'\", \"\", expanded_text)\n",
    "    return expanded_text"
   ],
   "metadata": {
    "collapsed": false,
    "ExecuteTime": {
     "end_time": "2023-12-05T01:54:58.472768Z",
     "start_time": "2023-12-05T01:54:58.461405Z"
    }
   },
   "id": "aa4ec21dc806a71e"
  },
  {
   "cell_type": "code",
   "execution_count": 3,
   "outputs": [],
   "source": [
    "entertainment = pd.read_csv('data/BBCNewsSummaryCSV/entertainment_data.csv') \n",
    "sport = pd.read_csv('data/BBCNewsSummaryCSV/sport_data.csv')\n",
    "tech = pd.read_csv('data/BBCNewsSummaryCSV/tech_data.csv')\n",
    "business = pd.read_csv('data/BBCNewsSummaryCSV/business_data.csv')\n",
    "politics = pd.read_csv('data/BBCNewsSummaryCSV/politics_data.csv')"
   ],
   "metadata": {
    "collapsed": false,
    "ExecuteTime": {
     "end_time": "2023-12-05T01:54:58.867437Z",
     "start_time": "2023-12-05T01:54:58.793764Z"
    }
   },
   "id": "457cdc1174a1a615"
  },
  {
   "cell_type": "code",
   "execution_count": 4,
   "outputs": [],
   "source": [
    "training_dataset = pd.concat([entertainment,sport,tech], ignore_index=True)\n",
    "testing_dataset = pd.concat([business,politics], ignore_index=True)"
   ],
   "metadata": {
    "collapsed": false,
    "ExecuteTime": {
     "end_time": "2023-12-05T01:54:59.041362Z",
     "start_time": "2023-12-05T01:54:59.038902Z"
    }
   },
   "id": "4e6f2bd362f9941c"
  },
  {
   "cell_type": "code",
   "execution_count": 5,
   "outputs": [
    {
     "name": "stdout",
     "output_type": "stream",
     "text": [
      "Training size: 3894\n",
      "Testing size: 2781\n"
     ]
    }
   ],
   "source": [
    "print(\"Training size:\",training_dataset.size)\n",
    "print(\"Testing size:\",testing_dataset.size)"
   ],
   "metadata": {
    "collapsed": false,
    "ExecuteTime": {
     "end_time": "2023-12-05T01:54:59.300054Z",
     "start_time": "2023-12-05T01:54:59.297100Z"
    }
   },
   "id": "c505d93ece6ccb4f"
  },
  {
   "cell_type": "code",
   "execution_count": 6,
   "outputs": [],
   "source": [
    "training_dataset = training_dataset.sample(frac=1).reset_index(drop=True)\n",
    "testing_dataset = testing_dataset.sample(frac=1).reset_index(drop=True)"
   ],
   "metadata": {
    "collapsed": false,
    "ExecuteTime": {
     "end_time": "2023-12-05T01:54:59.646610Z",
     "start_time": "2023-12-05T01:54:59.642555Z"
    }
   },
   "id": "60565a31435a3aa1"
  },
  {
   "cell_type": "code",
   "execution_count": 7,
   "outputs": [],
   "source": [
    "training_dataset['newsarticle'] = training_dataset['newsarticle'].apply(expand_contractions)\n",
    "testing_dataset['newsarticle'] = testing_dataset['newsarticle'].apply(expand_contractions)"
   ],
   "metadata": {
    "collapsed": false,
    "ExecuteTime": {
     "end_time": "2023-12-05T01:55:03.378146Z",
     "start_time": "2023-12-05T01:55:00.113335Z"
    }
   },
   "id": "9548c7fe9000613a"
  },
  {
   "cell_type": "code",
   "execution_count": 8,
   "outputs": [],
   "source": [
    "def getSenLen(sentence):\n",
    "    return len(sentence.split())"
   ],
   "metadata": {
    "collapsed": false,
    "ExecuteTime": {
     "end_time": "2023-12-05T01:55:03.386049Z",
     "start_time": "2023-12-05T01:55:03.378671Z"
    }
   },
   "id": "e9bde57dcff61ed4"
  },
  {
   "cell_type": "code",
   "execution_count": 9,
   "outputs": [],
   "source": [
    "training_dataset['article_length'] = training_dataset['newsarticle'].apply(getSenLen)\n",
    "training_dataset['summary_length'] = training_dataset['summary'].apply(getSenLen)\n",
    "testing_dataset['article_length'] = testing_dataset['newsarticle'].apply(getSenLen)\n",
    "testing_dataset['summary_length'] = testing_dataset['summary'].apply(getSenLen)\n"
   ],
   "metadata": {
    "collapsed": false,
    "ExecuteTime": {
     "end_time": "2023-12-05T01:55:03.423153Z",
     "start_time": "2023-12-05T01:55:03.421525Z"
    }
   },
   "id": "f32b6c40d28d834"
  },
  {
   "cell_type": "code",
   "execution_count": 10,
   "outputs": [
    {
     "data": {
      "text/plain": "            filename                                        newsarticle  \\\n0  entertainment_113  Wal-Mart is sued over rude lyrics\\n\\nThe paren...   \n1           tech_304  Format wars could confuse users\\n\\nTechnology ...   \n2  entertainment_087  Global release for Japan hit film\\n\\nOscar-win...   \n3  entertainment_081  Oscars race enters final furlong\\n\\nThe race f...   \n4  entertainment_130  Charity single for quake relief\\n\\nSingers inc...   \n\n                                             summary  article_length  \\\n0  Wal-Mart said it was investigating the claims ...             240   \n1  Instead, said Mr Doctorow, DRM systems were in...             730   \n2  Oscar-winning animator Hayao Miyazaki's latest...             174   \n3  The only people who will know the Oscar winner...             317   \n4  He said the song was a slow ballad and would w...             363   \n\n   summary_length  \n0              98  \n1             312  \n2              64  \n3             139  \n4             135  ",
      "text/html": "<div>\n<style scoped>\n    .dataframe tbody tr th:only-of-type {\n        vertical-align: middle;\n    }\n\n    .dataframe tbody tr th {\n        vertical-align: top;\n    }\n\n    .dataframe thead th {\n        text-align: right;\n    }\n</style>\n<table border=\"1\" class=\"dataframe\">\n  <thead>\n    <tr style=\"text-align: right;\">\n      <th></th>\n      <th>filename</th>\n      <th>newsarticle</th>\n      <th>summary</th>\n      <th>article_length</th>\n      <th>summary_length</th>\n    </tr>\n  </thead>\n  <tbody>\n    <tr>\n      <th>0</th>\n      <td>entertainment_113</td>\n      <td>Wal-Mart is sued over rude lyrics\\n\\nThe paren...</td>\n      <td>Wal-Mart said it was investigating the claims ...</td>\n      <td>240</td>\n      <td>98</td>\n    </tr>\n    <tr>\n      <th>1</th>\n      <td>tech_304</td>\n      <td>Format wars could confuse users\\n\\nTechnology ...</td>\n      <td>Instead, said Mr Doctorow, DRM systems were in...</td>\n      <td>730</td>\n      <td>312</td>\n    </tr>\n    <tr>\n      <th>2</th>\n      <td>entertainment_087</td>\n      <td>Global release for Japan hit film\\n\\nOscar-win...</td>\n      <td>Oscar-winning animator Hayao Miyazaki's latest...</td>\n      <td>174</td>\n      <td>64</td>\n    </tr>\n    <tr>\n      <th>3</th>\n      <td>entertainment_081</td>\n      <td>Oscars race enters final furlong\\n\\nThe race f...</td>\n      <td>The only people who will know the Oscar winner...</td>\n      <td>317</td>\n      <td>139</td>\n    </tr>\n    <tr>\n      <th>4</th>\n      <td>entertainment_130</td>\n      <td>Charity single for quake relief\\n\\nSingers inc...</td>\n      <td>He said the song was a slow ballad and would w...</td>\n      <td>363</td>\n      <td>135</td>\n    </tr>\n  </tbody>\n</table>\n</div>"
     },
     "execution_count": 10,
     "metadata": {},
     "output_type": "execute_result"
    }
   ],
   "source": [
    "training_dataset.head()"
   ],
   "metadata": {
    "collapsed": false,
    "ExecuteTime": {
     "end_time": "2023-12-05T01:55:03.431634Z",
     "start_time": "2023-12-05T01:55:03.425793Z"
    }
   },
   "id": "c9c007fed166fe59"
  },
  {
   "cell_type": "code",
   "execution_count": 11,
   "outputs": [
    {
     "data": {
      "text/plain": "       article_length  summary_length\ncount     1298.000000     1298.000000\nmean       385.013097      165.270416\nstd        243.616315      109.734916\nmin        115.000000       42.000000\n25%        235.000000       99.250000\n50%        323.000000      137.000000\n75%        465.750000      202.750000\nmax       3540.000000     1706.000000",
      "text/html": "<div>\n<style scoped>\n    .dataframe tbody tr th:only-of-type {\n        vertical-align: middle;\n    }\n\n    .dataframe tbody tr th {\n        vertical-align: top;\n    }\n\n    .dataframe thead th {\n        text-align: right;\n    }\n</style>\n<table border=\"1\" class=\"dataframe\">\n  <thead>\n    <tr style=\"text-align: right;\">\n      <th></th>\n      <th>article_length</th>\n      <th>summary_length</th>\n    </tr>\n  </thead>\n  <tbody>\n    <tr>\n      <th>count</th>\n      <td>1298.000000</td>\n      <td>1298.000000</td>\n    </tr>\n    <tr>\n      <th>mean</th>\n      <td>385.013097</td>\n      <td>165.270416</td>\n    </tr>\n    <tr>\n      <th>std</th>\n      <td>243.616315</td>\n      <td>109.734916</td>\n    </tr>\n    <tr>\n      <th>min</th>\n      <td>115.000000</td>\n      <td>42.000000</td>\n    </tr>\n    <tr>\n      <th>25%</th>\n      <td>235.000000</td>\n      <td>99.250000</td>\n    </tr>\n    <tr>\n      <th>50%</th>\n      <td>323.000000</td>\n      <td>137.000000</td>\n    </tr>\n    <tr>\n      <th>75%</th>\n      <td>465.750000</td>\n      <td>202.750000</td>\n    </tr>\n    <tr>\n      <th>max</th>\n      <td>3540.000000</td>\n      <td>1706.000000</td>\n    </tr>\n  </tbody>\n</table>\n</div>"
     },
     "execution_count": 11,
     "metadata": {},
     "output_type": "execute_result"
    }
   ],
   "source": [
    "training_dataset.describe()"
   ],
   "metadata": {
    "collapsed": false,
    "ExecuteTime": {
     "end_time": "2023-12-05T01:55:03.441313Z",
     "start_time": "2023-12-05T01:55:03.430111Z"
    }
   },
   "id": "5d8ad52137f32df0"
  },
  {
   "cell_type": "code",
   "execution_count": 12,
   "outputs": [
    {
     "data": {
      "text/plain": "Text(0.5, 1.0, 'Boxplot of Summary Lengths')"
     },
     "execution_count": 12,
     "metadata": {},
     "output_type": "execute_result"
    },
    {
     "data": {
      "text/plain": "<Figure size 1200x600 with 2 Axes>",
      "image/png": "[encoded data removed]"
     },
     "metadata": {},
     "output_type": "display_data"
    }
   ],
   "source": [
    "# Create a subplot with 1 row and 2 columns\n",
    "fig, axes = plt.subplots(nrows=1, ncols=2, figsize=(12, 6))\n",
    "\n",
    "# Plot for the articles' number of words\n",
    "sns.boxplot(training_dataset[\"article_length\"], ax=axes[0])\n",
    "axes[0].set_ylabel(\"Number of Words\")\n",
    "axes[0].set_title(\"Boxplot of Article Lengths\")\n",
    "\n",
    "# Plot for the summaries' number of words\n",
    "sns.boxplot(training_dataset[\"summary_length\"], ax=axes[1])\n",
    "axes[1].set_ylabel(\"Number of Words\")\n",
    "axes[1].set_title(\"Boxplot of Summary Lengths\")\n"
   ],
   "metadata": {
    "collapsed": false,
    "ExecuteTime": {
     "end_time": "2023-12-05T01:55:03.576547Z",
     "start_time": "2023-12-05T01:55:03.436178Z"
    }
   },
   "id": "bcbd64556a171391"
  },
  {
   "cell_type": "code",
   "execution_count": 13,
   "outputs": [],
   "source": [
    "# Get statistics for the articles boxplot\n",
    "lines_articles = axes[0].lines[:6]\n",
    "articles_stats = [line.get_ydata()[0] for line in lines_articles]\n",
    "Q1_articles, Q3_articles, lower_whisker_articles, upper_whisker_articles, median_articles = articles_stats[:5]\n",
    "\n",
    "# Get statistics for the summaries boxplot\n",
    "lines_summaries = axes[1].lines[:6]\n",
    "summaries_stats = [line.get_ydata()[0] for line in lines_summaries]\n",
    "Q1_summaries, Q3_summaries, lower_whisker_summaries, upper_whisker_summaries, median_summaries = summaries_stats[:5]"
   ],
   "metadata": {
    "collapsed": false,
    "ExecuteTime": {
     "end_time": "2023-12-05T01:55:03.576671Z",
     "start_time": "2023-12-05T01:55:03.565204Z"
    }
   },
   "id": "3801f4aebe7dd7ee"
  },
  {
   "cell_type": "code",
   "execution_count": 14,
   "outputs": [
    {
     "name": "stdout",
     "output_type": "stream",
     "text": [
      "810.0\n",
      "355.0\n"
     ]
    }
   ],
   "source": [
    "print(upper_whisker_articles)\n",
    "print(upper_whisker_summaries)"
   ],
   "metadata": {
    "collapsed": false,
    "ExecuteTime": {
     "end_time": "2023-12-05T01:55:03.576784Z",
     "start_time": "2023-12-05T01:55:03.567808Z"
    }
   },
   "id": "b7d5711fcca44b34"
  },
  {
   "cell_type": "code",
   "execution_count": 15,
   "outputs": [],
   "source": [
    "training_dataset = training_dataset[(training_dataset['summary_length'] <= upper_whisker_summaries) & (training_dataset['article_length'] <= upper_whisker_articles)]\n",
    "testing_dataset = testing_dataset[(testing_dataset['summary_length'] <= upper_whisker_summaries) & (testing_dataset['article_length'] <= upper_whisker_articles)]"
   ],
   "metadata": {
    "collapsed": false,
    "ExecuteTime": {
     "end_time": "2023-12-05T01:55:04.832180Z",
     "start_time": "2023-12-05T01:55:04.828669Z"
    }
   },
   "id": "c7c5ecb8cc3eaf8e"
  },
  {
   "cell_type": "code",
   "execution_count": 16,
   "outputs": [
    {
     "data": {
      "text/plain": "            filename                                        newsarticle  \\\n0  entertainment_113  Wal-Mart is sued over rude lyrics\\n\\nThe paren...   \n1           tech_304  Format wars could confuse users\\n\\nTechnology ...   \n2  entertainment_087  Global release for Japan hit film\\n\\nOscar-win...   \n3  entertainment_081  Oscars race enters final furlong\\n\\nThe race f...   \n4  entertainment_130  Charity single for quake relief\\n\\nSingers inc...   \n\n                                             summary  article_length  \\\n0  Wal-Mart said it was investigating the claims ...             240   \n1  Instead, said Mr Doctorow, DRM systems were in...             730   \n2  Oscar-winning animator Hayao Miyazaki's latest...             174   \n3  The only people who will know the Oscar winner...             317   \n4  He said the song was a slow ballad and would w...             363   \n\n   summary_length  \n0              98  \n1             312  \n2              64  \n3             139  \n4             135  ",
      "text/html": "<div>\n<style scoped>\n    .dataframe tbody tr th:only-of-type {\n        vertical-align: middle;\n    }\n\n    .dataframe tbody tr th {\n        vertical-align: top;\n    }\n\n    .dataframe thead th {\n        text-align: right;\n    }\n</style>\n<table border=\"1\" class=\"dataframe\">\n  <thead>\n    <tr style=\"text-align: right;\">\n      <th></th>\n      <th>filename</th>\n      <th>newsarticle</th>\n      <th>summary</th>\n      <th>article_length</th>\n      <th>summary_length</th>\n    </tr>\n  </thead>\n  <tbody>\n    <tr>\n      <th>0</th>\n      <td>entertainment_113</td>\n      <td>Wal-Mart is sued over rude lyrics\\n\\nThe paren...</td>\n      <td>Wal-Mart said it was investigating the claims ...</td>\n      <td>240</td>\n      <td>98</td>\n    </tr>\n    <tr>\n      <th>1</th>\n      <td>tech_304</td>\n      <td>Format wars could confuse users\\n\\nTechnology ...</td>\n      <td>Instead, said Mr Doctorow, DRM systems were in...</td>\n      <td>730</td>\n      <td>312</td>\n    </tr>\n    <tr>\n      <th>2</th>\n      <td>entertainment_087</td>\n      <td>Global release for Japan hit film\\n\\nOscar-win...</td>\n      <td>Oscar-winning animator Hayao Miyazaki's latest...</td>\n      <td>174</td>\n      <td>64</td>\n    </tr>\n    <tr>\n      <th>3</th>\n      <td>entertainment_081</td>\n      <td>Oscars race enters final furlong\\n\\nThe race f...</td>\n      <td>The only people who will know the Oscar winner...</td>\n      <td>317</td>\n      <td>139</td>\n    </tr>\n    <tr>\n      <th>4</th>\n      <td>entertainment_130</td>\n      <td>Charity single for quake relief\\n\\nSingers inc...</td>\n      <td>He said the song was a slow ballad and would w...</td>\n      <td>363</td>\n      <td>135</td>\n    </tr>\n  </tbody>\n</table>\n</div>"
     },
     "execution_count": 16,
     "metadata": {},
     "output_type": "execute_result"
    }
   ],
   "source": [
    "training_dataset.head()"
   ],
   "metadata": {
    "collapsed": false,
    "ExecuteTime": {
     "end_time": "2023-12-05T01:55:05.914308Z",
     "start_time": "2023-12-05T01:55:05.902555Z"
    }
   },
   "id": "983e13e21d59d9fe"
  },
  {
   "cell_type": "code",
   "execution_count": 17,
   "outputs": [
    {
     "data": {
      "text/plain": "       article_length  summary_length\ncount     1240.000000     1240.000000\nmean       351.926613      150.501613\nstd        156.300192       67.456332\nmin        115.000000       42.000000\n25%        233.000000       97.000000\n50%        315.000000      133.500000\n75%        441.000000      190.000000\nmax        810.000000      354.000000",
      "text/html": "<div>\n<style scoped>\n    .dataframe tbody tr th:only-of-type {\n        vertical-align: middle;\n    }\n\n    .dataframe tbody tr th {\n        vertical-align: top;\n    }\n\n    .dataframe thead th {\n        text-align: right;\n    }\n</style>\n<table border=\"1\" class=\"dataframe\">\n  <thead>\n    <tr style=\"text-align: right;\">\n      <th></th>\n      <th>article_length</th>\n      <th>summary_length</th>\n    </tr>\n  </thead>\n  <tbody>\n    <tr>\n      <th>count</th>\n      <td>1240.000000</td>\n      <td>1240.000000</td>\n    </tr>\n    <tr>\n      <th>mean</th>\n      <td>351.926613</td>\n      <td>150.501613</td>\n    </tr>\n    <tr>\n      <th>std</th>\n      <td>156.300192</td>\n      <td>67.456332</td>\n    </tr>\n    <tr>\n      <th>min</th>\n      <td>115.000000</td>\n      <td>42.000000</td>\n    </tr>\n    <tr>\n      <th>25%</th>\n      <td>233.000000</td>\n      <td>97.000000</td>\n    </tr>\n    <tr>\n      <th>50%</th>\n      <td>315.000000</td>\n      <td>133.500000</td>\n    </tr>\n    <tr>\n      <th>75%</th>\n      <td>441.000000</td>\n      <td>190.000000</td>\n    </tr>\n    <tr>\n      <th>max</th>\n      <td>810.000000</td>\n      <td>354.000000</td>\n    </tr>\n  </tbody>\n</table>\n</div>"
     },
     "execution_count": 17,
     "metadata": {},
     "output_type": "execute_result"
    }
   ],
   "source": [
    "training_dataset.describe()"
   ],
   "metadata": {
    "collapsed": false,
    "ExecuteTime": {
     "end_time": "2023-12-05T01:55:08.349817Z",
     "start_time": "2023-12-05T01:55:08.333192Z"
    }
   },
   "id": "a0f11429d08e49e2"
  },
  {
   "cell_type": "code",
   "execution_count": 18,
   "outputs": [],
   "source": [
    "df = training_dataset[1:100]"
   ],
   "metadata": {
    "collapsed": false,
    "ExecuteTime": {
     "end_time": "2023-12-05T01:55:09.011425Z",
     "start_time": "2023-12-05T01:55:09.007869Z"
    }
   },
   "id": "9878ff524ea2d080"
  },
  {
   "cell_type": "code",
   "execution_count": 19,
   "outputs": [],
   "source": [
    "import torch\n",
    "from torch.nn.utils.rnn import pad_sequence\n",
    "from torch.utils.data import TensorDataset, DataLoader\n",
    "from transformers import BartTokenizer, BartForConditionalGeneration, AdamW, get_linear_schedule_with_warmup\n",
    "from sklearn.model_selection import train_test_split\n",
    "from tqdm import tqdm\n",
    "import pandas as pd\n",
    "from rouge_score import rouge_scorer\n",
    "from torch.cuda.amp import autocast, GradScaler\n",
    "from torch.nn.utils import clip_grad_norm_"
   ],
   "metadata": {
    "collapsed": false,
    "ExecuteTime": {
     "end_time": "2023-12-05T01:55:11.476898Z",
     "start_time": "2023-12-05T01:55:09.410341Z"
    }
   },
   "id": "e2a00a869529e096"
  },
  {
   "cell_type": "code",
   "execution_count": 20,
   "outputs": [],
   "source": [
    "# Define the device for GPU usage (if available)\n",
    "if torch.backends.mps.is_available():\n",
    "    arch = \"mps\"\n",
    "elif torch.cuda.is_available():\n",
    "    arch = \"cuda\"\n",
    "else:\n",
    "    arch = \"cpu\"\n",
    "\n",
    "device = torch.device(arch)"
   ],
   "metadata": {
    "collapsed": false,
    "ExecuteTime": {
     "end_time": "2023-12-05T01:55:47.030176Z",
     "start_time": "2023-12-05T01:55:47.028445Z"
    }
   },
   "id": "157bdbee3912af55"
  },
  {
   "cell_type": "code",
   "execution_count": 21,
   "outputs": [],
   "source": [
    "# Tokenize and preprocess the text data\n",
    "tokenizer = BartTokenizer.from_pretrained('facebook/bart-base')\n",
    "max_length = 512  # Maximum sequence length\n",
    "\n",
    "def tokenize_text(text):\n",
    "    inputs = tokenizer.encode(\"summarize: \" + text, return_tensors=\"pt\", max_length=512, truncation=True, padding='max_length', return_attention_mask=True)\n",
    "    return inputs.to(device)  # Move the tokenized inputs to the GPU\n",
    "\n",
    "def tokenize_summary(text):\n",
    "    inputs = tokenizer.encode(text, return_tensors=\"pt\", max_length=280, truncation=True, padding='max_length', return_attention_mask=True)\n",
    "    return inputs.to(device)  # Move the tokenized summaries to the GPU\n",
    "\n",
    "def tokenize_and_stack(df, text_column, summary_column):\n",
    "    df['TokenizedText'] = df[text_column].apply(tokenize_text)\n",
    "    df['TokenizedSummary'] = df[summary_column].apply(tokenize_summary)\n",
    "    \n",
    "    # Convert tokenized data to PyTorch tensors\n",
    "    X = torch.stack([seq.squeeze() for seq in df['TokenizedText']])\n",
    "    Y = torch.stack([seq.squeeze() for seq in df['TokenizedSummary']])\n",
    "    \n",
    "    # Define a DataLoader for batching data\n",
    "    dataset = TensorDataset(X, Y)\n",
    "    dataloader = DataLoader(dataset, batch_size=4, shuffle=True)\n",
    "    \n",
    "    return X, Y, dataloader\n",
    "\n",
    "train_df, val_df = train_test_split(df, test_size=0.2, random_state=42)\n",
    "\n",
    "# Tokenize and stack for training set\n",
    "X_train, Y_train, train_dataloader = tokenize_and_stack(train_df, 'newsarticle', 'summary')\n",
    "\n",
    "# Tokenize and stack for validation set\n",
    "X_val, Y_val, val_dataloader = tokenize_and_stack(val_df, 'newsarticle', 'summary')\n",
    "\n",
    "# Tokenize and stack for validation set\n",
    "X_test, Y_test, test_dataloader = tokenize_and_stack(testing_dataset, 'newsarticle', 'summary')\n"
   ],
   "metadata": {
    "collapsed": false,
    "ExecuteTime": {
     "end_time": "2023-12-05T01:55:50.669991Z",
     "start_time": "2023-12-05T01:55:47.442931Z"
    }
   },
   "id": "3de94ec11fff3a4f"
  },
  {
   "cell_type": "markdown",
   "source": [
    "\n",
    "# Tokenize and preprocess the text data\n",
    "tokenizer = BartTokenizer.from_pretrained('facebook/bart-base')\n",
    "max_length = 512  # Maximum sequence length\n",
    "\n",
    "def tokenize_text(text):\n",
    "    inputs = tokenizer.encode(\"summarize: \" + text, return_tensors=\"pt\", max_length=512, truncation=True, padding='max_length', return_attention_mask=True)\n",
    "    return inputs.to(device)  # Move the tokenized inputs to the GPU\n",
    "\n",
    "def tokenize_summary(text):\n",
    "    inputs = tokenizer.encode(text, return_tensors=\"pt\", max_length=280, truncation=True, padding='max_length', return_attention_mask=True)\n",
    "    return inputs.to(device)  # Move the tokenized summaries to the GPU\n",
    "\n",
    "\n",
    "df['TokenizedText'] = df['newsarticle'].apply(tokenize_text)\n",
    "df['TokenizedSummary'] = df['summary'].apply(tokenize_summary)\n",
    "\n",
    "# Split your data into train and test sets\n",
    "train_df, eval_df = train_test_split(df, test_size=0.2, random_state=42)\n",
    "\n",
    "# Convert tokenized data to PyTorch tensors\n",
    "X_train = torch.stack([seq.squeeze() for seq in train_df['TokenizedText']])\n",
    "Y_train = torch.stack([seq.squeeze() for seq in train_df['TokenizedSummary']])\n",
    "X_val = torch.stack([seq.squeeze() for seq in eval_df['TokenizedText']])\n",
    "Y_val = torch.stack([seq.squeeze() for seq in eval_df['TokenizedSummary']])\n",
    "\n",
    "# Define a DataLoader for batching data\n",
    "train_dataset = TensorDataset(X_train, Y_train)\n",
    "train_dataloader = DataLoader(train_dataset, batch_size=4, shuffle=True)\n",
    "val_dataset = TensorDataset(X_val, Y_val)\n",
    "val_dataloader = DataLoader(val_dataset, batch_size=4)\n"
   ],
   "metadata": {
    "collapsed": false
   },
   "id": "1e5dca6c2b35b0c4"
  },
  {
   "cell_type": "code",
   "execution_count": 23,
   "outputs": [
    {
     "name": "stderr",
     "output_type": "stream",
     "text": [
      "/Users/kysgattu/anaconda3/lib/python3.11/site-packages/torch/cuda/amp/grad_scaler.py:124: UserWarning: torch.cuda.amp.GradScaler is enabled, but CUDA is not available.  Disabling.\n",
      "  warnings.warn(\n"
     ]
    }
   ],
   "source": [
    "# Define the BART model\n",
    "model = BartForConditionalGeneration.from_pretrained('facebook/bart-base')\n",
    "\n",
    "# Create a GradScaler for mixed-precision training\n",
    "scaler = GradScaler()\n",
    "\n",
    "# Define hyperparameters\n",
    "model.to(device)  # Move the model to the GPU\n",
    "optimizer = torch.optim.AdamW(model.parameters(), lr=2e-5, weight_decay=0.01)  \n",
    "scheduler = get_linear_schedule_with_warmup(optimizer, num_warmup_steps=50, num_training_steps=len(train_dataloader) * 10)  # Add learning rate scheduler\n",
    "early_stopping_rounds = 2\n",
    "best_rouge_score = -1\n",
    "current_round = 0\n",
    "\n",
    "# Define gradient accumulation steps\n",
    "accumulation_steps = 20  # You can adjust this number\n"
   ],
   "metadata": {
    "collapsed": false,
    "ExecuteTime": {
     "end_time": "2023-12-04T21:56:42.146924Z",
     "start_time": "2023-12-04T21:56:39.027567Z"
    }
   },
   "id": "ac3e3385893115dc"
  },
  {
   "cell_type": "code",
   "execution_count": 24,
   "outputs": [],
   "source": [
    "def train(model, dataloader, optimizer, scheduler):\n",
    "    model.train()\n",
    "    total_loss = 0.0\n",
    "    optimizer.zero_grad()\n",
    "\n",
    "    for step, batch in enumerate(tqdm(dataloader, desc=\"Training\")):\n",
    "        inputs = batch[0].to(device)  # Move the input batch to the GPU\n",
    "        attention_mask = (inputs != 0).float().to(device)  # Create attention mask\n",
    "        targets = batch[1].to(device)  # Move the target batch to the GPU\n",
    "\n",
    "        with autocast():\n",
    "            outputs = model(input_ids=inputs, attention_mask=attention_mask, decoder_input_ids=targets, labels=targets)\n",
    "            loss = outputs.loss\n",
    "\n",
    "        # Perform gradient accumulation\n",
    "        loss = loss / accumulation_steps\n",
    "        scaler.scale(loss).backward()\n",
    "\n",
    "        if (step + 1) % accumulation_steps == 0:\n",
    "            # Update gradients and optimizer once every accumulation_steps\n",
    "            clip_grad_norm_(model.parameters(), max_norm=1.0)  # Optional gradient clipping\n",
    "            scaler.step(optimizer)\n",
    "            scaler.update()\n",
    "            optimizer.zero_grad()\n",
    "\n",
    "        total_loss += loss.item()\n",
    "\n",
    "    return total_loss / len(dataloader)\n"
   ],
   "metadata": {
    "collapsed": false,
    "ExecuteTime": {
     "end_time": "2023-12-04T21:57:32.326102Z",
     "start_time": "2023-12-04T21:57:32.307419Z"
    }
   },
   "id": "199a2d170dc530ce"
  },
  {
   "cell_type": "code",
   "execution_count": 25,
   "outputs": [
    {
     "name": "stderr",
     "output_type": "stream",
     "text": [
      "Training:   0%|          | 0/20 [00:00<?, ?it/s]/Users/kysgattu/anaconda3/lib/python3.11/site-packages/torch/amp/autocast_mode.py:250: UserWarning: User provided device_type of 'cuda', but CUDA is not available. Disabling\n",
      "  warnings.warn(\n",
      "Training: 100%|██████████| 20/20 [00:18<00:00,  1.11it/s]\n"
     ]
    },
    {
     "name": "stdout",
     "output_type": "stream",
     "text": [
      "Epoch 1/2, Train Loss: 0.6404\n"
     ]
    },
    {
     "name": "stderr",
     "output_type": "stream",
     "text": [
      "Training: 100%|██████████| 20/20 [00:15<00:00,  1.25it/s]\n"
     ]
    },
    {
     "name": "stdout",
     "output_type": "stream",
     "text": [
      "Epoch 2/2, Train Loss: 0.6501\n"
     ]
    }
   ],
   "source": [
    "# Training loop\n",
    "for epoch in range(2):  # Change the number of epochs as needed\n",
    "    train_loss = train(model, train_dataloader, optimizer, scheduler)\n",
    "    print(f\"Epoch {epoch+1}/{2}, Train Loss: {train_loss:.4f}\")\n",
    "\n",
    "model.save_pretrained(\"saved_model\")"
   ],
   "metadata": {
    "collapsed": false,
    "ExecuteTime": {
     "end_time": "2023-12-04T21:58:12.966214Z",
     "start_time": "2023-12-04T21:57:38.066095Z"
    }
   },
   "id": "227221be2f15ac78"
  },
  {
   "cell_type": "markdown",
   "source": [
    "def calculate_rouge1_precision(logits, targets):\n",
    "    scorer = rouge_scorer.RougeScorer(['rouge1'], use_stemmer=True)\n",
    "    rouge1_precision = 0.0\n",
    "    num_samples = len(logits)\n",
    "\n",
    "    for i in range(num_samples):\n",
    "        predicted_ids = logits[i].cpu().numpy()\n",
    "        target_ids = targets[i].cpu().numpy()\n",
    "\n",
    "        # Convert token IDs to strings\n",
    "        predicted_text = tokenizer.decode(predicted_ids, skip_special_tokens=True)\n",
    "        target_text = tokenizer.decode(target_ids, skip_special_tokens=True)\n",
    "\n",
    "        # Calculate ROUGE-1 precision\n",
    "        scores = scorer.score(predicted_text, target_text)\n",
    "        rouge1_precision += scores['rouge1'].precision\n",
    "\n",
    "    return rouge1_precision / num_samples\n"
   ],
   "metadata": {
    "collapsed": false
   },
   "id": "eb9fabfa2a81d5d6"
  },
  {
   "cell_type": "code",
   "execution_count": 58,
   "outputs": [
    {
     "name": "stderr",
     "output_type": "stream",
     "text": [
      "Evaluating Test:  20%|██        | 1/5 [09:48<39:15, 588.76s/it]\n"
     ]
    },
    {
     "ename": "KeyboardInterrupt",
     "evalue": "",
     "output_type": "error",
     "traceback": [
      "\u001B[0;31m---------------------------------------------------------------------------\u001B[0m",
      "\u001B[0;31mKeyboardInterrupt\u001B[0m                         Traceback (most recent call last)",
      "Cell \u001B[0;32mIn[58], line 33\u001B[0m\n\u001B[1;32m     30\u001B[0m     \u001B[38;5;28;01mreturn\u001B[39;00m test_articles, actual_summaries, predicted_summaries, rouge1_precision_scores\n\u001B[1;32m     32\u001B[0m \u001B[38;5;66;03m# Evaluate the model\u001B[39;00m\n\u001B[0;32m---> 33\u001B[0m test_articles, actual_summaries, predicted_summaries, rouge1_precision_scores \u001B[38;5;241m=\u001B[39m evaluate(model, test_dataloader)\n\u001B[1;32m     35\u001B[0m \u001B[38;5;66;03m# Create a dictionary with the extracted data\u001B[39;00m\n\u001B[1;32m     36\u001B[0m data \u001B[38;5;241m=\u001B[39m {\n\u001B[1;32m     37\u001B[0m     \u001B[38;5;124m'\u001B[39m\u001B[38;5;124mArticle\u001B[39m\u001B[38;5;124m'\u001B[39m: test_articles,\n\u001B[1;32m     38\u001B[0m     \u001B[38;5;124m'\u001B[39m\u001B[38;5;124mActual Summary\u001B[39m\u001B[38;5;124m'\u001B[39m: actual_summaries,\n\u001B[1;32m     39\u001B[0m     \u001B[38;5;124m'\u001B[39m\u001B[38;5;124mPredicted Summary\u001B[39m\u001B[38;5;124m'\u001B[39m: predicted_summaries,\n\u001B[1;32m     40\u001B[0m     \u001B[38;5;124m'\u001B[39m\u001B[38;5;124mROUGE-1 Precision\u001B[39m\u001B[38;5;124m'\u001B[39m: rouge1_precision_scores,\n\u001B[1;32m     41\u001B[0m }\n",
      "Cell \u001B[0;32mIn[58], line 16\u001B[0m, in \u001B[0;36mevaluate\u001B[0;34m(model, dataloader)\u001B[0m\n\u001B[1;32m     14\u001B[0m attention_mask \u001B[38;5;241m=\u001B[39m (inputs \u001B[38;5;241m!=\u001B[39m \u001B[38;5;241m0\u001B[39m)\u001B[38;5;241m.\u001B[39mfloat()\u001B[38;5;241m.\u001B[39mto(device)\n\u001B[1;32m     15\u001B[0m targets \u001B[38;5;241m=\u001B[39m batch[\u001B[38;5;241m1\u001B[39m]\u001B[38;5;241m.\u001B[39mto(device)\n\u001B[0;32m---> 16\u001B[0m outputs \u001B[38;5;241m=\u001B[39m model\u001B[38;5;241m.\u001B[39mgenerate(input_ids\u001B[38;5;241m=\u001B[39minputs, attention_mask\u001B[38;5;241m=\u001B[39mattention_mask, max_length\u001B[38;5;241m=\u001B[39m\u001B[38;5;241m512\u001B[39m, num_beams\u001B[38;5;241m=\u001B[39m\u001B[38;5;241m17\u001B[39m, length_penalty\u001B[38;5;241m=\u001B[39m\u001B[38;5;241m2.0\u001B[39m, early_stopping\u001B[38;5;241m=\u001B[39m\u001B[38;5;28;01mFalse\u001B[39;00m)\n\u001B[1;32m     18\u001B[0m \u001B[38;5;28;01mfor\u001B[39;00m output, target, input_text \u001B[38;5;129;01min\u001B[39;00m \u001B[38;5;28mzip\u001B[39m(outputs, targets, inputs):\n\u001B[1;32m     19\u001B[0m     \u001B[38;5;66;03m# Calculate ROUGE-1 precision for each sample\u001B[39;00m\n\u001B[1;32m     20\u001B[0m     output_text \u001B[38;5;241m=\u001B[39m tokenizer\u001B[38;5;241m.\u001B[39mdecode(output, skip_special_tokens\u001B[38;5;241m=\u001B[39m\u001B[38;5;28;01mTrue\u001B[39;00m)\n",
      "File \u001B[0;32m~/anaconda3/lib/python3.11/site-packages/torch/utils/_contextlib.py:115\u001B[0m, in \u001B[0;36mcontext_decorator.<locals>.decorate_context\u001B[0;34m(*args, **kwargs)\u001B[0m\n\u001B[1;32m    112\u001B[0m \u001B[38;5;129m@functools\u001B[39m\u001B[38;5;241m.\u001B[39mwraps(func)\n\u001B[1;32m    113\u001B[0m \u001B[38;5;28;01mdef\u001B[39;00m \u001B[38;5;21mdecorate_context\u001B[39m(\u001B[38;5;241m*\u001B[39margs, \u001B[38;5;241m*\u001B[39m\u001B[38;5;241m*\u001B[39mkwargs):\n\u001B[1;32m    114\u001B[0m     \u001B[38;5;28;01mwith\u001B[39;00m ctx_factory():\n\u001B[0;32m--> 115\u001B[0m         \u001B[38;5;28;01mreturn\u001B[39;00m func(\u001B[38;5;241m*\u001B[39margs, \u001B[38;5;241m*\u001B[39m\u001B[38;5;241m*\u001B[39mkwargs)\n",
      "File \u001B[0;32m~/anaconda3/lib/python3.11/site-packages/transformers/generation/utils.py:1675\u001B[0m, in \u001B[0;36mGenerationMixin.generate\u001B[0;34m(self, inputs, generation_config, logits_processor, stopping_criteria, prefix_allowed_tokens_fn, synced_gpus, assistant_model, streamer, negative_prompt_ids, negative_prompt_attention_mask, **kwargs)\u001B[0m\n\u001B[1;32m   1668\u001B[0m     input_ids, model_kwargs \u001B[38;5;241m=\u001B[39m \u001B[38;5;28mself\u001B[39m\u001B[38;5;241m.\u001B[39m_expand_inputs_for_generation(\n\u001B[1;32m   1669\u001B[0m         input_ids\u001B[38;5;241m=\u001B[39minput_ids,\n\u001B[1;32m   1670\u001B[0m         expand_size\u001B[38;5;241m=\u001B[39mgeneration_config\u001B[38;5;241m.\u001B[39mnum_beams,\n\u001B[1;32m   1671\u001B[0m         is_encoder_decoder\u001B[38;5;241m=\u001B[39m\u001B[38;5;28mself\u001B[39m\u001B[38;5;241m.\u001B[39mconfig\u001B[38;5;241m.\u001B[39mis_encoder_decoder,\n\u001B[1;32m   1672\u001B[0m         \u001B[38;5;241m*\u001B[39m\u001B[38;5;241m*\u001B[39mmodel_kwargs,\n\u001B[1;32m   1673\u001B[0m     )\n\u001B[1;32m   1674\u001B[0m     \u001B[38;5;66;03m# 13. run beam search\u001B[39;00m\n\u001B[0;32m-> 1675\u001B[0m     \u001B[38;5;28;01mreturn\u001B[39;00m \u001B[38;5;28mself\u001B[39m\u001B[38;5;241m.\u001B[39mbeam_search(\n\u001B[1;32m   1676\u001B[0m         input_ids,\n\u001B[1;32m   1677\u001B[0m         beam_scorer,\n\u001B[1;32m   1678\u001B[0m         logits_processor\u001B[38;5;241m=\u001B[39mlogits_processor,\n\u001B[1;32m   1679\u001B[0m         stopping_criteria\u001B[38;5;241m=\u001B[39mstopping_criteria,\n\u001B[1;32m   1680\u001B[0m         pad_token_id\u001B[38;5;241m=\u001B[39mgeneration_config\u001B[38;5;241m.\u001B[39mpad_token_id,\n\u001B[1;32m   1681\u001B[0m         eos_token_id\u001B[38;5;241m=\u001B[39mgeneration_config\u001B[38;5;241m.\u001B[39meos_token_id,\n\u001B[1;32m   1682\u001B[0m         output_scores\u001B[38;5;241m=\u001B[39mgeneration_config\u001B[38;5;241m.\u001B[39moutput_scores,\n\u001B[1;32m   1683\u001B[0m         return_dict_in_generate\u001B[38;5;241m=\u001B[39mgeneration_config\u001B[38;5;241m.\u001B[39mreturn_dict_in_generate,\n\u001B[1;32m   1684\u001B[0m         synced_gpus\u001B[38;5;241m=\u001B[39msynced_gpus,\n\u001B[1;32m   1685\u001B[0m         \u001B[38;5;241m*\u001B[39m\u001B[38;5;241m*\u001B[39mmodel_kwargs,\n\u001B[1;32m   1686\u001B[0m     )\n\u001B[1;32m   1688\u001B[0m \u001B[38;5;28;01melif\u001B[39;00m generation_mode \u001B[38;5;241m==\u001B[39m GenerationMode\u001B[38;5;241m.\u001B[39mBEAM_SAMPLE:\n\u001B[1;32m   1689\u001B[0m     \u001B[38;5;66;03m# 11. prepare logits warper\u001B[39;00m\n\u001B[1;32m   1690\u001B[0m     logits_warper \u001B[38;5;241m=\u001B[39m \u001B[38;5;28mself\u001B[39m\u001B[38;5;241m.\u001B[39m_get_logits_warper(generation_config)\n",
      "File \u001B[0;32m~/anaconda3/lib/python3.11/site-packages/transformers/generation/utils.py:3030\u001B[0m, in \u001B[0;36mGenerationMixin.beam_search\u001B[0;34m(self, input_ids, beam_scorer, logits_processor, stopping_criteria, max_length, pad_token_id, eos_token_id, output_attentions, output_hidden_states, output_scores, return_dict_in_generate, synced_gpus, **model_kwargs)\u001B[0m\n\u001B[1;32m   3025\u001B[0m next_token_logits \u001B[38;5;241m=\u001B[39m outputs\u001B[38;5;241m.\u001B[39mlogits[:, \u001B[38;5;241m-\u001B[39m\u001B[38;5;241m1\u001B[39m, :]\n\u001B[1;32m   3026\u001B[0m next_token_scores \u001B[38;5;241m=\u001B[39m nn\u001B[38;5;241m.\u001B[39mfunctional\u001B[38;5;241m.\u001B[39mlog_softmax(\n\u001B[1;32m   3027\u001B[0m     next_token_logits, dim\u001B[38;5;241m=\u001B[39m\u001B[38;5;241m-\u001B[39m\u001B[38;5;241m1\u001B[39m\n\u001B[1;32m   3028\u001B[0m )  \u001B[38;5;66;03m# (batch_size * num_beams, vocab_size)\u001B[39;00m\n\u001B[0;32m-> 3030\u001B[0m next_token_scores_processed \u001B[38;5;241m=\u001B[39m logits_processor(input_ids, next_token_scores)\n\u001B[1;32m   3031\u001B[0m next_token_scores \u001B[38;5;241m=\u001B[39m next_token_scores_processed \u001B[38;5;241m+\u001B[39m beam_scores[:, \u001B[38;5;28;01mNone\u001B[39;00m]\u001B[38;5;241m.\u001B[39mexpand_as(next_token_scores)\n\u001B[1;32m   3033\u001B[0m \u001B[38;5;66;03m# Store scores, attentions and hidden_states when required\u001B[39;00m\n",
      "File \u001B[0;32m~/anaconda3/lib/python3.11/site-packages/transformers/generation/logits_process.py:97\u001B[0m, in \u001B[0;36mLogitsProcessorList.__call__\u001B[0;34m(self, input_ids, scores, **kwargs)\u001B[0m\n\u001B[1;32m     95\u001B[0m         scores \u001B[38;5;241m=\u001B[39m processor(input_ids, scores, \u001B[38;5;241m*\u001B[39m\u001B[38;5;241m*\u001B[39mkwargs)\n\u001B[1;32m     96\u001B[0m     \u001B[38;5;28;01melse\u001B[39;00m:\n\u001B[0;32m---> 97\u001B[0m         scores \u001B[38;5;241m=\u001B[39m processor(input_ids, scores)\n\u001B[1;32m     98\u001B[0m \u001B[38;5;28;01mreturn\u001B[39;00m scores\n",
      "File \u001B[0;32m~/anaconda3/lib/python3.11/site-packages/transformers/generation/logits_process.py:765\u001B[0m, in \u001B[0;36mNoRepeatNGramLogitsProcessor.__call__\u001B[0;34m(self, input_ids, scores)\u001B[0m\n\u001B[1;32m    763\u001B[0m num_batch_hypotheses \u001B[38;5;241m=\u001B[39m scores\u001B[38;5;241m.\u001B[39mshape[\u001B[38;5;241m0\u001B[39m]\n\u001B[1;32m    764\u001B[0m cur_len \u001B[38;5;241m=\u001B[39m input_ids\u001B[38;5;241m.\u001B[39mshape[\u001B[38;5;241m-\u001B[39m\u001B[38;5;241m1\u001B[39m]\n\u001B[0;32m--> 765\u001B[0m banned_batch_tokens \u001B[38;5;241m=\u001B[39m _calc_banned_ngram_tokens(\u001B[38;5;28mself\u001B[39m\u001B[38;5;241m.\u001B[39mngram_size, input_ids, num_batch_hypotheses, cur_len)\n\u001B[1;32m    766\u001B[0m \u001B[38;5;28;01mfor\u001B[39;00m i, banned_tokens \u001B[38;5;129;01min\u001B[39;00m \u001B[38;5;28menumerate\u001B[39m(banned_batch_tokens):\n\u001B[1;32m    767\u001B[0m     scores[i, banned_tokens] \u001B[38;5;241m=\u001B[39m \u001B[38;5;241m-\u001B[39m\u001B[38;5;28mfloat\u001B[39m(\u001B[38;5;124m\"\u001B[39m\u001B[38;5;124minf\u001B[39m\u001B[38;5;124m\"\u001B[39m)\n",
      "File \u001B[0;32m~/anaconda3/lib/python3.11/site-packages/transformers/generation/logits_process.py:707\u001B[0m, in \u001B[0;36m_calc_banned_ngram_tokens\u001B[0;34m(ngram_size, prev_input_ids, num_hypos, cur_len)\u001B[0m\n\u001B[1;32m    704\u001B[0m \u001B[38;5;28;01mif\u001B[39;00m cur_len \u001B[38;5;241m+\u001B[39m \u001B[38;5;241m1\u001B[39m \u001B[38;5;241m<\u001B[39m ngram_size:\n\u001B[1;32m    705\u001B[0m     \u001B[38;5;66;03m# return no banned tokens if we haven't generated no_repeat_ngram_size tokens yet\u001B[39;00m\n\u001B[1;32m    706\u001B[0m     \u001B[38;5;28;01mreturn\u001B[39;00m [[] \u001B[38;5;28;01mfor\u001B[39;00m _ \u001B[38;5;129;01min\u001B[39;00m \u001B[38;5;28mrange\u001B[39m(num_hypos)]\n\u001B[0;32m--> 707\u001B[0m generated_ngrams \u001B[38;5;241m=\u001B[39m _get_ngrams(ngram_size, prev_input_ids, num_hypos)\n\u001B[1;32m    708\u001B[0m banned_tokens \u001B[38;5;241m=\u001B[39m [\n\u001B[1;32m    709\u001B[0m     _get_generated_ngrams(generated_ngrams[hypo_idx], prev_input_ids[hypo_idx], ngram_size, cur_len)\n\u001B[1;32m    710\u001B[0m     \u001B[38;5;28;01mfor\u001B[39;00m hypo_idx \u001B[38;5;129;01min\u001B[39;00m \u001B[38;5;28mrange\u001B[39m(num_hypos)\n\u001B[1;32m    711\u001B[0m ]\n\u001B[1;32m    712\u001B[0m \u001B[38;5;28;01mreturn\u001B[39;00m banned_tokens\n",
      "File \u001B[0;32m~/anaconda3/lib/python3.11/site-packages/transformers/generation/logits_process.py:668\u001B[0m, in \u001B[0;36m_get_ngrams\u001B[0;34m(ngram_size, prev_input_ids, num_hypos)\u001B[0m\n\u001B[1;32m    666\u001B[0m generated_ngrams \u001B[38;5;241m=\u001B[39m [{} \u001B[38;5;28;01mfor\u001B[39;00m _ \u001B[38;5;129;01min\u001B[39;00m \u001B[38;5;28mrange\u001B[39m(num_hypos)]\n\u001B[1;32m    667\u001B[0m \u001B[38;5;28;01mfor\u001B[39;00m idx \u001B[38;5;129;01min\u001B[39;00m \u001B[38;5;28mrange\u001B[39m(num_hypos):\n\u001B[0;32m--> 668\u001B[0m     gen_tokens \u001B[38;5;241m=\u001B[39m prev_input_ids[idx]\u001B[38;5;241m.\u001B[39mtolist()\n\u001B[1;32m    669\u001B[0m     generated_ngram \u001B[38;5;241m=\u001B[39m generated_ngrams[idx]\n\u001B[1;32m    670\u001B[0m     \u001B[38;5;66;03m# Loop through each n-gram of size ngram_size in the list of tokens (gen_tokens)\u001B[39;00m\n",
      "\u001B[0;31mKeyboardInterrupt\u001B[0m: "
     ]
    }
   ],
   "source": [
    "def evaluate(model, dataloader):\n",
    "    model.eval()\n",
    "    \n",
    "    test_articles = []\n",
    "    actual_summaries = []\n",
    "    predicted_summaries = []\n",
    "    rouge1_precision_scores = []\n",
    "\n",
    "    scorer = rouge_scorer.RougeScorer(['rouge1'])\n",
    "\n",
    "    with torch.no_grad():\n",
    "        for batch in tqdm(dataloader, desc=\"Evaluating Test\"):\n",
    "            inputs = batch[0].to(device)\n",
    "            attention_mask = (inputs != 0).float().to(device)\n",
    "            targets = batch[1].to(device)\n",
    "            outputs = model.generate(input_ids=inputs, attention_mask=attention_mask, max_length=150, num_beams=17, length_penalty=2.0, early_stopping=False)\n",
    "            \n",
    "            for output, target, input_text in zip(outputs, targets, inputs):\n",
    "                # Calculate ROUGE-1 precision for each sample\n",
    "                output_text = tokenizer.decode(output, skip_special_tokens=True)\n",
    "                target_text = tokenizer.decode(target, skip_special_tokens=True)\n",
    "                rouge_scores = scorer.score(output_text, target_text)\n",
    "                rouge1_precision_scores.append(rouge_scores['rouge1'].precision)\n",
    "                \n",
    "                # Append tokenized text, actual summaries, and predicted summaries\n",
    "                test_articles.append(tokenizer.decode(input_text, skip_special_tokens=True))\n",
    "                actual_summaries.append(target_text)\n",
    "                predicted_summaries.append(output_text)\n",
    "\n",
    "    return test_articles, actual_summaries, predicted_summaries, rouge1_precision_scores\n",
    "\n",
    "# Evaluate the model\n",
    "test_articles, actual_summaries, predicted_summaries, rouge1_precision_scores = evaluate(model, val_dataloader)\n",
    "\n",
    "# Create a dictionary with the extracted data\n",
    "data = {\n",
    "    'Article': test_articles,\n",
    "    'Actual Summary': actual_summaries,\n",
    "    'Predicted Summary': predicted_summaries,\n",
    "    'ROUGE-1 Precision': rouge1_precision_scores,\n",
    "}\n",
    "\n",
    "# Create a Pandas DataFrame from the dictionary\n",
    "results_df = pd.DataFrame(data)\n",
    "\n",
    "# Display the DataFrame\n",
    "pd.set_option('display.max_colwidth', None)\n",
    "results_df.head(5)"
   ],
   "metadata": {
    "collapsed": false,
    "ExecuteTime": {
     "end_time": "2023-12-04T20:31:14.018743Z",
     "start_time": "2023-12-04T20:21:23.669312Z"
    }
   },
   "id": "ad142b7728d4c98a"
  },
  {
   "cell_type": "code",
   "execution_count": 56,
   "outputs": [
    {
     "data": {
      "text/plain": "'summarize: Hotspot users gain free net calls\\n\\nPeople using wireless net hotspots will soon be able to make free phone calls as well as surf the net.\\n\\nWireless provider Broadreach and net telephony firm Skype are rolling out a service at 350 hotspots around the UK this week. Users will need a Skype account - downloadable for free - and they will then be able to make net calls via wi-fi without paying for net access. Skype allows people to make free PC-based calls to other Skype users.\\n\\nUsers of the system can also make calls to landlines and mobiles for a fee. The system is gaining in popularity and now has 28 million users around the world. Its paid service - dubbed Skype Out - has so far attracted 940,000 users. It plans to add more paid services with forthcoming launches of video conferencing, voice mail and Skype In, a service which would allow users to receive phone calls from landlines and mobiles. London-based software developer Connectotel has unveiled software that will expand the SMS functions of Skype, allowing users to send text messages to mobile phones from the service. Broadreach Networks has around two million users and hotspots in places such as Virgin Megastores, the Travelodge chain of hotels and all Londons major rail terminals. The company is due to launch wi-fi on Virgin Trains later in the year. \"Skypes success at spreading the world about internet telephony is well-known and we are delighted to be offering free access to Skype users in our hotspots,\" commented Broadreach chief executive Magnus McEwen-King.\\n'"
     },
     "execution_count": 56,
     "metadata": {},
     "output_type": "execute_result"
    }
   ],
   "source": [
    "results_df['Article'][1]"
   ],
   "metadata": {
    "collapsed": false,
    "ExecuteTime": {
     "end_time": "2023-12-04T20:20:38.888479Z",
     "start_time": "2023-12-04T20:20:38.871567Z"
    }
   },
   "id": "91c7d4810c3fafcc"
  },
  {
   "cell_type": "code",
   "execution_count": 57,
   "outputs": [
    {
     "data": {
      "text/plain": "602"
     },
     "execution_count": 57,
     "metadata": {},
     "output_type": "execute_result"
    }
   ],
   "source": [
    "len(results_df['Actual Summary'][1])"
   ],
   "metadata": {
    "collapsed": false,
    "ExecuteTime": {
     "end_time": "2023-12-04T20:21:15.064962Z",
     "start_time": "2023-12-04T20:21:15.047970Z"
    }
   },
   "id": "c166677bcb78059d"
  },
  {
   "cell_type": "code",
   "execution_count": 54,
   "outputs": [
    {
     "data": {
      "text/plain": "'summarize: Hotspot users gain free net calls to other Skype users. Players of the system can also make $$$$ as well as surf the net with a $1,000, $2, $3, $4, $5, $6, $7, $8, $10, $11, $9, $12, $1 and $24, $16, $25 and net telephony firm Skype are rolling out a service at 350 hotspots around the UK this week. Users will need a Skype account - downloadable for free - and they will then be able to make net calls via wi-fi without paying for net access. Skype allows people to make free PC-based calls to'"
     },
     "execution_count": 54,
     "metadata": {},
     "output_type": "execute_result"
    }
   ],
   "source": [
    "\n",
    "results_df['Predicted Summary'][1]"
   ],
   "metadata": {
    "collapsed": false,
    "ExecuteTime": {
     "end_time": "2023-12-04T20:20:07.366510Z",
     "start_time": "2023-12-04T20:20:07.352765Z"
    }
   },
   "id": "a9cb175567a988ac"
  },
  {
   "cell_type": "code",
   "execution_count": null,
   "outputs": [],
   "source": [
    "# get_ipython().system('jupyter nbconvert --to script BART-Base.ipynb')\n"
   ],
   "metadata": {
    "collapsed": false
   },
   "id": "f657492f39fd299a"
  },
  {
   "cell_type": "code",
   "execution_count": 23,
   "outputs": [],
   "source": [
    "from rouge_score import rouge_scorer\n",
    "\n",
    "def evaluate(model, dataloader):\n",
    "    model.eval()\n",
    "    \n",
    "    all_predicted_summaries = []\n",
    "    all_actual_summaries = []\n",
    "\n",
    "    scorer = rouge_scorer.RougeScorer(['rouge1'])\n",
    "\n",
    "    with torch.no_grad():\n",
    "        for batch in tqdm(dataloader, desc=\"Evaluating\"):\n",
    "            inputs = batch[0].to(device)\n",
    "            attention_mask = (inputs != 0).float().to(device)\n",
    "            targets = batch[1].to(device)\n",
    "            outputs = model.generate(input_ids=inputs, attention_mask=attention_mask, max_length=150, num_beams=17, length_penalty=2.0, early_stopping=False)\n",
    "            \n",
    "            for output, target in zip(outputs, targets):\n",
    "                # Convert token IDs to strings\n",
    "                output_text = tokenizer.decode(output, skip_special_tokens=True)\n",
    "                target_text = tokenizer.decode(target, skip_special_tokens=True)\n",
    "\n",
    "                all_predicted_summaries.append(output_text)\n",
    "                all_actual_summaries.append(target_text)\n",
    "\n",
    "    # Calculate ROUGE-1 precision for all predictions\n",
    "    rouge1_precision = calculate_rouge1_precision(all_predicted_summaries, all_actual_summaries)\n",
    "\n",
    "    return rouge1_precision\n",
    "\n",
    "def calculate_rouge1_precision(predictions, targets):\n",
    "    scorer = rouge_scorer.RougeScorer(['rouge1'], use_stemmer=True)\n",
    "    rouge1_precision = 0.0\n",
    "    num_samples = len(predictions)\n",
    "\n",
    "    for i in range(num_samples):\n",
    "        predicted_text = predictions[i]\n",
    "        target_text = targets[i]\n",
    "\n",
    "        scores = scorer.score(predicted_text, target_text)\n",
    "        rouge1_precision += scores['rouge1'].precision\n",
    "\n",
    "    return rouge1_precision / num_samples\n"
   ],
   "metadata": {
    "collapsed": false,
    "ExecuteTime": {
     "end_time": "2023-12-05T01:57:20.157093Z",
     "start_time": "2023-12-05T01:57:20.154851Z"
    }
   },
   "id": "7792d5d964ed0cb3"
  },
  {
   "cell_type": "code",
   "execution_count": 24,
   "outputs": [
    {
     "name": "stderr",
     "output_type": "stream",
     "text": [
      "/Users/kysgattu/anaconda3/lib/python3.11/site-packages/torch/cuda/amp/grad_scaler.py:124: UserWarning: torch.cuda.amp.GradScaler is enabled, but CUDA is not available.  Disabling.\n",
      "  warnings.warn(\n",
      "/Users/kysgattu/anaconda3/lib/python3.11/site-packages/transformers/optimization.py:411: FutureWarning: This implementation of AdamW is deprecated and will be removed in a future version. Use the PyTorch implementation torch.optim.AdamW instead, or set `no_deprecation_warning=True` to disable this warning\n",
      "  warnings.warn(\n",
      "Training:   0%|          | 0/20 [00:00<?, ?it/s]/Users/kysgattu/anaconda3/lib/python3.11/site-packages/torch/amp/autocast_mode.py:250: UserWarning: User provided device_type of 'cuda', but CUDA is not available. Disabling\n",
      "  warnings.warn(\n",
      "Training: 100%|██████████| 20/20 [01:03<00:00,  3.16s/it]\n"
     ]
    },
    {
     "name": "stdout",
     "output_type": "stream",
     "text": [
      "Epoch 1/2, Train Loss: 0.6416\n"
     ]
    },
    {
     "name": "stderr",
     "output_type": "stream",
     "text": [
      "Evaluating: 100%|██████████| 5/5 [02:57<00:00, 35.57s/it]\n"
     ]
    },
    {
     "name": "stdout",
     "output_type": "stream",
     "text": [
      "Epoch 1/2, ROUGE-1 Precision: 0.4256\n"
     ]
    },
    {
     "name": "stderr",
     "output_type": "stream",
     "text": [
      "Training:   0%|          | 0/20 [00:00<?, ?it/s]/Users/kysgattu/anaconda3/lib/python3.11/site-packages/torch/amp/autocast_mode.py:250: UserWarning: User provided device_type of 'cuda', but CUDA is not available. Disabling\n",
      "  warnings.warn(\n",
      "Training: 100%|██████████| 20/20 [01:06<00:00,  3.34s/it]\n"
     ]
    },
    {
     "name": "stdout",
     "output_type": "stream",
     "text": [
      "Epoch 2/2, Train Loss: 0.6448\n"
     ]
    },
    {
     "name": "stderr",
     "output_type": "stream",
     "text": [
      "Evaluating: 100%|██████████| 5/5 [02:59<00:00, 35.97s/it]\n"
     ]
    },
    {
     "name": "stdout",
     "output_type": "stream",
     "text": [
      "Epoch 2/2, ROUGE-1 Precision: 0.4256\n"
     ]
    }
   ],
   "source": [
    "import torch\n",
    "from torch.nn.utils import clip_grad_norm_\n",
    "from torch.utils.data import DataLoader, TensorDataset\n",
    "from transformers import BartForConditionalGeneration, AdamW, get_linear_schedule_with_warmup\n",
    "from tqdm import tqdm\n",
    "from torch.cuda.amp import autocast, GradScaler\n",
    "from nltk.tokenize import sent_tokenize\n",
    "import numpy as np\n",
    "from scipy import spatial\n",
    "import networkx as nx\n",
    "from rouge_score import rouge_scorer\n",
    "from nltk.corpus import stopwords\n",
    "from gensim.models import Word2Vec\n",
    "import re\n",
    "from torch.cuda.amp import autocast, GradScaler\n",
    "\n",
    "# Assuming you have already defined your train_dataloader, test_dataloader, and other necessary components\n",
    "\n",
    "# Define the BART model\n",
    "model = BartForConditionalGeneration.from_pretrained('facebook/bart-base')\n",
    "\n",
    "# Create a GradScaler for mixed-precision training\n",
    "scaler = GradScaler()\n",
    "\n",
    "# Define hyperparameters\n",
    "device = torch.device(\"cuda\" if torch.cuda.is_available() else \"cpu\")\n",
    "model.to(device)  # Move the model to the GPU\n",
    "optimizer = AdamW(model.parameters(), lr=2e-5, weight_decay=0.01)  \n",
    "scheduler = get_linear_schedule_with_warmup(optimizer, num_warmup_steps=50, num_training_steps=len(train_dataloader) * 10)  # Add learning rate scheduler\n",
    "early_stopping_rounds = 2\n",
    "best_rouge_score = -1\n",
    "current_round = 0\n",
    "evaluation_interval = 1  # Evaluate every epoch in this example, adjust as needed\n",
    "\n",
    "# Define gradient accumulation steps\n",
    "accumulation_steps = 20  # You can adjust this number\n",
    "\n",
    "# Training loop with continuous evaluation and model saving\n",
    "for epoch in range(2):  # Change the number of epochs as needed\n",
    "    model.train()\n",
    "    total_loss = 0.0\n",
    "    optimizer.zero_grad()\n",
    "\n",
    "    for step, batch in enumerate(tqdm(train_dataloader, desc=\"Training\")):\n",
    "        inputs = batch[0].to(device)  # Move the input batch to the GPU\n",
    "        attention_mask = (inputs != 0).float().to(device)  # Create attention mask\n",
    "        targets = batch[1].to(device)  # Move the target batch to the GPU\n",
    "\n",
    "        with autocast():\n",
    "            outputs = model(input_ids=inputs, attention_mask=attention_mask, decoder_input_ids=targets, labels=targets)\n",
    "            loss = outputs.loss\n",
    "\n",
    "        # Perform gradient accumulation\n",
    "        loss = loss / accumulation_steps\n",
    "        scaler.scale(loss).backward()\n",
    "\n",
    "        if (step + 1) % accumulation_steps == 0:\n",
    "            # Update gradients and optimizer once every accumulation_steps\n",
    "            clip_grad_norm_(model.parameters(), max_norm=1.0)  # Optional gradient clipping\n",
    "            scaler.step(optimizer)\n",
    "            scaler.update()\n",
    "            optimizer.zero_grad()\n",
    "\n",
    "        total_loss += loss.item()\n",
    "\n",
    "    # Print average training loss for the epoch\n",
    "    print(f\"Epoch {epoch+1}/{2}, Train Loss: {total_loss / len(train_dataloader):.4f}\")\n",
    "\n",
    "    # Continuous evaluation at specified intervals\n",
    "    if (epoch + 1) % evaluation_interval == 0:\n",
    "        rouge1_precision = evaluate(model, val_dataloader)\n",
    "        print(f\"Epoch {epoch+1}/{2}, ROUGE-1 Precision: {rouge1_precision:.4f}\")\n",
    "\n",
    "        # Save the best model\n",
    "        if rouge1_precision > best_rouge_score:\n",
    "            best_rouge_score = rouge1_precision\n",
    "            current_round = 0\n",
    "            # Save the model checkpoint\n",
    "            model.save_pretrained(\"best_model_checkpoint\")\n",
    "        else:\n",
    "            current_round += 1\n",
    "\n",
    "        # Early stopping logic (if needed)\n",
    "        if current_round >= early_stopping_rounds:\n",
    "            print(\"Early stopping! The model performance is not improving.\")\n",
    "            break\n",
    "\n",
    "# Load the best model for testing\n",
    "best_model = BartForConditionalGeneration.from_pretrained(\"best_model_checkpoint\")\n",
    "# Now you can use this best_model for testing\n"
   ],
   "metadata": {
    "collapsed": false,
    "ExecuteTime": {
     "end_time": "2023-12-05T02:05:37.396200Z",
     "start_time": "2023-12-05T01:57:23.518674Z"
    }
   },
   "id": "6a3e414816bca8b0"
  },
  {
   "cell_type": "markdown",
   "source": [
    "# Assuming you have already defined your test_dataloader and other necessary components\n",
    "\n",
    "# Load the best model for testing\n",
    "# best_model = BartForConditionalGeneration.from_pretrained(\"best_model_checkpoint\")\n",
    "best_model.to(device)  # Move the model to the GPU if available\n",
    "\n",
    "# Testing function\n",
    "def test(model, dataloader):\n",
    "    model.eval()\n",
    "    \n",
    "    all_predicted_summaries = []\n",
    "    all_actual_summaries = []\n",
    "\n",
    "    scorer = rouge_scorer.RougeScorer(['rouge1'])\n",
    "\n",
    "    with torch.no_grad():\n",
    "        for batch in tqdm(dataloader, desc=\"Testing\"):\n",
    "            inputs = batch[0].to(device)\n",
    "            attention_mask = (inputs != 0).float().to(device)\n",
    "            targets = batch[1].to(device)\n",
    "            outputs = model.generate(input_ids=inputs, attention_mask=attention_mask, max_length=150, num_beams=17, length_penalty=2.0, early_stopping=False)\n",
    "            \n",
    "            for output, target in zip(outputs, targets):\n",
    "                # Convert token IDs to strings\n",
    "                output_text = tokenizer.decode(output, skip_special_tokens=True)\n",
    "                target_text = tokenizer.decode(target, skip_special_tokens=True)\n",
    "\n",
    "                all_predicted_summaries.append(output_text)\n",
    "                all_actual_summaries.append(target_text)\n",
    "\n",
    "    # Calculate ROUGE-1 precision for all predictions\n",
    "    rouge1_precision = calculate_rouge1_precision(all_predicted_summaries, all_actual_summaries)\n",
    "\n",
    "    print(f\"ROUGE-1 Precision on Test Set: {rouge1_precision:.4f}\")\n",
    "\n"
   ],
   "metadata": {
    "collapsed": false
   },
   "id": "6cb9d939974e631d"
  },
  {
   "cell_type": "markdown",
   "source": [
    "# Call the testing function\n",
    "test(best_model, test_dataloader)"
   ],
   "metadata": {
    "collapsed": false
   },
   "id": "fe6a5f0975ab5558"
  },
  {
   "cell_type": "code",
   "execution_count": 34,
   "outputs": [],
   "source": [
    "def generate_summary(text, loader_model):\n",
    "    # Tokenize the input text\n",
    "    inputs = tokenizer.encode(\"summarize: \" + text, return_tensors=\"pt\", max_length=150, truncation=True, padding='max_length', return_attention_mask=True)\n",
    "\n",
    "    # Generate summary using the loaded model\n",
    "    with torch.no_grad():\n",
    "        summary_ids = loaded_model.generate(inputs, max_length=512, num_beams=17, length_penalty=2.0, early_stopping=False)\n",
    "\n",
    "    # Decode the generated summary\n",
    "    summary = tokenizer.decode(summary_ids[0], skip_special_tokens=True)\n",
    "    return summary"
   ],
   "metadata": {
    "collapsed": false,
    "ExecuteTime": {
     "end_time": "2023-12-04T20:07:31.451714Z",
     "start_time": "2023-12-04T20:07:31.442038Z"
    }
   },
   "id": "a014856103ef7e87"
  },
  {
   "cell_type": "code",
   "execution_count": 42,
   "outputs": [],
   "source": [
    "input_text = training_dataset['newsarticle'][2]"
   ],
   "metadata": {
    "collapsed": false,
    "ExecuteTime": {
     "end_time": "2023-12-04T20:08:03.192283Z",
     "start_time": "2023-12-04T20:08:03.168777Z"
    }
   },
   "id": "a177fa2c9b9d1bd8"
  },
  {
   "cell_type": "code",
   "execution_count": 43,
   "outputs": [],
   "source": [
    "loaded_model = BartForConditionalGeneration.from_pretrained(\"saved_model\")\n",
    "# tokenizer = BartTokenizer.from_pretrained(\"best_model_checkpoint\")"
   ],
   "metadata": {
    "collapsed": false,
    "ExecuteTime": {
     "end_time": "2023-12-04T20:08:05.900670Z",
     "start_time": "2023-12-04T20:08:03.650704Z"
    }
   },
   "id": "1398ecb253589b33"
  },
  {
   "cell_type": "code",
   "execution_count": 44,
   "outputs": [
    {
     "data": {
      "text/plain": "'Zambia confident and cautious\\n\\nZambias technical director, Kalusha Bwalya is confident and cautious ahead of the Cosafa Cup final against Angola on Saturday in Lusaka.\\n\\nBwalya said: \"Nothing short of victory will do.\" However Bwalya warned his side not to be too complacent. \"I do not want my team to be too comfortable or too sure of victory as it is going to be a difficult game. \"For me the main aim of the game is to enjoy and to win.\" Zambia have shown their determination to win this final by recalling nine of their foreign-based players. However the 41 year-old Bwalya, who became the oldest player to appear in the competition when he played and scored against Mauritius, is uncertain whether he will take to the field or not. The Chipolopolo fans however are not being so cautious with a victory concert already scheduled for after the match featuring some of the countrys top musicians. Both sides are hoping to win the competition for a record third time, and so keep the trophy for good. The Chipolopolo won the first two editions of the regional tournament for Southern African nations in 1997 and 1998. They were prevented from a third straight win by Angola who knocked out the Zambians at the semi-final stage in 1999. That victory for Angola also marked a first defeat in 14 years for Zambia at Lusakas Independence stadium, where Saturdays game is being played. Angola named just four overseas-based players in their preliminary squad. The Palancas Negras have been unable to secure the release of many of their Portugal-based players.\\n'"
     },
     "execution_count": 44,
     "metadata": {},
     "output_type": "execute_result"
    }
   ],
   "source": [
    "input_text"
   ],
   "metadata": {
    "collapsed": false,
    "ExecuteTime": {
     "end_time": "2023-12-04T20:08:05.904207Z",
     "start_time": "2023-12-04T20:08:05.902067Z"
    }
   },
   "id": "4e20a99f342d87e7"
  },
  {
   "cell_type": "code",
   "execution_count": 45,
   "outputs": [
    {
     "data": {
      "text/plain": "1555"
     },
     "execution_count": 45,
     "metadata": {},
     "output_type": "execute_result"
    }
   ],
   "source": [
    "len(input_text)"
   ],
   "metadata": {
    "collapsed": false,
    "ExecuteTime": {
     "end_time": "2023-12-04T20:08:05.907020Z",
     "start_time": "2023-12-04T20:08:05.904635Z"
    }
   },
   "id": "ce0f235c38566186"
  },
  {
   "cell_type": "code",
   "execution_count": 46,
   "outputs": [],
   "source": [
    "generated_summary = generate_summary(input_text,loaded_model)"
   ],
   "metadata": {
    "collapsed": false,
    "ExecuteTime": {
     "end_time": "2023-12-04T20:08:18.640192Z",
     "start_time": "2023-12-04T20:08:05.908463Z"
    }
   },
   "id": "182aec2f9c42b066"
  },
  {
   "cell_type": "code",
   "execution_count": 47,
   "outputs": [
    {
     "data": {
      "text/plain": "735"
     },
     "execution_count": 47,
     "metadata": {},
     "output_type": "execute_result"
    }
   ],
   "source": [
    "len(generated_summary)"
   ],
   "metadata": {
    "collapsed": false,
    "ExecuteTime": {
     "end_time": "2023-12-04T20:08:18.643761Z",
     "start_time": "2023-12-04T20:08:18.640850Z"
    }
   },
   "id": "5e3b8b4cfe118a4d"
  },
  {
   "cell_type": "code",
   "execution_count": 48,
   "outputs": [
    {
     "name": "stdout",
     "output_type": "stream",
     "text": [
      "Generated Summary: summarize: Zambia confident and cautious ahead of Cosafa Cup finalZambias technical director, Kalusha Bwalya says Zambia have nothing short of victory as they prepare to face Angola on Saturday in Lusaka. Zambia will face Angola in the Cosafa World Cup final on Saturday.Zambia's technical directorKALUSA BWALYABWalya said: \"Nothing short of margin of victory will do.\" However Bwalaa warned his side not to be too complacent. \"I do not want my team to betoo comfortable or too sure of victory, as it is going to be a difficult game. \"For me the main aim of the game is to enjoy and to win.\" Zambians have shown their determination to win this final by recalling nine of their foreign-based players. However the 41 year-old Bwalea, who\n"
     ]
    }
   ],
   "source": [
    "print(\"Generated Summary:\", generated_summary)"
   ],
   "metadata": {
    "collapsed": false,
    "ExecuteTime": {
     "end_time": "2023-12-04T20:08:18.646065Z",
     "start_time": "2023-12-04T20:08:18.643521Z"
    }
   },
   "id": "51ca1ac49758aee1"
  },
  {
   "cell_type": "markdown",
   "source": [],
   "metadata": {
    "collapsed": false
   },
   "id": "9a8fef32b3e409b"
  }
 ],
 "metadata": {
  "kernelspec": {
   "display_name": "Python 3",
   "language": "python",
   "name": "python3"
  },
  "language_info": {
   "codemirror_mode": {
    "name": "ipython",
    "version": 2
   },
   "file_extension": ".py",
   "mimetype": "text/x-python",
   "name": "python",
   "nbconvert_exporter": "python",
   "pygments_lexer": "ipython2",
   "version": "2.7.6"
  }
 },
 "nbformat": 4,
 "nbformat_minor": 5
}
